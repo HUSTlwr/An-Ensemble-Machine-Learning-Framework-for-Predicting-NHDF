{
 "cells": [
  {
   "cell_type": "code",
   "execution_count": 1,
   "metadata": {},
   "outputs": [],
   "source": [
    "import math\n",
    "import warnings\n",
    "from typing import Dict, Literal\n",
    "import pandas as pd\n",
    "warnings.simplefilter(\"ignore\")\n",
    "import delu  \n",
    "import numpy as np\n",
    "import scipy.special\n",
    "import sklearn.datasets\n",
    "import sklearn.metrics\n",
    "import sklearn.model_selection\n",
    "import sklearn.preprocessing\n",
    "import torch\n",
    "import torch.nn.functional as F\n",
    "import torch.optim\n",
    "from torch import Tensor\n",
    "from tqdm.std import tqdm\n",
    "from pandas import read_csv\n",
    "warnings.resetwarnings()\n",
    "\n",
    "from rtdl_revisiting_models import MLP, ResNet, FTTransformer"
   ]
  },
  {
   "cell_type": "code",
   "execution_count": 2,
   "metadata": {},
   "outputs": [
    {
     "data": {
      "text/plain": [
       "0"
      ]
     },
     "execution_count": 2,
     "metadata": {},
     "output_type": "execute_result"
    }
   ],
   "source": [
    "device = torch.device(\"cuda\" if torch.cuda.is_available() else \"cpu\")\n",
    "# Set random seeds in all libraries.\n",
    "delu.random.seed(0)"
   ]
  },
  {
   "cell_type": "code",
   "execution_count": 3,
   "metadata": {},
   "outputs": [
    {
     "name": "stdout",
     "output_type": "stream",
     "text": [
      "<class 'pandas.core.frame.DataFrame'>\n",
      "<class 'numpy.ndarray'>\n",
      "[[5.4000001e+00 5.1999998e+00 9.4999999e-01 4.0000000e+00 1.0000000e+00\n",
      "  0.0000000e+00 0.0000000e+00 1.0000000e-01 3.0070579e-01 1.7200001e+01\n",
      "  7.5776299e+01]\n",
      " [5.4000001e+00 5.1999998e+00 9.4999999e-01 4.0000000e+00 1.0000000e+00\n",
      "  0.0000000e+00 0.0000000e+00 1.0000000e-01 3.0070579e-01 2.0000000e+01\n",
      "  9.4489334e+01]\n",
      " [5.4000001e+00 5.1999998e+00 9.4999999e-01 4.0000000e+00 1.0000000e+00\n",
      "  0.0000000e+00 0.0000000e+00 1.0000000e-01 3.0070579e-01 2.2500000e+01\n",
      "  1.0625959e+02]\n",
      " [5.4000001e+00 5.1999998e+00 9.4999999e-01 4.0000000e+00 1.0000000e+00\n",
      "  0.0000000e+00 0.0000000e+00 1.0000000e-01 3.0070579e-01 2.5000000e+01\n",
      "  1.2227732e+02]\n",
      " [5.4000001e+00 5.1999998e+00 9.4999999e-01 4.0000000e+00 1.0000000e+00\n",
      "  0.0000000e+00 0.0000000e+00 1.0000000e-01 3.0070579e-01 2.8200001e+01\n",
      "  1.3469843e+02]]\n",
      "(600, 11)\n",
      "(600, 10)\n",
      "(600,)\n",
      "<class 'numpy.ndarray'>\n",
      "<class 'numpy.ndarray'>\n",
      "X_train.shape:  (600, 10)\n",
      "y_train.shape:  (600,)\n"
     ]
    }
   ],
   "source": [
    "dataset = pd.read_excel(r'D:\\Data\\NHRI\\NHDF\\Train_set.xlsx')\n",
    "print(type(dataset))\n",
    "dataset.head()\n",
    "values = dataset.values\n",
    "values = values.astype('float32')\n",
    "print(type(values))\n",
    "#print(values[0:5])\n",
    "values = np.array(values)\n",
    "print(values[0:5])\n",
    "print(values.shape)\n",
    "\n",
    "\n",
    "X_train = values[:, 0:10]\n",
    "y_train = values[:, -1]\n",
    "print(X_train.shape)\n",
    "print(y_train.shape)\n",
    "\n",
    "print(type(X_train))\n",
    "print(type(y_train))\n",
    "\n",
    "print(\"X_train.shape: \", X_train.shape)\n",
    "print(\"y_train.shape: \", y_train.shape)"
   ]
  },
  {
   "cell_type": "code",
   "execution_count": 4,
   "metadata": {},
   "outputs": [],
   "source": [
    "# >>> Dataset.\n",
    "TaskType = Literal[\"regression\", \"binclass\", \"multiclass\"]\n",
    "\n",
    "task_type: TaskType = \"regression\"\n",
    "n_classes = None\n",
    "dataset = sklearn.datasets.fetch_california_housing()\n",
    "X_cont: np.ndarray = X_train  #dataset[\"data\"]\n",
    "Y: np.ndarray = y_train       #dataset[\"target\"]"
   ]
  },
  {
   "cell_type": "code",
   "execution_count": 5,
   "metadata": {},
   "outputs": [
    {
     "name": "stdout",
     "output_type": "stream",
     "text": [
      "<class 'pandas.core.series.Series'>\n",
      "<class 'pandas.core.frame.DataFrame'>\n",
      "<class 'numpy.ndarray'>\n",
      "<class 'numpy.ndarray'>\n",
      "(72,)\n",
      "(72, 10)\n"
     ]
    }
   ],
   "source": [
    "label = '底缘单宽净动水荷载'\n",
    "\n",
    "# NOTE: input test set\n",
    "test_data = read_csv(r'D:\\Data\\NHRI\\NHDF\\Test_set.csv', encoding = 'utf-8') #, header = None\n",
    "y_test = test_data[label]\n",
    "x_test = test_data.drop(columns=[label])\n",
    "print(type(y_test))\n",
    "print(type(x_test))\n",
    "y_test = np.array(y_test)\n",
    "x_test = np.array(x_test)\n",
    "print(type(y_test))\n",
    "print(type(x_test))\n",
    "print(y_test.shape)\n",
    "print(x_test.shape)"
   ]
  },
  {
   "cell_type": "code",
   "execution_count": 6,
   "metadata": {},
   "outputs": [
    {
     "name": "stdout",
     "output_type": "stream",
     "text": [
      "(8,)\n",
      "(8, 10)\n",
      "(8,)\n",
      "(8, 10)\n",
      "(8,)\n",
      "(8, 10)\n",
      "(8,)\n",
      "(8, 10)\n",
      "(8,)\n",
      "(8, 10)\n",
      "(8,)\n",
      "(8, 10)\n",
      "(8,)\n",
      "(8, 10)\n",
      "(8,)\n",
      "(8, 10)\n",
      "(8,)\n",
      "(8, 10)\n"
     ]
    }
   ],
   "source": [
    "# NOTE: read 1st test set\n",
    "test_data = read_csv(r'D:\\Data\\NHRI\\NHDF\\1st_test.csv', encoding = 'utf-8') #, header = None\n",
    "y_test1 = test_data[label]\n",
    "x_test1 = test_data.drop(columns=[label])\n",
    "y_test1 = np.array(y_test1)\n",
    "x_test1 = np.array(x_test1)\n",
    "print(y_test1.shape)\n",
    "print(x_test1.shape)\n",
    "\n",
    "# NOTE: read 2nd test set\n",
    "test_data = read_csv(r'D:\\Data\\NHRI\\NHDF\\2st_test.csv', encoding = 'utf-8') #, header = None\n",
    "y_test2 = test_data[label]\n",
    "x_test2 = test_data.drop(columns=[label])\n",
    "y_test2 = np.array(y_test2)\n",
    "x_test2 = np.array(x_test2)\n",
    "print(y_test2.shape)\n",
    "print(x_test2.shape)\n",
    "\n",
    "# NOTE: read 3rd test set\n",
    "test_data = read_csv(r'D:\\Data\\NHRI\\NHDF\\3st_test.csv', encoding = 'utf-8') #, header = None\n",
    "y_test3 = test_data[label]\n",
    "x_test3 = test_data.drop(columns=[label])\n",
    "y_test3 = np.array(y_test3)\n",
    "x_test3 = np.array(x_test3)\n",
    "print(y_test3.shape)\n",
    "print(x_test3.shape)\n",
    "\n",
    "# NOTE: read 4th test set\n",
    "test_data = read_csv(r'D:\\Data\\NHRI\\NHDF\\4st_test.csv', encoding = 'utf-8') #, header = None\n",
    "y_test4 = test_data[label]\n",
    "x_test4 = test_data.drop(columns=[label])\n",
    "y_test4 = np.array(y_test4)\n",
    "x_test4 = np.array(x_test4)\n",
    "print(y_test4.shape)\n",
    "print(x_test4.shape)\n",
    "\n",
    "# NOTE: read 5th test set\n",
    "test_data = read_csv(r'D:\\Data\\NHRI\\NHDF\\5st_test.csv', encoding = 'utf-8') #, header = None\n",
    "y_test5 = test_data[label]\n",
    "x_test5 = test_data.drop(columns=[label])\n",
    "y_test5 = np.array(y_test5)\n",
    "x_test5 = np.array(x_test5)\n",
    "print(y_test5.shape)\n",
    "print(x_test5.shape)\n",
    "\n",
    "# NOTE: read 6th test set\n",
    "test_data = read_csv(r'D:\\Data\\NHRI\\NHDF\\6st_test.csv', encoding = 'utf-8') #, header = None\n",
    "y_test6 = test_data[label]\n",
    "x_test6 = test_data.drop(columns=[label])\n",
    "y_test6 = np.array(y_test6)\n",
    "x_test6 = np.array(x_test6)\n",
    "print(y_test6.shape)\n",
    "print(x_test6.shape)\n",
    "\n",
    "# NOTE: read 7th test set\n",
    "test_data = read_csv(r'D:\\Data\\NHRI\\NHDF\\7st_test.csv', encoding = 'utf-8') #, header = None\n",
    "y_test7 = test_data[label]\n",
    "x_test7 = test_data.drop(columns=[label])\n",
    "y_test7 = np.array(y_test7)\n",
    "x_test7 = np.array(x_test7)\n",
    "print(y_test7.shape)\n",
    "print(x_test7.shape)\n",
    "\n",
    "# NOTE: read 8th test set\n",
    "test_data = read_csv(r'D:\\Data\\NHRI\\NHDF\\8st_test.csv', encoding = 'utf-8') #, header = None\n",
    "y_test8 = test_data[label]\n",
    "x_test8 = test_data.drop(columns=[label])\n",
    "y_test8 = np.array(y_test8)\n",
    "x_test8 = np.array(x_test8)\n",
    "print(y_test8.shape)\n",
    "print(x_test8.shape)\n",
    "\n",
    "# NOTE: read 9th test set\n",
    "test_data = read_csv(r'D:\\Data\\NHRI\\NHDF\\9st_test.csv', encoding = 'utf-8') #, header = None\n",
    "y_test9 = test_data[label]\n",
    "x_test9 = test_data.drop(columns=[label])\n",
    "y_test9 = np.array(y_test9)\n",
    "x_test9 = np.array(x_test9)\n",
    "print(y_test9.shape)\n",
    "print(x_test9.shape)"
   ]
  },
  {
   "cell_type": "markdown",
   "metadata": {},
   "source": [
    "## Dataset\n"
   ]
  },
  {
   "cell_type": "code",
   "execution_count": 7,
   "metadata": {},
   "outputs": [],
   "source": [
    "# >>> Continuous features.\n",
    "X_cont: np.ndarray = X_cont.astype(np.float32)\n",
    "n_cont_features = X_cont.shape[1]\n",
    "\n",
    "# >>> Categorical features.\n",
    "# NOTE: the above datasets do not have categorical features, but,\n",
    "# for the demonstration purposes, it is possible to generate them.\n",
    "cat_cardinalities = [\n",
    "    # NOTE: uncomment the two lines below to add two categorical features.\n",
    "    # 4,  # Allowed values: [0, 1, 2, 3].\n",
    "    # 7,  # Allowed values: [0, 1, 2, 3, 4, 5, 6].\n",
    "]\n",
    "X_cat = (\n",
    "    np.column_stack(\n",
    "        [np.random.randint(0, c, (len(X_cont),)) for c in cat_cardinalities]\n",
    "    )\n",
    "    if cat_cardinalities\n",
    "    else None\n",
    ")\n",
    "\n",
    "# >>> Labels.\n",
    "# Regression labels must be represented by float32.\n",
    "if task_type == \"regression\":\n",
    "    Y = Y.astype(np.float32)\n",
    "else:\n",
    "    assert n_classes is not None\n",
    "    Y = Y.astype(np.int64)\n",
    "    assert set(Y.tolist()) == set(\n",
    "        range(n_classes)\n",
    "    ), \"Classification labels must form the range [0, 1, ..., n_classes - 1]\"\n",
    "\n",
    "# >>> Split the dataset.\n",
    "all_idx = np.arange(len(Y))\n",
    "\n",
    "train_idx, val_idx = sklearn.model_selection.train_test_split(  \n",
    "    all_idx, train_size=0.8\n",
    ")\n",
    "\n",
    "\n",
    "\n",
    "data_numpy = {\n",
    "    \"train\": {\"x_cont\": X_cont[train_idx], \"y\": Y[train_idx]},\n",
    "    \"val\": {\"x_cont\": X_cont[val_idx], \"y\": Y[val_idx]},\n",
    "    \"test\": {\"x_cont\": x_test.astype(np.float32), \"y\": y_test.astype(np.float32)},\n",
    "    'test1': {'x_cont': x_test1.astype(np.float32), 'y': y_test1.astype(np.float32)},\n",
    "    'test2': {'x_cont': x_test2.astype(np.float32), 'y': y_test2.astype(np.float32)},\n",
    "    'test3': {'x_cont': x_test3.astype(np.float32), 'y': y_test3.astype(np.float32)},\n",
    "    'test4': {'x_cont': x_test4.astype(np.float32), 'y': y_test4.astype(np.float32)},\n",
    "    'test5': {'x_cont': x_test5.astype(np.float32), 'y': y_test5.astype(np.float32)},\n",
    "    'test6': {'x_cont': x_test6.astype(np.float32), 'y': y_test6.astype(np.float32)},\n",
    "    'test7': {'x_cont': x_test7.astype(np.float32), 'y': y_test7.astype(np.float32)},\n",
    "    'test8': {'x_cont': x_test8.astype(np.float32), 'y': y_test8.astype(np.float32)},\n",
    "    'test9': {'x_cont': x_test9.astype(np.float32), 'y': y_test9.astype(np.float32)},\n",
    "    'train_NoShuffle' : {'x_cont': X_train.astype(np.float32), 'y': y_train.astype(np.float32)}\n",
    "}\n",
    "if X_cat is not None:\n",
    "    data_numpy[\"train\"][\"x_cat\"] = X_cat[train_idx]\n",
    "    data_numpy[\"val\"][\"x_cat\"] = X_cat[val_idx]\n",
    "    data_numpy[\"test\"][\"x_cat\"] = X_cat[test_idx]"
   ]
  },
  {
   "cell_type": "markdown",
   "metadata": {},
   "source": [
    "## Preprocessing\n"
   ]
  },
  {
   "cell_type": "code",
   "execution_count": 8,
   "metadata": {},
   "outputs": [],
   "source": [
    "# >>> Feature preprocessing.\n",
    "# NOTE\n",
    "# Fancy preprocessing strategy.\n",
    "# The noise is added to improve the output of QuantileTransformer in some cases.\n",
    "X_cont_train_numpy = data_numpy[\"train\"][\"x_cont\"]\n",
    "noise = (\n",
    "    np.random.default_rng(0)\n",
    "    .normal(0.0, 1e-5, X_cont_train_numpy.shape)\n",
    "    .astype(X_cont_train_numpy.dtype)\n",
    ")\n",
    "preprocessing = sklearn.preprocessing.QuantileTransformer(\n",
    "    n_quantiles=max(min(len(train_idx) // 30, 1000), 10),\n",
    "    output_distribution=\"normal\",\n",
    "    subsample=10**9,\n",
    ").fit(X_cont_train_numpy + noise)\n",
    "del X_cont_train_numpy\n",
    "\n",
    "for part in data_numpy:\n",
    "    data_numpy[part][\"x_cont\"] = preprocessing.transform(data_numpy[part][\"x_cont\"])\n",
    "\n",
    "# >>> Label preprocessing.\n",
    "if task_type == \"regression\":\n",
    "    Y_mean = data_numpy[\"train\"][\"y\"].mean().item()\n",
    "    Y_std = data_numpy[\"train\"][\"y\"].std().item()\n",
    "    for part in data_numpy:\n",
    "        data_numpy[part][\"y\"] = (data_numpy[part][\"y\"] - Y_mean) / Y_std\n",
    "\n",
    "# >>> Convert data to tensors.\n",
    "data = {\n",
    "    part: {k: torch.as_tensor(v, device=device) for k, v in data_numpy[part].items()}\n",
    "    for part in data_numpy\n",
    "}\n",
    "\n",
    "if task_type != \"multiclass\":\n",
    "    # Required by F.binary_cross_entropy_with_logits\n",
    "    for part in data:\n",
    "        data[part][\"y\"] = data[part][\"y\"].float()"
   ]
  },
  {
   "cell_type": "markdown",
   "metadata": {},
   "source": [
    "## Model\n"
   ]
  },
  {
   "cell_type": "code",
   "execution_count": 9,
   "metadata": {},
   "outputs": [],
   "source": [
    "# The output size.\n",
    "d_out = n_classes if task_type == \"multiclass\" else 1\n",
    "\n",
    "model = FTTransformer(\n",
    "    n_cont_features=n_cont_features,\n",
    "    cat_cardinalities=cat_cardinalities,\n",
    "    d_out=d_out,\n",
    "    **FTTransformer.get_default_kwargs(),\n",
    ").to(device)\n",
    "optimizer = model.make_default_optimizer()"
   ]
  },
  {
   "cell_type": "markdown",
   "metadata": {},
   "source": [
    "## Training\n"
   ]
  },
  {
   "cell_type": "code",
   "execution_count": 11,
   "metadata": {},
   "outputs": [
    {
     "name": "stdout",
     "output_type": "stream",
     "text": [
      "Val MSE score before training: -75.7465\n",
      "Test MSE score before training: -75.8240\n",
      "Test 1  MSE score before training: -61.7293\n",
      "Test 2  MSE score before training: -88.4645\n",
      "Test 3  MSE score before training: -132.3993\n",
      "Test 4  MSE score before training: -31.4370\n",
      "Test 5  MSE score before training: -23.2837\n",
      "Test 6  MSE score before training: -37.1504\n",
      "Test 7  MSE score before training: -76.0459\n",
      "Test 8  MSE score before training: -110.6286\n",
      "Test 9  MSE score before training: -40.5615\n"
     ]
    }
   ],
   "source": [
    "def apply_model(batch: Dict[str, Tensor]) -> Tensor:\n",
    "    if isinstance(model, (MLP, ResNet)):\n",
    "        x_cat_ohe = (\n",
    "            [\n",
    "                F.one_hot(column, cardinality)\n",
    "                for column, cardinality in zip(batch[\"x_cat\"].T, cat_cardinalities)\n",
    "            ]\n",
    "            if \"x_cat\" in batch\n",
    "            else []\n",
    "        )\n",
    "        return model(torch.column_stack([batch[\"x_cont\"]] + x_cat_ohe)).squeeze(-1)\n",
    "\n",
    "    elif isinstance(model, FTTransformer):\n",
    "        return model(batch[\"x_cont\"], batch.get(\"x_cat\")).squeeze(-1)\n",
    "\n",
    "    else:\n",
    "        raise RuntimeError(f\"Unknown model type: {type(model)}\")\n",
    "\n",
    "\n",
    "loss_fn = (\n",
    "    F.binary_cross_entropy_with_logits\n",
    "    if task_type == \"binclass\"\n",
    "    else F.cross_entropy\n",
    "    if task_type == \"multiclass\"\n",
    "    else F.mse_loss\n",
    ")\n",
    "\n",
    "\n",
    "@torch.no_grad()\n",
    "def evaluate(part: str) -> float:\n",
    "    model.eval()\n",
    "\n",
    "    eval_batch_size = 2 #8096\n",
    "    y_pred = (\n",
    "        torch.cat(\n",
    "            [\n",
    "                apply_model(batch)\n",
    "                for batch in delu.iter_batches(data[part], eval_batch_size)\n",
    "            ]\n",
    "        )\n",
    "        .cpu()\n",
    "        .numpy()\n",
    "    )\n",
    "    y_true = data[part][\"y\"].cpu().numpy()\n",
    "\n",
    "    if task_type == \"binclass\":\n",
    "        y_pred = np.round(scipy.special.expit(y_pred))\n",
    "        score = sklearn.metrics.accuracy_score(y_true, y_pred)\n",
    "    elif task_type == \"multiclass\":\n",
    "        y_pred = y_pred.argmax(1)\n",
    "        score = sklearn.metrics.accuracy_score(y_true, y_pred)\n",
    "    else:\n",
    "        assert task_type == \"regression\"\n",
    "        score = -(sklearn.metrics.mean_squared_error(y_true, y_pred) ** 0.5 * Y_std)\n",
    "    return score  # The higher -- the better.\n",
    "\n",
    "\n",
    "#print(f'Test score before training: {evaluate(\"test\"):.4f}')\n",
    "print(f'Val MSE score before training: {evaluate(\"val\"):.4f}')        \n",
    "print(f'Test MSE score before training: {evaluate(\"test\"):.4f}')      \n",
    "print(f'Test 1  MSE score before training: {evaluate(\"test1\"):.4f}')  \n",
    "print(f'Test 2  MSE score before training: {evaluate(\"test2\"):.4f}')  \n",
    "print(f'Test 3  MSE score before training: {evaluate(\"test3\"):.4f}')  \n",
    "print(f'Test 4  MSE score before training: {evaluate(\"test4\"):.4f}')  \n",
    "print(f'Test 5  MSE score before training: {evaluate(\"test5\"):.4f}')  \n",
    "print(f'Test 6  MSE score before training: {evaluate(\"test6\"):.4f}')  \n",
    "print(f'Test 7  MSE score before training: {evaluate(\"test7\"):.4f}')  \n",
    "print(f'Test 8  MSE score before training: {evaluate(\"test8\"):.4f}')  \n",
    "print(f'Test 9  MSE score before training: {evaluate(\"test9\"):.4f}')  "
   ]
  },
  {
   "cell_type": "markdown",
   "metadata": {},
   "source": [
    "## Training\n"
   ]
  },
  {
   "cell_type": "code",
   "execution_count": 12,
   "metadata": {},
   "outputs": [],
   "source": [
    "import time, datetime\n",
    "from datetime import datetime\n",
    "import os\n",
    "from datetime import timedelta "
   ]
  },
  {
   "cell_type": "code",
   "execution_count": 13,
   "metadata": {},
   "outputs": [],
   "source": [
    "best = {\n",
    "    'val': -math.inf,\n",
    "    'test': -math.inf,\n",
    "    'epoch': -1,\n",
    "}\n",
    "\n",
    "trainloss_list = []\n",
    "valloss_list = []\n",
    "testloss_list = []\n",
    "testloss1_list = []\n",
    "testloss2_list = []\n",
    "testloss3_list = []\n",
    "testloss4_list = []\n",
    "testloss5_list = []\n",
    "testloss6_list = []\n",
    "testloss7_list = []\n",
    "testloss8_list = []\n",
    "testloss9_list = []"
   ]
  },
  {
   "cell_type": "code",
   "execution_count": 15,
   "metadata": {},
   "outputs": [
    {
     "name": "stdout",
     "output_type": "stream",
     "text": [
      "Device: CUDA\n",
      "----------------------------------------------------------------------------------------\n",
      "\n"
     ]
    },
    {
     "name": "stderr",
     "output_type": "stream",
     "text": [
      "Epoch 0: 100%|██████████| 240/240 [00:01<00:00, 161.25it/s]\n"
     ]
    },
    {
     "name": "stdout",
     "output_type": "stream",
     "text": [
      "(val) -5.5008 (test) -6.1548 (test1) -5.7573 (test2) -4.4615 (test3) -6.4793 (test4) -2.9573 (test5) -3.8020 (test6) -6.8468 (test7) -9.0876 (test8) -5.4248 (test9) -7.9878\n",
      "\n"
     ]
    },
    {
     "name": "stderr",
     "output_type": "stream",
     "text": [
      "Epoch 1: 100%|██████████| 240/240 [00:01<00:00, 185.23it/s]\n"
     ]
    },
    {
     "name": "stdout",
     "output_type": "stream",
     "text": [
      "(val) -5.3741 (test) -9.5195 (test1) -17.2588 (test2) -2.9836 (test3) -4.3268 (test4) -3.4960 (test5) -4.4987 (test6) -7.8490 (test7) -6.0827 (test8) -7.1531 (test9) -17.5459\n",
      "\n"
     ]
    },
    {
     "name": "stderr",
     "output_type": "stream",
     "text": [
      "Epoch 2: 100%|██████████| 240/240 [00:01<00:00, 173.66it/s]\n"
     ]
    },
    {
     "name": "stdout",
     "output_type": "stream",
     "text": [
      "(val) -7.0748 (test) -10.6282 (test1) -21.5445 (test2) -6.3148 (test3) -4.5084 (test4) -2.8704 (test5) -4.8063 (test6) -7.1847 (test7) -13.1738 (test8) -8.2913 (test9) -12.9230\n",
      "\n"
     ]
    },
    {
     "name": "stderr",
     "output_type": "stream",
     "text": [
      "Epoch 3: 100%|██████████| 240/240 [00:01<00:00, 178.57it/s]\n"
     ]
    },
    {
     "name": "stdout",
     "output_type": "stream",
     "text": [
      "(val) -5.9923 (test) -7.9371 (test1) -13.0297 (test2) -2.7539 (test3) -2.4349 (test4) -4.3697 (test5) -4.3469 (test6) -7.3735 (test7) -9.3392 (test8) -7.5367 (test9) -12.1374\n",
      "\n"
     ]
    },
    {
     "name": "stderr",
     "output_type": "stream",
     "text": [
      "Epoch 4: 100%|██████████| 240/240 [00:01<00:00, 177.50it/s]\n"
     ]
    },
    {
     "name": "stdout",
     "output_type": "stream",
     "text": [
      "(val) -5.3838 (test) -8.8914 (test1) -19.1272 (test2) -3.3228 (test3) -5.6368 (test4) -4.5531 (test5) -5.7446 (test6) -7.6810 (test7) -8.4173 (test8) -4.8411 (test9) -9.7896\n",
      "\n"
     ]
    },
    {
     "name": "stderr",
     "output_type": "stream",
     "text": [
      "Epoch 5: 100%|██████████| 240/240 [00:01<00:00, 182.29it/s]\n"
     ]
    },
    {
     "name": "stdout",
     "output_type": "stream",
     "text": [
      "(val) -5.2443 (test) -8.0283 (test1) -14.4725 (test2) -3.1216 (test3) -7.0653 (test4) -4.1920 (test5) -4.5097 (test6) -7.4665 (test7) -4.5858 (test8) -6.9277 (test9) -12.1771\n",
      "\n"
     ]
    },
    {
     "name": "stderr",
     "output_type": "stream",
     "text": [
      "Epoch 6: 100%|██████████| 240/240 [00:01<00:00, 176.75it/s]\n"
     ]
    },
    {
     "name": "stdout",
     "output_type": "stream",
     "text": [
      "(val) -4.8172 (test) -7.3651 (test1) -10.4426 (test2) -2.7650 (test3) -7.4299 (test4) -2.5909 (test5) -4.6506 (test6) -5.4804 (test7) -9.7192 (test8) -5.0320 (test9) -11.7533\n",
      "\n"
     ]
    },
    {
     "name": "stderr",
     "output_type": "stream",
     "text": [
      "Epoch 7: 100%|██████████| 240/240 [00:01<00:00, 178.77it/s]\n"
     ]
    },
    {
     "name": "stdout",
     "output_type": "stream",
     "text": [
      "(val) -5.2842 (test) -9.4035 (test1) -17.5569 (test2) -5.3081 (test3) -5.1868 (test4) -4.6222 (test5) -4.7082 (test6) -9.0782 (test7) -9.2751 (test8) -5.2318 (test9) -13.8981\n",
      "\n"
     ]
    },
    {
     "name": "stderr",
     "output_type": "stream",
     "text": [
      "Epoch 8: 100%|██████████| 240/240 [00:01<00:00, 172.96it/s]\n"
     ]
    },
    {
     "name": "stdout",
     "output_type": "stream",
     "text": [
      "(val) -5.6931 (test) -6.2900 (test1) -7.2014 (test2) -3.0424 (test3) -4.9368 (test4) -4.0701 (test5) -4.4309 (test6) -5.9823 (test7) -8.8124 (test8) -6.3970 (test9) -8.9452\n",
      "\n"
     ]
    },
    {
     "name": "stderr",
     "output_type": "stream",
     "text": [
      "Epoch 9: 100%|██████████| 240/240 [00:01<00:00, 179.20it/s]\n"
     ]
    },
    {
     "name": "stdout",
     "output_type": "stream",
     "text": [
      "(val) -6.0055 (test) -7.3209 (test1) -11.0687 (test2) -4.4306 (test3) -3.5031 (test4) -2.8330 (test5) -4.1843 (test6) -6.8524 (test7) -7.6890 (test8) -6.3313 (test9) -12.4996\n",
      "\n"
     ]
    },
    {
     "name": "stderr",
     "output_type": "stream",
     "text": [
      "Epoch 10: 100%|██████████| 240/240 [00:01<00:00, 173.05it/s]\n"
     ]
    },
    {
     "name": "stdout",
     "output_type": "stream",
     "text": [
      "(val) -6.2313 (test) -6.6767 (test1) -9.2455 (test2) -3.0418 (test3) -6.2135 (test4) -3.4580 (test5) -4.9102 (test6) -7.8228 (test7) -6.9441 (test8) -8.3488 (test9) -7.2576\n",
      "\n"
     ]
    },
    {
     "name": "stderr",
     "output_type": "stream",
     "text": [
      "Epoch 11: 100%|██████████| 240/240 [00:01<00:00, 180.09it/s]\n"
     ]
    },
    {
     "name": "stdout",
     "output_type": "stream",
     "text": [
      "(val) -4.9969 (test) -6.2258 (test1) -9.5460 (test2) -3.8319 (test3) -4.4525 (test4) -4.2520 (test5) -3.3581 (test6) -5.6626 (test7) -4.2047 (test8) -6.6906 (test9) -9.9670\n",
      "\n"
     ]
    },
    {
     "name": "stderr",
     "output_type": "stream",
     "text": [
      "Epoch 12: 100%|██████████| 240/240 [00:01<00:00, 179.44it/s]\n"
     ]
    },
    {
     "name": "stdout",
     "output_type": "stream",
     "text": [
      "(val) -6.5092 (test) -9.1228 (test1) -8.3356 (test2) -2.3057 (test3) -10.0228 (test4) -4.1534 (test5) -4.3553 (test6) -8.1463 (test7) -11.7641 (test8) -11.4095 (test9) -14.2346\n",
      "\n"
     ]
    },
    {
     "name": "stderr",
     "output_type": "stream",
     "text": [
      "Epoch 13: 100%|██████████| 240/240 [00:01<00:00, 181.36it/s]\n"
     ]
    },
    {
     "name": "stdout",
     "output_type": "stream",
     "text": [
      "(val) -6.0298 (test) -9.7049 (test1) -19.2574 (test2) -2.1621 (test3) -12.0383 (test4) -4.8340 (test5) -4.9834 (test6) -8.3426 (test7) -7.4430 (test8) -7.4106 (test9) -9.9552\n",
      "\n"
     ]
    },
    {
     "name": "stderr",
     "output_type": "stream",
     "text": [
      "Epoch 14: 100%|██████████| 240/240 [00:01<00:00, 172.75it/s]\n"
     ]
    },
    {
     "name": "stdout",
     "output_type": "stream",
     "text": [
      "(val) -5.0851 (test) -10.0163 (test1) -16.6948 (test2) -4.1652 (test3) -15.4754 (test4) -4.5395 (test5) -3.0928 (test6) -7.7900 (test7) -3.4779 (test8) -7.6985 (test9) -14.3234\n",
      "\n"
     ]
    },
    {
     "name": "stderr",
     "output_type": "stream",
     "text": [
      "Epoch 15: 100%|██████████| 240/240 [00:01<00:00, 178.13it/s]\n"
     ]
    },
    {
     "name": "stdout",
     "output_type": "stream",
     "text": [
      "(val) -5.9603 (test) -7.3522 (test1) -6.0112 (test2) -3.9651 (test3) -8.8689 (test4) -4.9174 (test5) -4.1658 (test6) -10.2634 (test7) -6.9166 (test8) -7.4699 (test9) -10.2699\n",
      "\n"
     ]
    },
    {
     "name": "stderr",
     "output_type": "stream",
     "text": [
      "Epoch 16: 100%|██████████| 240/240 [00:01<00:00, 179.76it/s]\n"
     ]
    },
    {
     "name": "stdout",
     "output_type": "stream",
     "text": [
      "(val) -5.0037 (test) -8.4674 (test1) -19.8197 (test2) -3.8883 (test3) -6.1323 (test4) -2.6834 (test5) -2.7280 (test6) -6.9086 (test7) -5.0770 (test8) -5.9278 (test9) -8.7428\n",
      "\n"
     ]
    },
    {
     "name": "stderr",
     "output_type": "stream",
     "text": [
      "Epoch 17: 100%|██████████| 240/240 [00:01<00:00, 172.79it/s]\n"
     ]
    },
    {
     "name": "stdout",
     "output_type": "stream",
     "text": [
      "(val) -5.6160 (test) -9.3345 (test1) -18.1602 (test2) -4.2935 (test3) -7.1834 (test4) -3.4548 (test5) -3.1740 (test6) -6.3271 (test7) -9.3690 (test8) -11.3850 (test9) -10.2431\n",
      "\n"
     ]
    },
    {
     "name": "stderr",
     "output_type": "stream",
     "text": [
      "Epoch 18: 100%|██████████| 240/240 [00:01<00:00, 170.53it/s]\n"
     ]
    },
    {
     "name": "stdout",
     "output_type": "stream",
     "text": [
      "(val) -5.9755 (test) -7.8156 (test1) -5.5007 (test2) -5.2557 (test3) -3.9501 (test4) -3.5538 (test5) -3.2238 (test6) -7.5415 (test7) -9.0364 (test8) -11.2483 (test9) -13.7182\n",
      "\n"
     ]
    },
    {
     "name": "stderr",
     "output_type": "stream",
     "text": [
      "Epoch 19: 100%|██████████| 240/240 [00:01<00:00, 186.51it/s]\n"
     ]
    },
    {
     "name": "stdout",
     "output_type": "stream",
     "text": [
      "(val) -5.8245 (test) -6.8076 (test1) -6.4120 (test2) -2.5284 (test3) -5.0344 (test4) -5.4371 (test5) -4.6044 (test6) -8.0734 (test7) -7.2698 (test8) -5.3598 (test9) -12.1126\n",
      "\n"
     ]
    },
    {
     "name": "stderr",
     "output_type": "stream",
     "text": [
      "Epoch 20: 100%|██████████| 240/240 [00:01<00:00, 177.34it/s]\n"
     ]
    },
    {
     "name": "stdout",
     "output_type": "stream",
     "text": [
      "(val) -6.0575 (test) -9.2416 (test1) -9.7081 (test2) -3.7006 (test3) -8.0158 (test4) -7.1078 (test5) -5.7530 (test6) -9.8268 (test7) -4.6788 (test8) -8.9637 (test9) -17.7215\n",
      "\n"
     ]
    },
    {
     "name": "stderr",
     "output_type": "stream",
     "text": [
      "Epoch 21: 100%|██████████| 240/240 [00:01<00:00, 179.00it/s]\n"
     ]
    },
    {
     "name": "stdout",
     "output_type": "stream",
     "text": [
      "(val) -6.7886 (test) -8.9260 (test1) -11.1823 (test2) -2.2723 (test3) -5.7016 (test4) -3.6940 (test5) -3.8124 (test6) -11.2085 (test7) -8.1040 (test8) -9.9151 (test9) -15.3801\n",
      "\n"
     ]
    },
    {
     "name": "stderr",
     "output_type": "stream",
     "text": [
      "Epoch 22: 100%|██████████| 240/240 [00:01<00:00, 181.48it/s]\n"
     ]
    },
    {
     "name": "stdout",
     "output_type": "stream",
     "text": [
      "(val) -5.2271 (test) -7.8888 (test1) -8.7828 (test2) -2.8086 (test3) -8.9490 (test4) -3.8245 (test5) -3.3795 (test6) -9.6628 (test7) -6.0504 (test8) -6.6211 (test9) -13.9685\n",
      "\n"
     ]
    },
    {
     "name": "stderr",
     "output_type": "stream",
     "text": [
      "Epoch 23: 100%|██████████| 240/240 [00:01<00:00, 183.84it/s]\n"
     ]
    },
    {
     "name": "stdout",
     "output_type": "stream",
     "text": [
      "(val) -5.9516 (test) -7.8255 (test1) -10.9298 (test2) -1.5729 (test3) -8.1211 (test4) -3.5782 (test5) -3.6149 (test6) -6.8541 (test7) -7.9428 (test8) -8.8593 (test9) -12.2000\n",
      "\n"
     ]
    },
    {
     "name": "stderr",
     "output_type": "stream",
     "text": [
      "Epoch 24: 100%|██████████| 240/240 [00:01<00:00, 180.61it/s]\n"
     ]
    },
    {
     "name": "stdout",
     "output_type": "stream",
     "text": [
      "(val) -5.7578 (test) -7.7476 (test1) -10.2615 (test2) -3.5310 (test3) -6.4871 (test4) -2.0288 (test5) -3.8273 (test6) -8.2186 (test7) -8.8031 (test8) -5.2110 (test9) -13.7628\n",
      "\n"
     ]
    },
    {
     "name": "stderr",
     "output_type": "stream",
     "text": [
      "Epoch 25: 100%|██████████| 240/240 [00:01<00:00, 181.77it/s]\n"
     ]
    },
    {
     "name": "stdout",
     "output_type": "stream",
     "text": [
      "(val) -5.9671 (test) -8.3070 (test1) -17.6792 (test2) -6.8618 (test3) -2.9773 (test4) -2.7054 (test5) -4.2512 (test6) -7.1809 (test7) -9.8888 (test8) -5.4094 (test9) -6.9678\n",
      "\n"
     ]
    },
    {
     "name": "stderr",
     "output_type": "stream",
     "text": [
      "Epoch 26: 100%|██████████| 240/240 [00:01<00:00, 182.64it/s]\n"
     ]
    },
    {
     "name": "stdout",
     "output_type": "stream",
     "text": [
      "(val) -6.2892 (test) -8.0357 (test1) -12.7467 (test2) -3.6550 (test3) -7.5567 (test4) -3.3399 (test5) -4.0051 (test6) -7.6021 (test7) -9.9553 (test8) -8.9138 (test9) -9.2012\n",
      "\n"
     ]
    },
    {
     "name": "stderr",
     "output_type": "stream",
     "text": [
      "Epoch 27: 100%|██████████| 240/240 [00:01<00:00, 184.75it/s]\n"
     ]
    },
    {
     "name": "stdout",
     "output_type": "stream",
     "text": [
      "(val) -5.2839 (test) -8.0514 (test1) -11.4844 (test2) -3.0804 (test3) -7.3504 (test4) -3.4528 (test5) -3.0119 (test6) -8.6390 (test7) -10.0681 (test8) -8.7238 (test9) -10.7201\n",
      "\n"
     ]
    },
    {
     "name": "stderr",
     "output_type": "stream",
     "text": [
      "Epoch 28: 100%|██████████| 240/240 [00:01<00:00, 184.78it/s]\n"
     ]
    },
    {
     "name": "stdout",
     "output_type": "stream",
     "text": [
      "(val) -4.2489 (test) -8.7268 (test1) -17.4767 (test2) -1.5415 (test3) -8.5023 (test4) -3.3984 (test5) -3.5984 (test6) -6.5571 (test7) -3.1768 (test8) -5.7212 (test9) -13.9638\n",
      "\n"
     ]
    },
    {
     "name": "stderr",
     "output_type": "stream",
     "text": [
      "Epoch 29: 100%|██████████| 240/240 [00:01<00:00, 184.88it/s]\n"
     ]
    },
    {
     "name": "stdout",
     "output_type": "stream",
     "text": [
      "(val) -5.2516 (test) -6.6599 (test1) -5.8397 (test2) -3.4253 (test3) -5.9558 (test4) -3.5754 (test5) -3.4256 (test6) -6.2939 (test7) -7.2012 (test8) -6.1133 (test9) -12.8264\n",
      "\n"
     ]
    },
    {
     "name": "stderr",
     "output_type": "stream",
     "text": [
      "Epoch 30: 100%|██████████| 240/240 [00:01<00:00, 184.75it/s]\n"
     ]
    },
    {
     "name": "stdout",
     "output_type": "stream",
     "text": [
      "(val) -4.8603 (test) -7.6846 (test1) -14.6864 (test2) -2.2599 (test3) -6.3487 (test4) -4.6285 (test5) -4.0043 (test6) -6.0053 (test7) -5.1837 (test8) -5.8979 (test9) -11.6276\n",
      "\n"
     ]
    },
    {
     "name": "stderr",
     "output_type": "stream",
     "text": [
      "Epoch 31: 100%|██████████| 240/240 [00:01<00:00, 185.08it/s]\n"
     ]
    },
    {
     "name": "stdout",
     "output_type": "stream",
     "text": [
      "(val) -6.5639 (test) -9.4228 (test1) -20.6429 (test2) -3.9794 (test3) -3.7963 (test4) -4.4673 (test5) -4.7113 (test6) -8.4622 (test7) -8.8611 (test8) -7.8979 (test9) -9.3840\n",
      "\n"
     ]
    },
    {
     "name": "stderr",
     "output_type": "stream",
     "text": [
      "Epoch 32: 100%|██████████| 240/240 [00:01<00:00, 185.45it/s]\n"
     ]
    },
    {
     "name": "stdout",
     "output_type": "stream",
     "text": [
      "(val) -6.2373 (test) -8.8927 (test1) -21.5393 (test2) -5.1111 (test3) -3.7778 (test4) -5.6739 (test5) -2.8914 (test6) -5.9869 (test7) -7.8795 (test8) -5.1854 (test9) -6.4819\n",
      "\n"
     ]
    },
    {
     "name": "stderr",
     "output_type": "stream",
     "text": [
      "Epoch 33: 100%|██████████| 240/240 [00:01<00:00, 178.84it/s]\n"
     ]
    },
    {
     "name": "stdout",
     "output_type": "stream",
     "text": [
      "(val) -7.7836 (test) -10.3210 (test1) -13.1205 (test2) -1.9525 (test3) -16.8734 (test4) -3.3875 (test5) -3.8111 (test6) -8.4404 (test7) -12.9239 (test8) -12.2825 (test9) -9.1056\n",
      "\n"
     ]
    },
    {
     "name": "stderr",
     "output_type": "stream",
     "text": [
      "Epoch 34: 100%|██████████| 240/240 [00:01<00:00, 183.62it/s]\n"
     ]
    },
    {
     "name": "stdout",
     "output_type": "stream",
     "text": [
      "(val) -6.3168 (test) -7.5502 (test1) -11.4286 (test2) -2.6278 (test3) -2.4237 (test4) -4.8536 (test5) -4.3504 (test6) -8.2069 (test7) -7.9951 (test8) -5.3485 (test9) -12.9343\n",
      "\n"
     ]
    },
    {
     "name": "stderr",
     "output_type": "stream",
     "text": [
      "Epoch 35: 100%|██████████| 240/240 [00:01<00:00, 185.55it/s]\n"
     ]
    },
    {
     "name": "stdout",
     "output_type": "stream",
     "text": [
      "(val) -6.2820 (test) -6.8216 (test1) -10.0439 (test2) -4.2761 (test3) -4.4783 (test4) -6.3587 (test5) -4.2941 (test6) -8.6347 (test7) -6.0571 (test8) -5.3148 (test9) -9.0120\n",
      "\n"
     ]
    },
    {
     "name": "stderr",
     "output_type": "stream",
     "text": [
      "Epoch 36: 100%|██████████| 240/240 [00:01<00:00, 182.62it/s]\n"
     ]
    },
    {
     "name": "stdout",
     "output_type": "stream",
     "text": [
      "(val) -5.5155 (test) -7.4015 (test1) -10.0487 (test2) -2.9753 (test3) -6.5858 (test4) -4.3297 (test5) -3.6174 (test6) -8.3308 (test7) -7.3602 (test8) -5.8451 (test9) -12.2583\n",
      "\n"
     ]
    },
    {
     "name": "stderr",
     "output_type": "stream",
     "text": [
      "Epoch 37: 100%|██████████| 240/240 [00:01<00:00, 180.06it/s]\n"
     ]
    },
    {
     "name": "stdout",
     "output_type": "stream",
     "text": [
      "(val) -5.8165 (test) -7.2352 (test1) -9.6514 (test2) -4.7561 (test3) -1.9354 (test4) -3.3597 (test5) -4.2854 (test6) -7.8783 (test7) -7.5124 (test8) -5.0842 (test9) -13.3270\n",
      "\n"
     ]
    },
    {
     "name": "stderr",
     "output_type": "stream",
     "text": [
      "Epoch 38: 100%|██████████| 240/240 [00:01<00:00, 184.83it/s]\n"
     ]
    },
    {
     "name": "stdout",
     "output_type": "stream",
     "text": [
      "(val) -5.5407 (test) -7.4925 (test1) -13.7516 (test2) -2.4229 (test3) -6.0049 (test4) -4.0953 (test5) -3.7343 (test6) -8.2277 (test7) -7.5365 (test8) -6.6500 (test9) -8.6467\n",
      "\n"
     ]
    },
    {
     "name": "stderr",
     "output_type": "stream",
     "text": [
      "Epoch 39: 100%|██████████| 240/240 [00:01<00:00, 181.89it/s]\n"
     ]
    },
    {
     "name": "stdout",
     "output_type": "stream",
     "text": [
      "(val) -5.6774 (test) -8.8856 (test1) -17.0681 (test2) -3.4477 (test3) -6.1501 (test4) -5.6404 (test5) -4.9294 (test6) -9.5208 (test7) -8.3365 (test8) -7.0250 (test9) -10.1958\n",
      "\n"
     ]
    },
    {
     "name": "stderr",
     "output_type": "stream",
     "text": [
      "Epoch 40: 100%|██████████| 240/240 [00:01<00:00, 183.79it/s]\n"
     ]
    },
    {
     "name": "stdout",
     "output_type": "stream",
     "text": [
      "(val) -6.5194 (test) -5.8381 (test1) -7.3292 (test2) -4.0601 (test3) -3.1206 (test4) -3.3578 (test5) -2.7884 (test6) -6.5144 (test7) -7.2599 (test8) -5.3140 (test9) -9.1857\n",
      "\n"
     ]
    },
    {
     "name": "stderr",
     "output_type": "stream",
     "text": [
      "Epoch 41: 100%|██████████| 240/240 [00:01<00:00, 183.46it/s]\n"
     ]
    },
    {
     "name": "stdout",
     "output_type": "stream",
     "text": [
      "(val) -5.3944 (test) -8.1998 (test1) -13.2560 (test2) -3.0973 (test3) -7.0702 (test4) -3.8315 (test5) -3.1953 (test6) -6.2394 (test7) -11.8641 (test8) -6.2165 (test9) -11.2519\n",
      "\n"
     ]
    },
    {
     "name": "stderr",
     "output_type": "stream",
     "text": [
      "Epoch 42: 100%|██████████| 240/240 [00:01<00:00, 182.29it/s]\n"
     ]
    },
    {
     "name": "stdout",
     "output_type": "stream",
     "text": [
      "(val) -5.1232 (test) -8.1079 (test1) -7.5424 (test2) -1.9374 (test3) -12.4050 (test4) -4.1696 (test5) -3.7091 (test6) -9.1036 (test7) -8.4422 (test8) -6.2156 (test9) -12.3772\n",
      "\n"
     ]
    },
    {
     "name": "stderr",
     "output_type": "stream",
     "text": [
      "Epoch 43: 100%|██████████| 240/240 [00:01<00:00, 181.84it/s]\n"
     ]
    },
    {
     "name": "stdout",
     "output_type": "stream",
     "text": [
      "(val) -6.1749 (test) -10.6742 (test1) -15.7305 (test2) -2.8480 (test3) -12.4247 (test4) -3.0687 (test5) -4.1853 (test6) -7.8001 (test7) -10.2368 (test8) -6.8106 (test9) -19.4051\n",
      "\n"
     ]
    },
    {
     "name": "stderr",
     "output_type": "stream",
     "text": [
      "Epoch 44: 100%|██████████| 240/240 [00:01<00:00, 184.33it/s]\n"
     ]
    },
    {
     "name": "stdout",
     "output_type": "stream",
     "text": [
      "(val) -4.7598 (test) -8.5715 (test1) -14.1810 (test2) -2.4682 (test3) -5.8172 (test4) -2.5350 (test5) -3.3753 (test6) -8.2449 (test7) -7.6427 (test8) -7.9380 (test9) -14.5940\n",
      "\n"
     ]
    },
    {
     "name": "stderr",
     "output_type": "stream",
     "text": [
      "Epoch 45: 100%|██████████| 240/240 [00:01<00:00, 184.73it/s]\n"
     ]
    },
    {
     "name": "stdout",
     "output_type": "stream",
     "text": [
      "(val) -6.2637 (test) -8.3789 (test1) -16.0324 (test2) -4.6423 (test3) -6.9092 (test4) -3.6375 (test5) -4.0544 (test6) -8.2719 (test7) -5.9026 (test8) -6.4503 (test9) -11.4453\n",
      "\n"
     ]
    },
    {
     "name": "stderr",
     "output_type": "stream",
     "text": [
      "Epoch 46: 100%|██████████| 240/240 [00:01<00:00, 186.50it/s]\n"
     ]
    },
    {
     "name": "stdout",
     "output_type": "stream",
     "text": [
      "(val) -5.2737 (test) -8.1811 (test1) -15.7043 (test2) -4.4208 (test3) -4.1519 (test4) -5.2534 (test5) -4.4496 (test6) -8.2523 (test7) -6.4482 (test8) -6.6081 (test9) -10.8729\n",
      "\n"
     ]
    },
    {
     "name": "stderr",
     "output_type": "stream",
     "text": [
      "Epoch 47: 100%|██████████| 240/240 [00:01<00:00, 185.73it/s]\n"
     ]
    },
    {
     "name": "stdout",
     "output_type": "stream",
     "text": [
      "(val) -5.6019 (test) -7.1597 (test1) -7.9585 (test2) -2.7976 (test3) -6.6331 (test4) -3.4083 (test5) -3.0293 (test6) -5.6005 (test7) -4.9288 (test8) -5.2721 (test9) -15.5544\n",
      "\n"
     ]
    },
    {
     "name": "stderr",
     "output_type": "stream",
     "text": [
      "Epoch 48: 100%|██████████| 240/240 [00:01<00:00, 184.80it/s]\n"
     ]
    },
    {
     "name": "stdout",
     "output_type": "stream",
     "text": [
      "(val) -4.9258 (test) -7.6879 (test1) -12.5090 (test2) -3.8468 (test3) -4.0924 (test4) -3.2209 (test5) -4.0934 (test6) -7.6077 (test7) -7.6214 (test8) -6.3332 (test9) -12.6771\n",
      "\n"
     ]
    },
    {
     "name": "stderr",
     "output_type": "stream",
     "text": [
      "Epoch 49: 100%|██████████| 240/240 [00:01<00:00, 185.19it/s]\n"
     ]
    },
    {
     "name": "stdout",
     "output_type": "stream",
     "text": [
      "(val) -5.2132 (test) -7.4495 (test1) -11.1494 (test2) -2.2409 (test3) -3.8900 (test4) -3.1853 (test5) -4.0735 (test6) -6.8085 (test7) -9.6156 (test8) -3.6509 (test9) -13.2704\n",
      "\n"
     ]
    },
    {
     "name": "stderr",
     "output_type": "stream",
     "text": [
      "Epoch 50: 100%|██████████| 240/240 [00:01<00:00, 185.08it/s]\n"
     ]
    },
    {
     "name": "stdout",
     "output_type": "stream",
     "text": [
      "(val) -4.8472 (test) -9.8159 (test1) -19.1261 (test2) -2.6813 (test3) -5.2060 (test4) -3.4632 (test5) -3.6799 (test6) -7.4129 (test7) -8.0743 (test8) -6.5401 (test9) -16.6915\n",
      "\n"
     ]
    },
    {
     "name": "stderr",
     "output_type": "stream",
     "text": [
      "Epoch 51: 100%|██████████| 240/240 [00:01<00:00, 180.79it/s]\n"
     ]
    },
    {
     "name": "stdout",
     "output_type": "stream",
     "text": [
      "(val) -5.6354 (test) -9.8187 (test1) -10.0913 (test2) -3.4600 (test3) -12.1299 (test4) -5.4077 (test5) -7.3080 (test6) -11.9558 (test7) -8.0785 (test8) -6.4472 (test9) -16.5623\n",
      "\n"
     ]
    },
    {
     "name": "stderr",
     "output_type": "stream",
     "text": [
      "Epoch 52: 100%|██████████| 240/240 [00:01<00:00, 184.19it/s]\n"
     ]
    },
    {
     "name": "stdout",
     "output_type": "stream",
     "text": [
      "(val) -6.0807 (test) -7.4922 (test1) -8.0265 (test2) -4.6226 (test3) -3.8396 (test4) -4.7297 (test5) -4.3331 (test6) -7.4733 (test7) -9.3392 (test8) -4.1671 (test9) -14.2508\n",
      "\n"
     ]
    },
    {
     "name": "stderr",
     "output_type": "stream",
     "text": [
      "Epoch 53: 100%|██████████| 240/240 [00:01<00:00, 184.95it/s]\n"
     ]
    },
    {
     "name": "stdout",
     "output_type": "stream",
     "text": [
      "(val) -5.6283 (test) -8.9316 (test1) -5.2274 (test2) -2.9027 (test3) -11.3248 (test4) -4.9868 (test5) -5.3231 (test6) -9.7145 (test7) -8.4891 (test8) -4.4976 (test9) -17.7225\n",
      "\n"
     ]
    },
    {
     "name": "stderr",
     "output_type": "stream",
     "text": [
      "Epoch 54: 100%|██████████| 240/240 [00:01<00:00, 183.62it/s]\n"
     ]
    },
    {
     "name": "stdout",
     "output_type": "stream",
     "text": [
      "(val) -4.9072 (test) -9.9391 (test1) -20.9596 (test2) -5.2618 (test3) -7.0612 (test4) -3.5614 (test5) -3.9084 (test6) -5.1960 (test7) -4.8844 (test8) -6.6087 (test9) -15.8029\n",
      "\n"
     ]
    },
    {
     "name": "stderr",
     "output_type": "stream",
     "text": [
      "Epoch 55: 100%|██████████| 240/240 [00:01<00:00, 186.66it/s]\n"
     ]
    },
    {
     "name": "stdout",
     "output_type": "stream",
     "text": [
      "(val) -5.2891 (test) -9.4369 (test1) -19.4849 (test2) -3.9024 (test3) -6.3738 (test4) -3.1036 (test5) -4.6904 (test6) -9.4373 (test7) -4.6350 (test8) -5.9106 (test9) -13.7428\n",
      "\n"
     ]
    },
    {
     "name": "stderr",
     "output_type": "stream",
     "text": [
      "Epoch 56: 100%|██████████| 240/240 [00:01<00:00, 184.86it/s]\n"
     ]
    },
    {
     "name": "stdout",
     "output_type": "stream",
     "text": [
      "(val) -5.1720 (test) -9.2484 (test1) -13.2354 (test2) -4.9110 (test3) -12.8916 (test4) -6.4742 (test5) -7.1127 (test6) -9.1399 (test7) -3.9902 (test8) -5.9588 (test9) -13.2979\n",
      "\n"
     ]
    },
    {
     "name": "stderr",
     "output_type": "stream",
     "text": [
      "Epoch 57: 100%|██████████| 240/240 [00:01<00:00, 182.80it/s]\n"
     ]
    },
    {
     "name": "stdout",
     "output_type": "stream",
     "text": [
      "(val) -5.6184 (test) -6.6279 (test1) -9.6019 (test2) -2.2406 (test3) -9.4433 (test4) -2.7414 (test5) -3.4067 (test6) -5.6776 (test7) -7.2308 (test8) -6.8911 (test9) -7.6053\n",
      "\n"
     ]
    },
    {
     "name": "stderr",
     "output_type": "stream",
     "text": [
      "Epoch 58: 100%|██████████| 240/240 [00:01<00:00, 183.11it/s]\n"
     ]
    },
    {
     "name": "stdout",
     "output_type": "stream",
     "text": [
      "(val) -5.5363 (test) -7.4596 (test1) -12.1984 (test2) -4.3691 (test3) -6.7310 (test4) -4.2245 (test5) -3.7888 (test6) -8.6622 (test7) -5.2877 (test8) -5.9968 (test9) -10.7918\n",
      "\n"
     ]
    },
    {
     "name": "stderr",
     "output_type": "stream",
     "text": [
      "Epoch 59: 100%|██████████| 240/240 [00:01<00:00, 182.63it/s]\n"
     ]
    },
    {
     "name": "stdout",
     "output_type": "stream",
     "text": [
      "(val) -6.0799 (test) -9.0698 (test1) -16.0136 (test2) -4.7954 (test3) -3.7883 (test4) -5.5382 (test5) -5.7152 (test6) -8.1200 (test7) -7.0608 (test8) -6.5693 (test9) -14.9761\n",
      "\n"
     ]
    },
    {
     "name": "stderr",
     "output_type": "stream",
     "text": [
      "Epoch 60: 100%|██████████| 240/240 [00:01<00:00, 182.85it/s]\n"
     ]
    },
    {
     "name": "stdout",
     "output_type": "stream",
     "text": [
      "(val) -5.4371 (test) -8.1406 (test1) -11.2873 (test2) -4.2591 (test3) -6.7124 (test4) -5.1383 (test5) -6.1109 (test6) -8.1144 (test7) -4.2958 (test8) -5.4736 (test9) -15.0937\n",
      "\n"
     ]
    },
    {
     "name": "stderr",
     "output_type": "stream",
     "text": [
      "Epoch 61: 100%|██████████| 240/240 [00:01<00:00, 183.55it/s]\n"
     ]
    },
    {
     "name": "stdout",
     "output_type": "stream",
     "text": [
      "(val) -5.7105 (test) -8.7113 (test1) -13.4578 (test2) -4.7357 (test3) -7.5327 (test4) -3.1355 (test5) -5.5056 (test6) -5.1801 (test7) -10.0037 (test8) -8.4690 (test9) -13.5617\n",
      "\n"
     ]
    },
    {
     "name": "stderr",
     "output_type": "stream",
     "text": [
      "Epoch 62: 100%|██████████| 240/240 [00:01<00:00, 185.46it/s]\n"
     ]
    },
    {
     "name": "stdout",
     "output_type": "stream",
     "text": [
      "(val) -4.5528 (test) -8.2977 (test1) -15.4906 (test2) -2.5603 (test3) -4.6165 (test4) -4.0135 (test5) -3.6299 (test6) -4.8514 (test7) -8.2093 (test8) -4.3468 (test9) -14.5855\n",
      "\n"
     ]
    },
    {
     "name": "stderr",
     "output_type": "stream",
     "text": [
      "Epoch 63: 100%|██████████| 240/240 [00:01<00:00, 183.56it/s]\n"
     ]
    },
    {
     "name": "stdout",
     "output_type": "stream",
     "text": [
      "(val) -5.5529 (test) -5.8395 (test1) -6.9515 (test2) -3.1574 (test3) -5.8588 (test4) -4.3004 (test5) -4.1947 (test6) -5.8313 (test7) -5.4082 (test8) -9.7241 (test9) -4.5147\n",
      "\n"
     ]
    },
    {
     "name": "stderr",
     "output_type": "stream",
     "text": [
      "Epoch 64: 100%|██████████| 240/240 [00:01<00:00, 184.81it/s]\n"
     ]
    },
    {
     "name": "stdout",
     "output_type": "stream",
     "text": [
      "(val) -5.6283 (test) -9.4351 (test1) -16.7341 (test2) -1.8264 (test3) -4.3108 (test4) -3.4116 (test5) -5.4423 (test6) -8.6808 (test7) -6.3848 (test8) -8.0575 (test9) -16.6412\n",
      "\n"
     ]
    },
    {
     "name": "stderr",
     "output_type": "stream",
     "text": [
      "Epoch 65: 100%|██████████| 240/240 [00:01<00:00, 185.23it/s]\n"
     ]
    },
    {
     "name": "stdout",
     "output_type": "stream",
     "text": [
      "(val) -4.7380 (test) -8.2346 (test1) -17.3036 (test2) -3.1338 (test3) -8.7197 (test4) -3.6711 (test5) -4.3772 (test6) -6.1098 (test7) -6.4429 (test8) -5.3897 (test9) -9.1915\n",
      "\n"
     ]
    },
    {
     "name": "stderr",
     "output_type": "stream",
     "text": [
      "Epoch 66: 100%|██████████| 240/240 [00:01<00:00, 182.73it/s]\n"
     ]
    },
    {
     "name": "stdout",
     "output_type": "stream",
     "text": [
      "(val) -4.9839 (test) -7.9585 (test1) -13.8514 (test2) -4.3859 (test3) -4.0769 (test4) -2.9927 (test5) -3.5949 (test6) -6.1247 (test7) -7.0441 (test8) -5.6831 (test9) -14.1779\n",
      "\n"
     ]
    },
    {
     "name": "stderr",
     "output_type": "stream",
     "text": [
      "Epoch 67: 100%|██████████| 240/240 [00:01<00:00, 183.54it/s]\n"
     ]
    },
    {
     "name": "stdout",
     "output_type": "stream",
     "text": [
      "(val) -5.2267 (test) -6.7948 (test1) -11.0464 (test2) -6.9052 (test3) -2.7620 (test4) -3.9018 (test5) -3.4470 (test6) -5.7094 (test7) -9.8298 (test8) -4.4683 (test9) -7.8673\n",
      "\n"
     ]
    },
    {
     "name": "stderr",
     "output_type": "stream",
     "text": [
      "Epoch 68: 100%|██████████| 240/240 [00:01<00:00, 184.76it/s]\n"
     ]
    },
    {
     "name": "stdout",
     "output_type": "stream",
     "text": [
      "(val) -5.4034 (test) -8.2831 (test1) -9.4771 (test2) -3.6324 (test3) -7.0806 (test4) -2.6259 (test5) -4.2216 (test6) -7.3296 (test7) -8.2486 (test8) -5.1257 (test9) -17.0761\n",
      "\n"
     ]
    },
    {
     "name": "stderr",
     "output_type": "stream",
     "text": [
      "Epoch 69: 100%|██████████| 240/240 [00:01<00:00, 182.84it/s]\n"
     ]
    },
    {
     "name": "stdout",
     "output_type": "stream",
     "text": [
      "(val) -6.5417 (test) -9.2874 (test1) -13.7251 (test2) -5.6989 (test3) -3.1332 (test4) -3.4256 (test5) -4.7274 (test6) -7.0865 (test7) -14.1126 (test8) -6.2273 (test9) -14.9463\n",
      "\n"
     ]
    },
    {
     "name": "stderr",
     "output_type": "stream",
     "text": [
      "Epoch 70: 100%|██████████| 240/240 [00:01<00:00, 183.84it/s]\n"
     ]
    },
    {
     "name": "stdout",
     "output_type": "stream",
     "text": [
      "(val) -6.0361 (test) -8.2802 (test1) -12.8604 (test2) -3.0685 (test3) -5.6051 (test4) -5.8049 (test5) -5.1207 (test6) -7.9991 (test7) -7.2211 (test8) -3.2196 (test9) -14.9805\n",
      "\n"
     ]
    },
    {
     "name": "stderr",
     "output_type": "stream",
     "text": [
      "Epoch 71: 100%|██████████| 240/240 [00:01<00:00, 184.51it/s]\n"
     ]
    },
    {
     "name": "stdout",
     "output_type": "stream",
     "text": [
      "(val) -5.3824 (test) -7.6083 (test1) -10.1483 (test2) -2.5920 (test3) -6.7698 (test4) -4.3474 (test5) -5.2031 (test6) -9.2610 (test7) -7.9766 (test8) -4.5899 (test9) -12.2070\n",
      "\n"
     ]
    },
    {
     "name": "stderr",
     "output_type": "stream",
     "text": [
      "Epoch 72: 100%|██████████| 240/240 [00:01<00:00, 184.87it/s]\n"
     ]
    },
    {
     "name": "stdout",
     "output_type": "stream",
     "text": [
      "(val) -4.9108 (test) -7.9569 (test1) -9.6263 (test2) -1.3319 (test3) -7.7452 (test4) -4.5198 (test5) -5.1724 (test6) -7.3416 (test7) -9.7500 (test8) -4.2510 (test9) -14.1835\n",
      "\n"
     ]
    },
    {
     "name": "stderr",
     "output_type": "stream",
     "text": [
      "Epoch 73: 100%|██████████| 240/240 [00:01<00:00, 185.93it/s]\n"
     ]
    },
    {
     "name": "stdout",
     "output_type": "stream",
     "text": [
      "(val) -5.6812 (test) -7.3667 (test1) -7.7213 (test2) -5.6304 (test3) -2.1613 (test4) -3.7239 (test5) -3.3578 (test6) -4.8699 (test7) -6.2338 (test8) -4.5051 (test9) -16.8645\n",
      "\n"
     ]
    },
    {
     "name": "stderr",
     "output_type": "stream",
     "text": [
      "Epoch 74: 100%|██████████| 240/240 [00:01<00:00, 184.41it/s]\n"
     ]
    },
    {
     "name": "stdout",
     "output_type": "stream",
     "text": [
      "(val) -5.8635 (test) -6.4639 (test1) -10.9556 (test2) -4.7991 (test3) -2.7557 (test4) -4.5067 (test5) -4.3377 (test6) -6.3268 (test7) -6.1265 (test8) -9.0662 (test9) -5.1486\n",
      "\n"
     ]
    },
    {
     "name": "stderr",
     "output_type": "stream",
     "text": [
      "Epoch 75: 100%|██████████| 240/240 [00:01<00:00, 182.59it/s]\n"
     ]
    },
    {
     "name": "stdout",
     "output_type": "stream",
     "text": [
      "(val) -5.1503 (test) -6.0888 (test1) -6.6008 (test2) -3.0973 (test3) -6.2413 (test4) -2.7611 (test5) -4.3620 (test6) -6.2333 (test7) -5.7539 (test8) -9.7041 (test9) -6.9832\n",
      "\n"
     ]
    },
    {
     "name": "stderr",
     "output_type": "stream",
     "text": [
      "Epoch 76: 100%|██████████| 240/240 [00:01<00:00, 184.78it/s]\n"
     ]
    },
    {
     "name": "stdout",
     "output_type": "stream",
     "text": [
      "(val) -4.7632 (test) -7.0915 (test1) -7.2833 (test2) -2.7380 (test3) -6.8801 (test4) -3.4230 (test5) -4.8588 (test6) -7.4002 (test7) -7.6470 (test8) -5.4556 (test9) -12.8995\n",
      "\n"
     ]
    },
    {
     "name": "stderr",
     "output_type": "stream",
     "text": [
      "Epoch 77: 100%|██████████| 240/240 [00:01<00:00, 185.66it/s]\n"
     ]
    },
    {
     "name": "stdout",
     "output_type": "stream",
     "text": [
      "(val) -6.1042 (test) -6.7597 (test1) -9.4689 (test2) -3.1295 (test3) -1.7883 (test4) -3.7563 (test5) -5.2620 (test6) -8.6256 (test7) -6.3796 (test8) -4.8537 (test9) -11.3196\n",
      "\n"
     ]
    },
    {
     "name": "stderr",
     "output_type": "stream",
     "text": [
      "Epoch 78: 100%|██████████| 240/240 [00:01<00:00, 181.23it/s]\n"
     ]
    },
    {
     "name": "stdout",
     "output_type": "stream",
     "text": [
      "(val) -4.9521 (test) -7.5178 (test1) -9.5914 (test2) -2.5061 (test3) -4.7032 (test4) -3.2393 (test5) -3.9474 (test6) -7.4668 (test7) -4.6667 (test8) -5.1023 (test9) -16.0815\n",
      "\n"
     ]
    },
    {
     "name": "stderr",
     "output_type": "stream",
     "text": [
      "Epoch 79: 100%|██████████| 240/240 [00:01<00:00, 184.54it/s]\n"
     ]
    },
    {
     "name": "stdout",
     "output_type": "stream",
     "text": [
      "(val) -4.7083 (test) -6.9368 (test1) -8.5280 (test2) -3.4704 (test3) -5.1847 (test4) -2.6684 (test5) -3.2818 (test6) -6.7611 (test7) -5.0781 (test8) -6.4654 (test9) -13.7926\n",
      "\n"
     ]
    },
    {
     "name": "stderr",
     "output_type": "stream",
     "text": [
      "Epoch 80: 100%|██████████| 240/240 [00:01<00:00, 186.52it/s]\n"
     ]
    },
    {
     "name": "stdout",
     "output_type": "stream",
     "text": [
      "(val) -4.8237 (test) -6.8905 (test1) -10.0197 (test2) -4.2992 (test3) -6.7236 (test4) -2.9877 (test5) -2.9662 (test6) -7.7807 (test7) -3.0717 (test8) -6.9372 (test9) -11.2872\n",
      "\n"
     ]
    },
    {
     "name": "stderr",
     "output_type": "stream",
     "text": [
      "Epoch 81: 100%|██████████| 240/240 [00:01<00:00, 182.98it/s]\n"
     ]
    },
    {
     "name": "stdout",
     "output_type": "stream",
     "text": [
      "(val) -4.7667 (test) -7.4765 (test1) -13.7633 (test2) -2.7425 (test3) -5.0592 (test4) -3.3472 (test5) -2.7240 (test6) -4.9595 (test7) -7.9133 (test8) -8.4043 (test9) -10.2008\n",
      "\n"
     ]
    },
    {
     "name": "stderr",
     "output_type": "stream",
     "text": [
      "Epoch 82: 100%|██████████| 240/240 [00:01<00:00, 183.21it/s]\n"
     ]
    },
    {
     "name": "stdout",
     "output_type": "stream",
     "text": [
      "(val) -5.7930 (test) -7.3545 (test1) -7.2664 (test2) -4.3224 (test3) -4.6377 (test4) -2.8463 (test5) -3.6639 (test6) -7.7447 (test7) -6.1223 (test8) -5.8150 (test9) -15.5245\n",
      "\n"
     ]
    },
    {
     "name": "stderr",
     "output_type": "stream",
     "text": [
      "Epoch 83: 100%|██████████| 240/240 [00:01<00:00, 184.13it/s]\n"
     ]
    },
    {
     "name": "stdout",
     "output_type": "stream",
     "text": [
      "(val) -5.7229 (test) -7.9114 (test1) -10.2236 (test2) -4.8066 (test3) -6.8114 (test4) -2.8346 (test5) -3.1359 (test6) -8.2640 (test7) -5.7844 (test8) -6.5202 (test9) -15.0719\n",
      "\n"
     ]
    },
    {
     "name": "stderr",
     "output_type": "stream",
     "text": [
      "Epoch 84: 100%|██████████| 240/240 [00:01<00:00, 181.65it/s]\n"
     ]
    },
    {
     "name": "stdout",
     "output_type": "stream",
     "text": [
      "(val) -4.6435 (test) -7.1812 (test1) -11.9011 (test2) -4.0719 (test3) -6.4246 (test4) -3.0184 (test5) -2.6780 (test6) -5.9468 (test7) -9.1539 (test8) -3.9765 (test9) -10.6477\n",
      "\n"
     ]
    },
    {
     "name": "stderr",
     "output_type": "stream",
     "text": [
      "Epoch 85: 100%|██████████| 240/240 [00:01<00:00, 187.22it/s]\n"
     ]
    },
    {
     "name": "stdout",
     "output_type": "stream",
     "text": [
      "(val) -4.8974 (test) -6.8977 (test1) -10.6610 (test2) -5.1880 (test3) -5.1120 (test4) -4.0072 (test5) -3.2243 (test6) -6.4300 (test7) -6.5697 (test8) -6.0012 (test9) -10.7016\n",
      "\n"
     ]
    },
    {
     "name": "stderr",
     "output_type": "stream",
     "text": [
      "Epoch 86: 100%|██████████| 240/240 [00:01<00:00, 184.83it/s]\n"
     ]
    },
    {
     "name": "stdout",
     "output_type": "stream",
     "text": [
      "(val) -5.1010 (test) -7.1238 (test1) -10.0172 (test2) -3.2016 (test3) -4.3421 (test4) -2.8381 (test5) -4.2962 (test6) -7.4325 (test7) -9.8642 (test8) -6.1299 (test9) -10.5191\n",
      "\n"
     ]
    },
    {
     "name": "stderr",
     "output_type": "stream",
     "text": [
      "Epoch 87: 100%|██████████| 240/240 [00:01<00:00, 181.95it/s]\n"
     ]
    },
    {
     "name": "stdout",
     "output_type": "stream",
     "text": [
      "(val) -5.2183 (test) -6.3154 (test1) -8.7568 (test2) -3.1076 (test3) -2.8495 (test4) -3.7580 (test5) -3.7265 (test6) -5.5094 (test7) -5.3546 (test8) -4.3367 (test9) -12.5960\n",
      "\n"
     ]
    },
    {
     "name": "stderr",
     "output_type": "stream",
     "text": [
      "Epoch 88: 100%|██████████| 240/240 [00:01<00:00, 182.44it/s]\n"
     ]
    },
    {
     "name": "stdout",
     "output_type": "stream",
     "text": [
      "(val) -5.1963 (test) -6.6664 (test1) -6.3863 (test2) -5.1387 (test3) -5.1274 (test4) -3.9673 (test5) -3.6450 (test6) -8.2345 (test7) -7.9574 (test8) -4.0252 (test9) -11.4076\n",
      "\n"
     ]
    },
    {
     "name": "stderr",
     "output_type": "stream",
     "text": [
      "Epoch 89: 100%|██████████| 240/240 [00:01<00:00, 184.53it/s]\n"
     ]
    },
    {
     "name": "stdout",
     "output_type": "stream",
     "text": [
      "(val) -4.7447 (test) -8.6107 (test1) -11.1416 (test2) -2.9951 (test3) -11.3245 (test4) -4.3096 (test5) -3.4626 (test6) -8.3607 (test7) -8.2864 (test8) -5.4917 (test9) -14.3756\n",
      "\n"
     ]
    },
    {
     "name": "stderr",
     "output_type": "stream",
     "text": [
      "Epoch 90: 100%|██████████| 240/240 [00:01<00:00, 183.01it/s]\n"
     ]
    },
    {
     "name": "stdout",
     "output_type": "stream",
     "text": [
      "(val) -5.3495 (test) -6.6652 (test1) -7.2696 (test2) -2.2225 (test3) -4.0033 (test4) -3.2679 (test5) -3.3049 (test6) -7.4724 (test7) -9.0039 (test8) -5.3911 (test9) -11.7660\n",
      "\n"
     ]
    },
    {
     "name": "stderr",
     "output_type": "stream",
     "text": [
      "Epoch 91: 100%|██████████| 240/240 [00:01<00:00, 184.83it/s]\n"
     ]
    },
    {
     "name": "stdout",
     "output_type": "stream",
     "text": [
      "(val) -4.2690 (test) -7.7099 (test1) -10.5711 (test2) -2.6974 (test3) -6.3834 (test4) -3.3604 (test5) -3.2841 (test6) -6.0179 (test7) -5.8944 (test8) -6.0229 (test9) -15.6811\n",
      "\n"
     ]
    },
    {
     "name": "stderr",
     "output_type": "stream",
     "text": [
      "Epoch 92: 100%|██████████| 240/240 [00:01<00:00, 184.26it/s]\n"
     ]
    },
    {
     "name": "stdout",
     "output_type": "stream",
     "text": [
      "(val) -5.0359 (test) -7.2316 (test1) -9.4079 (test2) -3.1400 (test3) -7.8364 (test4) -4.2897 (test5) -4.0555 (test6) -8.4897 (test7) -4.2477 (test8) -5.6412 (test9) -12.4138\n",
      "\n"
     ]
    },
    {
     "name": "stderr",
     "output_type": "stream",
     "text": [
      "Epoch 93: 100%|██████████| 240/240 [00:01<00:00, 180.92it/s]\n"
     ]
    },
    {
     "name": "stdout",
     "output_type": "stream",
     "text": [
      "(val) -5.0717 (test) -7.3876 (test1) -9.5036 (test2) -4.6864 (test3) -5.6315 (test4) -3.5474 (test5) -5.0052 (test6) -8.9562 (test7) -4.9071 (test8) -6.8292 (test9) -12.5949\n",
      "\n"
     ]
    },
    {
     "name": "stderr",
     "output_type": "stream",
     "text": [
      "Epoch 94: 100%|██████████| 240/240 [00:01<00:00, 183.84it/s]\n"
     ]
    },
    {
     "name": "stdout",
     "output_type": "stream",
     "text": [
      "(val) -5.9155 (test) -8.1992 (test1) -7.4577 (test2) -2.9382 (test3) -9.1088 (test4) -3.7674 (test5) -5.8533 (test6) -6.4973 (test7) -10.8496 (test8) -5.2273 (test9) -14.9037\n",
      "\n"
     ]
    },
    {
     "name": "stderr",
     "output_type": "stream",
     "text": [
      "Epoch 95: 100%|██████████| 240/240 [00:01<00:00, 183.84it/s]\n"
     ]
    },
    {
     "name": "stdout",
     "output_type": "stream",
     "text": [
      "(val) -5.4708 (test) -6.9945 (test1) -10.2906 (test2) -3.3046 (test3) -5.6897 (test4) -3.4057 (test5) -3.5914 (test6) -8.3107 (test7) -9.0279 (test8) -3.9789 (test9) -10.0108\n",
      "\n"
     ]
    },
    {
     "name": "stderr",
     "output_type": "stream",
     "text": [
      "Epoch 96: 100%|██████████| 240/240 [00:01<00:00, 184.14it/s]\n"
     ]
    },
    {
     "name": "stdout",
     "output_type": "stream",
     "text": [
      "(val) -4.8329 (test) -7.5588 (test1) -7.7368 (test2) -3.4799 (test3) -5.6363 (test4) -3.0416 (test5) -2.7909 (test6) -6.8489 (test7) -8.3957 (test8) -6.4074 (test9) -15.3295\n",
      "\n"
     ]
    },
    {
     "name": "stderr",
     "output_type": "stream",
     "text": [
      "Epoch 97: 100%|██████████| 240/240 [00:01<00:00, 180.94it/s]\n"
     ]
    },
    {
     "name": "stdout",
     "output_type": "stream",
     "text": [
      "(val) -4.6062 (test) -8.5834 (test1) -9.6077 (test2) -2.8249 (test3) -9.7254 (test4) -3.3084 (test5) -2.8954 (test6) -7.6097 (test7) -6.6940 (test8) -5.1201 (test9) -17.8870\n",
      "\n"
     ]
    },
    {
     "name": "stderr",
     "output_type": "stream",
     "text": [
      "Epoch 98: 100%|██████████| 240/240 [00:01<00:00, 185.52it/s]\n"
     ]
    },
    {
     "name": "stdout",
     "output_type": "stream",
     "text": [
      "(val) -4.9954 (test) -6.7477 (test1) -9.0477 (test2) -3.0095 (test3) -6.1631 (test4) -2.7368 (test5) -3.3450 (test6) -7.4890 (test7) -7.7259 (test8) -4.1619 (test9) -11.3623\n",
      "\n"
     ]
    },
    {
     "name": "stderr",
     "output_type": "stream",
     "text": [
      "Epoch 99: 100%|██████████| 240/240 [00:01<00:00, 184.68it/s]\n"
     ]
    },
    {
     "name": "stdout",
     "output_type": "stream",
     "text": [
      "(val) -5.1996 (test) -9.6665 (test1) -19.1984 (test2) -6.0033 (test3) -5.5437 (test4) -2.8909 (test5) -4.9851 (test6) -9.9380 (test7) -6.8799 (test8) -8.2447 (test9) -12.5836\n",
      "\n"
     ]
    },
    {
     "name": "stderr",
     "output_type": "stream",
     "text": [
      "Epoch 100: 100%|██████████| 240/240 [00:01<00:00, 181.30it/s]\n"
     ]
    },
    {
     "name": "stdout",
     "output_type": "stream",
     "text": [
      "(val) -4.6603 (test) -9.0448 (test1) -17.9338 (test2) -3.5050 (test3) -4.6914 (test4) -4.0785 (test5) -4.0701 (test6) -5.5528 (test7) -8.9498 (test8) -6.0342 (test9) -14.1354\n",
      "\n"
     ]
    },
    {
     "name": "stderr",
     "output_type": "stream",
     "text": [
      "Epoch 101: 100%|██████████| 240/240 [00:01<00:00, 184.82it/s]\n"
     ]
    },
    {
     "name": "stdout",
     "output_type": "stream",
     "text": [
      "(val) -5.6287 (test) -8.9100 (test1) -12.1399 (test2) -2.4769 (test3) -6.6778 (test4) -3.7201 (test5) -3.9704 (test6) -6.2769 (test7) -12.1256 (test8) -5.0865 (test9) -16.5673\n",
      "\n"
     ]
    },
    {
     "name": "stderr",
     "output_type": "stream",
     "text": [
      "Epoch 102: 100%|██████████| 240/240 [00:01<00:00, 183.72it/s]\n"
     ]
    },
    {
     "name": "stdout",
     "output_type": "stream",
     "text": [
      "(val) -6.2265 (test) -7.8245 (test1) -8.6593 (test2) -1.0479 (test3) -7.5458 (test4) -6.1004 (test5) -6.2805 (test6) -6.3778 (test7) -10.1773 (test8) -7.0413 (test9) -12.1446\n",
      "\n"
     ]
    },
    {
     "name": "stderr",
     "output_type": "stream",
     "text": [
      "Epoch 103: 100%|██████████| 240/240 [00:01<00:00, 185.20it/s]\n"
     ]
    },
    {
     "name": "stdout",
     "output_type": "stream",
     "text": [
      "(val) -5.2845 (test) -7.6258 (test1) -13.3030 (test2) -2.3259 (test3) -6.8705 (test4) -2.6042 (test5) -3.6590 (test6) -8.7238 (test7) -6.3352 (test8) -7.1801 (test9) -10.2872\n",
      "\n"
     ]
    },
    {
     "name": "stderr",
     "output_type": "stream",
     "text": [
      "Epoch 104: 100%|██████████| 240/240 [00:01<00:00, 184.30it/s]\n"
     ]
    },
    {
     "name": "stdout",
     "output_type": "stream",
     "text": [
      "(val) -4.7776 (test) -6.8611 (test1) -7.8151 (test2) -1.7116 (test3) -6.2611 (test4) -3.9165 (test5) -3.6828 (test6) -5.9725 (test7) -7.9802 (test8) -5.9712 (test9) -12.5123\n",
      "\n"
     ]
    },
    {
     "name": "stderr",
     "output_type": "stream",
     "text": [
      "Epoch 105: 100%|██████████| 240/240 [00:01<00:00, 181.87it/s]\n"
     ]
    },
    {
     "name": "stdout",
     "output_type": "stream",
     "text": [
      "(val) -4.7690 (test) -7.7347 (test1) -8.3819 (test2) -4.6641 (test3) -9.7503 (test4) -3.6981 (test5) -2.9276 (test6) -6.9986 (test7) -5.7122 (test8) -8.2375 (test9) -13.4029\n",
      "\n"
     ]
    },
    {
     "name": "stderr",
     "output_type": "stream",
     "text": [
      "Epoch 106: 100%|██████████| 240/240 [00:01<00:00, 182.31it/s]\n"
     ]
    },
    {
     "name": "stdout",
     "output_type": "stream",
     "text": [
      "(val) -5.8227 (test) -7.0520 (test1) -6.2466 (test2) -3.6956 (test3) -4.4320 (test4) -3.9858 (test5) -3.3837 (test6) -9.4896 (test7) -6.2512 (test8) -4.1674 (test9) -14.1923\n",
      "\n"
     ]
    },
    {
     "name": "stderr",
     "output_type": "stream",
     "text": [
      "Epoch 107: 100%|██████████| 240/240 [00:01<00:00, 189.40it/s]\n"
     ]
    },
    {
     "name": "stdout",
     "output_type": "stream",
     "text": [
      "(val) -5.0928 (test) -7.7370 (test1) -8.4373 (test2) -5.1975 (test3) -2.4014 (test4) -3.1131 (test5) -4.1730 (test6) -6.5257 (test7) -8.9666 (test8) -5.1983 (test9) -16.0520\n",
      "\n"
     ]
    },
    {
     "name": "stderr",
     "output_type": "stream",
     "text": [
      "Epoch 108: 100%|██████████| 240/240 [00:01<00:00, 181.85it/s]\n"
     ]
    },
    {
     "name": "stdout",
     "output_type": "stream",
     "text": [
      "(val) -6.1278 (test) -9.5927 (test1) -19.5738 (test2) -6.9568 (test3) -3.4393 (test4) -3.7399 (test5) -2.6842 (test6) -7.0277 (test7) -5.8803 (test8) -5.1833 (test9) -15.8994\n",
      "\n"
     ]
    },
    {
     "name": "stderr",
     "output_type": "stream",
     "text": [
      "Epoch 109: 100%|██████████| 240/240 [00:01<00:00, 184.61it/s]\n"
     ]
    },
    {
     "name": "stdout",
     "output_type": "stream",
     "text": [
      "(val) -5.5743 (test) -7.7863 (test1) -11.9623 (test2) -4.6164 (test3) -2.8162 (test4) -2.2188 (test5) -4.0150 (test6) -7.9887 (test7) -3.0557 (test8) -9.3948 (test9) -13.8142\n",
      "\n"
     ]
    },
    {
     "name": "stderr",
     "output_type": "stream",
     "text": [
      "Epoch 110: 100%|██████████| 240/240 [00:01<00:00, 186.01it/s]\n"
     ]
    },
    {
     "name": "stdout",
     "output_type": "stream",
     "text": [
      "(val) -6.2635 (test) -8.5142 (test1) -12.1742 (test2) -4.8805 (test3) -2.4231 (test4) -3.3004 (test5) -4.7504 (test6) -5.4520 (test7) -11.1858 (test8) -4.8034 (test9) -16.2216\n",
      "\n"
     ]
    },
    {
     "name": "stderr",
     "output_type": "stream",
     "text": [
      "Epoch 111: 100%|██████████| 240/240 [00:01<00:00, 184.10it/s]\n"
     ]
    },
    {
     "name": "stdout",
     "output_type": "stream",
     "text": [
      "(val) -5.2813 (test) -7.8631 (test1) -8.8314 (test2) -2.4908 (test3) -11.0606 (test4) -3.1181 (test5) -3.3863 (test6) -8.1202 (test7) -7.9471 (test8) -6.1538 (test9) -12.7190\n",
      "\n"
     ]
    },
    {
     "name": "stderr",
     "output_type": "stream",
     "text": [
      "Epoch 112: 100%|██████████| 240/240 [00:01<00:00, 184.72it/s]\n"
     ]
    },
    {
     "name": "stdout",
     "output_type": "stream",
     "text": [
      "(val) -4.9914 (test) -7.1718 (test1) -7.4232 (test2) -1.6244 (test3) -6.6948 (test4) -3.6111 (test5) -3.0217 (test6) -6.4836 (test7) -7.6892 (test8) -4.1827 (test9) -14.8164\n",
      "\n"
     ]
    },
    {
     "name": "stderr",
     "output_type": "stream",
     "text": [
      "Epoch 113: 100%|██████████| 240/240 [00:01<00:00, 183.94it/s]\n"
     ]
    },
    {
     "name": "stdout",
     "output_type": "stream",
     "text": [
      "(val) -5.2777 (test) -7.0761 (test1) -10.5949 (test2) -2.3661 (test3) -6.7094 (test4) -3.0760 (test5) -3.0569 (test6) -5.7280 (test7) -8.8510 (test8) -5.1832 (test9) -11.4436\n",
      "\n"
     ]
    },
    {
     "name": "stderr",
     "output_type": "stream",
     "text": [
      "Epoch 114: 100%|██████████| 240/240 [00:01<00:00, 183.09it/s]\n"
     ]
    },
    {
     "name": "stdout",
     "output_type": "stream",
     "text": [
      "(val) -5.0816 (test) -7.7427 (test1) -10.5014 (test2) -2.8460 (test3) -8.0351 (test4) -2.3875 (test5) -4.4386 (test6) -7.3494 (test7) -7.2406 (test8) -7.9515 (test9) -12.7095\n",
      "\n"
     ]
    },
    {
     "name": "stderr",
     "output_type": "stream",
     "text": [
      "Epoch 115: 100%|██████████| 240/240 [00:01<00:00, 183.40it/s]\n"
     ]
    },
    {
     "name": "stdout",
     "output_type": "stream",
     "text": [
      "(val) -5.4674 (test) -8.8530 (test1) -15.2616 (test2) -3.1769 (test3) -10.0076 (test4) -3.5821 (test5) -4.1118 (test6) -7.3018 (test7) -9.2450 (test8) -5.4835 (test9) -12.7917\n",
      "\n"
     ]
    },
    {
     "name": "stderr",
     "output_type": "stream",
     "text": [
      "Epoch 116: 100%|██████████| 240/240 [00:01<00:00, 184.59it/s]\n"
     ]
    },
    {
     "name": "stdout",
     "output_type": "stream",
     "text": [
      "(val) -5.1667 (test) -8.7672 (test1) -16.9071 (test2) -5.3325 (test3) -6.5902 (test4) -2.6265 (test5) -3.6870 (test6) -6.1097 (test7) -7.0668 (test8) -6.2200 (test9) -13.6970\n",
      "\n"
     ]
    },
    {
     "name": "stderr",
     "output_type": "stream",
     "text": [
      "Epoch 117: 100%|██████████| 240/240 [00:01<00:00, 181.18it/s]\n"
     ]
    },
    {
     "name": "stdout",
     "output_type": "stream",
     "text": [
      "(val) -5.4613 (test) -7.2429 (test1) -10.2950 (test2) -3.0800 (test3) -9.9542 (test4) -3.1929 (test5) -4.4434 (test6) -7.5891 (test7) -5.7995 (test8) -5.2576 (test9) -10.4291\n",
      "\n"
     ]
    },
    {
     "name": "stderr",
     "output_type": "stream",
     "text": [
      "Epoch 118: 100%|██████████| 240/240 [00:01<00:00, 180.93it/s]\n"
     ]
    },
    {
     "name": "stdout",
     "output_type": "stream",
     "text": [
      "(val) -5.7900 (test) -11.4633 (test1) -23.1269 (test2) -3.4418 (test3) -10.9598 (test4) -3.6719 (test5) -4.9199 (test6) -8.6886 (test7) -11.9409 (test8) -5.1005 (test9) -15.2993\n",
      "\n"
     ]
    },
    {
     "name": "stderr",
     "output_type": "stream",
     "text": [
      "Epoch 119: 100%|██████████| 240/240 [00:01<00:00, 182.99it/s]\n"
     ]
    },
    {
     "name": "stdout",
     "output_type": "stream",
     "text": [
      "(val) -5.8278 (test) -10.2909 (test1) -17.7743 (test2) -2.5492 (test3) -11.0941 (test4) -3.5199 (test5) -3.8009 (test6) -7.2832 (test7) -9.5658 (test8) -4.8364 (test9) -17.6874\n",
      "\n"
     ]
    },
    {
     "name": "stderr",
     "output_type": "stream",
     "text": [
      "Epoch 120: 100%|██████████| 240/240 [00:01<00:00, 184.82it/s]\n"
     ]
    },
    {
     "name": "stdout",
     "output_type": "stream",
     "text": [
      "(val) -5.5507 (test) -9.4504 (test1) -18.2446 (test2) -4.8519 (test3) -2.5236 (test4) -2.9481 (test5) -4.0068 (test6) -6.4836 (test7) -13.3334 (test8) -4.0950 (test9) -13.4047\n",
      "\n"
     ]
    },
    {
     "name": "stderr",
     "output_type": "stream",
     "text": [
      "Epoch 121: 100%|██████████| 240/240 [00:01<00:00, 183.89it/s]\n"
     ]
    },
    {
     "name": "stdout",
     "output_type": "stream",
     "text": [
      "(val) -5.5555 (test) -7.5086 (test1) -10.3480 (test2) -5.1377 (test3) -4.7741 (test4) -5.5870 (test5) -4.7229 (test6) -7.9338 (test7) -9.0310 (test8) -6.0443 (test9) -10.7972\n",
      "\n"
     ]
    },
    {
     "name": "stderr",
     "output_type": "stream",
     "text": [
      "Epoch 122: 100%|██████████| 240/240 [00:01<00:00, 183.47it/s]\n"
     ]
    },
    {
     "name": "stdout",
     "output_type": "stream",
     "text": [
      "(val) -5.2593 (test) -7.9662 (test1) -6.3968 (test2) -6.4957 (test3) -7.6223 (test4) -4.4280 (test5) -4.0209 (test6) -8.7882 (test7) -10.5648 (test8) -5.5650 (test9) -13.2036\n",
      "\n"
     ]
    },
    {
     "name": "stderr",
     "output_type": "stream",
     "text": [
      "Epoch 123: 100%|██████████| 240/240 [00:01<00:00, 183.56it/s]\n"
     ]
    },
    {
     "name": "stdout",
     "output_type": "stream",
     "text": [
      "(val) -5.4936 (test) -8.6241 (test1) -6.7215 (test2) -4.0550 (test3) -9.9884 (test4) -3.1696 (test5) -3.7708 (test6) -8.0095 (test7) -6.6885 (test8) -7.5125 (test9) -17.8437\n",
      "\n"
     ]
    },
    {
     "name": "stderr",
     "output_type": "stream",
     "text": [
      "Epoch 124: 100%|██████████| 240/240 [00:01<00:00, 183.22it/s]\n"
     ]
    },
    {
     "name": "stdout",
     "output_type": "stream",
     "text": [
      "(val) -5.0368 (test) -7.4737 (test1) -4.5662 (test2) -4.6618 (test3) -8.6683 (test4) -3.6335 (test5) -2.6234 (test6) -6.3363 (test7) -8.5240 (test8) -5.4531 (test9) -14.9117\n",
      "\n"
     ]
    },
    {
     "name": "stderr",
     "output_type": "stream",
     "text": [
      "Epoch 125: 100%|██████████| 240/240 [00:01<00:00, 183.90it/s]\n"
     ]
    },
    {
     "name": "stdout",
     "output_type": "stream",
     "text": [
      "(val) -5.9174 (test) -8.8175 (test1) -8.7459 (test2) -2.3300 (test3) -8.7324 (test4) -4.0132 (test5) -4.7027 (test6) -8.1919 (test7) -7.5227 (test8) -5.1746 (test9) -18.7845\n",
      "\n"
     ]
    },
    {
     "name": "stderr",
     "output_type": "stream",
     "text": [
      "Epoch 126: 100%|██████████| 240/240 [00:01<00:00, 181.86it/s]\n"
     ]
    },
    {
     "name": "stdout",
     "output_type": "stream",
     "text": [
      "(val) -5.3226 (test) -6.5327 (test1) -7.8659 (test2) -4.4877 (test3) -5.1086 (test4) -4.1971 (test5) -2.8005 (test6) -6.9820 (test7) -6.7529 (test8) -5.7832 (test9) -11.0778\n",
      "\n"
     ]
    },
    {
     "name": "stderr",
     "output_type": "stream",
     "text": [
      "Epoch 127: 100%|██████████| 240/240 [00:01<00:00, 184.79it/s]\n"
     ]
    },
    {
     "name": "stdout",
     "output_type": "stream",
     "text": [
      "(val) -4.9030 (test) -8.0938 (test1) -6.7903 (test2) -1.5769 (test3) -14.8861 (test4) -4.1423 (test5) -3.5952 (test6) -9.2259 (test7) -4.1430 (test8) -6.6732 (test9) -11.9375\n",
      "\n"
     ]
    },
    {
     "name": "stderr",
     "output_type": "stream",
     "text": [
      "Epoch 128: 100%|██████████| 240/240 [00:01<00:00, 185.19it/s]\n"
     ]
    },
    {
     "name": "stdout",
     "output_type": "stream",
     "text": [
      "(val) -4.7429 (test) -6.7989 (test1) -8.9658 (test2) -2.5494 (test3) -7.3426 (test4) -3.9956 (test5) -3.4616 (test6) -6.6863 (test7) -6.4906 (test8) -6.0475 (test9) -11.1297\n",
      "\n"
     ]
    },
    {
     "name": "stderr",
     "output_type": "stream",
     "text": [
      "Epoch 129: 100%|██████████| 240/240 [00:01<00:00, 183.53it/s]\n"
     ]
    },
    {
     "name": "stdout",
     "output_type": "stream",
     "text": [
      "(val) -6.5634 (test) -7.0334 (test1) -9.7763 (test2) -4.7339 (test3) -6.9659 (test4) -3.6178 (test5) -4.5859 (test6) -9.3973 (test7) -7.2323 (test8) -7.7809 (test9) -6.5904\n",
      "\n"
     ]
    },
    {
     "name": "stderr",
     "output_type": "stream",
     "text": [
      "Epoch 130: 100%|██████████| 240/240 [00:01<00:00, 184.52it/s]\n"
     ]
    },
    {
     "name": "stdout",
     "output_type": "stream",
     "text": [
      "(val) -5.5611 (test) -6.1608 (test1) -9.1726 (test2) -4.3048 (test3) -4.1839 (test4) -3.9292 (test5) -3.9137 (test6) -6.3281 (test7) -4.4737 (test8) -6.9811 (test9) -9.0486\n",
      "\n"
     ]
    },
    {
     "name": "stderr",
     "output_type": "stream",
     "text": [
      "Epoch 131: 100%|██████████| 240/240 [00:01<00:00, 184.23it/s]\n"
     ]
    },
    {
     "name": "stdout",
     "output_type": "stream",
     "text": [
      "(val) -4.9951 (test) -6.9258 (test1) -8.6908 (test2) -2.3903 (test3) -5.5086 (test4) -4.5194 (test5) -3.5873 (test6) -6.5323 (test7) -8.8469 (test8) -4.9135 (test9) -11.9052\n",
      "\n"
     ]
    },
    {
     "name": "stderr",
     "output_type": "stream",
     "text": [
      "Epoch 132: 100%|██████████| 240/240 [00:01<00:00, 182.72it/s]\n"
     ]
    },
    {
     "name": "stdout",
     "output_type": "stream",
     "text": [
      "(val) -4.6015 (test) -6.0238 (test1) -8.7741 (test2) -5.1512 (test3) -2.7351 (test4) -3.0074 (test5) -3.2708 (test6) -6.5393 (test7) -5.2728 (test8) -5.9571 (test9) -9.4751\n",
      "🌸 New best epoch! 🌸\n",
      "\n"
     ]
    },
    {
     "name": "stderr",
     "output_type": "stream",
     "text": [
      "Epoch 133: 100%|██████████| 240/240 [00:01<00:00, 184.39it/s]\n"
     ]
    },
    {
     "name": "stdout",
     "output_type": "stream",
     "text": [
      "(val) -4.9744 (test) -7.2824 (test1) -13.5102 (test2) -5.9647 (test3) -4.1397 (test4) -2.8335 (test5) -3.7742 (test6) -6.3420 (test7) -7.7919 (test8) -3.8245 (test9) -10.2094\n",
      "\n"
     ]
    },
    {
     "name": "stderr",
     "output_type": "stream",
     "text": [
      "Epoch 134: 100%|██████████| 240/240 [00:01<00:00, 184.89it/s]\n"
     ]
    },
    {
     "name": "stdout",
     "output_type": "stream",
     "text": [
      "(val) -5.9435 (test) -8.5399 (test1) -11.5923 (test2) -4.6998 (test3) -5.5672 (test4) -3.7055 (test5) -5.4359 (test6) -6.6232 (test7) -10.5279 (test8) -4.1172 (test9) -15.9367\n",
      "\n"
     ]
    },
    {
     "name": "stderr",
     "output_type": "stream",
     "text": [
      "Epoch 135: 100%|██████████| 240/240 [00:01<00:00, 183.70it/s]\n"
     ]
    },
    {
     "name": "stdout",
     "output_type": "stream",
     "text": [
      "(val) -5.7997 (test) -6.5369 (test1) -9.8161 (test2) -2.3459 (test3) -4.3465 (test4) -4.7632 (test5) -5.3155 (test6) -8.6438 (test7) -4.1865 (test8) -3.5331 (test9) -10.4001\n",
      "\n"
     ]
    },
    {
     "name": "stderr",
     "output_type": "stream",
     "text": [
      "Epoch 136: 100%|██████████| 240/240 [00:01<00:00, 185.51it/s]\n"
     ]
    },
    {
     "name": "stdout",
     "output_type": "stream",
     "text": [
      "(val) -5.1530 (test) -7.2112 (test1) -6.8323 (test2) -2.9637 (test3) -3.4542 (test4) -4.0532 (test5) -4.0692 (test6) -7.4502 (test7) -10.0159 (test8) -5.8994 (test9) -13.3044\n",
      "\n"
     ]
    },
    {
     "name": "stderr",
     "output_type": "stream",
     "text": [
      "Epoch 137: 100%|██████████| 240/240 [00:01<00:00, 184.85it/s]\n"
     ]
    },
    {
     "name": "stdout",
     "output_type": "stream",
     "text": [
      "(val) -5.0182 (test) -7.3146 (test1) -8.5068 (test2) -2.3561 (test3) -2.8685 (test4) -2.8120 (test5) -3.3827 (test6) -8.4825 (test7) -7.7106 (test8) -4.9225 (test9) -14.8456\n",
      "\n"
     ]
    },
    {
     "name": "stderr",
     "output_type": "stream",
     "text": [
      "Epoch 138: 100%|██████████| 240/240 [00:01<00:00, 181.75it/s]\n"
     ]
    },
    {
     "name": "stdout",
     "output_type": "stream",
     "text": [
      "(val) -4.5531 (test) -6.5032 (test1) -5.5980 (test2) -3.5598 (test3) -2.9788 (test4) -2.6674 (test5) -3.0702 (test6) -6.8321 (test7) -7.1843 (test8) -6.0368 (test9) -13.2839\n",
      "\n"
     ]
    },
    {
     "name": "stderr",
     "output_type": "stream",
     "text": [
      "Epoch 139: 100%|██████████| 240/240 [00:01<00:00, 185.19it/s]\n"
     ]
    },
    {
     "name": "stdout",
     "output_type": "stream",
     "text": [
      "(val) -5.5653 (test) -7.0990 (test1) -9.8296 (test2) -3.7001 (test3) -3.1814 (test4) -3.2498 (test5) -3.3570 (test6) -7.6174 (test7) -11.5026 (test8) -5.9896 (test9) -9.2246\n",
      "\n"
     ]
    },
    {
     "name": "stderr",
     "output_type": "stream",
     "text": [
      "Epoch 140: 100%|██████████| 240/240 [00:01<00:00, 185.33it/s]\n"
     ]
    },
    {
     "name": "stdout",
     "output_type": "stream",
     "text": [
      "(val) -4.4285 (test) -6.9527 (test1) -9.6530 (test2) -2.6878 (test3) -4.4897 (test4) -4.1569 (test5) -4.0596 (test6) -6.2693 (test7) -7.4746 (test8) -6.1547 (test9) -12.1526\n",
      "\n"
     ]
    },
    {
     "name": "stderr",
     "output_type": "stream",
     "text": [
      "Epoch 141: 100%|██████████| 240/240 [00:01<00:00, 182.18it/s]\n"
     ]
    },
    {
     "name": "stdout",
     "output_type": "stream",
     "text": [
      "(val) -5.5108 (test) -7.8857 (test1) -9.5953 (test2) -4.5209 (test3) -3.3271 (test4) -4.0900 (test5) -3.5793 (test6) -5.2114 (test7) -9.4993 (test8) -7.2761 (test9) -15.3690\n",
      "\n"
     ]
    },
    {
     "name": "stderr",
     "output_type": "stream",
     "text": [
      "Epoch 142: 100%|██████████| 240/240 [00:01<00:00, 183.27it/s]\n"
     ]
    },
    {
     "name": "stdout",
     "output_type": "stream",
     "text": [
      "(val) -5.1010 (test) -6.0705 (test1) -8.1876 (test2) -2.7907 (test3) -4.7222 (test4) -4.1984 (test5) -3.8393 (test6) -7.6557 (test7) -5.3945 (test8) -4.1085 (test9) -9.8781\n",
      "\n"
     ]
    },
    {
     "name": "stderr",
     "output_type": "stream",
     "text": [
      "Epoch 143: 100%|██████████| 240/240 [00:01<00:00, 184.10it/s]\n"
     ]
    },
    {
     "name": "stdout",
     "output_type": "stream",
     "text": [
      "(val) -4.9348 (test) -7.3948 (test1) -7.2271 (test2) -2.5757 (test3) -5.0257 (test4) -4.0630 (test5) -3.3695 (test6) -9.3046 (test7) -6.7572 (test8) -4.6105 (test9) -15.0555\n",
      "\n"
     ]
    },
    {
     "name": "stderr",
     "output_type": "stream",
     "text": [
      "Epoch 144: 100%|██████████| 240/240 [00:01<00:00, 182.55it/s]\n"
     ]
    },
    {
     "name": "stdout",
     "output_type": "stream",
     "text": [
      "(val) -4.5016 (test) -6.8631 (test1) -9.0366 (test2) -3.1591 (test3) -6.9038 (test4) -2.3524 (test5) -3.1287 (test6) -7.3958 (test7) -5.9785 (test8) -5.0752 (test9) -12.3733\n",
      "\n"
     ]
    },
    {
     "name": "stderr",
     "output_type": "stream",
     "text": [
      "Epoch 145: 100%|██████████| 240/240 [00:01<00:00, 183.81it/s]\n"
     ]
    },
    {
     "name": "stdout",
     "output_type": "stream",
     "text": [
      "(val) -5.2766 (test) -9.2332 (test1) -14.9376 (test2) -2.8790 (test3) -4.7997 (test4) -3.9746 (test5) -3.1795 (test6) -6.3417 (test7) -9.8271 (test8) -7.0305 (test9) -17.3401\n",
      "\n"
     ]
    },
    {
     "name": "stderr",
     "output_type": "stream",
     "text": [
      "Epoch 146: 100%|██████████| 240/240 [00:01<00:00, 183.94it/s]\n"
     ]
    },
    {
     "name": "stdout",
     "output_type": "stream",
     "text": [
      "(val) -7.4667 (test) -9.4729 (test1) -6.6410 (test2) -6.8184 (test3) -13.6179 (test4) -3.0775 (test5) -3.4996 (test6) -8.4585 (test7) -8.8163 (test8) -15.4719 (test9) -11.0097\n",
      "\n"
     ]
    },
    {
     "name": "stderr",
     "output_type": "stream",
     "text": [
      "Epoch 147: 100%|██████████| 240/240 [00:01<00:00, 181.68it/s]\n"
     ]
    },
    {
     "name": "stdout",
     "output_type": "stream",
     "text": [
      "(val) -5.1992 (test) -6.1840 (test1) -6.9146 (test2) -3.0135 (test3) -7.2021 (test4) -2.3728 (test5) -3.6582 (test6) -7.1236 (test7) -4.1289 (test8) -5.0900 (test9) -11.0771\n",
      "\n"
     ]
    },
    {
     "name": "stderr",
     "output_type": "stream",
     "text": [
      "Epoch 148: 100%|██████████| 240/240 [00:01<00:00, 182.30it/s]\n"
     ]
    },
    {
     "name": "stdout",
     "output_type": "stream",
     "text": [
      "(val) -4.8281 (test) -7.3524 (test1) -5.8343 (test2) -3.1237 (test3) -6.1728 (test4) -3.4357 (test5) -3.3749 (test6) -7.2010 (test7) -10.1997 (test8) -4.9155 (test9) -14.1909\n",
      "\n"
     ]
    },
    {
     "name": "stderr",
     "output_type": "stream",
     "text": [
      "Epoch 149: 100%|██████████| 240/240 [00:01<00:00, 186.13it/s]\n"
     ]
    },
    {
     "name": "stdout",
     "output_type": "stream",
     "text": [
      "(val) -5.5157 (test) -7.9882 (test1) -8.2586 (test2) -3.9102 (test3) -5.8302 (test4) -3.8919 (test5) -4.4791 (test6) -9.7822 (test7) -6.7112 (test8) -9.7435 (test9) -13.6362\n",
      "\n"
     ]
    },
    {
     "name": "stderr",
     "output_type": "stream",
     "text": [
      "Epoch 150: 100%|██████████| 240/240 [00:01<00:00, 182.83it/s]\n"
     ]
    },
    {
     "name": "stdout",
     "output_type": "stream",
     "text": [
      "(val) -5.0567 (test) -7.9810 (test1) -8.6748 (test2) -3.7434 (test3) -10.8664 (test4) -3.6447 (test5) -3.5984 (test6) -6.9238 (test7) -8.7339 (test8) -5.2264 (test9) -13.7169\n",
      "\n"
     ]
    },
    {
     "name": "stderr",
     "output_type": "stream",
     "text": [
      "Epoch 151: 100%|██████████| 240/240 [00:01<00:00, 184.30it/s]\n"
     ]
    },
    {
     "name": "stdout",
     "output_type": "stream",
     "text": [
      "(val) -5.1943 (test) -7.2336 (test1) -10.4187 (test2) -3.0863 (test3) -5.1346 (test4) -2.7346 (test5) -4.6093 (test6) -8.6727 (test7) -8.3198 (test8) -7.6876 (test9) -9.7073\n",
      "\n"
     ]
    },
    {
     "name": "stderr",
     "output_type": "stream",
     "text": [
      "Epoch 152: 100%|██████████| 240/240 [00:01<00:00, 185.23it/s]\n"
     ]
    },
    {
     "name": "stdout",
     "output_type": "stream",
     "text": [
      "(val) -6.3527 (test) -7.9486 (test1) -11.0459 (test2) -5.1220 (test3) -5.9882 (test4) -5.5712 (test5) -5.2730 (test6) -8.0425 (test7) -7.3224 (test8) -6.2316 (test9) -12.9823\n",
      "\n"
     ]
    },
    {
     "name": "stderr",
     "output_type": "stream",
     "text": [
      "Epoch 153: 100%|██████████| 240/240 [00:01<00:00, 181.61it/s]\n"
     ]
    },
    {
     "name": "stdout",
     "output_type": "stream",
     "text": [
      "(val) -5.4340 (test) -7.0291 (test1) -10.4453 (test2) -2.3440 (test3) -8.3179 (test4) -4.5880 (test5) -4.5345 (test6) -6.9090 (test7) -5.9107 (test8) -5.5526 (test9) -10.2847\n",
      "\n"
     ]
    },
    {
     "name": "stderr",
     "output_type": "stream",
     "text": [
      "Epoch 154: 100%|██████████| 240/240 [00:01<00:00, 184.10it/s]\n"
     ]
    },
    {
     "name": "stdout",
     "output_type": "stream",
     "text": [
      "(val) -4.5143 (test) -8.0827 (test1) -13.8460 (test2) -2.8146 (test3) -3.0171 (test4) -3.8566 (test5) -3.4271 (test6) -6.3547 (test7) -3.3513 (test8) -7.6045 (test9) -15.5940\n",
      "\n"
     ]
    },
    {
     "name": "stderr",
     "output_type": "stream",
     "text": [
      "Epoch 155: 100%|██████████| 240/240 [00:01<00:00, 181.04it/s]\n"
     ]
    },
    {
     "name": "stdout",
     "output_type": "stream",
     "text": [
      "(val) -5.7167 (test) -7.7479 (test1) -16.1425 (test2) -1.4204 (test3) -5.1367 (test4) -4.3777 (test5) -4.8628 (test6) -8.6229 (test7) -5.6261 (test8) -6.1793 (test9) -8.0177\n",
      "\n"
     ]
    },
    {
     "name": "stderr",
     "output_type": "stream",
     "text": [
      "Epoch 156: 100%|██████████| 240/240 [00:01<00:00, 183.97it/s]\n"
     ]
    },
    {
     "name": "stdout",
     "output_type": "stream",
     "text": [
      "(val) -5.4396 (test) -7.5460 (test1) -12.6479 (test2) -2.0329 (test3) -4.5650 (test4) -2.3349 (test5) -3.4388 (test6) -6.6540 (test7) -9.7638 (test8) -5.5024 (test9) -11.8480\n",
      "\n"
     ]
    },
    {
     "name": "stderr",
     "output_type": "stream",
     "text": [
      "Epoch 157: 100%|██████████| 240/240 [00:01<00:00, 184.80it/s]\n"
     ]
    },
    {
     "name": "stdout",
     "output_type": "stream",
     "text": [
      "(val) -4.9382 (test) -7.6707 (test1) -12.9377 (test2) -4.9476 (test3) -7.5365 (test4) -3.2569 (test5) -2.7726 (test6) -5.4962 (test7) -6.6986 (test8) -5.9657 (test9) -12.3260\n",
      "\n"
     ]
    },
    {
     "name": "stderr",
     "output_type": "stream",
     "text": [
      "Epoch 158: 100%|██████████| 240/240 [00:01<00:00, 184.65it/s]\n"
     ]
    },
    {
     "name": "stdout",
     "output_type": "stream",
     "text": [
      "(val) -6.1633 (test) -9.2531 (test1) -9.4985 (test2) -1.6360 (test3) -9.1858 (test4) -3.5280 (test5) -3.9319 (test6) -7.1397 (test7) -7.8980 (test8) -6.8681 (test9) -20.1215\n",
      "\n"
     ]
    },
    {
     "name": "stderr",
     "output_type": "stream",
     "text": [
      "Epoch 159: 100%|██████████| 240/240 [00:01<00:00, 179.06it/s]\n"
     ]
    },
    {
     "name": "stdout",
     "output_type": "stream",
     "text": [
      "(val) -5.3150 (test) -7.4534 (test1) -11.5342 (test2) -2.4718 (test3) -2.9875 (test4) -3.9544 (test5) -4.5471 (test6) -5.8109 (test7) -10.7962 (test8) -4.8780 (test9) -11.8941\n",
      "\n"
     ]
    },
    {
     "name": "stderr",
     "output_type": "stream",
     "text": [
      "Epoch 160: 100%|██████████| 240/240 [00:01<00:00, 183.81it/s]\n"
     ]
    },
    {
     "name": "stdout",
     "output_type": "stream",
     "text": [
      "(val) -5.5392 (test) -7.9874 (test1) -10.1542 (test2) -2.8198 (test3) -6.8206 (test4) -3.3058 (test5) -3.5233 (test6) -7.0060 (test7) -3.8981 (test8) -4.5936 (test9) -17.5465\n",
      "\n"
     ]
    },
    {
     "name": "stderr",
     "output_type": "stream",
     "text": [
      "Epoch 161: 100%|██████████| 240/240 [00:01<00:00, 184.85it/s]\n"
     ]
    },
    {
     "name": "stdout",
     "output_type": "stream",
     "text": [
      "(val) -5.3097 (test) -8.4902 (test1) -8.9755 (test2) -2.7289 (test3) -5.7894 (test4) -3.5033 (test5) -4.6956 (test6) -7.7321 (test7) -6.6336 (test8) -4.8206 (test9) -19.1280\n",
      "\n"
     ]
    },
    {
     "name": "stderr",
     "output_type": "stream",
     "text": [
      "Epoch 162: 100%|██████████| 240/240 [00:01<00:00, 181.59it/s]\n"
     ]
    },
    {
     "name": "stdout",
     "output_type": "stream",
     "text": [
      "(val) -5.0539 (test) -7.7346 (test1) -9.2257 (test2) -3.0529 (test3) -5.9025 (test4) -3.5802 (test5) -3.1487 (test6) -7.2777 (test7) -9.2033 (test8) -4.5116 (test9) -15.1128\n",
      "\n"
     ]
    },
    {
     "name": "stderr",
     "output_type": "stream",
     "text": [
      "Epoch 163: 100%|██████████| 240/240 [00:01<00:00, 182.85it/s]\n"
     ]
    },
    {
     "name": "stdout",
     "output_type": "stream",
     "text": [
      "(val) -5.2334 (test) -6.8194 (test1) -11.8711 (test2) -2.6809 (test3) -3.0532 (test4) -4.7324 (test5) -3.9800 (test6) -5.5408 (test7) -6.1941 (test8) -5.5007 (test9) -11.1153\n",
      "\n"
     ]
    },
    {
     "name": "stderr",
     "output_type": "stream",
     "text": [
      "Epoch 164: 100%|██████████| 240/240 [00:01<00:00, 182.78it/s]\n"
     ]
    },
    {
     "name": "stdout",
     "output_type": "stream",
     "text": [
      "(val) -5.5617 (test) -7.3257 (test1) -9.4155 (test2) -2.5767 (test3) -7.6196 (test4) -3.7563 (test5) -4.7392 (test6) -6.9321 (test7) -9.5896 (test8) -6.6072 (test9) -10.4598\n",
      "\n"
     ]
    },
    {
     "name": "stderr",
     "output_type": "stream",
     "text": [
      "Epoch 165: 100%|██████████| 240/240 [00:01<00:00, 180.85it/s]\n"
     ]
    },
    {
     "name": "stdout",
     "output_type": "stream",
     "text": [
      "(val) -5.7423 (test) -7.4143 (test1) -10.1211 (test2) -2.9319 (test3) -3.2164 (test4) -2.8680 (test5) -4.0831 (test6) -10.4297 (test7) -5.2374 (test8) -6.2247 (test9) -13.1726\n",
      "\n"
     ]
    },
    {
     "name": "stderr",
     "output_type": "stream",
     "text": [
      "Epoch 166: 100%|██████████| 240/240 [00:01<00:00, 184.67it/s]\n"
     ]
    },
    {
     "name": "stdout",
     "output_type": "stream",
     "text": [
      "(val) -5.1030 (test) -6.9390 (test1) -5.4346 (test2) -3.6773 (test3) -3.2914 (test4) -5.0192 (test5) -2.7888 (test6) -9.2717 (test7) -5.7071 (test8) -7.8977 (test9) -12.8677\n",
      "\n"
     ]
    },
    {
     "name": "stderr",
     "output_type": "stream",
     "text": [
      "Epoch 167: 100%|██████████| 240/240 [00:01<00:00, 185.75it/s]\n"
     ]
    },
    {
     "name": "stdout",
     "output_type": "stream",
     "text": [
      "(val) -5.6040 (test) -5.5873 (test1) -4.8693 (test2) -3.2087 (test3) -4.0945 (test4) -3.1991 (test5) -3.0888 (test6) -7.2288 (test7) -6.4893 (test8) -7.4779 (test9) -7.7543\n",
      "\n"
     ]
    },
    {
     "name": "stderr",
     "output_type": "stream",
     "text": [
      "Epoch 168: 100%|██████████| 240/240 [00:01<00:00, 182.83it/s]\n"
     ]
    },
    {
     "name": "stdout",
     "output_type": "stream",
     "text": [
      "(val) -4.8867 (test) -5.7732 (test1) -6.6333 (test2) -2.8782 (test3) -4.7334 (test4) -4.6116 (test5) -2.9613 (test6) -6.0375 (test7) -4.2537 (test8) -4.8739 (test9) -10.8142\n",
      "\n"
     ]
    },
    {
     "name": "stderr",
     "output_type": "stream",
     "text": [
      "Epoch 169: 100%|██████████| 240/240 [00:01<00:00, 183.15it/s]\n"
     ]
    },
    {
     "name": "stdout",
     "output_type": "stream",
     "text": [
      "(val) -4.9062 (test) -7.0672 (test1) -8.1999 (test2) -4.9728 (test3) -4.2745 (test4) -3.1316 (test5) -2.8128 (test6) -7.1853 (test7) -7.4759 (test8) -3.4359 (test9) -14.2207\n",
      "\n"
     ]
    },
    {
     "name": "stderr",
     "output_type": "stream",
     "text": [
      "Epoch 170: 100%|██████████| 240/240 [00:01<00:00, 183.98it/s]\n"
     ]
    },
    {
     "name": "stdout",
     "output_type": "stream",
     "text": [
      "(val) -6.8436 (test) -8.1731 (test1) -6.1799 (test2) -2.1968 (test3) -4.9947 (test4) -2.6879 (test5) -4.7151 (test6) -7.3918 (test7) -12.8475 (test8) -5.2087 (test9) -16.0295\n",
      "\n"
     ]
    },
    {
     "name": "stderr",
     "output_type": "stream",
     "text": [
      "Epoch 171: 100%|██████████| 240/240 [00:01<00:00, 183.33it/s]\n"
     ]
    },
    {
     "name": "stdout",
     "output_type": "stream",
     "text": [
      "(val) -5.3854 (test) -7.7189 (test1) -8.6540 (test2) -5.2940 (test3) -2.8360 (test4) -4.1043 (test5) -4.4706 (test6) -7.8772 (test7) -10.2411 (test8) -4.6403 (test9) -14.1412\n",
      "\n"
     ]
    },
    {
     "name": "stderr",
     "output_type": "stream",
     "text": [
      "Epoch 172: 100%|██████████| 240/240 [00:01<00:00, 182.15it/s]\n"
     ]
    },
    {
     "name": "stdout",
     "output_type": "stream",
     "text": [
      "(val) -4.9650 (test) -7.3807 (test1) -8.8215 (test2) -2.6416 (test3) -4.5613 (test4) -4.3416 (test5) -4.0291 (test6) -6.7403 (test7) -9.2833 (test8) -4.7147 (test9) -13.9907\n",
      "\n"
     ]
    },
    {
     "name": "stderr",
     "output_type": "stream",
     "text": [
      "Epoch 173: 100%|██████████| 240/240 [00:01<00:00, 184.24it/s]\n"
     ]
    },
    {
     "name": "stdout",
     "output_type": "stream",
     "text": [
      "(val) -5.7848 (test) -6.0144 (test1) -7.9687 (test2) -2.8511 (test3) -3.4326 (test4) -4.2635 (test5) -3.9938 (test6) -6.0629 (test7) -6.9793 (test8) -4.4176 (test9) -10.1503\n",
      "\n"
     ]
    },
    {
     "name": "stderr",
     "output_type": "stream",
     "text": [
      "Epoch 174: 100%|██████████| 240/240 [00:01<00:00, 182.93it/s]\n"
     ]
    },
    {
     "name": "stdout",
     "output_type": "stream",
     "text": [
      "(val) -5.2406 (test) -6.6940 (test1) -7.4656 (test2) -2.7705 (test3) -6.3199 (test4) -3.5462 (test5) -4.1950 (test6) -6.4481 (test7) -8.5881 (test8) -5.2010 (test9) -11.2862\n",
      "\n"
     ]
    },
    {
     "name": "stderr",
     "output_type": "stream",
     "text": [
      "Epoch 175: 100%|██████████| 240/240 [00:01<00:00, 183.96it/s]\n"
     ]
    },
    {
     "name": "stdout",
     "output_type": "stream",
     "text": [
      "(val) -5.0813 (test) -6.3708 (test1) -10.0741 (test2) -2.5114 (test3) -4.9542 (test4) -4.2362 (test5) -5.0560 (test6) -7.1923 (test7) -6.8056 (test8) -6.3248 (test9) -7.1682\n",
      "\n"
     ]
    },
    {
     "name": "stderr",
     "output_type": "stream",
     "text": [
      "Epoch 176: 100%|██████████| 240/240 [00:01<00:00, 185.28it/s]\n"
     ]
    },
    {
     "name": "stdout",
     "output_type": "stream",
     "text": [
      "(val) -5.8737 (test) -7.6711 (test1) -10.3105 (test2) -3.2434 (test3) -6.4540 (test4) -3.0032 (test5) -2.5922 (test6) -7.7385 (test7) -7.3999 (test8) -5.4625 (test9) -14.5227\n",
      "\n"
     ]
    },
    {
     "name": "stderr",
     "output_type": "stream",
     "text": [
      "Epoch 177: 100%|██████████| 240/240 [00:01<00:00, 182.81it/s]\n"
     ]
    },
    {
     "name": "stdout",
     "output_type": "stream",
     "text": [
      "(val) -5.3245 (test) -8.0710 (test1) -10.7440 (test2) -2.9497 (test3) -5.2061 (test4) -4.5622 (test5) -5.2023 (test6) -7.4578 (test7) -10.2633 (test8) -5.8264 (test9) -13.8657\n",
      "\n"
     ]
    },
    {
     "name": "stderr",
     "output_type": "stream",
     "text": [
      "Epoch 178: 100%|██████████| 240/240 [00:01<00:00, 184.81it/s]\n"
     ]
    },
    {
     "name": "stdout",
     "output_type": "stream",
     "text": [
      "(val) -5.7171 (test) -8.8732 (test1) -9.0964 (test2) -5.0474 (test3) -3.7951 (test4) -3.6888 (test5) -3.1393 (test6) -5.8024 (test7) -9.1049 (test8) -9.7039 (test9) -18.7557\n",
      "\n"
     ]
    },
    {
     "name": "stderr",
     "output_type": "stream",
     "text": [
      "Epoch 179: 100%|██████████| 240/240 [00:01<00:00, 184.75it/s]\n"
     ]
    },
    {
     "name": "stdout",
     "output_type": "stream",
     "text": [
      "(val) -5.1537 (test) -8.0701 (test1) -8.4448 (test2) -2.9092 (test3) -8.3000 (test4) -3.5996 (test5) -3.7157 (test6) -8.1418 (test7) -6.7355 (test8) -5.9351 (test9) -16.2426\n",
      "\n"
     ]
    },
    {
     "name": "stderr",
     "output_type": "stream",
     "text": [
      "Epoch 180: 100%|██████████| 240/240 [00:01<00:00, 181.00it/s]\n"
     ]
    },
    {
     "name": "stdout",
     "output_type": "stream",
     "text": [
      "(val) -4.7275 (test) -7.4301 (test1) -8.8329 (test2) -1.9948 (test3) -5.7231 (test4) -3.8824 (test5) -3.8621 (test6) -8.1250 (test7) -6.3571 (test8) -5.3182 (test9) -14.7448\n",
      "\n"
     ]
    },
    {
     "name": "stderr",
     "output_type": "stream",
     "text": [
      "Epoch 181: 100%|██████████| 240/240 [00:01<00:00, 186.93it/s]\n"
     ]
    },
    {
     "name": "stdout",
     "output_type": "stream",
     "text": [
      "(val) -4.7018 (test) -7.7073 (test1) -8.2758 (test2) -3.5152 (test3) -7.0035 (test4) -3.4906 (test5) -3.7266 (test6) -7.1710 (test7) -5.7632 (test8) -6.8428 (test9) -15.7224\n",
      "\n"
     ]
    },
    {
     "name": "stderr",
     "output_type": "stream",
     "text": [
      "Epoch 182: 100%|██████████| 240/240 [00:01<00:00, 184.81it/s]\n"
     ]
    },
    {
     "name": "stdout",
     "output_type": "stream",
     "text": [
      "(val) -5.5392 (test) -7.8885 (test1) -8.6604 (test2) -3.7396 (test3) -5.0039 (test4) -3.0886 (test5) -3.5649 (test6) -7.3719 (test7) -10.0497 (test8) -7.3712 (test9) -14.6324\n",
      "\n"
     ]
    },
    {
     "name": "stderr",
     "output_type": "stream",
     "text": [
      "Epoch 183: 100%|██████████| 240/240 [00:01<00:00, 180.92it/s]\n"
     ]
    },
    {
     "name": "stdout",
     "output_type": "stream",
     "text": [
      "(val) -4.9518 (test) -7.7600 (test1) -9.7812 (test2) -2.9723 (test3) -5.6403 (test4) -4.0070 (test5) -3.4922 (test6) -6.9779 (test7) -7.9506 (test8) -3.7754 (test9) -15.8502\n",
      "\n"
     ]
    },
    {
     "name": "stderr",
     "output_type": "stream",
     "text": [
      "Epoch 184: 100%|██████████| 240/240 [00:01<00:00, 174.06it/s]\n"
     ]
    },
    {
     "name": "stdout",
     "output_type": "stream",
     "text": [
      "(val) -4.9352 (test) -7.2865 (test1) -10.1958 (test2) -3.5012 (test3) -5.5051 (test4) -3.8895 (test5) -4.4965 (test6) -5.4217 (test7) -8.4197 (test8) -4.9704 (test9) -13.0758\n",
      "\n"
     ]
    },
    {
     "name": "stderr",
     "output_type": "stream",
     "text": [
      "Epoch 185: 100%|██████████| 240/240 [00:01<00:00, 182.16it/s]\n"
     ]
    },
    {
     "name": "stdout",
     "output_type": "stream",
     "text": [
      "(val) -4.7997 (test) -7.2488 (test1) -10.3409 (test2) -4.1504 (test3) -3.9499 (test4) -3.3317 (test5) -3.3688 (test6) -8.6866 (test7) -8.1738 (test8) -4.5127 (test9) -12.1682\n",
      "\n"
     ]
    },
    {
     "name": "stderr",
     "output_type": "stream",
     "text": [
      "Epoch 186: 100%|██████████| 240/240 [00:01<00:00, 180.49it/s]\n"
     ]
    },
    {
     "name": "stdout",
     "output_type": "stream",
     "text": [
      "(val) -5.8692 (test) -8.1763 (test1) -10.5000 (test2) -2.4143 (test3) -3.1242 (test4) -4.2452 (test5) -3.1806 (test6) -7.3398 (test7) -8.6917 (test8) -8.3776 (test9) -15.7509\n",
      "\n"
     ]
    },
    {
     "name": "stderr",
     "output_type": "stream",
     "text": [
      "Epoch 187: 100%|██████████| 240/240 [00:01<00:00, 182.81it/s]\n"
     ]
    },
    {
     "name": "stdout",
     "output_type": "stream",
     "text": [
      "(val) -5.3380 (test) -7.9999 (test1) -8.3376 (test2) -1.4950 (test3) -7.4781 (test4) -2.7230 (test5) -3.6546 (test6) -9.5272 (test7) -8.6330 (test8) -4.2770 (test9) -15.6192\n",
      "\n"
     ]
    },
    {
     "name": "stderr",
     "output_type": "stream",
     "text": [
      "Epoch 188: 100%|██████████| 240/240 [00:01<00:00, 185.11it/s]\n"
     ]
    },
    {
     "name": "stdout",
     "output_type": "stream",
     "text": [
      "(val) -4.6737 (test) -6.8214 (test1) -8.1647 (test2) -1.9303 (test3) -4.2973 (test4) -2.7785 (test5) -3.9511 (test6) -8.5222 (test7) -7.1099 (test8) -5.7293 (test9) -12.2716\n",
      "\n"
     ]
    },
    {
     "name": "stderr",
     "output_type": "stream",
     "text": [
      "Epoch 189: 100%|██████████| 240/240 [00:01<00:00, 182.17it/s]\n"
     ]
    },
    {
     "name": "stdout",
     "output_type": "stream",
     "text": [
      "(val) -4.8375 (test) -7.2365 (test1) -11.6458 (test2) -3.3415 (test3) -4.2098 (test4) -4.0291 (test5) -3.1851 (test6) -5.6270 (test7) -10.4311 (test8) -4.1435 (test9) -11.0802\n",
      "\n"
     ]
    },
    {
     "name": "stderr",
     "output_type": "stream",
     "text": [
      "Epoch 190: 100%|██████████| 240/240 [00:01<00:00, 183.80it/s]\n"
     ]
    },
    {
     "name": "stdout",
     "output_type": "stream",
     "text": [
      "(val) -5.4599 (test) -5.2790 (test1) -8.0072 (test2) -3.6427 (test3) -2.3371 (test4) -2.9030 (test5) -4.0038 (test6) -6.1054 (test7) -4.9349 (test8) -4.9547 (test9) -7.5718\n",
      "\n"
     ]
    },
    {
     "name": "stderr",
     "output_type": "stream",
     "text": [
      "Epoch 191: 100%|██████████| 240/240 [00:01<00:00, 183.22it/s]\n"
     ]
    },
    {
     "name": "stdout",
     "output_type": "stream",
     "text": [
      "(val) -5.0762 (test) -6.5072 (test1) -10.9230 (test2) -3.5807 (test3) -2.0400 (test4) -3.8457 (test5) -4.6965 (test6) -8.2902 (test7) -6.4337 (test8) -4.3905 (test9) -8.8630\n",
      "\n"
     ]
    },
    {
     "name": "stderr",
     "output_type": "stream",
     "text": [
      "Epoch 192: 100%|██████████| 240/240 [00:01<00:00, 183.76it/s]\n"
     ]
    },
    {
     "name": "stdout",
     "output_type": "stream",
     "text": [
      "(val) -4.7536 (test) -7.2672 (test1) -8.9609 (test2) -3.6225 (test3) -2.5466 (test4) -4.1929 (test5) -4.0452 (test6) -7.2024 (test7) -4.8280 (test8) -4.8459 (test9) -15.5819\n",
      "\n"
     ]
    },
    {
     "name": "stderr",
     "output_type": "stream",
     "text": [
      "Epoch 193: 100%|██████████| 240/240 [00:01<00:00, 182.94it/s]\n"
     ]
    },
    {
     "name": "stdout",
     "output_type": "stream",
     "text": [
      "(val) -5.0100 (test) -7.2103 (test1) -8.0886 (test2) -2.8719 (test3) -4.1975 (test4) -4.4472 (test5) -5.3694 (test6) -7.5777 (test7) -5.9905 (test8) -5.5330 (test9) -14.2855\n",
      "\n"
     ]
    },
    {
     "name": "stderr",
     "output_type": "stream",
     "text": [
      "Epoch 194: 100%|██████████| 240/240 [00:01<00:00, 183.24it/s]\n"
     ]
    },
    {
     "name": "stdout",
     "output_type": "stream",
     "text": [
      "(val) -5.6271 (test) -7.4931 (test1) -8.0532 (test2) -2.7424 (test3) -3.9172 (test4) -3.8303 (test5) -2.5190 (test6) -6.5517 (test7) -6.0776 (test8) -5.5054 (test9) -16.9238\n",
      "\n"
     ]
    },
    {
     "name": "stderr",
     "output_type": "stream",
     "text": [
      "Epoch 195: 100%|██████████| 240/240 [00:01<00:00, 183.83it/s]\n"
     ]
    },
    {
     "name": "stdout",
     "output_type": "stream",
     "text": [
      "(val) -5.3551 (test) -7.1208 (test1) -9.7026 (test2) -2.5604 (test3) -2.6606 (test4) -4.6312 (test5) -3.9933 (test6) -6.7758 (test7) -6.7824 (test8) -4.5942 (test9) -14.0771\n",
      "\n"
     ]
    },
    {
     "name": "stderr",
     "output_type": "stream",
     "text": [
      "Epoch 196: 100%|██████████| 240/240 [00:01<00:00, 184.20it/s]\n"
     ]
    },
    {
     "name": "stdout",
     "output_type": "stream",
     "text": [
      "(val) -5.9102 (test) -7.4512 (test1) -7.7157 (test2) -3.0572 (test3) -3.9410 (test4) -4.6303 (test5) -4.7978 (test6) -6.6728 (test7) -9.8096 (test8) -4.5797 (test9) -14.4597\n",
      "\n"
     ]
    },
    {
     "name": "stderr",
     "output_type": "stream",
     "text": [
      "Epoch 197: 100%|██████████| 240/240 [00:01<00:00, 184.56it/s]\n"
     ]
    },
    {
     "name": "stdout",
     "output_type": "stream",
     "text": [
      "(val) -5.0743 (test) -8.1485 (test1) -8.5527 (test2) -3.1096 (test3) -7.4150 (test4) -3.8380 (test5) -3.9064 (test6) -8.0841 (test7) -8.7576 (test8) -3.4861 (test9) -16.6010\n",
      "\n"
     ]
    },
    {
     "name": "stderr",
     "output_type": "stream",
     "text": [
      "Epoch 198: 100%|██████████| 240/240 [00:01<00:00, 184.56it/s]\n"
     ]
    },
    {
     "name": "stdout",
     "output_type": "stream",
     "text": [
      "(val) -5.3264 (test) -5.4989 (test1) -7.1307 (test2) -4.7922 (test3) -3.5167 (test4) -3.9789 (test5) -3.8796 (test6) -7.4250 (test7) -4.9727 (test8) -3.4427 (test9) -7.9601\n",
      "\n"
     ]
    },
    {
     "name": "stderr",
     "output_type": "stream",
     "text": [
      "Epoch 199: 100%|██████████| 240/240 [00:01<00:00, 186.88it/s]\n"
     ]
    },
    {
     "name": "stdout",
     "output_type": "stream",
     "text": [
      "(val) -4.5808 (test) -6.8126 (test1) -6.4523 (test2) -4.2267 (test3) -4.1297 (test4) -3.4677 (test5) -3.2108 (test6) -6.6150 (test7) -6.8299 (test8) -6.2179 (test9) -13.7751\n",
      "\n"
     ]
    },
    {
     "name": "stderr",
     "output_type": "stream",
     "text": [
      "Epoch 200: 100%|██████████| 240/240 [00:01<00:00, 180.54it/s]\n"
     ]
    },
    {
     "name": "stdout",
     "output_type": "stream",
     "text": [
      "(val) -4.9306 (test) -7.5297 (test1) -8.7200 (test2) -2.1820 (test3) -6.5920 (test4) -3.9977 (test5) -3.7207 (test6) -5.1348 (test7) -7.6400 (test8) -4.9372 (test9) -15.7185\n",
      "\n"
     ]
    },
    {
     "name": "stderr",
     "output_type": "stream",
     "text": [
      "Epoch 201: 100%|██████████| 240/240 [00:01<00:00, 182.04it/s]\n"
     ]
    },
    {
     "name": "stdout",
     "output_type": "stream",
     "text": [
      "(val) -4.4079 (test) -7.9073 (test1) -8.8456 (test2) -1.8630 (test3) -7.9604 (test4) -3.5583 (test5) -3.2511 (test6) -6.7550 (test7) -6.8729 (test8) -4.7372 (test9) -16.7063\n",
      "\n"
     ]
    },
    {
     "name": "stderr",
     "output_type": "stream",
     "text": [
      "Epoch 202: 100%|██████████| 240/240 [00:01<00:00, 184.78it/s]\n"
     ]
    },
    {
     "name": "stdout",
     "output_type": "stream",
     "text": [
      "(val) -5.5796 (test) -7.8905 (test1) -7.5122 (test2) -2.0013 (test3) -7.4108 (test4) -5.6089 (test5) -4.8625 (test6) -7.1783 (test7) -6.7142 (test8) -5.6841 (test9) -16.1545\n",
      "\n"
     ]
    },
    {
     "name": "stderr",
     "output_type": "stream",
     "text": [
      "Epoch 203: 100%|██████████| 240/240 [00:01<00:00, 184.04it/s]\n"
     ]
    },
    {
     "name": "stdout",
     "output_type": "stream",
     "text": [
      "(val) -4.2845 (test) -8.1225 (test1) -7.4891 (test2) -2.9024 (test3) -9.9841 (test4) -3.4994 (test5) -3.5237 (test6) -7.7778 (test7) -6.3259 (test8) -5.5726 (test9) -16.5334\n",
      "\n"
     ]
    },
    {
     "name": "stderr",
     "output_type": "stream",
     "text": [
      "Epoch 204: 100%|██████████| 240/240 [00:01<00:00, 182.18it/s]\n"
     ]
    },
    {
     "name": "stdout",
     "output_type": "stream",
     "text": [
      "(val) -5.0353 (test) -6.3465 (test1) -7.3388 (test2) -3.4671 (test3) -4.9599 (test4) -4.3192 (test5) -4.5101 (test6) -8.0202 (test7) -8.4565 (test8) -4.2540 (test9) -8.8935\n",
      "\n"
     ]
    },
    {
     "name": "stderr",
     "output_type": "stream",
     "text": [
      "Epoch 205: 100%|██████████| 240/240 [00:01<00:00, 183.48it/s]\n"
     ]
    },
    {
     "name": "stdout",
     "output_type": "stream",
     "text": [
      "(val) -5.5798 (test) -8.5914 (test1) -7.2097 (test2) -2.7395 (test3) -2.3769 (test4) -3.1843 (test5) -3.2510 (test6) -8.0040 (test7) -3.7681 (test8) -8.4106 (test9) -20.7236\n",
      "\n"
     ]
    },
    {
     "name": "stderr",
     "output_type": "stream",
     "text": [
      "Epoch 206: 100%|██████████| 240/240 [00:01<00:00, 183.42it/s]\n"
     ]
    },
    {
     "name": "stdout",
     "output_type": "stream",
     "text": [
      "(val) -4.7834 (test) -7.2586 (test1) -8.0299 (test2) -4.6631 (test3) -3.9964 (test4) -2.9615 (test5) -4.0060 (test6) -9.8472 (test7) -5.9267 (test8) -6.4524 (test9) -13.1698\n",
      "\n"
     ]
    },
    {
     "name": "stderr",
     "output_type": "stream",
     "text": [
      "Epoch 207: 100%|██████████| 240/240 [00:01<00:00, 182.87it/s]\n"
     ]
    },
    {
     "name": "stdout",
     "output_type": "stream",
     "text": [
      "(val) -5.4595 (test) -7.5856 (test1) -6.6242 (test2) -2.4947 (test3) -4.3541 (test4) -4.1062 (test5) -5.6012 (test6) -12.3844 (test7) -7.4902 (test8) -6.5760 (test9) -12.1596\n",
      "\n"
     ]
    },
    {
     "name": "stderr",
     "output_type": "stream",
     "text": [
      "Epoch 208: 100%|██████████| 240/240 [00:01<00:00, 181.87it/s]\n"
     ]
    },
    {
     "name": "stdout",
     "output_type": "stream",
     "text": [
      "(val) -5.2012 (test) -8.4017 (test1) -9.6226 (test2) -2.8339 (test3) -5.7185 (test4) -5.9742 (test5) -4.1034 (test6) -7.3395 (test7) -7.3864 (test8) -6.6892 (test9) -17.2123\n",
      "\n"
     ]
    },
    {
     "name": "stderr",
     "output_type": "stream",
     "text": [
      "Epoch 209: 100%|██████████| 240/240 [00:01<00:00, 183.57it/s]\n"
     ]
    },
    {
     "name": "stdout",
     "output_type": "stream",
     "text": [
      "(val) -5.0362 (test) -7.5472 (test1) -8.3950 (test2) -3.7624 (test3) -5.5280 (test4) -4.8269 (test5) -5.9962 (test6) -8.9438 (test7) -6.2274 (test8) -6.2250 (test9) -13.4414\n",
      "\n"
     ]
    },
    {
     "name": "stderr",
     "output_type": "stream",
     "text": [
      "Epoch 210: 100%|██████████| 240/240 [00:01<00:00, 181.64it/s]\n"
     ]
    },
    {
     "name": "stdout",
     "output_type": "stream",
     "text": [
      "(val) -4.8326 (test) -7.4518 (test1) -7.8149 (test2) -2.1468 (test3) -4.8989 (test4) -4.0938 (test5) -3.2077 (test6) -6.7376 (test7) -6.1203 (test8) -6.6748 (test9) -15.9885\n",
      "\n"
     ]
    },
    {
     "name": "stderr",
     "output_type": "stream",
     "text": [
      "Epoch 211: 100%|██████████| 240/240 [00:01<00:00, 180.69it/s]\n"
     ]
    },
    {
     "name": "stdout",
     "output_type": "stream",
     "text": [
      "(val) -5.4676 (test) -6.4535 (test1) -8.4385 (test2) -2.4800 (test3) -6.3303 (test4) -2.4877 (test5) -3.2202 (test6) -7.2201 (test7) -5.4239 (test8) -6.9998 (test9) -10.5020\n",
      "\n"
     ]
    },
    {
     "name": "stderr",
     "output_type": "stream",
     "text": [
      "Epoch 212: 100%|██████████| 240/240 [00:01<00:00, 179.86it/s]\n"
     ]
    },
    {
     "name": "stdout",
     "output_type": "stream",
     "text": [
      "(val) -5.2678 (test) -7.2106 (test1) -8.2934 (test2) -2.1840 (test3) -4.7365 (test4) -3.3403 (test5) -3.0303 (test6) -8.3814 (test7) -5.8139 (test8) -7.0588 (test9) -14.0616\n",
      "\n"
     ]
    },
    {
     "name": "stderr",
     "output_type": "stream",
     "text": [
      "Epoch 213: 100%|██████████| 240/240 [00:01<00:00, 181.88it/s]\n"
     ]
    },
    {
     "name": "stdout",
     "output_type": "stream",
     "text": [
      "(val) -5.3901 (test) -7.2506 (test1) -8.4508 (test2) -4.9124 (test3) -3.9783 (test4) -3.2818 (test5) -4.1040 (test6) -9.3962 (test7) -5.0194 (test8) -5.8442 (test9) -13.6570\n",
      "\n"
     ]
    },
    {
     "name": "stderr",
     "output_type": "stream",
     "text": [
      "Epoch 214: 100%|██████████| 240/240 [00:01<00:00, 180.94it/s]\n"
     ]
    },
    {
     "name": "stdout",
     "output_type": "stream",
     "text": [
      "(val) -5.5900 (test) -8.3470 (test1) -10.4605 (test2) -3.2665 (test3) -9.2191 (test4) -3.6112 (test5) -4.0266 (test6) -5.7799 (test7) -10.7137 (test8) -8.3791 (test9) -13.2027\n",
      "\n"
     ]
    },
    {
     "name": "stderr",
     "output_type": "stream",
     "text": [
      "Epoch 215: 100%|██████████| 240/240 [00:01<00:00, 182.30it/s]\n"
     ]
    },
    {
     "name": "stdout",
     "output_type": "stream",
     "text": [
      "(val) -5.7696 (test) -8.4995 (test1) -6.0306 (test2) -4.0509 (test3) -7.3155 (test4) -3.1192 (test5) -3.9669 (test6) -6.7800 (test7) -11.5875 (test8) -8.6081 (test9) -16.2503\n",
      "\n"
     ]
    },
    {
     "name": "stderr",
     "output_type": "stream",
     "text": [
      "Epoch 216: 100%|██████████| 240/240 [00:01<00:00, 180.89it/s]\n"
     ]
    },
    {
     "name": "stdout",
     "output_type": "stream",
     "text": [
      "(val) -6.3771 (test) -9.9205 (test1) -10.9022 (test2) -5.2363 (test3) -3.7752 (test4) -3.0391 (test5) -4.1455 (test6) -7.7357 (test7) -10.6110 (test8) -8.6077 (test9) -21.2665\n",
      "\n"
     ]
    },
    {
     "name": "stderr",
     "output_type": "stream",
     "text": [
      "Epoch 217: 100%|██████████| 240/240 [00:01<00:00, 184.24it/s]\n"
     ]
    },
    {
     "name": "stdout",
     "output_type": "stream",
     "text": [
      "(val) -5.6732 (test) -9.4409 (test1) -9.4148 (test2) -1.6023 (test3) -6.9937 (test4) -3.4687 (test5) -4.5527 (test6) -11.2572 (test7) -7.5235 (test8) -7.6118 (test9) -19.6984\n",
      "\n"
     ]
    },
    {
     "name": "stderr",
     "output_type": "stream",
     "text": [
      "Epoch 218: 100%|██████████| 240/240 [00:01<00:00, 182.71it/s]\n"
     ]
    },
    {
     "name": "stdout",
     "output_type": "stream",
     "text": [
      "(val) -4.7253 (test) -7.8175 (test1) -7.8043 (test2) -2.3925 (test3) -7.7253 (test4) -2.5635 (test5) -3.6051 (test6) -6.8252 (test7) -8.1508 (test8) -5.4948 (test9) -16.1533\n",
      "\n"
     ]
    },
    {
     "name": "stderr",
     "output_type": "stream",
     "text": [
      "Epoch 219: 100%|██████████| 240/240 [00:01<00:00, 179.87it/s]\n"
     ]
    },
    {
     "name": "stdout",
     "output_type": "stream",
     "text": [
      "(val) -5.2832 (test) -7.5258 (test1) -6.8282 (test2) -3.5672 (test3) -7.5015 (test4) -2.2860 (test5) -2.9572 (test6) -7.0161 (test7) -7.7905 (test8) -7.4147 (test9) -14.6712\n",
      "\n"
     ]
    },
    {
     "name": "stderr",
     "output_type": "stream",
     "text": [
      "Epoch 220: 100%|██████████| 240/240 [00:01<00:00, 184.47it/s]\n"
     ]
    },
    {
     "name": "stdout",
     "output_type": "stream",
     "text": [
      "(val) -5.7501 (test) -6.3436 (test1) -8.4413 (test2) -3.9851 (test3) -1.7486 (test4) -2.8312 (test5) -3.2226 (test6) -7.7281 (test7) -4.6371 (test8) -5.6913 (test9) -11.8303\n",
      "\n"
     ]
    },
    {
     "name": "stderr",
     "output_type": "stream",
     "text": [
      "Epoch 221: 100%|██████████| 240/240 [00:01<00:00, 186.08it/s]\n"
     ]
    },
    {
     "name": "stdout",
     "output_type": "stream",
     "text": [
      "(val) -4.6100 (test) -6.8154 (test1) -7.8033 (test2) -4.4456 (test3) -1.8393 (test4) -2.2958 (test5) -4.0365 (test6) -6.9036 (test7) -4.0647 (test8) -6.9541 (test9) -14.1388\n",
      "\n"
     ]
    },
    {
     "name": "stderr",
     "output_type": "stream",
     "text": [
      "Epoch 222: 100%|██████████| 240/240 [00:01<00:00, 181.62it/s]\n"
     ]
    },
    {
     "name": "stdout",
     "output_type": "stream",
     "text": [
      "(val) -4.1514 (test) -6.7592 (test1) -5.5101 (test2) -4.1958 (test3) -5.3936 (test4) -3.2948 (test5) -3.2310 (test6) -5.9900 (test7) -5.3799 (test8) -4.4945 (test9) -15.0931\n",
      "\n"
     ]
    },
    {
     "name": "stderr",
     "output_type": "stream",
     "text": [
      "Epoch 223: 100%|██████████| 240/240 [00:01<00:00, 185.40it/s]\n"
     ]
    },
    {
     "name": "stdout",
     "output_type": "stream",
     "text": [
      "(val) -5.1116 (test) -6.4287 (test1) -7.7111 (test2) -4.7857 (test3) -4.7756 (test4) -2.7947 (test5) -3.5885 (test6) -6.5466 (test7) -6.0070 (test8) -5.6789 (test9) -11.6147\n",
      "\n"
     ]
    },
    {
     "name": "stderr",
     "output_type": "stream",
     "text": [
      "Epoch 224: 100%|██████████| 240/240 [00:01<00:00, 186.21it/s]\n"
     ]
    },
    {
     "name": "stdout",
     "output_type": "stream",
     "text": [
      "(val) -5.1277 (test) -7.1233 (test1) -12.5233 (test2) -5.0285 (test3) -3.9025 (test4) -3.2520 (test5) -3.5968 (test6) -8.1519 (test7) -6.3331 (test8) -4.5858 (test9) -10.4031\n",
      "\n"
     ]
    },
    {
     "name": "stderr",
     "output_type": "stream",
     "text": [
      "Epoch 225: 100%|██████████| 240/240 [00:01<00:00, 182.26it/s]\n"
     ]
    },
    {
     "name": "stdout",
     "output_type": "stream",
     "text": [
      "(val) -4.9731 (test) -8.7293 (test1) -16.9080 (test2) -1.7653 (test3) -8.4729 (test4) -2.8948 (test5) -3.5716 (test6) -7.3530 (test7) -6.4821 (test8) -5.7602 (test9) -13.2146\n",
      "\n"
     ]
    },
    {
     "name": "stderr",
     "output_type": "stream",
     "text": [
      "Epoch 226: 100%|██████████| 240/240 [00:01<00:00, 184.80it/s]\n"
     ]
    },
    {
     "name": "stdout",
     "output_type": "stream",
     "text": [
      "(val) -5.0713 (test) -6.2677 (test1) -6.8034 (test2) -2.9090 (test3) -5.3681 (test4) -2.9212 (test5) -3.3489 (test6) -6.3157 (test7) -9.0916 (test8) -3.5997 (test9) -10.7118\n",
      "\n"
     ]
    },
    {
     "name": "stderr",
     "output_type": "stream",
     "text": [
      "Epoch 227: 100%|██████████| 240/240 [00:01<00:00, 184.38it/s]\n"
     ]
    },
    {
     "name": "stdout",
     "output_type": "stream",
     "text": [
      "(val) -5.3997 (test) -8.2258 (test1) -11.4043 (test2) -7.0053 (test3) -3.8628 (test4) -5.6034 (test5) -4.8941 (test6) -9.2966 (test7) -8.6702 (test8) -5.2141 (test9) -13.0683\n",
      "\n"
     ]
    },
    {
     "name": "stderr",
     "output_type": "stream",
     "text": [
      "Epoch 228: 100%|██████████| 240/240 [00:01<00:00, 181.54it/s]\n"
     ]
    },
    {
     "name": "stdout",
     "output_type": "stream",
     "text": [
      "(val) -5.1394 (test) -8.4385 (test1) -13.3805 (test2) -3.3034 (test3) -7.0236 (test4) -3.2319 (test5) -2.7577 (test6) -6.9277 (test7) -7.5740 (test8) -4.4364 (test9) -16.0782\n",
      "\n"
     ]
    },
    {
     "name": "stderr",
     "output_type": "stream",
     "text": [
      "Epoch 229: 100%|██████████| 240/240 [00:01<00:00, 183.20it/s]\n"
     ]
    },
    {
     "name": "stdout",
     "output_type": "stream",
     "text": [
      "(val) -4.7932 (test) -7.3107 (test1) -9.3812 (test2) -3.5064 (test3) -4.2409 (test4) -3.2094 (test5) -4.4187 (test6) -6.6999 (test7) -8.5111 (test8) -4.4809 (test9) -13.9820\n",
      "\n"
     ]
    },
    {
     "name": "stderr",
     "output_type": "stream",
     "text": [
      "Epoch 230: 100%|██████████| 240/240 [00:01<00:00, 185.13it/s]\n"
     ]
    },
    {
     "name": "stdout",
     "output_type": "stream",
     "text": [
      "(val) -4.5355 (test) -8.2673 (test1) -13.5897 (test2) -4.3416 (test3) -4.4732 (test4) -3.0246 (test5) -3.6719 (test6) -8.3315 (test7) -7.3543 (test8) -4.1592 (test9) -15.1052\n",
      "\n"
     ]
    },
    {
     "name": "stderr",
     "output_type": "stream",
     "text": [
      "Epoch 231: 100%|██████████| 240/240 [00:01<00:00, 183.12it/s]\n"
     ]
    },
    {
     "name": "stdout",
     "output_type": "stream",
     "text": [
      "(val) -5.8809 (test) -12.2487 (test1) -30.2125 (test2) -6.8335 (test3) -4.0884 (test4) -2.7798 (test5) -3.5554 (test6) -7.6820 (test7) -4.0792 (test8) -5.5894 (test9) -15.7099\n",
      "\n"
     ]
    },
    {
     "name": "stderr",
     "output_type": "stream",
     "text": [
      "Epoch 232: 100%|██████████| 240/240 [00:01<00:00, 184.57it/s]\n"
     ]
    },
    {
     "name": "stdout",
     "output_type": "stream",
     "text": [
      "(val) -4.6599 (test) -8.2164 (test1) -10.9615 (test2) -1.6084 (test3) -7.8436 (test4) -3.7659 (test5) -4.1245 (test6) -8.1545 (test7) -7.7589 (test8) -4.7011 (test9) -15.5991\n",
      "\n"
     ]
    },
    {
     "name": "stderr",
     "output_type": "stream",
     "text": [
      "Epoch 233: 100%|██████████| 240/240 [00:01<00:00, 180.46it/s]\n"
     ]
    },
    {
     "name": "stdout",
     "output_type": "stream",
     "text": [
      "(val) -4.9348 (test) -7.7992 (test1) -10.5942 (test2) -1.4242 (test3) -6.0725 (test4) -3.6233 (test5) -3.2689 (test6) -8.3055 (test7) -6.0315 (test8) -5.7783 (test9) -15.2887\n",
      "\n"
     ]
    },
    {
     "name": "stderr",
     "output_type": "stream",
     "text": [
      "Epoch 234: 100%|██████████| 240/240 [00:01<00:00, 182.87it/s]\n"
     ]
    },
    {
     "name": "stdout",
     "output_type": "stream",
     "text": [
      "(val) -5.2837 (test) -7.4318 (test1) -11.5108 (test2) -2.5388 (test3) -3.7898 (test4) -4.1147 (test5) -3.6153 (test6) -7.0583 (test7) -6.4508 (test8) -4.6250 (test9) -14.1758\n",
      "\n"
     ]
    },
    {
     "name": "stderr",
     "output_type": "stream",
     "text": [
      "Epoch 235: 100%|██████████| 240/240 [00:01<00:00, 182.48it/s]\n"
     ]
    },
    {
     "name": "stdout",
     "output_type": "stream",
     "text": [
      "(val) -5.8972 (test) -8.3583 (test1) -13.3171 (test2) -5.1807 (test3) -1.8317 (test4) -4.0460 (test5) -3.3751 (test6) -7.3075 (test7) -9.5796 (test8) -4.6835 (test9) -15.0449\n",
      "\n"
     ]
    },
    {
     "name": "stderr",
     "output_type": "stream",
     "text": [
      "Epoch 236: 100%|██████████| 240/240 [00:01<00:00, 185.79it/s]\n"
     ]
    },
    {
     "name": "stdout",
     "output_type": "stream",
     "text": [
      "(val) -5.0979 (test) -8.0494 (test1) -8.6565 (test2) -1.9189 (test3) -7.3312 (test4) -2.9812 (test5) -3.9443 (test6) -9.1535 (test7) -5.4919 (test8) -4.6318 (test9) -17.0567\n",
      "\n"
     ]
    },
    {
     "name": "stderr",
     "output_type": "stream",
     "text": [
      "Epoch 237: 100%|██████████| 240/240 [00:01<00:00, 183.18it/s]\n"
     ]
    },
    {
     "name": "stdout",
     "output_type": "stream",
     "text": [
      "(val) -4.9049 (test) -6.7268 (test1) -7.5293 (test2) -3.8906 (test3) -6.5196 (test4) -4.0856 (test5) -4.1454 (test6) -7.7795 (test7) -6.7735 (test8) -4.8273 (test9) -11.3724\n",
      "\n"
     ]
    },
    {
     "name": "stderr",
     "output_type": "stream",
     "text": [
      "Epoch 238: 100%|██████████| 240/240 [00:01<00:00, 182.87it/s]\n"
     ]
    },
    {
     "name": "stdout",
     "output_type": "stream",
     "text": [
      "(val) -5.0190 (test) -8.6087 (test1) -9.5819 (test2) -2.0031 (test3) -6.2878 (test4) -3.6759 (test5) -4.1463 (test6) -7.9269 (test7) -7.6007 (test8) -4.7102 (test9) -18.9242\n",
      "\n"
     ]
    },
    {
     "name": "stderr",
     "output_type": "stream",
     "text": [
      "Epoch 239: 100%|██████████| 240/240 [00:01<00:00, 178.26it/s]\n"
     ]
    },
    {
     "name": "stdout",
     "output_type": "stream",
     "text": [
      "(val) -5.4878 (test) -6.5529 (test1) -6.9769 (test2) -1.6618 (test3) -4.9074 (test4) -3.5530 (test5) -3.8351 (test6) -7.2221 (test7) -5.6468 (test8) -4.9899 (test9) -13.2162\n",
      "\n"
     ]
    },
    {
     "name": "stderr",
     "output_type": "stream",
     "text": [
      "Epoch 240: 100%|██████████| 240/240 [00:01<00:00, 177.22it/s]\n"
     ]
    },
    {
     "name": "stdout",
     "output_type": "stream",
     "text": [
      "(val) -6.6197 (test) -6.0243 (test1) -5.3741 (test2) -2.9151 (test3) -6.4413 (test4) -3.1748 (test5) -4.6608 (test6) -8.6939 (test7) -7.6636 (test8) -5.3857 (test9) -7.2549\n",
      "\n"
     ]
    },
    {
     "name": "stderr",
     "output_type": "stream",
     "text": [
      "Epoch 241: 100%|██████████| 240/240 [00:01<00:00, 181.16it/s]\n"
     ]
    },
    {
     "name": "stdout",
     "output_type": "stream",
     "text": [
      "(val) -5.2222 (test) -8.0803 (test1) -14.1031 (test2) -1.7761 (test3) -4.2287 (test4) -3.9516 (test5) -4.0282 (test6) -7.4615 (test7) -7.2883 (test8) -4.1821 (test9) -14.4761\n",
      "\n"
     ]
    },
    {
     "name": "stderr",
     "output_type": "stream",
     "text": [
      "Epoch 242: 100%|██████████| 240/240 [00:01<00:00, 180.62it/s]\n"
     ]
    },
    {
     "name": "stdout",
     "output_type": "stream",
     "text": [
      "(val) -4.9672 (test) -7.3611 (test1) -8.6724 (test2) -2.8349 (test3) -9.1055 (test4) -3.4410 (test5) -4.4252 (test6) -7.6678 (test7) -10.0919 (test8) -5.3188 (test9) -10.0580\n",
      "\n"
     ]
    },
    {
     "name": "stderr",
     "output_type": "stream",
     "text": [
      "Epoch 243: 100%|██████████| 240/240 [00:01<00:00, 182.11it/s]\n"
     ]
    },
    {
     "name": "stdout",
     "output_type": "stream",
     "text": [
      "(val) -5.3636 (test) -7.2236 (test1) -10.3372 (test2) -2.1142 (test3) -3.4949 (test4) -3.5919 (test5) -3.1074 (test6) -7.9401 (test7) -7.8986 (test8) -5.4935 (test9) -12.9582\n",
      "\n"
     ]
    },
    {
     "name": "stderr",
     "output_type": "stream",
     "text": [
      "Epoch 244: 100%|██████████| 240/240 [00:01<00:00, 177.94it/s]\n"
     ]
    },
    {
     "name": "stdout",
     "output_type": "stream",
     "text": [
      "(val) -5.2240 (test) -6.9565 (test1) -9.5751 (test2) -2.9160 (test3) -3.8555 (test4) -3.1936 (test5) -3.2648 (test6) -6.0363 (test7) -7.1257 (test8) -5.7239 (test9) -13.4036\n",
      "\n"
     ]
    },
    {
     "name": "stderr",
     "output_type": "stream",
     "text": [
      "Epoch 245: 100%|██████████| 240/240 [00:01<00:00, 181.87it/s]\n"
     ]
    },
    {
     "name": "stdout",
     "output_type": "stream",
     "text": [
      "(val) -5.6916 (test) -6.6642 (test1) -10.0678 (test2) -2.9373 (test3) -4.2836 (test4) -3.1746 (test5) -2.7376 (test6) -6.6166 (test7) -6.6027 (test8) -10.3372 (test9) -7.7178\n",
      "\n"
     ]
    },
    {
     "name": "stderr",
     "output_type": "stream",
     "text": [
      "Epoch 246: 100%|██████████| 240/240 [00:01<00:00, 183.01it/s]\n"
     ]
    },
    {
     "name": "stdout",
     "output_type": "stream",
     "text": [
      "(val) -5.4815 (test) -7.4053 (test1) -7.6843 (test2) -2.9483 (test3) -6.6131 (test4) -2.8535 (test5) -3.1854 (test6) -7.2217 (test7) -9.4579 (test8) -5.3261 (test9) -13.9216\n",
      "\n"
     ]
    },
    {
     "name": "stderr",
     "output_type": "stream",
     "text": [
      "Epoch 247: 100%|██████████| 240/240 [00:01<00:00, 184.16it/s]\n"
     ]
    },
    {
     "name": "stdout",
     "output_type": "stream",
     "text": [
      "(val) -4.5150 (test) -7.3918 (test1) -5.4833 (test2) -3.6202 (test3) -4.4848 (test4) -4.3554 (test5) -3.0357 (test6) -6.9091 (test7) -8.7434 (test8) -3.5097 (test9) -16.2411\n",
      "\n"
     ]
    },
    {
     "name": "stderr",
     "output_type": "stream",
     "text": [
      "Epoch 248: 100%|██████████| 240/240 [00:01<00:00, 181.90it/s]\n"
     ]
    },
    {
     "name": "stdout",
     "output_type": "stream",
     "text": [
      "(val) -4.7472 (test) -7.0616 (test1) -10.4632 (test2) -4.7138 (test3) -1.8653 (test4) -4.6740 (test5) -4.0774 (test6) -6.8846 (test7) -6.6767 (test8) -4.7315 (test9) -12.6801\n",
      "\n"
     ]
    },
    {
     "name": "stderr",
     "output_type": "stream",
     "text": [
      "Epoch 249: 100%|██████████| 240/240 [00:01<00:00, 184.24it/s]\n"
     ]
    },
    {
     "name": "stdout",
     "output_type": "stream",
     "text": [
      "(val) -4.3852 (test) -6.7281 (test1) -6.4707 (test2) -3.3102 (test3) -5.0589 (test4) -3.2013 (test5) -3.6782 (test6) -7.9277 (test7) -5.0779 (test8) -5.8234 (test9) -13.5154\n",
      "\n"
     ]
    },
    {
     "name": "stderr",
     "output_type": "stream",
     "text": [
      "Epoch 250: 100%|██████████| 240/240 [00:01<00:00, 185.78it/s]\n"
     ]
    },
    {
     "name": "stdout",
     "output_type": "stream",
     "text": [
      "(val) -4.7415 (test) -7.8297 (test1) -9.6486 (test2) -1.6247 (test3) -4.5825 (test4) -4.0297 (test5) -3.9582 (test6) -7.3083 (test7) -9.4039 (test8) -5.5025 (test9) -15.1980\n",
      "\n"
     ]
    },
    {
     "name": "stderr",
     "output_type": "stream",
     "text": [
      "Epoch 251: 100%|██████████| 240/240 [00:01<00:00, 181.89it/s]\n"
     ]
    },
    {
     "name": "stdout",
     "output_type": "stream",
     "text": [
      "(val) -4.8981 (test) -7.3443 (test1) -9.2445 (test2) -3.6368 (test3) -5.9554 (test4) -2.9841 (test5) -3.5373 (test6) -6.4735 (test7) -9.3515 (test8) -6.6055 (test9) -12.5252\n",
      "\n"
     ]
    },
    {
     "name": "stderr",
     "output_type": "stream",
     "text": [
      "Epoch 252: 100%|██████████| 240/240 [00:01<00:00, 183.83it/s]\n"
     ]
    },
    {
     "name": "stdout",
     "output_type": "stream",
     "text": [
      "(val) -4.4352 (test) -7.6750 (test1) -6.9996 (test2) -1.5878 (test3) -5.9797 (test4) -3.5584 (test5) -4.0092 (test6) -8.2284 (test7) -8.4714 (test8) -4.9763 (test9) -15.8083\n",
      "\n"
     ]
    },
    {
     "name": "stderr",
     "output_type": "stream",
     "text": [
      "Epoch 253: 100%|██████████| 240/240 [00:01<00:00, 178.49it/s]\n"
     ]
    },
    {
     "name": "stdout",
     "output_type": "stream",
     "text": [
      "(val) -4.7138 (test) -8.2132 (test1) -10.6246 (test2) -3.2886 (test3) -7.5309 (test4) -5.0706 (test5) -4.5176 (test6) -8.6312 (test7) -5.1326 (test8) -4.5444 (test9) -16.0960\n",
      "\n"
     ]
    },
    {
     "name": "stderr",
     "output_type": "stream",
     "text": [
      "Epoch 254: 100%|██████████| 240/240 [00:01<00:00, 179.77it/s]\n"
     ]
    },
    {
     "name": "stdout",
     "output_type": "stream",
     "text": [
      "(val) -4.9384 (test) -8.3254 (test1) -9.9792 (test2) -2.1739 (test3) -6.8947 (test4) -3.5577 (test5) -3.5072 (test6) -9.4702 (test7) -7.0166 (test8) -5.6059 (test9) -16.6331\n",
      "\n"
     ]
    },
    {
     "name": "stderr",
     "output_type": "stream",
     "text": [
      "Epoch 255: 100%|██████████| 240/240 [00:01<00:00, 176.22it/s]\n"
     ]
    },
    {
     "name": "stdout",
     "output_type": "stream",
     "text": [
      "(val) -5.3310 (test) -6.8974 (test1) -9.9395 (test2) -2.5084 (test3) -5.4837 (test4) -3.3010 (test5) -4.0286 (test6) -6.8860 (test7) -5.9423 (test8) -4.7116 (test9) -12.6867\n",
      "\n"
     ]
    },
    {
     "name": "stderr",
     "output_type": "stream",
     "text": [
      "Epoch 256: 100%|██████████| 240/240 [00:01<00:00, 183.79it/s]\n"
     ]
    },
    {
     "name": "stdout",
     "output_type": "stream",
     "text": [
      "(val) -5.1888 (test) -7.3161 (test1) -8.9747 (test2) -3.2755 (test3) -3.9334 (test4) -4.5984 (test5) -4.0562 (test6) -7.6358 (test7) -5.2954 (test8) -4.9228 (test9) -15.0601\n",
      "\n"
     ]
    },
    {
     "name": "stderr",
     "output_type": "stream",
     "text": [
      "Epoch 257: 100%|██████████| 240/240 [00:01<00:00, 183.10it/s]\n"
     ]
    },
    {
     "name": "stdout",
     "output_type": "stream",
     "text": [
      "(val) -4.9703 (test) -7.6154 (test1) -6.9730 (test2) -2.1949 (test3) -2.3706 (test4) -3.3918 (test5) -2.6884 (test6) -6.7533 (test7) -6.9440 (test8) -6.2267 (test9) -17.6509\n",
      "\n"
     ]
    },
    {
     "name": "stderr",
     "output_type": "stream",
     "text": [
      "Epoch 258: 100%|██████████| 240/240 [00:01<00:00, 179.06it/s]\n"
     ]
    },
    {
     "name": "stdout",
     "output_type": "stream",
     "text": [
      "(val) -4.8469 (test) -7.0804 (test1) -8.0064 (test2) -2.8746 (test3) -4.3335 (test4) -3.0422 (test5) -2.8441 (test6) -6.2369 (test7) -6.8968 (test8) -6.3739 (test9) -14.6837\n",
      "\n"
     ]
    },
    {
     "name": "stderr",
     "output_type": "stream",
     "text": [
      "Epoch 259: 100%|██████████| 240/240 [00:01<00:00, 179.92it/s]\n"
     ]
    },
    {
     "name": "stdout",
     "output_type": "stream",
     "text": [
      "(val) -4.7536 (test) -8.1853 (test1) -7.2756 (test2) -2.7118 (test3) -4.2484 (test4) -3.9979 (test5) -5.1992 (test6) -7.8732 (test7) -10.4043 (test8) -5.9092 (test9) -16.6278\n",
      "\n"
     ]
    },
    {
     "name": "stderr",
     "output_type": "stream",
     "text": [
      "Epoch 260:  90%|████████▉ | 215/240 [00:01<00:00, 181.54it/s]\n"
     ]
    },
    {
     "ename": "KeyboardInterrupt",
     "evalue": "",
     "output_type": "error",
     "traceback": [
      "\u001b[1;31m---------------------------------------------------------------------------\u001b[0m",
      "\u001b[1;31mKeyboardInterrupt\u001b[0m                         Traceback (most recent call last)",
      "Cell \u001b[1;32mIn[15], line 30\u001b[0m\n\u001b[0;32m     28\u001b[0m     optimizer\u001b[38;5;241m.\u001b[39mzero_grad()\n\u001b[0;32m     29\u001b[0m     loss \u001b[38;5;241m=\u001b[39m loss_fn(apply_model(batch), batch[\u001b[38;5;124m\"\u001b[39m\u001b[38;5;124my\u001b[39m\u001b[38;5;124m\"\u001b[39m])\n\u001b[1;32m---> 30\u001b[0m     \u001b[43mloss\u001b[49m\u001b[38;5;241;43m.\u001b[39;49m\u001b[43mbackward\u001b[49m\u001b[43m(\u001b[49m\u001b[43m)\u001b[49m\n\u001b[0;32m     31\u001b[0m     optimizer\u001b[38;5;241m.\u001b[39mstep()\n\u001b[0;32m     33\u001b[0m \u001b[38;5;66;03m#val_score = evaluate(\"val\")\u001b[39;00m\n\u001b[0;32m     34\u001b[0m \u001b[38;5;66;03m#test_score = evaluate(\"test\")\u001b[39;00m\n\u001b[0;32m     35\u001b[0m \u001b[38;5;66;03m#print(f\"(val) {val_score:.4f} (test) {test_score:.4f} [time] {timer}\")\u001b[39;00m\n",
      "File \u001b[1;32md:\\Software\\Anaconda\\install\\envs\\pytorch\\lib\\site-packages\\torch\\_tensor.py:581\u001b[0m, in \u001b[0;36mTensor.backward\u001b[1;34m(self, gradient, retain_graph, create_graph, inputs)\u001b[0m\n\u001b[0;32m    571\u001b[0m \u001b[38;5;28;01mif\u001b[39;00m has_torch_function_unary(\u001b[38;5;28mself\u001b[39m):\n\u001b[0;32m    572\u001b[0m     \u001b[38;5;28;01mreturn\u001b[39;00m handle_torch_function(\n\u001b[0;32m    573\u001b[0m         Tensor\u001b[38;5;241m.\u001b[39mbackward,\n\u001b[0;32m    574\u001b[0m         (\u001b[38;5;28mself\u001b[39m,),\n\u001b[1;32m   (...)\u001b[0m\n\u001b[0;32m    579\u001b[0m         inputs\u001b[38;5;241m=\u001b[39minputs,\n\u001b[0;32m    580\u001b[0m     )\n\u001b[1;32m--> 581\u001b[0m \u001b[43mtorch\u001b[49m\u001b[38;5;241;43m.\u001b[39;49m\u001b[43mautograd\u001b[49m\u001b[38;5;241;43m.\u001b[39;49m\u001b[43mbackward\u001b[49m\u001b[43m(\u001b[49m\n\u001b[0;32m    582\u001b[0m \u001b[43m    \u001b[49m\u001b[38;5;28;43mself\u001b[39;49m\u001b[43m,\u001b[49m\u001b[43m \u001b[49m\u001b[43mgradient\u001b[49m\u001b[43m,\u001b[49m\u001b[43m \u001b[49m\u001b[43mretain_graph\u001b[49m\u001b[43m,\u001b[49m\u001b[43m \u001b[49m\u001b[43mcreate_graph\u001b[49m\u001b[43m,\u001b[49m\u001b[43m \u001b[49m\u001b[43minputs\u001b[49m\u001b[38;5;241;43m=\u001b[39;49m\u001b[43minputs\u001b[49m\n\u001b[0;32m    583\u001b[0m \u001b[43m\u001b[49m\u001b[43m)\u001b[49m\n",
      "File \u001b[1;32md:\\Software\\Anaconda\\install\\envs\\pytorch\\lib\\site-packages\\torch\\autograd\\__init__.py:347\u001b[0m, in \u001b[0;36mbackward\u001b[1;34m(tensors, grad_tensors, retain_graph, create_graph, grad_variables, inputs)\u001b[0m\n\u001b[0;32m    342\u001b[0m     retain_graph \u001b[38;5;241m=\u001b[39m create_graph\n\u001b[0;32m    344\u001b[0m \u001b[38;5;66;03m# The reason we repeat the same comment below is that\u001b[39;00m\n\u001b[0;32m    345\u001b[0m \u001b[38;5;66;03m# some Python versions print out the first line of a multi-line function\u001b[39;00m\n\u001b[0;32m    346\u001b[0m \u001b[38;5;66;03m# calls in the traceback and some print out the last line\u001b[39;00m\n\u001b[1;32m--> 347\u001b[0m \u001b[43m_engine_run_backward\u001b[49m\u001b[43m(\u001b[49m\n\u001b[0;32m    348\u001b[0m \u001b[43m    \u001b[49m\u001b[43mtensors\u001b[49m\u001b[43m,\u001b[49m\n\u001b[0;32m    349\u001b[0m \u001b[43m    \u001b[49m\u001b[43mgrad_tensors_\u001b[49m\u001b[43m,\u001b[49m\n\u001b[0;32m    350\u001b[0m \u001b[43m    \u001b[49m\u001b[43mretain_graph\u001b[49m\u001b[43m,\u001b[49m\n\u001b[0;32m    351\u001b[0m \u001b[43m    \u001b[49m\u001b[43mcreate_graph\u001b[49m\u001b[43m,\u001b[49m\n\u001b[0;32m    352\u001b[0m \u001b[43m    \u001b[49m\u001b[43minputs\u001b[49m\u001b[43m,\u001b[49m\n\u001b[0;32m    353\u001b[0m \u001b[43m    \u001b[49m\u001b[43mallow_unreachable\u001b[49m\u001b[38;5;241;43m=\u001b[39;49m\u001b[38;5;28;43;01mTrue\u001b[39;49;00m\u001b[43m,\u001b[49m\n\u001b[0;32m    354\u001b[0m \u001b[43m    \u001b[49m\u001b[43maccumulate_grad\u001b[49m\u001b[38;5;241;43m=\u001b[39;49m\u001b[38;5;28;43;01mTrue\u001b[39;49;00m\u001b[43m,\u001b[49m\n\u001b[0;32m    355\u001b[0m \u001b[43m\u001b[49m\u001b[43m)\u001b[49m\n",
      "File \u001b[1;32md:\\Software\\Anaconda\\install\\envs\\pytorch\\lib\\site-packages\\torch\\autograd\\graph.py:825\u001b[0m, in \u001b[0;36m_engine_run_backward\u001b[1;34m(t_outputs, *args, **kwargs)\u001b[0m\n\u001b[0;32m    823\u001b[0m     unregister_hooks \u001b[38;5;241m=\u001b[39m _register_logging_hooks_on_whole_graph(t_outputs)\n\u001b[0;32m    824\u001b[0m \u001b[38;5;28;01mtry\u001b[39;00m:\n\u001b[1;32m--> 825\u001b[0m     \u001b[38;5;28;01mreturn\u001b[39;00m Variable\u001b[38;5;241m.\u001b[39m_execution_engine\u001b[38;5;241m.\u001b[39mrun_backward(  \u001b[38;5;66;03m# Calls into the C++ engine to run the backward pass\u001b[39;00m\n\u001b[0;32m    826\u001b[0m         t_outputs, \u001b[38;5;241m*\u001b[39margs, \u001b[38;5;241m*\u001b[39m\u001b[38;5;241m*\u001b[39mkwargs\n\u001b[0;32m    827\u001b[0m     )  \u001b[38;5;66;03m# Calls into the C++ engine to run the backward pass\u001b[39;00m\n\u001b[0;32m    828\u001b[0m \u001b[38;5;28;01mfinally\u001b[39;00m:\n\u001b[0;32m    829\u001b[0m     \u001b[38;5;28;01mif\u001b[39;00m attach_logging_hooks:\n",
      "\u001b[1;31mKeyboardInterrupt\u001b[0m: "
     ]
    }
   ],
   "source": [
    "# For demonstration purposes (fast training and bad performance),\n",
    "# one can set smaller values:\n",
    "# n_epochs = 20\n",
    "# patience = 2\n",
    "n_epochs = 300 #1_000_000_000\n",
    "patience = 300#16\n",
    "\n",
    "batch_size = 2 #256\n",
    "epoch_size = math.ceil(len(train_idx) / batch_size)\n",
    "timer = delu.tools.Timer()\n",
    "early_stopping = delu.tools.EarlyStopping(patience, mode=\"max\")\n",
    "#best = {\n",
    "#    \"val\": -math.inf,\n",
    "#    \"test\": -math.inf,\n",
    "#    \"epoch\": -1,\n",
    "#}\n",
    "\n",
    "print(f\"Device: {device.type.upper()}\")\n",
    "print(\"-\" * 88 + \"\\n\")\n",
    "timer.run()\n",
    "for epoch in range(n_epochs):\n",
    "    for batch in tqdm(\n",
    "        delu.iter_batches(data[\"train\"], batch_size, shuffle=True),\n",
    "        desc=f\"Epoch {epoch}\",\n",
    "        total=epoch_size,\n",
    "    ):\n",
    "        model.train()\n",
    "        optimizer.zero_grad()\n",
    "        loss = loss_fn(apply_model(batch), batch[\"y\"])\n",
    "        loss.backward()\n",
    "        optimizer.step()\n",
    "\n",
    "    #val_score = evaluate(\"val\")\n",
    "    #test_score = evaluate(\"test\")\n",
    "    #print(f\"(val) {val_score:.4f} (test) {test_score:.4f} [time] {timer}\")\n",
    "\n",
    "    val_score = evaluate('val'); valloss_list.append(val_score)  \n",
    "    test_score = evaluate('test'); testloss_list.append(test_score)\n",
    "    test1_score = evaluate(\"test1\"); testloss1_list.append(test1_score)\n",
    "    test2_score = evaluate(\"test2\"); testloss2_list.append(test2_score)\n",
    "    test3_score = evaluate(\"test3\"); testloss3_list.append(test3_score)\n",
    "    test4_score = evaluate(\"test4\"); testloss4_list.append(test4_score)\n",
    "    test5_score = evaluate(\"test5\"); testloss5_list.append(test5_score)\n",
    "    test6_score = evaluate(\"test6\"); testloss6_list.append(test6_score)\n",
    "    test7_score = evaluate(\"test7\"); testloss7_list.append(test7_score)\n",
    "    test8_score = evaluate(\"test8\"); testloss8_list.append(test8_score)\n",
    "    test9_score = evaluate(\"test9\"); testloss9_list.append(test9_score)\n",
    "    print(f'(val) {val_score:.4f} (test) {test_score:.4f} (test1) {test1_score:.4f} (test2) {test2_score:.4f} (test3) {test3_score:.4f} (test4) {test4_score:.4f} (test5) {test5_score:.4f} (test6) {test6_score:.4f} (test7) {test7_score:.4f} (test8) {test8_score:.4f} (test9) {test9_score:.4f}')\n",
    "\n",
    "    early_stopping.update(val_score)\n",
    "    if early_stopping.should_stop():\n",
    "        break\n",
    "\n",
    "    #if val_score > best[\"val\"]:\n",
    "    #    print(\"🌸 New best epoch! 🌸\")\n",
    "    #    best = {\"val\": val_score, \"test\": test_score, \"epoch\": epoch}\n",
    "\n",
    "    if ((val_score > best['val']) and (test_score > best['test'])):\n",
    "        print('🌸 New best epoch! 🌸')\n",
    "        best = {'val': val_score, 'test': test_score, 'epoch': epoch}\n",
    "        remaining_patience = patience\n",
    "        save_dir = r'D:\\Data\\NHRI\\NHDF\\best model'\n",
    "        last_save_path = os.path.join(save_dir, f'epoch.{epoch:04d}-val_loss.{val_score:.4f}-test_loss.{test_score:.4f}.pth')    \n",
    "        torch.save(model, last_save_path) \n",
    "\n",
    "\n",
    "    print()\n",
    "\n",
    "print(\"\\n\\nResult:\")\n",
    "print(best)\n",
    "\n",
    "\n",
    "# save train process  \n",
    "t = time.localtime()\n",
    "t.tm_hour, t.tm_min, t.tm_sec    \n",
    "outtime = str(datetime.today().date()) + ' ' + str(t.tm_hour) + 'H' + str(t.tm_min) + 'M' \n",
    "csv_path = r'D:\\Data\\NHRI\\NHDF\\train_process\\TabM_train_process ' + outtime + '.csv'\n",
    "loss_hist = np.column_stack((valloss_list, testloss_list, testloss1_list, testloss2_list, testloss3_list, testloss4_list, testloss5_list, testloss6_list, testloss7_list))\n",
    "np.savetxt(csv_path, loss_hist, delimiter=\",\", header=\"val_loss,test_loss,1st_loss,2nd_loss,3rd_loss,4th_loss,5th_loss,6th_loss,7th_loss,8th_loss,9th_loss\", encoding='utf-8-sig', comments='')\n"
   ]
  },
  {
   "cell_type": "markdown",
   "metadata": {},
   "source": [
    "## 读取保存的最优模型，进一步分析在测试集的预测结果\n"
   ]
  },
  {
   "cell_type": "code",
   "execution_count": 16,
   "metadata": {},
   "outputs": [
    {
     "name": "stdout",
     "output_type": "stream",
     "text": [
      "FTTransformer(\n",
      "  (cls_embedding): _CLSEmbedding()\n",
      "  (cont_embeddings): LinearEmbeddings()\n",
      "  (backbone): FTTransformerBackbone(\n",
      "    (blocks): ModuleList(\n",
      "      (0): ModuleDict(\n",
      "        (attention): MultiheadAttention(\n",
      "          (W_q): Linear(in_features=192, out_features=192, bias=True)\n",
      "          (W_k): Linear(in_features=192, out_features=192, bias=True)\n",
      "          (W_v): Linear(in_features=192, out_features=192, bias=True)\n",
      "          (W_out): Linear(in_features=192, out_features=192, bias=True)\n",
      "          (dropout): Dropout(p=0.2, inplace=False)\n",
      "        )\n",
      "        (attention_residual_dropout): Dropout(p=0.0, inplace=False)\n",
      "        (ffn_normalization): LayerNorm((192,), eps=1e-05, elementwise_affine=True)\n",
      "        (ffn): Sequential(\n",
      "          (linear1): Linear(in_features=192, out_features=512, bias=True)\n",
      "          (activation): _ReGLU()\n",
      "          (dropout): Dropout(p=0.1, inplace=False)\n",
      "          (linear2): Linear(in_features=256, out_features=192, bias=True)\n",
      "        )\n",
      "        (ffn_residual_dropout): Dropout(p=0.0, inplace=False)\n",
      "        (output): Identity()\n",
      "      )\n",
      "      (1-2): 2 x ModuleDict(\n",
      "        (attention): MultiheadAttention(\n",
      "          (W_q): Linear(in_features=192, out_features=192, bias=True)\n",
      "          (W_k): Linear(in_features=192, out_features=192, bias=True)\n",
      "          (W_v): Linear(in_features=192, out_features=192, bias=True)\n",
      "          (W_out): Linear(in_features=192, out_features=192, bias=True)\n",
      "          (dropout): Dropout(p=0.2, inplace=False)\n",
      "        )\n",
      "        (attention_residual_dropout): Dropout(p=0.0, inplace=False)\n",
      "        (ffn_normalization): LayerNorm((192,), eps=1e-05, elementwise_affine=True)\n",
      "        (ffn): Sequential(\n",
      "          (linear1): Linear(in_features=192, out_features=512, bias=True)\n",
      "          (activation): _ReGLU()\n",
      "          (dropout): Dropout(p=0.1, inplace=False)\n",
      "          (linear2): Linear(in_features=256, out_features=192, bias=True)\n",
      "        )\n",
      "        (ffn_residual_dropout): Dropout(p=0.0, inplace=False)\n",
      "        (output): Identity()\n",
      "        (attention_normalization): LayerNorm((192,), eps=1e-05, elementwise_affine=True)\n",
      "      )\n",
      "    )\n",
      "    (output): Sequential(\n",
      "      (normalization): LayerNorm((192,), eps=1e-05, elementwise_affine=True)\n",
      "      (activation): ReLU()\n",
      "      (linear): Linear(in_features=192, out_features=1, bias=True)\n",
      "    )\n",
      "  )\n",
      ")\n"
     ]
    },
    {
     "name": "stderr",
     "output_type": "stream",
     "text": [
      "C:\\Users\\Administrator\\AppData\\Local\\Temp\\ipykernel_4044\\3751165959.py:1: FutureWarning: You are using `torch.load` with `weights_only=False` (the current default value), which uses the default pickle module implicitly. It is possible to construct malicious pickle data which will execute arbitrary code during unpickling (See https://github.com/pytorch/pytorch/blob/main/SECURITY.md#untrusted-models for more details). In a future release, the default value for `weights_only` will be flipped to `True`. This limits the functions that could be executed during unpickling. Arbitrary objects will no longer be allowed to be loaded via this mode unless they are explicitly allowlisted by the user via `torch.serialization.add_safe_globals`. We recommend you start setting `weights_only=True` for any use case where you don't have full control of the loaded file. Please open an issue on GitHub for any issues related to this experimental feature.\n",
      "  loaded_model = torch.load(r'D:\\Data\\NHRI\\小论文4\\2、模型\\2、FT-Transform-按工况划分测试集\\epoch.0132-val_loss.-4.6015-test_loss.-6.0238.pth')\n"
     ]
    }
   ],
   "source": [
    "loaded_model = torch.load(r'D:\\Data\\NHRI\\NHDF\\best model\\epoch.0132-val_loss.-4.6015-test_loss.-6.0238.pth')\n",
    "print(loaded_model)\n",
    "from torchsummary import summary\n",
    "#summary(loaded_model, input_size= (1, 10))"
   ]
  },
  {
   "cell_type": "code",
   "execution_count": 17,
   "metadata": {},
   "outputs": [],
   "source": [
    "# modify to best model\n",
    "def lz_apply_model(batch: Dict[str, Tensor]) -> Tensor:\n",
    "    if isinstance(loaded_model, (MLP, ResNet)):\n",
    "        x_cat_ohe = (\n",
    "            [\n",
    "                F.one_hot(column, cardinality)\n",
    "                for column, cardinality in zip(batch[\"x_cat\"].T, cat_cardinalities)\n",
    "            ]\n",
    "            if \"x_cat\" in batch\n",
    "            else []\n",
    "        )\n",
    "        return loaded_model(torch.column_stack([batch[\"x_cont\"]] + x_cat_ohe)).squeeze(-1)\n",
    "\n",
    "    elif isinstance(loaded_model, FTTransformer):\n",
    "        return loaded_model(batch[\"x_cont\"], batch.get(\"x_cat\")).squeeze(-1)\n",
    "\n",
    "    else:\n",
    "        raise RuntimeError(f\"Unknown loaded_model type: {type(loaded_model)}\")"
   ]
  },
  {
   "cell_type": "code",
   "execution_count": 18,
   "metadata": {},
   "outputs": [],
   "source": [
    "def safe_mape(y_true, y_pred, epsilon=1e-8, threshold=0.01):\n",
    "\n",
    "    y_true = torch.tensor(y_true)\n",
    "    y_pred = torch.tensor(y_pred)\n",
    "    \n",
    "    y_pred = y_pred.to(y_true.device)\n",
    "    \n",
    "    \n",
    "    mask = torch.abs(y_true) > threshold\n",
    "    \n",
    "    if mask.sum() == 0:\n",
    "        return torch.tensor(float('nan'), device=y_true.device)\n",
    "    \n",
    "    ape = torch.abs((y_true[mask] - y_pred[mask]) / (y_true[mask] + epsilon))\n",
    "    \n",
    "    return torch.mean(ape) * 100"
   ]
  },
  {
   "cell_type": "code",
   "execution_count": 19,
   "metadata": {},
   "outputs": [],
   "source": [
    "\n",
    "from sklearn.metrics import mean_squared_error, r2_score, mean_absolute_error\n",
    "@torch.no_grad()\n",
    "def lz_evaluate(part: str) -> float:\n",
    "    model.eval()\n",
    "\n",
    "    eval_batch_size = 2 #8096\n",
    "    y_pred = (\n",
    "        torch.cat(\n",
    "            [\n",
    "                lz_apply_model(batch)\n",
    "                for batch in delu.iter_batches(data[part], eval_batch_size)\n",
    "            ]\n",
    "        )\n",
    "        .cpu()\n",
    "        .numpy()\n",
    "    )\n",
    "    \n",
    "    \n",
    "\n",
    "    y_true = data[part][\"y\"].cpu().numpy()\n",
    "    \n",
    "    y_true_inv = y_true * Y_std + Y_mean   \n",
    "\n",
    "\n",
    "    if task_type == \"binclass\":\n",
    "        y_pred = np.round(scipy.special.expit(y_pred))\n",
    "        score = sklearn.metrics.accuracy_score(y_true, y_pred)\n",
    "    elif task_type == \"multiclass\":\n",
    "        y_pred = y_pred.argmax(1)\n",
    "        score = sklearn.metrics.accuracy_score(y_true, y_pred)\n",
    "    else:\n",
    "        assert task_type == \"regression\"\n",
    "        score = -(sklearn.metrics.mean_squared_error(y_true, y_pred) ** 0.5 * Y_std)\n",
    "        # *****************************************************************\n",
    "        y_pred_inv = y_pred * Y_std + Y_mean\n",
    "        \n",
    "        for pred_inv in y_pred_inv:\n",
    "            print(pred_inv)\n",
    "\n",
    "\n",
    "        loss_RMSE = ((sklearn.metrics.mean_squared_error(y_true_inv, y_pred_inv) ** 0.5))\n",
    "        loss_MSE = (sklearn.metrics.mean_squared_error(y_true_inv, y_pred_inv))\n",
    "        loss_r2 = r2_score(y_true_inv, y_pred_inv)\n",
    "        loss_MAPE = safe_mape(y_true_inv, y_pred_inv).item()\n",
    "        loss_MAE = mean_absolute_error(y_true_inv, y_pred_inv)\n",
    "        print(\"\")\n",
    "        print(\"Mean Absolute Error (MAE):\", loss_MAE)\n",
    "        print(\"Mean Squared Error (MSE):\", loss_MSE)\n",
    "        print(\"Root Mean Squared Error (RMSE):\", loss_RMSE)\n",
    "        print(\"Mean Absolute Percentage Error (MAPE):\", loss_MAPE, \"%\")\n",
    "        print(\"R² Score:\", loss_r2)\n",
    "\n",
    "\n",
    "    # Y_mean = data_numpy[\"train\"][\"y\"].mean().item()\n",
    "    # Y_std = data_numpy[\"train\"][\"y\"].std().item()\n",
    "    "
   ]
  },
  {
   "cell_type": "code",
   "execution_count": 20,
   "metadata": {},
   "outputs": [
    {
     "name": "stdout",
     "output_type": "stream",
     "text": [
      "输出预测的返回值：\n",
      "输出相应的真实值：\n",
      "反标准化之后的真实值：\n",
      "自带的损失函数 RMSE? ：  -2.826202082768679\n",
      "反标准化之后的预测值：\n",
      "76.59282\n",
      "92.78865\n",
      "108.55454\n",
      "122.2315\n",
      "134.52296\n",
      "151.10405\n",
      "133.67798\n",
      "153.56941\n",
      "183.00044\n",
      "199.91805\n",
      "228.65697\n",
      "252.22067\n",
      "164.49751\n",
      "189.63979\n",
      "222.54712\n",
      "250.43118\n",
      "280.11722\n",
      "310.1905\n",
      "174.75664\n",
      "197.90782\n",
      "236.6654\n",
      "263.5904\n",
      "290.0487\n",
      "324.5654\n",
      "162.45474\n",
      "189.87918\n",
      "222.19568\n",
      "254.40402\n",
      "281.5177\n",
      "311.8412\n",
      "158.14558\n",
      "177.6825\n",
      "208.65637\n",
      "232.03781\n",
      "262.0278\n",
      "281.99762\n",
      "125.687515\n",
      "146.30116\n",
      "169.70856\n",
      "187.92937\n",
      "211.68666\n",
      "233.3385\n",
      "88.495255\n",
      "97.974625\n",
      "115.36451\n",
      "127.691376\n",
      "146.25249\n",
      "164.52425\n",
      "30.536156\n",
      "50.707817\n",
      "57.6567\n",
      "68.36287\n",
      "76.40083\n",
      "82.64048\n",
      "68.279854\n",
      "90.08954\n",
      "101.39949\n",
      "116.39831\n",
      "131.9133\n",
      "147.30424\n",
      "84.15977\n",
      "125.9938\n",
      "142.99976\n",
      "169.17485\n",
      "189.36653\n",
      "201.73859\n",
      "95.35922\n",
      "140.73988\n",
      "172.79927\n",
      "191.76291\n",
      "214.47229\n",
      "226.48062\n",
      "92.09497\n",
      "134.4755\n",
      "160.34077\n",
      "186.19531\n",
      "204.17339\n",
      "222.08289\n",
      "84.27076\n",
      "123.276596\n",
      "136.09372\n",
      "164.41125\n",
      "177.55463\n",
      "207.5951\n",
      "67.45925\n",
      "91.59967\n",
      "105.67973\n",
      "122.75006\n",
      "137.0391\n",
      "157.32129\n",
      "31.427383\n",
      "53.946632\n",
      "61.150032\n",
      "69.41211\n",
      "73.902016\n",
      "96.58836\n",
      "16.57692\n",
      "21.705612\n",
      "32.31376\n",
      "38.91369\n",
      "41.056465\n",
      "46.048203\n",
      "30.78421\n",
      "36.02298\n",
      "49.8394\n",
      "59.785217\n",
      "63.24257\n",
      "75.05075\n",
      "45.035294\n",
      "58.670258\n",
      "77.2742\n",
      "85.021545\n",
      "93.041626\n",
      "100.555214\n",
      "48.328896\n",
      "57.74633\n",
      "90.69986\n",
      "97.71686\n",
      "106.707115\n",
      "111.96071\n",
      "43.409393\n",
      "56.221695\n",
      "73.74507\n",
      "85.997665\n",
      "97.45525\n",
      "108.22536\n",
      "38.364243\n",
      "46.09066\n",
      "60.811935\n",
      "72.58238\n",
      "82.76139\n",
      "91.71472\n",
      "27.299553\n",
      "37.095818\n",
      "50.17668\n",
      "54.21454\n",
      "61.81897\n",
      "68.13981\n",
      "12.944214\n",
      "19.70176\n",
      "25.27771\n",
      "26.120735\n",
      "29.29309\n",
      "31.860558\n",
      "8.866745\n",
      "11.378403\n",
      "13.700821\n",
      "16.980995\n",
      "18.81578\n",
      "20.433578\n",
      "24.286781\n",
      "17.982765\n",
      "21.535927\n",
      "25.638565\n",
      "29.729042\n",
      "32.89205\n",
      "36.08111\n",
      "38.87078\n",
      "39.01732\n",
      "45.358368\n",
      "51.71244\n",
      "57.0478\n",
      "61.511543\n",
      "68.9527\n",
      "74.42782\n",
      "27.899742\n",
      "32.64087\n",
      "38.85647\n",
      "43.528847\n",
      "50.023254\n",
      "55.342842\n",
      "60.79634\n",
      "27.475418\n",
      "35.645554\n",
      "39.075912\n",
      "43.073082\n",
      "49.2351\n",
      "52.897247\n",
      "59.668762\n",
      "26.360336\n",
      "30.81472\n",
      "37.310585\n",
      "43.16474\n",
      "46.817055\n",
      "51.146973\n",
      "56.512436\n",
      "14.302719\n",
      "17.194328\n",
      "21.065598\n",
      "24.821632\n",
      "27.331108\n",
      "29.707367\n",
      "31.21531\n",
      "2.3152924\n",
      "3.4161072\n",
      "3.8721466\n",
      "4.085129\n",
      "3.5686493\n",
      "3.8812103\n",
      "3.7931519\n",
      "105.33069\n",
      "132.97917\n",
      "147.276\n",
      "181.46039\n",
      "191.1352\n",
      "216.61346\n",
      "234.63504\n",
      "118.13609\n",
      "148.22922\n",
      "162.60185\n",
      "202.54121\n",
      "220.66805\n",
      "249.10513\n",
      "267.9383\n",
      "117.584625\n",
      "144.05891\n",
      "165.2188\n",
      "202.76405\n",
      "222.42572\n",
      "240.58282\n",
      "269.54745\n",
      "116.324005\n",
      "148.09195\n",
      "161.71664\n",
      "197.12717\n",
      "210.38773\n",
      "232.06403\n",
      "255.14754\n",
      "133.24167\n",
      "171.84079\n",
      "187.3692\n",
      "224.42558\n",
      "245.02301\n",
      "273.2856\n",
      "298.17496\n",
      "117.08851\n",
      "148.98492\n",
      "165.0991\n",
      "200.94788\n",
      "221.20734\n",
      "245.67535\n",
      "272.38284\n",
      "104.777176\n",
      "131.22502\n",
      "140.65125\n",
      "167.24329\n",
      "184.66383\n",
      "213.05634\n",
      "233.01634\n",
      "87.925705\n",
      "111.5589\n",
      "125.591835\n",
      "149.0952\n",
      "163.40858\n",
      "175.63109\n",
      "201.26541\n",
      "96.35422\n",
      "141.03427\n",
      "169.95193\n",
      "185.04059\n",
      "205.87701\n",
      "227.07327\n",
      "112.1942\n",
      "159.19513\n",
      "191.40294\n",
      "214.75317\n",
      "241.34274\n",
      "265.59003\n",
      "114.44881\n",
      "164.85155\n",
      "202.03471\n",
      "223.1932\n",
      "249.71631\n",
      "271.46448\n",
      "111.25654\n",
      "159.28145\n",
      "187.28009\n",
      "207.27489\n",
      "232.04929\n",
      "255.07278\n",
      "129.83495\n",
      "186.40875\n",
      "221.15302\n",
      "243.3742\n",
      "268.31683\n",
      "303.92944\n",
      "109.962524\n",
      "159.72223\n",
      "187.86694\n",
      "210.83661\n",
      "246.30042\n",
      "265.568\n",
      "95.827644\n",
      "131.59619\n",
      "152.27199\n",
      "172.09164\n",
      "188.74171\n",
      "215.09192\n",
      "90.95198\n",
      "126.97084\n",
      "143.467\n",
      "164.33038\n",
      "184.28568\n",
      "202.3323\n",
      "99.06256\n",
      "121.04246\n",
      "165.7147\n",
      "187.52496\n",
      "197.82007\n",
      "233.16885\n",
      "115.62203\n",
      "146.57527\n",
      "192.9043\n",
      "216.09094\n",
      "235.57622\n",
      "270.05258\n",
      "118.22788\n",
      "145.93254\n",
      "198.30206\n",
      "219.8894\n",
      "246.21935\n",
      "273.49677\n",
      "107.38903\n",
      "132.19113\n",
      "186.4897\n",
      "200.6822\n",
      "224.133\n",
      "248.1897\n",
      "132.34758\n",
      "170.0272\n",
      "226.4627\n",
      "249.67183\n",
      "274.78442\n",
      "305.66077\n",
      "114.00406\n",
      "148.54393\n",
      "203.3863\n",
      "221.99457\n",
      "238.8609\n",
      "271.5261\n",
      "94.20184\n",
      "121.895065\n",
      "155.05812\n",
      "179.08026\n",
      "194.85397\n",
      "219.96066\n",
      "87.12056\n",
      "115.5334\n",
      "149.94969\n",
      "163.93448\n",
      "184.27063\n",
      "204.5155\n",
      "98.95662\n",
      "124.91724\n",
      "146.57462\n",
      "191.69716\n",
      "216.28098\n",
      "240.04567\n",
      "119.56496\n",
      "145.47763\n",
      "164.95682\n",
      "218.2802\n",
      "244.14612\n",
      "268.9636\n",
      "126.785126\n",
      "160.37653\n",
      "185.0754\n",
      "241.36302\n",
      "263.16278\n",
      "294.93237\n",
      "118.90721\n",
      "159.06618\n",
      "171.23666\n",
      "224.64038\n",
      "253.89581\n",
      "291.4926\n",
      "126.68065\n",
      "155.85114\n",
      "179.21022\n",
      "237.18564\n",
      "257.2959\n",
      "285.9549\n",
      "115.97089\n",
      "145.56906\n",
      "164.9753\n",
      "221.60226\n",
      "246.73766\n",
      "269.75043\n",
      "105.52202\n",
      "133.26276\n",
      "148.67802\n",
      "193.58005\n",
      "219.65234\n",
      "244.22568\n",
      "86.33728\n",
      "114.679726\n",
      "129.0565\n",
      "165.19034\n",
      "185.63773\n",
      "209.05551\n",
      "124.39969\n",
      "146.94447\n",
      "168.47752\n",
      "205.35373\n",
      "249.98718\n",
      "276.52707\n",
      "133.32195\n",
      "169.37502\n",
      "189.87279\n",
      "219.06677\n",
      "274.0937\n",
      "303.49823\n",
      "134.72737\n",
      "167.84464\n",
      "188.94424\n",
      "223.63156\n",
      "287.12662\n",
      "320.46588\n",
      "140.67674\n",
      "174.50473\n",
      "191.83234\n",
      "220.24521\n",
      "283.19153\n",
      "325.41803\n",
      "135.49016\n",
      "162.61673\n",
      "190.66641\n",
      "226.37582\n",
      "280.77362\n",
      "311.59827\n",
      "126.510216\n",
      "153.48698\n",
      "172.72336\n",
      "209.23676\n",
      "259.0368\n",
      "291.34705\n",
      "110.4948\n",
      "131.39801\n",
      "153.13089\n",
      "180.65608\n",
      "226.14476\n",
      "249.32642\n",
      "80.843025\n",
      "102.522446\n",
      "114.9659\n",
      "136.8855\n",
      "170.08879\n",
      "194.09705\n",
      "94.54837\n",
      "106.24328\n",
      "130.39262\n",
      "157.97693\n",
      "172.33408\n",
      "204.81409\n",
      "132.6586\n",
      "155.39153\n",
      "186.4413\n",
      "212.77765\n",
      "241.58499\n",
      "302.22366\n",
      "145.45192\n",
      "173.13261\n",
      "208.77222\n",
      "234.5926\n",
      "275.14276\n",
      "331.97803\n",
      "153.44687\n",
      "179.41458\n",
      "210.98865\n",
      "238.15445\n",
      "273.35538\n",
      "334.9931\n",
      "140.812\n",
      "160.49472\n",
      "196.94551\n",
      "225.64337\n",
      "263.67087\n",
      "321.23694\n",
      "130.50476\n",
      "150.44241\n",
      "179.6825\n",
      "202.77737\n",
      "232.21597\n",
      "286.34467\n",
      "104.52893\n",
      "118.29605\n",
      "143.682\n",
      "160.5175\n",
      "189.59666\n",
      "240.92957\n",
      "72.228966\n",
      "85.36568\n",
      "105.87983\n",
      "119.69363\n",
      "140.0988\n",
      "176.68967\n",
      "77.96757\n",
      "90.98619\n",
      "97.837395\n",
      "110.714584\n",
      "117.40477\n",
      "125.01346\n",
      "142.54744\n",
      "87.79881\n",
      "108.944016\n",
      "126.525116\n",
      "148.88536\n",
      "168.2244\n",
      "187.06892\n",
      "199.9268\n",
      "92.25726\n",
      "116.302475\n",
      "130.04306\n",
      "158.01697\n",
      "174.90921\n",
      "192.22345\n",
      "202.96837\n",
      "82.02112\n",
      "106.068436\n",
      "116.34379\n",
      "136.16295\n",
      "153.8133\n",
      "172.20673\n",
      "189.46863\n",
      "96.49513\n",
      "123.176445\n",
      "140.48495\n",
      "168.17766\n",
      "194.62398\n",
      "208.63223\n",
      "223.69676\n",
      "86.774124\n",
      "112.09346\n",
      "128.7937\n",
      "153.52142\n",
      "171.14941\n",
      "188.98593\n",
      "207.5168\n",
      "61.7526\n",
      "75.00797\n",
      "86.82715\n",
      "104.08625\n",
      "117.58679\n",
      "129.26617\n",
      "158.28255\n",
      "59.473404\n",
      "75.11235\n",
      "82.26863\n",
      "98.16472\n",
      "109.46343\n",
      "123.49228\n",
      "141.98456\n",
      "69.29688\n",
      "87.18344\n",
      "96.74897\n",
      "115.29142\n",
      "125.31659\n",
      "139.58829\n",
      "77.26952\n",
      "95.14988\n",
      "110.52746\n",
      "132.76703\n",
      "144.37445\n",
      "164.79802\n",
      "81.59895\n",
      "104.7449\n",
      "119.19037\n",
      "141.11723\n",
      "154.13284\n",
      "175.37267\n",
      "78.49747\n",
      "97.7175\n",
      "117.14274\n",
      "136.47786\n",
      "148.86539\n",
      "169.3435\n",
      "86.05043\n",
      "106.69597\n",
      "123.57573\n",
      "148.52205\n",
      "170.53337\n",
      "190.91508\n",
      "79.79443\n",
      "98.537056\n",
      "111.2398\n",
      "129.40416\n",
      "148.48479\n",
      "169.59573\n",
      "70.77853\n",
      "90.29051\n",
      "101.17473\n",
      "119.78954\n",
      "129.3042\n",
      "143.30191\n",
      "55.638138\n",
      "71.71276\n",
      "79.9187\n",
      "94.60089\n",
      "99.70546\n",
      "107.472\n",
      "\n",
      "Mean Absolute Error (MAE): 2.1152729988098145\n",
      "Mean Squared Error (MSE): 7.9874162673950195\n",
      "Root Mean Squared Error (RMSE): 2.8262017386228853\n",
      "Mean Absolute Percentage Error (MAPE): 2.059861660003662 %\n",
      "R² Score: 0.9985326528549194\n"
     ]
    }
   ],
   "source": [
    "# NOTE train set\n",
    "test_score = lz_evaluate('train_NoShuffle')"
   ]
  },
  {
   "cell_type": "code",
   "execution_count": 21,
   "metadata": {},
   "outputs": [
    {
     "name": "stdout",
     "output_type": "stream",
     "text": [
      "输出预测的返回值：\n",
      "输出相应的真实值：\n",
      "反标准化之后的真实值：\n",
      "自带的损失函数 RMSE? ：  -6.023788756255487\n",
      "反标准化之后的预测值：\n",
      "49.595894\n",
      "104.27472\n",
      "132.44348\n",
      "139.12183\n",
      "133.55832\n",
      "126.51304\n",
      "101.37189\n",
      "49.837578\n",
      "40.346962\n",
      "80.08217\n",
      "106.28309\n",
      "117.036545\n",
      "113.42769\n",
      "103.536835\n",
      "83.06593\n",
      "46.130493\n",
      "31.487617\n",
      "48.91301\n",
      "69.46789\n",
      "76.99627\n",
      "67.66161\n",
      "58.555977\n",
      "44.034126\n",
      "25.01336\n",
      "120.49992\n",
      "136.0482\n",
      "147.158\n",
      "138.01907\n",
      "166.68463\n",
      "142.6429\n",
      "118.67339\n",
      "110.29454\n",
      "144.18634\n",
      "160.31596\n",
      "166.55063\n",
      "155.338\n",
      "189.82014\n",
      "169.40096\n",
      "131.63792\n",
      "125.78457\n",
      "176.01396\n",
      "194.87282\n",
      "211.64258\n",
      "187.57101\n",
      "217.37419\n",
      "198.17561\n",
      "170.31999\n",
      "151.92654\n",
      "225.03302\n",
      "243.5061\n",
      "256.7184\n",
      "257.4711\n",
      "255.22128\n",
      "233.35327\n",
      "196.92691\n",
      "150.9816\n",
      "183.95796\n",
      "272.77316\n",
      "293.85373\n",
      "297.2611\n",
      "283.10913\n",
      "263.4435\n",
      "205.05476\n",
      "161.55923\n",
      "144.59065\n",
      "192.85855\n",
      "193.48471\n",
      "189.22469\n",
      "210.24936\n",
      "200.4569\n",
      "158.79309\n",
      "129.66057\n",
      "\n",
      "Mean Absolute Error (MAE): 4.44242000579834\n",
      "Mean Squared Error (MSE): 36.28603744506836\n",
      "Root Mean Squared Error (RMSE): 6.023789292884368\n",
      "Mean Absolute Percentage Error (MAPE): 3.644824743270874 %\n",
      "R² Score: 0.9918347597122192\n"
     ]
    }
   ],
   "source": [
    "# NOTE all test set\n",
    "test_score = lz_evaluate('test')"
   ]
  },
  {
   "cell_type": "code",
   "execution_count": 22,
   "metadata": {},
   "outputs": [
    {
     "name": "stdout",
     "output_type": "stream",
     "text": [
      "输出预测的返回值：\n",
      "输出相应的真实值：\n",
      "反标准化之后的真实值：\n",
      "自带的损失函数 RMSE? ：  -8.774117954873239\n",
      "反标准化之后的预测值：\n",
      "49.595894\n",
      "104.27472\n",
      "132.44348\n",
      "139.12183\n",
      "133.55832\n",
      "126.51304\n",
      "101.37189\n",
      "49.837578\n",
      "\n",
      "Mean Absolute Error (MAE): 5.484469413757324\n",
      "Mean Squared Error (MSE): 76.9851303100586\n",
      "Root Mean Squared Error (RMSE): 8.774117067264296\n",
      "Mean Absolute Percentage Error (MAPE): 7.413683891296387 %\n",
      "R² Score: 0.8970237374305725\n"
     ]
    }
   ],
   "source": [
    "# NOTE 1st test set\n",
    "test1_score = lz_evaluate(\"test1\");"
   ]
  },
  {
   "cell_type": "code",
   "execution_count": 23,
   "metadata": {},
   "outputs": [
    {
     "name": "stdout",
     "output_type": "stream",
     "text": [
      "输出预测的返回值：\n",
      "输出相应的真实值：\n",
      "反标准化之后的真实值：\n",
      "自带的损失函数 RMSE? ：  -5.151245806028871\n",
      "反标准化之后的预测值：\n",
      "40.346962\n",
      "80.08217\n",
      "106.28309\n",
      "117.036545\n",
      "113.42769\n",
      "103.536835\n",
      "83.06593\n",
      "46.130493\n",
      "\n",
      "Mean Absolute Error (MAE): 4.539660453796387\n",
      "Mean Squared Error (MSE): 26.53533172607422\n",
      "Root Mean Squared Error (RMSE): 5.1512456480034245\n",
      "Mean Absolute Percentage Error (MAPE): 5.055177211761475 %\n",
      "R² Score: 0.9691453576087952\n"
     ]
    }
   ],
   "source": [
    "# NOTE 2nd test set\n",
    "test2_score = lz_evaluate(\"test2\");"
   ]
  },
  {
   "cell_type": "code",
   "execution_count": 24,
   "metadata": {},
   "outputs": [
    {
     "name": "stdout",
     "output_type": "stream",
     "text": [
      "输出预测的返回值：\n",
      "输出相应的真实值：\n",
      "反标准化之后的真实值：\n",
      "自带的损失函数 RMSE? ：  -2.7351387821796056\n",
      "反标准化之后的预测值：\n",
      "31.487617\n",
      "48.91301\n",
      "69.46789\n",
      "76.99627\n",
      "67.66161\n",
      "58.555977\n",
      "44.034126\n",
      "25.01336\n",
      "\n",
      "Mean Absolute Error (MAE): 2.3694543838500977\n",
      "Mean Squared Error (MSE): 7.480978965759277\n",
      "Root Mean Squared Error (RMSE): 2.735137833045947\n",
      "Mean Absolute Percentage Error (MAPE): 5.174879550933838 %\n",
      "R² Score: 0.9748899936676025\n"
     ]
    }
   ],
   "source": [
    "# NOTE 3rd test set\n",
    "test3_score = lz_evaluate(\"test3\");"
   ]
  },
  {
   "cell_type": "code",
   "execution_count": 25,
   "metadata": {},
   "outputs": [
    {
     "name": "stdout",
     "output_type": "stream",
     "text": [
      "输出预测的返回值：\n",
      "输出相应的真实值：\n",
      "反标准化之后的真实值：\n",
      "自带的损失函数 RMSE? ：  -3.0074072766900275\n",
      "反标准化之后的预测值：\n",
      "120.49992\n",
      "136.0482\n",
      "147.158\n",
      "138.01907\n",
      "166.68463\n",
      "142.6429\n",
      "118.67339\n",
      "110.29454\n",
      "\n",
      "Mean Absolute Error (MAE): 2.61138916015625\n",
      "Mean Squared Error (MSE): 9.044509887695312\n",
      "Root Mean Squared Error (RMSE): 3.0074091653274104\n",
      "Mean Absolute Percentage Error (MAPE): 2.004476547241211 %\n",
      "R² Score: 0.9719414114952087\n"
     ]
    }
   ],
   "source": [
    "# NOTE  4th test set\n",
    "test4_score = lz_evaluate(\"test4\")"
   ]
  },
  {
   "cell_type": "code",
   "execution_count": 26,
   "metadata": {},
   "outputs": [
    {
     "name": "stdout",
     "output_type": "stream",
     "text": [
      "输出预测的返回值：\n",
      "输出相应的真实值：\n",
      "反标准化之后的真实值：\n",
      "自带的损失函数 RMSE? ：  -3.270800324079498\n",
      "反标准化之后的预测值：\n",
      "144.18634\n",
      "160.31596\n",
      "166.55063\n",
      "155.338\n",
      "189.82014\n",
      "169.40096\n",
      "131.63792\n",
      "125.78457\n",
      "\n",
      "Mean Absolute Error (MAE): 2.637186050415039\n",
      "Mean Squared Error (MSE): 10.698150634765625\n",
      "Root Mean Squared Error (RMSE): 3.2708027508190747\n",
      "Mean Absolute Percentage Error (MAPE): 1.6942756175994873 %\n",
      "R² Score: 0.9688020944595337\n"
     ]
    }
   ],
   "source": [
    "# NOTE 5th test set\n",
    "test5_score = lz_evaluate(\"test5\")"
   ]
  },
  {
   "cell_type": "code",
   "execution_count": 27,
   "metadata": {},
   "outputs": [
    {
     "name": "stdout",
     "output_type": "stream",
     "text": [
      "输出预测的返回值：\n",
      "输出相应的真实值：\n",
      "反标准化之后的真实值：\n",
      "自带的损失函数 RMSE? ：  -6.539335513922283\n",
      "反标准化之后的预测值：\n",
      "176.01396\n",
      "194.87282\n",
      "211.64258\n",
      "187.57101\n",
      "217.37419\n",
      "198.17561\n",
      "170.31999\n",
      "151.92654\n",
      "\n",
      "Mean Absolute Error (MAE): 5.066568374633789\n",
      "Mean Squared Error (MSE): 42.762939453125\n",
      "Root Mean Squared Error (RMSE): 6.539337845158713\n",
      "Mean Absolute Percentage Error (MAPE): 2.595335006713867 %\n",
      "R² Score: 0.887263298034668\n"
     ]
    }
   ],
   "source": [
    "# NOTE 6th test set\n",
    "test6_score = lz_evaluate(\"test6\")"
   ]
  },
  {
   "cell_type": "code",
   "execution_count": 28,
   "metadata": {},
   "outputs": [
    {
     "name": "stdout",
     "output_type": "stream",
     "text": [
      "输出预测的返回值：\n",
      "输出相应的真实值：\n",
      "反标准化之后的真实值：\n",
      "自带的损失函数 RMSE? ：  -5.272776884950387\n",
      "反标准化之后的预测值：\n",
      "225.03302\n",
      "243.5061\n",
      "256.7184\n",
      "257.4711\n",
      "255.22128\n",
      "233.35327\n",
      "196.92691\n",
      "150.9816\n",
      "\n",
      "Mean Absolute Error (MAE): 4.331808090209961\n",
      "Mean Squared Error (MSE): 27.80217170715332\n",
      "Root Mean Squared Error (RMSE): 5.272776470433136\n",
      "Mean Absolute Percentage Error (MAPE): 1.9791204929351807 %\n",
      "R² Score: 0.9724277257919312\n"
     ]
    }
   ],
   "source": [
    "# NOTE  7th test set\n",
    "test7_score = lz_evaluate(\"test7\")"
   ]
  },
  {
   "cell_type": "code",
   "execution_count": 29,
   "metadata": {},
   "outputs": [
    {
     "name": "stdout",
     "output_type": "stream",
     "text": [
      "输出预测的返回值：\n",
      "输出相应的真实值：\n",
      "反标准化之后的真实值：\n",
      "自带的损失函数 RMSE? ：  -5.9570901207537155\n",
      "反标准化之后的预测值：\n",
      "183.95796\n",
      "272.77316\n",
      "293.85373\n",
      "297.2611\n",
      "283.10913\n",
      "263.4435\n",
      "205.05476\n",
      "161.55923\n",
      "\n",
      "Mean Absolute Error (MAE): 5.293363571166992\n",
      "Mean Squared Error (MSE): 35.48697280883789\n",
      "Root Mean Squared Error (RMSE): 5.957094325998027\n",
      "Mean Absolute Percentage Error (MAPE): 2.3639731407165527 %\n",
      "R² Score: 0.987386167049408\n"
     ]
    }
   ],
   "source": [
    "# NOTE 8th test set\n",
    "test8_score = lz_evaluate(\"test8\")"
   ]
  },
  {
   "cell_type": "code",
   "execution_count": 30,
   "metadata": {},
   "outputs": [
    {
     "name": "stdout",
     "output_type": "stream",
     "text": [
      "输出预测的返回值：\n",
      "输出相应的真实值：\n",
      "反标准化之后的真实值：\n",
      "自带的损失函数 RMSE? ：  -9.475134798430426\n",
      "反标准化之后的预测值：\n",
      "144.59065\n",
      "192.85855\n",
      "193.48471\n",
      "189.22469\n",
      "210.24936\n",
      "200.4569\n",
      "158.79309\n",
      "129.66057\n",
      "\n",
      "Mean Absolute Error (MAE): 7.647878646850586\n",
      "Mean Squared Error (MSE): 89.77813720703125\n",
      "Root Mean Squared Error (RMSE): 9.475132569364465\n",
      "Mean Absolute Percentage Error (MAPE): 4.522495269775391 %\n",
      "R² Score: 0.8459529876708984\n"
     ]
    }
   ],
   "source": [
    "# NOTE  9th test set\n",
    "test9_score = lz_evaluate(\"test9\")"
   ]
  },
  {
   "cell_type": "code",
   "execution_count": null,
   "metadata": {},
   "outputs": [],
   "source": []
  }
 ],
 "metadata": {
  "kernelspec": {
   "display_name": "Python 3",
   "language": "python",
   "name": "python3"
  },
  "language_info": {
   "codemirror_mode": {
    "name": "ipython",
    "version": 3
   },
   "file_extension": ".py",
   "mimetype": "text/x-python",
   "name": "python",
   "nbconvert_exporter": "python",
   "pygments_lexer": "ipython3",
   "version": "3.10.16"
  },
  "orig_nbformat": 4
 },
 "nbformat": 4,
 "nbformat_minor": 2
}
