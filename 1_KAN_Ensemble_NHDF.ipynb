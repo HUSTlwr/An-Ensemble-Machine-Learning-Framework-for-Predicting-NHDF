{
 "cells": [
  {
   "cell_type": "markdown",
   "id": "2571d531",
   "metadata": {},
   "source": [
    "Initialize KAN\n"
   ]
  },
  {
   "cell_type": "code",
   "execution_count": 1,
   "id": "30fd861c",
   "metadata": {},
   "outputs": [
    {
     "name": "stdout",
     "output_type": "stream",
     "text": [
      "cuda\n"
     ]
    }
   ],
   "source": [
    "import math\n",
    "import warnings\n",
    "from typing import Dict, Literal\n",
    "import pandas as pd\n",
    "warnings.simplefilter(\"ignore\")\n",
    "import delu  \n",
    "import numpy as np\n",
    "import scipy.special\n",
    "import sklearn.datasets\n",
    "import sklearn.metrics\n",
    "import sklearn.model_selection\n",
    "import sklearn.preprocessing\n",
    "import torch\n",
    "import torch.nn.functional as F\n",
    "import torch.optim\n",
    "from torch import Tensor\n",
    "from tqdm.std import tqdm\n",
    "from pandas import read_csv\n",
    "warnings.resetwarnings()\n",
    "from sklearn.metrics import mean_squared_error, r2_score, mean_absolute_error\n",
    "import math\n",
    "from kan import *\n",
    "import torch\n",
    "torch.set_default_dtype(torch.float64)\n",
    "device = torch.device('cuda' if torch.cuda.is_available() else 'cpu')\n",
    "print(device)\n",
    "from sklearn.preprocessing import StandardScaler, MinMaxScaler"
   ]
  },
  {
   "cell_type": "code",
   "execution_count": 2,
   "id": "8818a62f",
   "metadata": {},
   "outputs": [],
   "source": [
    "def Test(model, CsvPath):\n",
    "    \n",
    "    label = '底缘单宽净动水荷载'\n",
    "\n",
    "    test_data = read_csv(CsvPath, encoding = 'utf-8') #, header = None\n",
    "    y_test = test_data[label]\n",
    "    x_test = test_data.drop(columns=[label])\n",
    "    #print(type(y_test))\n",
    "    #print(type(x_test))\n",
    "    y_test = np.array(y_test)\n",
    "    x_test = np.array(x_test)\n",
    "    #print(type(y_test))\n",
    "    #print(type(x_test))\n",
    "    #print(y_test.shape)\n",
    "    #print(x_test.shape)\n",
    "    #print(y_test[-1])\n",
    "    #print(x_test[-1])\n",
    "\n",
    "    Scaled_X_test = scaler_X.fit_transform(x_test)\n",
    "    Scaled_y_test = scaler_y.fit_transform(y_test.reshape(y_test.shape[0], 1)) \n",
    "    x_test_tensor = torch.tensor(Scaled_X_test).to(device)\n",
    "    y_test_tensor = torch.tensor(Scaled_y_test).to(device)\n",
    "\n",
    "    rlt_list = []\n",
    "    for item in model(x_test_tensor):\n",
    "        #print(item.item())\n",
    "        rlt_list.append(item.item())\n",
    "    rlt_arr = np.array(rlt_list)\n",
    "    #print(rlt_arr.shape)\n",
    "\n",
    "    rlt_arr_inv = scaler_y.inverse_transform(rlt_arr.reshape(rlt_arr.shape[0], 1)) \n",
    "    for rlt in rlt_arr_inv:\n",
    "        print(rlt.item())   \n",
    "\n",
    "    print()\n",
    "    print()\n",
    "    \n",
    "    # Evaluate the model\n",
    "    y_pred = np.array(rlt_arr_inv)\n",
    "    mse = mean_squared_error(y_test, y_pred)\n",
    "    r2 = r2_score(y_test, y_pred)\n",
    "    mae = mean_absolute_error(y_test, y_pred)\n",
    "    print(\"Mean Absolute Error (MAE):\", mae)\n",
    "    print(\"Mean Squared Error (MSE):\", mse)\n",
    "    print(\"Root Mean Squared Error (RMSE):\", math.sqrt(mse))\n",
    "    #print(\"Mean Absolute Percentage Error (MAPE):\", safe_mape(y_test, y_pred).item(), \"%\")\n",
    "    print(\"R² Score:\", r2)"
   ]
  },
  {
   "cell_type": "markdown",
   "id": "f12ddf7e",
   "metadata": {},
   "source": [
    "### Create dataset\n"
   ]
  },
  {
   "cell_type": "code",
   "execution_count": 3,
   "id": "617c2260",
   "metadata": {},
   "outputs": [
    {
     "name": "stdout",
     "output_type": "stream",
     "text": [
      "<class 'pandas.core.series.Series'>\n",
      "<class 'pandas.core.frame.DataFrame'>\n",
      "<class 'numpy.ndarray'>\n",
      "<class 'numpy.ndarray'>\n",
      "(600,)\n",
      "(600, 3)\n",
      "[112.84833  109.172134 107.472   ]\n",
      "108.261\n"
     ]
    }
   ],
   "source": [
    "label = '底缘单宽净动水荷载'\n",
    "\n",
    "train_data = read_csv(r'D:\\Data\\NHRI\\NHDF\\KAN_Train.csv', encoding = 'utf-8') #, header = None\n",
    "y_train = train_data[label]\n",
    "x_train = train_data.drop(columns=[label])\n",
    "print(type(y_train))\n",
    "print(type(x_train))\n",
    "y_train = np.array(y_train)\n",
    "x_train = np.array(x_train)\n",
    "print(type(y_train))\n",
    "print(type(x_train))\n",
    "print(y_train.shape)\n",
    "print(x_train.shape)\n",
    "\n",
    "print(x_train[-1])\n",
    "print(y_train[-1])"
   ]
  },
  {
   "cell_type": "code",
   "execution_count": 4,
   "id": "50007205",
   "metadata": {},
   "outputs": [],
   "source": [
    "scaler_X = MinMaxScaler()\n",
    "scaler_y = MinMaxScaler() \n",
    "Scaled_X_train = scaler_X.fit_transform(x_train)\n",
    "Scaled_y_train = scaler_y.fit_transform(y_train.reshape(y_train.shape[0], 1))\n",
    "\n",
    "x_train_tensor = torch.tensor(Scaled_X_train).to(device)\n",
    "y_train_tensor = torch.tensor(Scaled_y_train).to(device)"
   ]
  },
  {
   "cell_type": "code",
   "execution_count": 5,
   "id": "047dba04",
   "metadata": {},
   "outputs": [
    {
     "name": "stdout",
     "output_type": "stream",
     "text": [
      "<class 'dict'>\n"
     ]
    }
   ],
   "source": [
    "dataset = create_dataset_from_data(x_train_tensor, y_train_tensor, device=device)\n",
    "dataset['train_input'].shape, dataset['train_label'].shape\n",
    "print(type(dataset))\n",
    "#print(dataset)"
   ]
  },
  {
   "cell_type": "code",
   "execution_count": 6,
   "id": "31761330",
   "metadata": {},
   "outputs": [
    {
     "name": "stderr",
     "output_type": "stream",
     "text": [
      "d:\\Software\\Anaconda\\install\\envs\\pytorch\\lib\\site-packages\\kan\\MultKAN.py:556: FutureWarning: You are using `torch.load` with `weights_only=False` (the current default value), which uses the default pickle module implicitly. It is possible to construct malicious pickle data which will execute arbitrary code during unpickling (See https://github.com/pytorch/pytorch/blob/main/SECURITY.md#untrusted-models for more details). In a future release, the default value for `weights_only` will be flipped to `True`. This limits the functions that could be executed during unpickling. Arbitrary objects will no longer be allowed to be loaded via this mode unless they are explicitly allowlisted by the user via `torch.serialization.add_safe_globals`. We recommend you start setting `weights_only=True` for any use case where you don't have full control of the loaded file. Please open an issue on GitHub for any issues related to this experimental feature.\n",
      "  state = torch.load(f'{path}_state')\n",
      "d:\\Software\\Anaconda\\install\\envs\\pytorch\\lib\\site-packages\\kan\\MultKAN.py:577: FutureWarning: You are using `torch.load` with `weights_only=False` (the current default value), which uses the default pickle module implicitly. It is possible to construct malicious pickle data which will execute arbitrary code during unpickling (See https://github.com/pytorch/pytorch/blob/main/SECURITY.md#untrusted-models for more details). In a future release, the default value for `weights_only` will be flipped to `True`. This limits the functions that could be executed during unpickling. Arbitrary objects will no longer be allowed to be loaded via this mode unless they are explicitly allowlisted by the user via `torch.serialization.add_safe_globals`. We recommend you start setting `weights_only=True` for any use case where you don't have full control of the loaded file. Please open an issue on GitHub for any issues related to this experimental feature.\n",
      "  model_load.cache_data = torch.load(f'{path}_cache_data')\n"
     ]
    },
    {
     "data": {
      "image/png": "[encoded data removed]",
      "text/plain": [
       "<Figure size 500x600 with 14 Axes>"
      ]
     },
     "metadata": {},
     "output_type": "display_data"
    }
   ],
   "source": [
    "# revert to version 0.1 (if starting from scratch)\n",
    "model = KAN.loadckpt(r'D:\\Data\\NHRI\\NHDF\\1\\7.35e-03' + r'\\0.3')\n",
    "model.get_act(dataset)\n",
    "\n",
    "model.plot()"
   ]
  },
  {
   "cell_type": "code",
   "execution_count": null,
   "id": "023814c9",
   "metadata": {},
   "outputs": [],
   "source": []
  },
  {
   "cell_type": "code",
   "execution_count": 7,
   "id": "a33e2168",
   "metadata": {},
   "outputs": [
    {
     "name": "stdout",
     "output_type": "stream",
     "text": [
      "64.93684595398076\n",
      "108.72627978899796\n",
      "132.80134762029894\n",
      "139.68302488585067\n",
      "138.45669203609802\n",
      "128.80388422158737\n",
      "107.29956824779222\n",
      "66.96342943798788\n",
      "\n",
      "\n",
      "Mean Absolute Error (MAE): 3.435978271007329\n",
      "Mean Squared Error (MSE): 19.482199068495937\n",
      "Root Mean Squared Error (RMSE): 4.41386441437613\n",
      "R² Score: 0.9739403744631733\n"
     ]
    }
   ],
   "source": [
    "# NOTE  1st test set\n",
    "Test(model, r'D:\\Data\\NHRI\\NHDF\\1st_test_set.csv')"
   ]
  },
  {
   "cell_type": "code",
   "execution_count": 8,
   "id": "db80a0f9",
   "metadata": {},
   "outputs": [
    {
     "name": "stdout",
     "output_type": "stream",
     "text": [
      "44.321273061889926\n",
      "87.71773106558895\n",
      "112.0531440595102\n",
      "124.83234269395957\n",
      "122.41875038331361\n",
      "110.68880513686496\n",
      "87.83139289591107\n",
      "51.74903584223832\n",
      "\n",
      "\n",
      "Mean Absolute Error (MAE): 1.953116126937096\n",
      "Mean Squared Error (MSE): 8.02537437379354\n",
      "Root Mean Squared Error (RMSE): 2.832909171469064\n",
      "R² Score: 0.9906682810094332\n"
     ]
    }
   ],
   "source": [
    "# NOTE  2nd test set\n",
    "Test(model, r'D:\\Data\\NHRI\\NHDF\\2nd_test_set.csv')"
   ]
  },
  {
   "cell_type": "code",
   "execution_count": 9,
   "id": "95ce225f",
   "metadata": {},
   "outputs": [
    {
     "name": "stdout",
     "output_type": "stream",
     "text": [
      "29.20337611282582\n",
      "48.59494819675192\n",
      "66.83381617798324\n",
      "74.11674170659802\n",
      "65.68742043952072\n",
      "56.80236613059333\n",
      "40.80538045179504\n",
      "22.253875423092587\n",
      "\n",
      "\n",
      "Mean Absolute Error (MAE): 1.7391024730865436\n",
      "Mean Squared Error (MSE): 4.452166666528585\n",
      "Root Mean Squared Error (RMSE): 2.11001579769645\n",
      "R² Score: 0.9850562486004932\n"
     ]
    }
   ],
   "source": [
    "# NOTE  3rd test set\n",
    "Test(model, r'D:\\Data\\NHRI\\NHDF\\3rd_test_set.csv')"
   ]
  },
  {
   "cell_type": "code",
   "execution_count": 10,
   "id": "528500e5",
   "metadata": {},
   "outputs": [
    {
     "name": "stdout",
     "output_type": "stream",
     "text": [
      "119.64796655081473\n",
      "151.34525034703248\n",
      "146.4362239201069\n",
      "136.41263111425832\n",
      "164.9751787358696\n",
      "144.27671763411976\n",
      "116.18886022114009\n",
      "107.50453617376314\n",
      "\n",
      "\n",
      "Mean Absolute Error (MAE): 2.6174477851060374\n",
      "Mean Squared Error (MSE): 15.094708130818425\n",
      "Root Mean Squared Error (RMSE): 3.885190874438272\n",
      "R² Score: 0.9531720450178783\n"
     ]
    }
   ],
   "source": [
    "# NOTE  4th test set\n",
    "Test(model, r'D:\\Data\\NHRI\\NHDF\\4th_test_set.csv')"
   ]
  },
  {
   "cell_type": "code",
   "execution_count": 11,
   "id": "d9069ebb",
   "metadata": {},
   "outputs": [
    {
     "name": "stdout",
     "output_type": "stream",
     "text": [
      "141.6669412016068\n",
      "174.06048435088212\n",
      "167.56588452563147\n",
      "152.8034802267815\n",
      "184.41203537406463\n",
      "166.58221858247302\n",
      "130.95665770727496\n",
      "124.82639098274448\n",
      "\n",
      "\n",
      "Mean Absolute Error (MAE): 2.31019480080926\n",
      "Mean Squared Error (MSE): 15.297993113129495\n",
      "Root Mean Squared Error (RMSE): 3.911264899380953\n",
      "R² Score: 0.95538806275673\n"
     ]
    }
   ],
   "source": [
    "# NOTE  5th test set\n",
    "Test(model, r'D:\\Data\\NHRI\\NHDF\\5th_test_set.csv')"
   ]
  },
  {
   "cell_type": "code",
   "execution_count": 12,
   "id": "1950c588",
   "metadata": {},
   "outputs": [
    {
     "name": "stdout",
     "output_type": "stream",
     "text": [
      "173.8764725464676\n",
      "192.51905693194908\n",
      "212.25325528011845\n",
      "192.4235017852089\n",
      "216.73462806842232\n",
      "198.12782778576957\n",
      "170.08670615670744\n",
      "151.5094535899833\n",
      "\n",
      "\n",
      "Mean Absolute Error (MAE): 3.818744332086535\n",
      "Mean Squared Error (MSE): 27.61740457996318\n",
      "Root Mean Squared Error (RMSE): 5.2552264061563685\n",
      "R² Score: 0.9271917545818564\n"
     ]
    }
   ],
   "source": [
    "# NOTE  6th test set\n",
    "Test(model, r'D:\\Data\\NHRI\\NHDF\\6th_test_set.csv')"
   ]
  },
  {
   "cell_type": "code",
   "execution_count": 13,
   "id": "47a8eeb6",
   "metadata": {},
   "outputs": [
    {
     "name": "stdout",
     "output_type": "stream",
     "text": [
      "221.59166590172342\n",
      "244.938338680765\n",
      "253.76754305142975\n",
      "257.33463978437135\n",
      "253.30990139913484\n",
      "232.71893509524415\n",
      "201.780874101178\n",
      "154.65130097604438\n",
      "\n",
      "\n",
      "Mean Absolute Error (MAE): 2.3733246297252677\n",
      "Mean Squared Error (MSE): 10.550854823975925\n",
      "Root Mean Squared Error (RMSE): 3.2482079403843476\n",
      "R² Score: 0.9895363925918833\n"
     ]
    }
   ],
   "source": [
    "# NOTE  7th test set\n",
    "Test(model, r'D:\\Data\\NHRI\\NHDF\\7th_test_set.csv')"
   ]
  },
  {
   "cell_type": "code",
   "execution_count": 14,
   "id": "e120df80",
   "metadata": {},
   "outputs": [
    {
     "name": "stdout",
     "output_type": "stream",
     "text": [
      "178.62070678139392\n",
      "274.0632166925639\n",
      "298.6829369335007\n",
      "305.5846972602153\n",
      "289.8321247291217\n",
      "266.91671217068347\n",
      "200.62514315673758\n",
      "152.40921478245903\n",
      "\n",
      "\n",
      "Mean Absolute Error (MAE): 4.30103947667066\n",
      "Mean Squared Error (MSE): 33.111857815969216\n",
      "Root Mean Squared Error (RMSE): 5.754290383354773\n",
      "R² Score: 0.9882303769447134\n"
     ]
    }
   ],
   "source": [
    "# NOTE  8th test set\n",
    "Test(model, r'D:\\Data\\NHRI\\NHDF\\8th_test_set.csv')"
   ]
  },
  {
   "cell_type": "code",
   "execution_count": 15,
   "id": "4c40ea58",
   "metadata": {},
   "outputs": [
    {
     "name": "stdout",
     "output_type": "stream",
     "text": [
      "139.3426831883146\n",
      "183.07009385303726\n",
      "188.97221553317846\n",
      "186.26838129073585\n",
      "202.77238287086757\n",
      "192.69605322316607\n",
      "150.563660463928\n",
      "122.43252767259143\n",
      "\n",
      "\n",
      "Mean Absolute Error (MAE): 5.268882724790323\n",
      "Mean Squared Error (MSE): 50.78435424110669\n",
      "Root Mean Squared Error (RMSE): 7.1263142115056\n",
      "R² Score: 0.9128609751910899\n"
     ]
    }
   ],
   "source": [
    "# NOTE  9th test set\n",
    "Test(model, r'D:\\Data\\NHRI\\NHDF\\9th_test_set.csv')"
   ]
  }
 ],
 "metadata": {
  "kernelspec": {
   "display_name": "Python 3 (ipykernel)",
   "language": "python",
   "name": "python3"
  },
  "language_info": {
   "codemirror_mode": {
    "name": "ipython",
    "version": 3
   },
   "file_extension": ".py",
   "mimetype": "text/x-python",
   "name": "python",
   "nbconvert_exporter": "python",
   "pygments_lexer": "ipython3",
   "version": "3.10.16"
  }
 },
 "nbformat": 4,
 "nbformat_minor": 5
}
