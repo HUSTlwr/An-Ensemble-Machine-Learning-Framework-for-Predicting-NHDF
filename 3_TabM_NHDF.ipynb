{
 "cells": [
  {
   "cell_type": "code",
   "execution_count": 1,
   "metadata": {},
   "outputs": [],
   "source": [
    "import math\n",
    "import random\n",
    "import warnings\n",
    "from typing import Literal, NamedTuple\n",
    "import pandas as pd\n",
    "import numpy as np\n",
    "import rtdl_num_embeddings  \n",
    "import scipy.special\n",
    "import sklearn.datasets\n",
    "import sklearn.metrics\n",
    "import sklearn.model_selection\n",
    "import sklearn.preprocessing\n",
    "import torch\n",
    "import torch.nn.functional as F\n",
    "import torch.optim\n",
    "from torch import Tensor\n",
    "from tqdm.std import tqdm\n",
    "from pandas import read_csv\n",
    "import os\n",
    "warnings.simplefilter('ignore')\n",
    "from tabm_reference import Model, make_parameter_groups\n",
    "warnings.resetwarnings()"
   ]
  },
  {
   "cell_type": "markdown",
   "metadata": {},
   "source": [
    "## prepare data\n"
   ]
  },
  {
   "cell_type": "code",
   "execution_count": 2,
   "metadata": {},
   "outputs": [
    {
     "name": "stdout",
     "output_type": "stream",
     "text": [
      "<class 'pandas.core.frame.DataFrame'>\n"
     ]
    },
    {
     "data": {
      "text/html": [
       "<div>\n",
       "<style scoped>\n",
       "    .dataframe tbody tr th:only-of-type {\n",
       "        vertical-align: middle;\n",
       "    }\n",
       "\n",
       "    .dataframe tbody tr th {\n",
       "        vertical-align: top;\n",
       "    }\n",
       "\n",
       "    .dataframe thead th {\n",
       "        text-align: right;\n",
       "    }\n",
       "</style>\n",
       "<table border=\"1\" class=\"dataframe\">\n",
       "  <thead>\n",
       "    <tr style=\"text-align: right;\">\n",
       "      <th></th>\n",
       "      <th>门宽</th>\n",
       "      <th>门高</th>\n",
       "      <th>门厚</th>\n",
       "      <th>门后压力</th>\n",
       "      <th>上倾</th>\n",
       "      <th>下倾</th>\n",
       "      <th>对称倾角</th>\n",
       "      <th>开度</th>\n",
       "      <th>倾角正弦值</th>\n",
       "      <th>水头</th>\n",
       "      <th>底缘单宽净动水荷载</th>\n",
       "    </tr>\n",
       "  </thead>\n",
       "  <tbody>\n",
       "    <tr>\n",
       "      <th>0</th>\n",
       "      <td>5.4</td>\n",
       "      <td>5.2</td>\n",
       "      <td>0.95</td>\n",
       "      <td>4</td>\n",
       "      <td>1</td>\n",
       "      <td>0</td>\n",
       "      <td>0</td>\n",
       "      <td>0.1</td>\n",
       "      <td>0.300706</td>\n",
       "      <td>17.2</td>\n",
       "      <td>75.776301</td>\n",
       "    </tr>\n",
       "    <tr>\n",
       "      <th>1</th>\n",
       "      <td>5.4</td>\n",
       "      <td>5.2</td>\n",
       "      <td>0.95</td>\n",
       "      <td>4</td>\n",
       "      <td>1</td>\n",
       "      <td>0</td>\n",
       "      <td>0</td>\n",
       "      <td>0.1</td>\n",
       "      <td>0.300706</td>\n",
       "      <td>20.0</td>\n",
       "      <td>94.489334</td>\n",
       "    </tr>\n",
       "    <tr>\n",
       "      <th>2</th>\n",
       "      <td>5.4</td>\n",
       "      <td>5.2</td>\n",
       "      <td>0.95</td>\n",
       "      <td>4</td>\n",
       "      <td>1</td>\n",
       "      <td>0</td>\n",
       "      <td>0</td>\n",
       "      <td>0.1</td>\n",
       "      <td>0.300706</td>\n",
       "      <td>22.5</td>\n",
       "      <td>106.259588</td>\n",
       "    </tr>\n",
       "    <tr>\n",
       "      <th>3</th>\n",
       "      <td>5.4</td>\n",
       "      <td>5.2</td>\n",
       "      <td>0.95</td>\n",
       "      <td>4</td>\n",
       "      <td>1</td>\n",
       "      <td>0</td>\n",
       "      <td>0</td>\n",
       "      <td>0.1</td>\n",
       "      <td>0.300706</td>\n",
       "      <td>25.0</td>\n",
       "      <td>122.277321</td>\n",
       "    </tr>\n",
       "    <tr>\n",
       "      <th>4</th>\n",
       "      <td>5.4</td>\n",
       "      <td>5.2</td>\n",
       "      <td>0.95</td>\n",
       "      <td>4</td>\n",
       "      <td>1</td>\n",
       "      <td>0</td>\n",
       "      <td>0</td>\n",
       "      <td>0.1</td>\n",
       "      <td>0.300706</td>\n",
       "      <td>28.2</td>\n",
       "      <td>134.698419</td>\n",
       "    </tr>\n",
       "  </tbody>\n",
       "</table>\n",
       "</div>"
      ],
      "text/plain": [
       "    门宽   门高    门厚  门后压力  上倾  下倾  对称倾角   开度     倾角正弦值    水头   底缘单宽净动水荷载\n",
       "0  5.4  5.2  0.95     4   1   0     0  0.1  0.300706  17.2   75.776301\n",
       "1  5.4  5.2  0.95     4   1   0     0  0.1  0.300706  20.0   94.489334\n",
       "2  5.4  5.2  0.95     4   1   0     0  0.1  0.300706  22.5  106.259588\n",
       "3  5.4  5.2  0.95     4   1   0     0  0.1  0.300706  25.0  122.277321\n",
       "4  5.4  5.2  0.95     4   1   0     0  0.1  0.300706  28.2  134.698419"
      ]
     },
     "execution_count": 2,
     "metadata": {},
     "output_type": "execute_result"
    }
   ],
   "source": [
    "dataset = pd.read_excel(r'D:\\Data\\NHRI\\NHDF\\Train_set.xlsx')\n",
    "print(type(dataset))\n",
    "dataset.head()"
   ]
  },
  {
   "cell_type": "code",
   "execution_count": 3,
   "metadata": {},
   "outputs": [
    {
     "name": "stdout",
     "output_type": "stream",
     "text": [
      "<class 'numpy.ndarray'>\n",
      "[[5.4000001e+00 5.1999998e+00 9.4999999e-01 4.0000000e+00 1.0000000e+00\n",
      "  0.0000000e+00 0.0000000e+00 1.0000000e-01 3.0070579e-01 1.7200001e+01\n",
      "  7.5776299e+01]\n",
      " [5.4000001e+00 5.1999998e+00 9.4999999e-01 4.0000000e+00 1.0000000e+00\n",
      "  0.0000000e+00 0.0000000e+00 1.0000000e-01 3.0070579e-01 2.0000000e+01\n",
      "  9.4489334e+01]\n",
      " [5.4000001e+00 5.1999998e+00 9.4999999e-01 4.0000000e+00 1.0000000e+00\n",
      "  0.0000000e+00 0.0000000e+00 1.0000000e-01 3.0070579e-01 2.2500000e+01\n",
      "  1.0625959e+02]\n",
      " [5.4000001e+00 5.1999998e+00 9.4999999e-01 4.0000000e+00 1.0000000e+00\n",
      "  0.0000000e+00 0.0000000e+00 1.0000000e-01 3.0070579e-01 2.5000000e+01\n",
      "  1.2227732e+02]\n",
      " [5.4000001e+00 5.1999998e+00 9.4999999e-01 4.0000000e+00 1.0000000e+00\n",
      "  0.0000000e+00 0.0000000e+00 1.0000000e-01 3.0070579e-01 2.8200001e+01\n",
      "  1.3469843e+02]]\n",
      "(600, 11)\n"
     ]
    }
   ],
   "source": [
    "values = dataset.values\n",
    "values = values.astype('float32')\n",
    "print(type(values))\n",
    "#print(values[0:5])\n",
    "values = np.array(values)\n",
    "print(values[0:5])\n",
    "print(values.shape)"
   ]
  },
  {
   "cell_type": "code",
   "execution_count": 4,
   "metadata": {},
   "outputs": [
    {
     "name": "stdout",
     "output_type": "stream",
     "text": [
      "(600, 10)\n",
      "(600,)\n",
      "<class 'numpy.ndarray'>\n",
      "<class 'numpy.ndarray'>\n",
      "X_train.shape:  (600, 10)\n",
      "y_train.shape:  (600,)\n"
     ]
    }
   ],
   "source": [
    "input_features = 10\n",
    "output_features = 1\n",
    "\n",
    "X_train = values[:, 0 : input_features]\n",
    "y_train = values[:, -1]\n",
    "print(X_train.shape)\n",
    "print(y_train.shape)\n",
    "\n",
    "print(type(X_train))\n",
    "print(type(y_train))\n",
    "\n",
    "print(\"X_train.shape: \", X_train.shape)\n",
    "print(\"y_train.shape: \", y_train.shape)"
   ]
  },
  {
   "cell_type": "code",
   "execution_count": 5,
   "metadata": {},
   "outputs": [
    {
     "name": "stdout",
     "output_type": "stream",
     "text": [
      "<class 'pandas.core.series.Series'>\n",
      "<class 'pandas.core.frame.DataFrame'>\n",
      "<class 'numpy.ndarray'>\n",
      "<class 'numpy.ndarray'>\n",
      "(72,)\n",
      "(72, 10)\n"
     ]
    }
   ],
   "source": [
    "# output name\n",
    "label = '底缘单宽净动水荷载'\n",
    "\n",
    "# NOTE: read all test sets\n",
    "test_data = read_csv(r'D:\\Data\\NHRI\\NHDF\\Test_set.csv', encoding = 'utf-8') #, header = None\n",
    "y_test = test_data[label]\n",
    "x_test = test_data.drop(columns=[label])\n",
    "print(type(y_test))\n",
    "print(type(x_test))\n",
    "y_test = np.array(y_test)\n",
    "x_test = np.array(x_test)\n",
    "print(type(y_test))\n",
    "print(type(x_test))\n",
    "print(y_test.shape)\n",
    "print(x_test.shape)"
   ]
  },
  {
   "cell_type": "code",
   "execution_count": 6,
   "metadata": {},
   "outputs": [
    {
     "name": "stdout",
     "output_type": "stream",
     "text": [
      "(8,)\n",
      "(8, 10)\n",
      "(8,)\n",
      "(8, 10)\n",
      "(8,)\n",
      "(8, 10)\n",
      "(8,)\n",
      "(8, 10)\n",
      "(8,)\n",
      "(8, 10)\n",
      "(8,)\n",
      "(8, 10)\n",
      "(8,)\n",
      "(8, 10)\n",
      "(8,)\n",
      "(8, 10)\n",
      "(8,)\n",
      "(8, 10)\n"
     ]
    }
   ],
   "source": [
    "# NOTE: read 1st test set\n",
    "test_data = read_csv(r'D:\\Data\\NHRI\\NHDF\\1st_test.csv', encoding = 'utf-8') #, header = None\n",
    "y_test1 = test_data[label]\n",
    "x_test1 = test_data.drop(columns=[label])\n",
    "y_test1 = np.array(y_test1)\n",
    "x_test1 = np.array(x_test1)\n",
    "print(y_test1.shape)\n",
    "print(x_test1.shape)\n",
    "\n",
    "# NOTE: read 2nd test set\n",
    "test_data = read_csv(r'D:\\Data\\NHRI\\NHDF\\2st_test.csv', encoding = 'utf-8') #, header = None\n",
    "y_test2 = test_data[label]\n",
    "x_test2 = test_data.drop(columns=[label])\n",
    "y_test2 = np.array(y_test2)\n",
    "x_test2 = np.array(x_test2)\n",
    "print(y_test2.shape)\n",
    "print(x_test2.shape)\n",
    "\n",
    "# NOTE: read 3rd test set\n",
    "test_data = read_csv(r'D:\\Data\\NHRI\\NHDF\\3st_test.csv', encoding = 'utf-8') #, header = None\n",
    "y_test3 = test_data[label]\n",
    "x_test3 = test_data.drop(columns=[label])\n",
    "y_test3 = np.array(y_test3)\n",
    "x_test3 = np.array(x_test3)\n",
    "print(y_test3.shape)\n",
    "print(x_test3.shape)\n",
    "\n",
    "# NOTE: read 4th test set\n",
    "test_data = read_csv(r'D:\\Data\\NHRI\\NHDF\\4st_test.csv', encoding = 'utf-8') #, header = None\n",
    "y_test4 = test_data[label]\n",
    "x_test4 = test_data.drop(columns=[label])\n",
    "y_test4 = np.array(y_test4)\n",
    "x_test4 = np.array(x_test4)\n",
    "print(y_test4.shape)\n",
    "print(x_test4.shape)\n",
    "\n",
    "# NOTE: read 5th test set\n",
    "test_data = read_csv(r'D:\\Data\\NHRI\\NHDF\\5st_test.csv', encoding = 'utf-8') #, header = None\n",
    "y_test5 = test_data[label]\n",
    "x_test5 = test_data.drop(columns=[label])\n",
    "y_test5 = np.array(y_test5)\n",
    "x_test5 = np.array(x_test5)\n",
    "print(y_test5.shape)\n",
    "print(x_test5.shape)\n",
    "\n",
    "# NOTE: read 6th test set\n",
    "test_data = read_csv(r'D:\\Data\\NHRI\\NHDF\\6st_test.csv', encoding = 'utf-8') #, header = None\n",
    "y_test6 = test_data[label]\n",
    "x_test6 = test_data.drop(columns=[label])\n",
    "y_test6 = np.array(y_test6)\n",
    "x_test6 = np.array(x_test6)\n",
    "print(y_test6.shape)\n",
    "print(x_test6.shape)\n",
    "\n",
    "# NOTE: read 7th test set\n",
    "test_data = read_csv(r'D:\\Data\\NHRI\\NHDF\\7st_test.csv', encoding = 'utf-8') #, header = None\n",
    "y_test7 = test_data[label]\n",
    "x_test7 = test_data.drop(columns=[label])\n",
    "y_test7 = np.array(y_test7)\n",
    "x_test7 = np.array(x_test7)\n",
    "print(y_test7.shape)\n",
    "print(x_test7.shape)\n",
    "\n",
    "# NOTE: read 8th test set\n",
    "test_data = read_csv(r'D:\\Data\\NHRI\\NHDF\\8st_test.csv', encoding = 'utf-8') #, header = None\n",
    "y_test8 = test_data[label]\n",
    "x_test8 = test_data.drop(columns=[label])\n",
    "y_test8 = np.array(y_test8)\n",
    "x_test8 = np.array(x_test8)\n",
    "print(y_test8.shape)\n",
    "print(x_test8.shape)\n",
    "\n",
    "# NOTE: read 9th test set\n",
    "test_data = read_csv(r'D:\\Data\\NHRI\\NHDF\\9st_test.csv', encoding = 'utf-8') #, header = None\n",
    "y_test9 = test_data[label]\n",
    "x_test9 = test_data.drop(columns=[label])\n",
    "y_test9 = np.array(y_test9)\n",
    "x_test9 = np.array(x_test9)\n",
    "print(y_test9.shape)\n",
    "print(x_test9.shape)"
   ]
  },
  {
   "cell_type": "markdown",
   "metadata": {},
   "source": [
    "## build dataset\n"
   ]
  },
  {
   "cell_type": "code",
   "execution_count": 8,
   "metadata": {},
   "outputs": [],
   "source": [
    "X_cont: np.ndarray = X_train\n",
    "Y: np.ndarray = y_train\n",
    "\n",
    "X_cont: np.ndarray = X_cont.astype(np.float32)\n",
    "n_cont_features = X_cont.shape[1]\n",
    "Y = Y.astype(np.float32)\n",
    "\n",
    "# >>> Split the dataset.\n",
    "all_idx = np.arange(len(Y))\n",
    "train_idx, val_idx = sklearn.model_selection.train_test_split(  # randomly split train and test set\n",
    "    all_idx, train_size=0.8\n",
    ")\n",
    "\n",
    "data_numpy = {\n",
    "    'train': {'x_cont': X_cont[train_idx], 'y': Y[train_idx]},\n",
    "    'val': {'x_cont': X_cont[val_idx], 'y': Y[val_idx]},\n",
    "    'test': {'x_cont': x_test, 'y': y_test},     \n",
    "    'test1': {'x_cont': x_test1, 'y': y_test1},\n",
    "    'test2': {'x_cont': x_test2, 'y': y_test2},\n",
    "    'test3': {'x_cont': x_test3, 'y': y_test3},\n",
    "    'test4': {'x_cont': x_test4, 'y': y_test4},\n",
    "    'test5': {'x_cont': x_test5, 'y': y_test5},\n",
    "    'test6': {'x_cont': x_test6, 'y': y_test6},\n",
    "    'test7': {'x_cont': x_test7, 'y': y_test7},\n",
    "    'test8': {'x_cont': x_test8, 'y': y_test8},\n",
    "    'test9': {'x_cont': x_test9, 'y': y_test9},\n",
    "    'train_NoShuffle' : {'x_cont': X_train.astype(np.float32), 'y': y_train.astype(np.float32)}  \n",
    "}"
   ]
  },
  {
   "cell_type": "code",
   "execution_count": 13,
   "metadata": {},
   "outputs": [],
   "source": [
    "# Advanced preprocessing strategy.\n",
    "# The noise is added to improve the output of QuantileTransformer in some cases.\n",
    "X_cont_train_numpy = data_numpy['train']['x_cont']  \n",
    "noise = (\n",
    "    np.random.default_rng(0)\n",
    "    .normal(0.0, 1e-5, X_cont_train_numpy.shape)\n",
    "    .astype(X_cont_train_numpy.dtype)\n",
    ")\n",
    "preprocessing = sklearn.preprocessing.QuantileTransformer(\n",
    "    n_quantiles=max(min(len(train_idx) // 30, 1000), 10),\n",
    "    output_distribution='normal',\n",
    "    subsample=10**9,\n",
    ").fit(X_cont_train_numpy + noise)\n",
    "del X_cont_train_numpy\n",
    "\n",
    "# Apply the preprocessing.  \n",
    "for part in data_numpy:\n",
    "    data_numpy[part]['x_cont'] = preprocessing.transform(data_numpy[part]['x_cont'])"
   ]
  },
  {
   "cell_type": "code",
   "execution_count": 15,
   "metadata": {},
   "outputs": [
    {
     "name": "stdout",
     "output_type": "stream",
     "text": [
      "[ 1.47296833e-02 -2.08790600e-01  3.19970191e-01 -8.97321761e-01\n",
      " -3.73284481e-02 -1.73576713e+00 -7.69691050e-01 -7.02039957e-01\n",
      " -1.15292335e+00  2.11113349e-01 -1.17188656e+00 -2.42163286e-01\n",
      " -2.72770345e-01  1.13488245e+00 -2.44799137e-01 -9.78310227e-01\n",
      "  1.04783618e+00  2.38001649e-03  1.39437282e+00 -4.52812403e-01\n",
      "  1.19878531e+00  5.40749073e-01  9.34183955e-01  4.95556146e-01\n",
      "  2.37764931e+00  2.77974516e-01  6.98135316e-01 -3.38434100e-01\n",
      "  1.51876703e-01  1.49097514e+00 -6.51740376e-03 -7.55352378e-01\n",
      "  1.23194981e+00 -2.22039849e-01 -1.97223341e+00  1.07383645e+00\n",
      "  2.90196687e-01 -1.40788841e+00  5.71168244e-01 -1.43598032e+00\n",
      " -4.24824387e-01 -1.80327189e+00 -3.71500701e-01 -2.09548056e-01\n",
      " -3.58117044e-01  1.64553344e+00 -3.39338891e-02 -1.86352767e-02\n",
      " -4.56062019e-01  7.95438886e-01 -9.75647092e-01 -1.06301558e+00\n",
      "  4.74287122e-01 -8.06098759e-01 -4.97734457e-01 -1.48660696e+00\n",
      " -5.91463484e-02 -1.59293985e+00  9.62528706e-01 -4.96124886e-02\n",
      "  5.49434364e-01 -1.20334737e-01  4.78776276e-01 -1.03336585e+00\n",
      "  5.45734644e-01  1.96592249e-02  4.96433377e-01 -4.99897838e-01\n",
      "  6.73139811e-01  7.58566916e-01  1.70653686e-01  1.35377443e+00\n",
      "  1.90513098e+00 -9.21616331e-03  5.72729766e-01  1.26149964e+00\n",
      "  9.69249249e-01 -1.29744804e+00  1.61204517e+00  2.24009657e+00\n",
      "  1.77764344e+00  4.21254367e-01 -8.33287776e-01 -1.09549272e+00\n",
      " -6.58152878e-01 -1.62837088e+00 -1.03148675e+00 -6.09015107e-01\n",
      " -1.50589600e-01  1.83971751e+00 -1.32755661e+00 -6.21978045e-01\n",
      " -2.48021469e-01 -1.23976755e+00  1.64628971e+00  9.64252651e-02\n",
      " -4.85772938e-01  1.23398125e+00  1.24465394e+00  1.61939490e+00\n",
      " -4.80939955e-01 -3.83000195e-01 -1.96817064e+00 -1.33345604e+00\n",
      " -1.64140511e+00  1.70104492e+00  1.98952162e+00  1.10836077e+00\n",
      "  1.21019208e+00 -8.78089607e-01 -6.29140377e-01  6.80608451e-01\n",
      "  2.93075621e-01 -1.55982006e+00  2.09431633e-01  1.98791635e+00\n",
      "  7.29162276e-01  9.26356688e-02 -1.28305471e+00 -2.51179636e-01\n",
      "  1.21584690e+00 -2.92169135e-02 -1.01352143e+00 -8.94516826e-01\n",
      " -4.52239931e-01 -1.26560020e+00  1.05474150e+00  9.48017240e-01\n",
      "  1.96355030e-01 -1.57077119e-01 -7.63300359e-01 -1.49052763e+00\n",
      " -4.31768894e-01 -1.35195661e+00 -4.65195417e-01 -2.56815434e-01\n",
      " -1.50682613e-01  1.05728376e+00 -3.68040711e-01  7.69923985e-01\n",
      " -1.28604919e-02  1.02679002e+00 -2.43609026e-01  1.54271054e+00\n",
      " -1.97898999e-01  2.40050435e+00  7.89240003e-01  9.14509892e-01\n",
      " -1.73737073e+00  1.00916946e+00  1.13860810e+00  6.12715781e-02\n",
      "  1.10885191e+00  6.03911161e-01 -1.04887402e+00 -1.28995490e+00\n",
      "  8.51441860e-01  2.07712388e+00  1.35117745e+00 -2.38909811e-01\n",
      " -2.91039228e-01 -1.22042990e+00 -1.65247095e+00  9.65989947e-01\n",
      " -6.82285354e-02 -1.62960327e+00  1.23652411e+00 -7.97744572e-01\n",
      " -1.17198519e-01 -1.23060381e+00  1.62899148e+00 -4.83929247e-01\n",
      " -1.69518459e+00 -7.72336900e-01 -1.67816773e-01  2.74035066e-01\n",
      " -3.04857284e-01  3.03983092e-01  5.49837947e-01 -8.02345991e-01\n",
      "  1.31514716e+00  2.85423905e-01  4.35812436e-02  2.53134310e-01\n",
      " -1.41211820e+00 -1.65838063e-01 -6.89131498e-01  1.24430329e-01\n",
      "  7.47952044e-01 -1.59885615e-01 -7.43900537e-01  7.17843652e-01\n",
      "  1.54496074e+00  8.28761995e-01 -3.80888358e-02  3.40893939e-02\n",
      "  5.14746964e-01 -1.11861825e-01 -1.21432245e+00  2.00556207e+00\n",
      " -9.49725449e-01 -1.66433191e+00  5.19502819e-01 -9.77529585e-01\n",
      "  6.32609129e-01  2.02303290e-01 -8.58994842e-01  7.26518512e-01\n",
      " -7.04240978e-01  6.55969918e-01 -3.65760066e-02  7.25396335e-01\n",
      " -4.58453536e-01 -1.09680247e+00 -4.66400176e-01 -1.64763069e+00\n",
      " -6.39173865e-01 -5.18392742e-01 -1.49286830e+00 -5.46542667e-02\n",
      "  5.70469499e-01 -1.38192189e+00 -1.53810811e+00 -3.90258551e-01\n",
      " -5.14616147e-02 -1.39471432e-02 -8.70032236e-02 -1.49537754e+00\n",
      " -7.11672843e-01 -1.59806621e+00 -4.77216005e-01  1.76908946e+00\n",
      "  1.00632191e+00 -6.24182187e-02 -1.01902735e+00  2.52980852e+00\n",
      "  9.37316239e-01  2.16109228e+00  1.72846091e+00  9.68499720e-01\n",
      " -8.62267137e-01  1.44195998e+00  9.27399695e-01 -5.54164708e-01\n",
      "  4.48854566e-01  3.12092960e-01  4.88133103e-01 -7.78338760e-02\n",
      "  2.03855324e+00 -1.04359269e+00 -7.67350733e-01  1.62688005e+00\n",
      "  1.26964259e+00  1.10936022e+00  1.29479480e+00  8.99828494e-01\n",
      " -2.58790165e-01 -2.39911392e-01  4.89818975e-02  1.60082042e+00\n",
      "  7.54847944e-01  5.65080166e-01  8.21149588e-01  4.67234850e-01\n",
      "  2.38500357e-01 -6.32665098e-01 -7.48674810e-01  1.80234581e-01\n",
      " -1.25408280e+00 -1.23838711e+00  7.74195731e-01  3.77933949e-01\n",
      "  1.99668741e+00  8.69275630e-02  2.21087381e-01  2.05551118e-01\n",
      " -1.43486965e+00  4.17126596e-01  9.08005476e-01  2.78438956e-01\n",
      "  2.07716689e-01  1.35915518e-01 -1.32873738e+00 -6.10169113e-01\n",
      "  8.52932572e-01  7.37380445e-01  1.66655457e+00 -7.96961844e-01\n",
      " -1.59339046e+00 -1.68814945e+00 -5.87272584e-01  1.79263711e-01\n",
      "  9.56980288e-01  1.22709095e+00 -9.89228070e-01  2.22234607e+00\n",
      " -2.81445801e-01  4.82879162e-01  1.34141946e+00 -5.84491253e-01\n",
      " -8.70018005e-01 -1.77563047e+00 -4.67962623e-01 -4.00153577e-01\n",
      "  1.02024245e+00 -1.19683480e+00 -4.32496697e-01 -1.49933934e-01\n",
      " -3.49250250e-02 -2.56602436e-01 -8.60269606e-01  2.08898023e-01\n",
      "  5.77710509e-01 -5.14689274e-02 -7.02278078e-01  4.79494005e-01\n",
      "  1.01874161e+00 -7.21281946e-01 -3.01721483e-01 -7.63412595e-01\n",
      " -5.22459090e-01  1.65051377e+00  6.25758111e-01  1.01825289e-01\n",
      "  1.68636644e+00  6.99718177e-01  1.25616765e+00  2.44538501e-01\n",
      "  3.17320764e-01 -6.98393583e-01 -9.92074907e-01 -1.66101134e+00\n",
      "  4.63946253e-01 -3.16310197e-01 -1.51189601e+00 -5.43265581e-01\n",
      " -1.81528962e+00  4.66528386e-01  1.94251776e+00  5.08786812e-02\n",
      " -5.60038865e-01 -1.50734937e+00  1.68373793e-01  1.17151701e+00\n",
      " -1.75761282e+00 -9.31021512e-01 -5.59837818e-01 -7.00310230e-01\n",
      " -7.26844594e-02 -1.85431588e+00  1.06303537e+00 -1.34783804e+00\n",
      "  5.54304302e-01  3.47724885e-01 -5.37157238e-01 -4.51933414e-01\n",
      " -3.21522862e-01 -1.17715693e+00  2.16525960e+00 -1.70282710e+00\n",
      " -5.63050091e-01  4.37602848e-01  8.53287458e-01 -9.10410285e-01\n",
      " -1.42559874e+00 -1.11114811e-02 -1.53212500e+00 -6.88060373e-02\n",
      "  1.54014516e+00 -8.99697542e-01 -8.48040760e-01  6.50567591e-01\n",
      "  2.41961807e-01  6.06564999e-01 -8.25986683e-01 -6.05038464e-01\n",
      "  7.75569558e-01  1.39130223e+00 -9.28904474e-01 -9.94590044e-01\n",
      "  1.46789148e-01 -1.00500202e+00 -2.78580248e-01 -1.84593809e+00\n",
      "  4.95866120e-01 -3.09131175e-01 -8.57978225e-01 -3.69447887e-01\n",
      "  3.04068178e-01 -2.54783005e-01 -2.54251271e-01  1.31902134e+00\n",
      "  4.88118887e-01 -2.34456614e-01 -2.30140522e-01  2.94926614e-01\n",
      " -1.06355953e+00 -2.46225014e-01 -5.29522538e-01  1.69184792e+00\n",
      "  1.47219336e+00 -5.37225068e-01 -8.08462501e-01  3.72192830e-01\n",
      " -1.42978215e+00 -1.17282128e+00 -1.69657981e+00  1.73092902e+00\n",
      "  8.71542931e-01 -1.97670758e+00 -4.15699989e-01 -4.84536409e-01\n",
      " -1.64397717e+00 -8.42094779e-01  9.13720667e-01 -6.90238252e-02\n",
      "  2.05371782e-01 -4.06128615e-02  1.10496032e+00 -9.60713506e-01\n",
      " -4.85690802e-01 -6.87319994e-01  1.16551900e+00  8.83388937e-01\n",
      "  1.06261775e-01  1.88826919e+00  6.41581774e-01  1.10209167e-01\n",
      "  3.47244561e-01 -6.95209146e-01  1.48815179e+00 -1.43792176e+00\n",
      " -8.87687862e-01  1.10907897e-01  6.04496419e-01 -1.53600442e+00\n",
      " -9.33680460e-02  1.88670504e+00 -9.53342080e-01 -1.75594997e+00\n",
      "  1.46565288e-01 -1.55500546e-01  7.82014012e-01  2.90170987e-03\n",
      " -1.53868914e+00 -1.55795562e+00  2.15058222e-01  1.26605642e+00\n",
      "  1.79765761e-01  2.37300801e+00  1.72027183e+00 -1.37519562e+00\n",
      "  4.09717739e-01  1.67279565e+00  9.19730842e-01  1.03959823e+00\n",
      " -2.62716442e-01 -4.08789635e-01  2.11015731e-01  3.52014005e-01\n",
      " -1.29353142e+00 -1.57250738e+00  3.13261122e-01 -9.83877659e-01\n",
      " -3.71932387e-01  5.57505369e-01 -2.29563639e-01 -8.03581238e-01\n",
      " -3.44716370e-01  1.12322402e+00  1.38699353e+00 -6.78242743e-01\n",
      " -5.87448239e-01  2.33038247e-01  5.03972650e-01  7.10047722e-01\n",
      " -3.75024617e-01  1.47603035e-01  8.70594442e-01  1.05267048e+00]\n"
     ]
    }
   ],
   "source": [
    "# Label preprocessing.\n",
    "class RegressionLabelStats(NamedTuple):\n",
    "    mean: float\n",
    "    std: float\n",
    "\n",
    "\n",
    "Y_train = data_numpy['train']['y'].copy()  \n",
    "# For regression tasks, it is highly recommended to standardize the training labels.\n",
    "regression_label_stats = RegressionLabelStats(\n",
    "    Y_train.mean().item(), Y_train.std().item()\n",
    ")\n",
    "Y_train = (Y_train - regression_label_stats.mean) / regression_label_stats.std\n",
    "\n",
    "print(Y_train)"
   ]
  },
  {
   "cell_type": "markdown",
   "metadata": {},
   "source": [
    "## PyTorch settings\n"
   ]
  },
  {
   "cell_type": "code",
   "execution_count": 16,
   "metadata": {},
   "outputs": [
    {
     "name": "stdout",
     "output_type": "stream",
     "text": [
      "cuda:0\n",
      "Device:        CUDA\n",
      "AMP:           True (dtype: torch.bfloat16)\n",
      "torch.compile: False\n"
     ]
    }
   ],
   "source": [
    "# Device\n",
    "device = torch.device('cuda:0' if torch.cuda.is_available() else 'cpu')\n",
    "print(device)\n",
    "\n",
    "# Convert data to tensors\n",
    "data = {\n",
    "    part: {k: torch.as_tensor(v, device=device, dtype = torch.bfloat16) for k, v in data_numpy[part].items()}\n",
    "    for part in data_numpy\n",
    "}\n",
    "Y_train = torch.as_tensor(Y_train, device=device)\n",
    "\n",
    "for part in data:\n",
    "    data[part]['y'] = data[part]['y'].float()\n",
    "Y_train = Y_train.float()\n",
    "\n",
    "# Automatic mixed precision (AMP)\n",
    "# torch.float16 is implemented for completeness,\n",
    "# but it was not tested in the project,\n",
    "# so torch.bfloat16 is used by default.\n",
    "amp_dtype = (\n",
    "    torch.bfloat16\n",
    "    if torch.cuda.is_available() and torch.cuda.is_bf16_supported()\n",
    "    else torch.float16\n",
    "    if torch.cuda.is_available()\n",
    "    else None\n",
    ")\n",
    "# Changing False to True will result in faster training on compatible hardware.\n",
    "amp_enabled = True and amp_dtype is not None\n",
    "grad_scaler = torch.cuda.amp.GradScaler() if amp_dtype is torch.float16 else None  # type: ignore\n",
    "\n",
    "# torch.compile\n",
    "compile_model = False\n",
    "\n",
    "# fmt: off\n",
    "print(\n",
    "    f'Device:        {device.type.upper()}'\n",
    "    f'\\nAMP:           {amp_enabled} (dtype: {amp_dtype})'\n",
    "    f'\\ntorch.compile: {compile_model}'\n",
    ")\n",
    "# fmt: on"
   ]
  },
  {
   "cell_type": "code",
   "execution_count": 17,
   "metadata": {},
   "outputs": [
    {
     "name": "stdout",
     "output_type": "stream",
     "text": [
      "torch.bfloat16\n"
     ]
    }
   ],
   "source": [
    "print(amp_dtype)"
   ]
  },
  {
   "cell_type": "markdown",
   "metadata": {},
   "source": [
    "## Model\n"
   ]
  },
  {
   "cell_type": "code",
   "execution_count": 138,
   "metadata": {},
   "outputs": [],
   "source": [
    "cat_cardinalities = []\n",
    "n_classes = None\n",
    "\n",
    "# Choose one of the two configurations below.\n",
    "\n",
    "# TabM\n",
    "#arch_type = 'tabm'\n",
    "#arch_type = 'tabm-normal'\n",
    "arch_type = 'tabm-mini-normal'\n",
    "bins = None\n",
    "\n",
    "# TabM-mini with the piecewise-linear embeddings.\n",
    "#arch_type = 'tabm-mini'\n",
    "#bins = rtdl_num_embeddings.compute_bins(data['train']['x_cont'])\n",
    "\n",
    "model = Model(\n",
    "    n_num_features=n_cont_features,\n",
    "    cat_cardinalities=cat_cardinalities,\n",
    "    n_classes=n_classes,\n",
    "    backbone={\n",
    "        'type': 'MLP',\n",
    "        'n_blocks': 3 if bins is None else 2,\n",
    "        'd_block': 512, #768, #512,\n",
    "        'dropout': 0.2, #0.1,\n",
    "    },\n",
    "    bins=bins,\n",
    "    num_embeddings=(\n",
    "        None\n",
    "        if bins is None\n",
    "        else {\n",
    "            'type': 'PiecewiseLinearEmbeddings',\n",
    "            'd_embedding': 16, #16,\n",
    "            'activation': False,\n",
    "            'version': 'B',\n",
    "        }\n",
    "    ),\n",
    "    arch_type=arch_type,\n",
    "    k=64, #32,\n",
    "    share_training_batches=True,\n",
    ").to(device)\n",
    "optimizer = torch.optim.AdamW(make_parameter_groups(model), lr=2e-3, weight_decay=3e-4)\n",
    "\n",
    "if compile_model:\n",
    "    # NOTE\n",
    "    # `torch.compile` is intentionally called without the `mode` argument\n",
    "    # (mode=\"reduce-overhead\" caused issues during training with torch==2.0.1).\n",
    "    model = torch.compile(model)\n",
    "    evaluation_mode = torch.no_grad\n",
    "else:\n",
    "    evaluation_mode = torch.inference_mode"
   ]
  },
  {
   "cell_type": "code",
   "execution_count": 139,
   "metadata": {},
   "outputs": [],
   "source": [
    "@torch.autocast(device.type, enabled=amp_enabled, dtype=amp_dtype)  # type: ignore[code]\n",
    "def apply_model(part: str, idx: Tensor) -> Tensor:\n",
    "    return (\n",
    "        model(\n",
    "            data[part]['x_cont'][idx],\n",
    "            None,\n",
    "        )\n",
    "        .squeeze(-1)  # Remove the last dimension for regression tasks.\n",
    "        .float()\n",
    "    )"
   ]
  },
  {
   "cell_type": "code",
   "execution_count": 140,
   "metadata": {},
   "outputs": [],
   "source": [
    "base_loss_fn = F.mse_loss"
   ]
  },
  {
   "cell_type": "code",
   "execution_count": 141,
   "metadata": {},
   "outputs": [],
   "source": [
    "def loss_fn(y_pred: Tensor, y_true: Tensor) -> Tensor:\n",
    "    # TabM produces k predictions. Each of them must be trained separately.\n",
    "    # (regression)     y_pred.shape == (batch_size, k)\n",
    "    # (classification) y_pred.shape == (batch_size, k, n_classes)\n",
    "    k = y_pred.shape[-1]   #[-1 if task_type == 'regression' else -2]\n",
    "    return base_loss_fn(\n",
    "        y_pred.flatten(0, 1),\n",
    "        y_true.repeat_interleave(k) if model.share_training_batches else y_true,\n",
    "    )"
   ]
  },
  {
   "cell_type": "code",
   "execution_count": 142,
   "metadata": {},
   "outputs": [
    {
     "name": "stdout",
     "output_type": "stream",
     "text": [
      "Val MSE score before training: -76.8718\n",
      "Test MSE score before training: -66.6881\n",
      "Test 1  MSE score before training: -49.1727\n",
      "Test 2  MSE score before training: -65.4859\n",
      "Test 3  MSE score before training: -100.2274\n",
      "Test 4  MSE score before training: -23.3664\n",
      "Test 5  MSE score before training: -19.3730\n",
      "Test 6  MSE score before training: -44.8747\n",
      "Test 7  MSE score before training: -82.2445\n",
      "Test 8  MSE score before training: -111.6298\n",
      "Test 9  MSE score before training: -33.3674\n"
     ]
    }
   ],
   "source": [
    "@evaluation_mode()\n",
    "def evaluate(part: str) -> float:\n",
    "    model.eval()\n",
    "\n",
    "    # When using torch.compile, you may need to reduce the evaluation batch size.\n",
    "    eval_batch_size = 2 #8096\n",
    "    y_pred: np.ndarray = (\n",
    "        torch.cat(\n",
    "            [\n",
    "                apply_model(part, idx)\n",
    "                for idx in torch.arange(len(data[part]['y']), device=device).split(\n",
    "                    eval_batch_size\n",
    "                )\n",
    "            ]\n",
    "        )\n",
    "        .cpu()\n",
    "        .numpy()\n",
    "    )\n",
    "    #  Transform the predictions back to the original label space.\n",
    "    assert regression_label_stats is not None\n",
    "    y_pred = y_pred * regression_label_stats.std + regression_label_stats.mean\n",
    "    y_pred = y_pred.mean(1)\n",
    "\n",
    "    y_true = data[part]['y'].cpu().numpy()\n",
    "    score = (\n",
    "        -(sklearn.metrics.mean_squared_error(y_true, y_pred) ** 0.5)\n",
    "    )\n",
    "    return float(score)  # The higher -- the better.\n",
    "\n",
    "#print(type(data[\"val\"]['x_cont']))\n",
    "#print(data[\"test\"]['x_cont'])\n",
    "#print(data[\"test1\"]['x_cont'])\n",
    "#print(data[\"test2\"]['x_cont'])\n",
    "#print(data[\"test3\"]['x_cont'])\n",
    "#print(data[\"test4\"]['x_cont'])\n",
    "\n",
    "print(f'Val MSE score before training: {evaluate(\"val\"):.4f}') \n",
    "print(f'Test MSE score before training: {evaluate(\"test\"):.4f}') \n",
    "print(f'Test 1  MSE score before training: {evaluate(\"test1\"):.4f}')  \n",
    "print(f'Test 2  MSE score before training: {evaluate(\"test2\"):.4f}')  \n",
    "print(f'Test 3  MSE score before training: {evaluate(\"test3\"):.4f}')  \n",
    "print(f'Test 4  MSE score before training: {evaluate(\"test4\"):.4f}')  \n",
    "print(f'Test 5  MSE score before training: {evaluate(\"test5\"):.4f}')  \n",
    "print(f'Test 6  MSE score before training: {evaluate(\"test6\"):.4f}') \n",
    "print(f'Test 7  MSE score before training: {evaluate(\"test7\"):.4f}')  \n",
    "print(f'Test 8  MSE score before training: {evaluate(\"test8\"):.4f}')  \n",
    "print(f'Test 9  MSE score before training: {evaluate(\"test9\"):.4f}') "
   ]
  },
  {
   "cell_type": "markdown",
   "metadata": {},
   "source": [
    "## Training\n"
   ]
  },
  {
   "cell_type": "code",
   "execution_count": 143,
   "metadata": {},
   "outputs": [],
   "source": [
    "import time, datetime\n",
    "from datetime import datetime\n",
    "from datetime import timedelta "
   ]
  },
  {
   "cell_type": "code",
   "execution_count": 144,
   "metadata": {},
   "outputs": [],
   "source": [
    "best = {\n",
    "    'val': -math.inf,\n",
    "    'test': -math.inf,\n",
    "    'epoch': -1,\n",
    "}\n",
    "\n",
    "trainloss_list = []\n",
    "valloss_list = []\n",
    "testloss_list = []\n",
    "testloss1_list = []\n",
    "testloss2_list = []\n",
    "testloss3_list = []\n",
    "testloss4_list = []\n",
    "testloss5_list = []\n",
    "testloss6_list = []\n",
    "testloss7_list = []\n",
    "testloss8_list = []\n",
    "testloss9_list = []"
   ]
  },
  {
   "cell_type": "code",
   "execution_count": 145,
   "metadata": {},
   "outputs": [
    {
     "name": "stdout",
     "output_type": "stream",
     "text": [
      "train_size:  480\n",
      "----------------------------------------------------------------------------------------\n",
      "\n"
     ]
    },
    {
     "name": "stderr",
     "output_type": "stream",
     "text": [
      "Epoch 0: 100%|██████████| 240/240 [00:00<00:00, 409.88it/s]\n"
     ]
    },
    {
     "name": "stdout",
     "output_type": "stream",
     "text": [
      "(val) -29.3309 (test) -29.6270 (test1) -23.8200 (test2) -25.1615 (test3) -35.9173 (test4) -16.4138 (test5) -14.3206 (test6) -14.5076 (test7) -28.1366 (test8) -51.8666 (test9) -35.2492\n",
      "🌸 New best epoch! 🌸\n",
      "\n"
     ]
    },
    {
     "name": "stderr",
     "output_type": "stream",
     "text": [
      "Epoch 1: 100%|██████████| 240/240 [00:00<00:00, 545.18it/s]\n"
     ]
    },
    {
     "name": "stdout",
     "output_type": "stream",
     "text": [
      "(val) -33.9062 (test) -32.6899 (test1) -16.3741 (test2) -16.4334 (test3) -32.0772 (test4) -12.2240 (test5) -12.3891 (test6) -21.2287 (test7) -47.0814 (test8) -69.6360 (test9) -15.2039\n",
      "\n"
     ]
    },
    {
     "name": "stderr",
     "output_type": "stream",
     "text": [
      "Epoch 2: 100%|██████████| 240/240 [00:00<00:00, 550.69it/s]\n"
     ]
    },
    {
     "name": "stdout",
     "output_type": "stream",
     "text": [
      "(val) -19.3695 (test) -23.5386 (test1) -14.8245 (test2) -15.4360 (test3) -20.6359 (test4) -12.6206 (test5) -15.8209 (test6) -17.6736 (test7) -27.7370 (test8) -49.8571 (test9) -11.2110\n",
      "🌸 New best epoch! 🌸\n",
      "\n"
     ]
    },
    {
     "name": "stderr",
     "output_type": "stream",
     "text": [
      "Epoch 3: 100%|██████████| 240/240 [00:00<00:00, 515.86it/s]\n"
     ]
    },
    {
     "name": "stdout",
     "output_type": "stream",
     "text": [
      "(val) -14.3485 (test) -15.7754 (test1) -10.4868 (test2) -6.5091 (test3) -20.2917 (test4) -9.0469 (test5) -12.6813 (test6) -12.4370 (test7) -12.7297 (test8) -32.4149 (test9) -8.0975\n",
      "🌸 New best epoch! 🌸\n",
      "\n"
     ]
    },
    {
     "name": "stderr",
     "output_type": "stream",
     "text": [
      "Epoch 4: 100%|██████████| 240/240 [00:00<00:00, 581.49it/s]\n"
     ]
    },
    {
     "name": "stdout",
     "output_type": "stream",
     "text": [
      "(val) -13.5422 (test) -11.3926 (test1) -9.7174 (test2) -4.4968 (test3) -11.4216 (test4) -11.2089 (test5) -10.3415 (test6) -6.6314 (test7) -13.6459 (test8) -17.2491 (test9) -12.7562\n",
      "🌸 New best epoch! 🌸\n",
      "\n"
     ]
    },
    {
     "name": "stderr",
     "output_type": "stream",
     "text": [
      "Epoch 5: 100%|██████████| 240/240 [00:00<00:00, 547.31it/s]\n"
     ]
    },
    {
     "name": "stdout",
     "output_type": "stream",
     "text": [
      "(val) -16.2440 (test) -16.2229 (test1) -10.5530 (test2) -14.5742 (test3) -30.1024 (test4) -11.2206 (test5) -15.9312 (test6) -10.6434 (test7) -9.9130 (test8) -21.9028 (test9) -8.2294\n",
      "\n"
     ]
    },
    {
     "name": "stderr",
     "output_type": "stream",
     "text": [
      "Epoch 6: 100%|██████████| 240/240 [00:00<00:00, 544.38it/s]\n"
     ]
    },
    {
     "name": "stdout",
     "output_type": "stream",
     "text": [
      "(val) -12.5488 (test) -13.6453 (test1) -7.8343 (test2) -15.6613 (test3) -20.3679 (test4) -9.8764 (test5) -13.3836 (test6) -11.0522 (test7) -7.6370 (test8) -21.7409 (test9) -4.9436\n",
      "\n"
     ]
    },
    {
     "name": "stderr",
     "output_type": "stream",
     "text": [
      "Epoch 7: 100%|██████████| 240/240 [00:00<00:00, 549.53it/s]\n"
     ]
    },
    {
     "name": "stdout",
     "output_type": "stream",
     "text": [
      "(val) -12.4276 (test) -14.4909 (test1) -4.7145 (test2) -10.1135 (test3) -17.3285 (test4) -10.0038 (test5) -14.1882 (test6) -10.6469 (test7) -8.2869 (test8) -26.0046 (test9) -17.4765\n",
      "\n"
     ]
    },
    {
     "name": "stderr",
     "output_type": "stream",
     "text": [
      "Epoch 8: 100%|██████████| 240/240 [00:00<00:00, 523.32it/s]\n"
     ]
    },
    {
     "name": "stdout",
     "output_type": "stream",
     "text": [
      "(val) -10.5166 (test) -11.5069 (test1) -10.5503 (test2) -2.7554 (test3) -14.7937 (test4) -9.6557 (test5) -11.9623 (test6) -7.8490 (test7) -11.2567 (test8) -19.5619 (test9) -6.8272\n",
      "\n"
     ]
    },
    {
     "name": "stderr",
     "output_type": "stream",
     "text": [
      "Epoch 9: 100%|██████████| 240/240 [00:00<00:00, 582.37it/s]\n"
     ]
    },
    {
     "name": "stdout",
     "output_type": "stream",
     "text": [
      "(val) -10.8234 (test) -11.7403 (test1) -11.0583 (test2) -5.2710 (test3) -12.5598 (test4) -7.4837 (test5) -9.8808 (test6) -6.1911 (test7) -14.6571 (test8) -21.5376 (test9) -7.8751\n",
      "\n"
     ]
    },
    {
     "name": "stderr",
     "output_type": "stream",
     "text": [
      "Epoch 10: 100%|██████████| 240/240 [00:00<00:00, 568.04it/s]\n"
     ]
    },
    {
     "name": "stdout",
     "output_type": "stream",
     "text": [
      "(val) -10.7570 (test) -12.1790 (test1) -15.3343 (test2) -6.1715 (test3) -17.6368 (test4) -11.2101 (test5) -12.1968 (test6) -8.4718 (test7) -7.0113 (test8) -17.5827 (test9) -6.7935\n",
      "\n"
     ]
    },
    {
     "name": "stderr",
     "output_type": "stream",
     "text": [
      "Epoch 11: 100%|██████████| 240/240 [00:00<00:00, 560.48it/s]\n"
     ]
    },
    {
     "name": "stdout",
     "output_type": "stream",
     "text": [
      "(val) -10.4970 (test) -11.9533 (test1) -4.0824 (test2) -12.0780 (test3) -19.0161 (test4) -9.8369 (test5) -13.7835 (test6) -10.0370 (test7) -5.5572 (test8) -17.0660 (test9) -7.2214\n",
      "\n"
     ]
    },
    {
     "name": "stderr",
     "output_type": "stream",
     "text": [
      "Epoch 12: 100%|██████████| 240/240 [00:00<00:00, 552.57it/s]\n"
     ]
    },
    {
     "name": "stdout",
     "output_type": "stream",
     "text": [
      "(val) -10.3000 (test) -10.8994 (test1) -8.6107 (test2) -4.7757 (test3) -14.1001 (test4) -8.0910 (test5) -9.2058 (test6) -4.4371 (test7) -12.0940 (test8) -18.6498 (test9) -10.4613\n",
      "🌸 New best epoch! 🌸\n",
      "\n"
     ]
    },
    {
     "name": "stderr",
     "output_type": "stream",
     "text": [
      "Epoch 13: 100%|██████████| 240/240 [00:00<00:00, 574.98it/s]\n"
     ]
    },
    {
     "name": "stdout",
     "output_type": "stream",
     "text": [
      "(val) -10.6449 (test) -11.4569 (test1) -5.5714 (test2) -2.9236 (test3) -12.9686 (test4) -10.3035 (test5) -13.0184 (test6) -13.1130 (test7) -12.9102 (test8) -18.0928 (test9) -5.6529\n",
      "\n"
     ]
    },
    {
     "name": "stderr",
     "output_type": "stream",
     "text": [
      "Epoch 14: 100%|██████████| 240/240 [00:00<00:00, 539.06it/s]\n"
     ]
    },
    {
     "name": "stdout",
     "output_type": "stream",
     "text": [
      "(val) -12.3140 (test) -12.4017 (test1) -7.6704 (test2) -8.0308 (test3) -23.4504 (test4) -9.8533 (test5) -9.7276 (test6) -6.8719 (test7) -7.4358 (test8) -18.6539 (test9) -8.2925\n",
      "\n"
     ]
    },
    {
     "name": "stderr",
     "output_type": "stream",
     "text": [
      "Epoch 15: 100%|██████████| 240/240 [00:00<00:00, 538.56it/s]\n"
     ]
    },
    {
     "name": "stdout",
     "output_type": "stream",
     "text": [
      "(val) -10.1037 (test) -10.2919 (test1) -7.9650 (test2) -6.1144 (test3) -16.3592 (test4) -6.8495 (test5) -9.4307 (test6) -4.2893 (test7) -11.1823 (test8) -15.8567 (test9) -7.3568\n",
      "🌸 New best epoch! 🌸\n",
      "\n"
     ]
    },
    {
     "name": "stderr",
     "output_type": "stream",
     "text": [
      "Epoch 16: 100%|██████████| 240/240 [00:00<00:00, 557.40it/s]\n"
     ]
    },
    {
     "name": "stdout",
     "output_type": "stream",
     "text": [
      "(val) -11.6192 (test) -12.9388 (test1) -2.7474 (test2) -13.6526 (test3) -24.6604 (test4) -9.7401 (test5) -8.7681 (test6) -10.2188 (test7) -11.8830 (test8) -15.6502 (test9) -6.5058\n",
      "\n"
     ]
    },
    {
     "name": "stderr",
     "output_type": "stream",
     "text": [
      "Epoch 17: 100%|██████████| 240/240 [00:00<00:00, 549.57it/s]\n"
     ]
    },
    {
     "name": "stdout",
     "output_type": "stream",
     "text": [
      "(val) -10.8531 (test) -10.6277 (test1) -3.2403 (test2) -12.2389 (test3) -18.5342 (test4) -7.5523 (test5) -8.8915 (test6) -8.2972 (test7) -10.5868 (test8) -11.5009 (test9) -7.9642\n",
      "\n"
     ]
    },
    {
     "name": "stderr",
     "output_type": "stream",
     "text": [
      "Epoch 18: 100%|██████████| 240/240 [00:00<00:00, 540.33it/s]\n"
     ]
    },
    {
     "name": "stdout",
     "output_type": "stream",
     "text": [
      "(val) -11.5616 (test) -10.4119 (test1) -3.0662 (test2) -12.5466 (test3) -13.4857 (test4) -7.5747 (test5) -8.9388 (test6) -5.7507 (test7) -17.0808 (test8) -10.0095 (test9) -8.0430\n",
      "\n"
     ]
    },
    {
     "name": "stderr",
     "output_type": "stream",
     "text": [
      "Epoch 19: 100%|██████████| 240/240 [00:00<00:00, 524.50it/s]\n"
     ]
    },
    {
     "name": "stdout",
     "output_type": "stream",
     "text": [
      "(val) -11.5440 (test) -12.5387 (test1) -6.0276 (test2) -6.7986 (test3) -23.7868 (test4) -8.0007 (test5) -9.3488 (test6) -12.5263 (test7) -12.1326 (test8) -15.8769 (test9) -7.6812\n",
      "\n"
     ]
    },
    {
     "name": "stderr",
     "output_type": "stream",
     "text": [
      "Epoch 20: 100%|██████████| 240/240 [00:00<00:00, 561.64it/s]\n"
     ]
    },
    {
     "name": "stdout",
     "output_type": "stream",
     "text": [
      "(val) -11.0483 (test) -11.5282 (test1) -6.4694 (test2) -13.0691 (test3) -20.0752 (test4) -7.7600 (test5) -8.7823 (test6) -4.5377 (test7) -11.3399 (test8) -12.3603 (test9) -11.8794\n",
      "\n"
     ]
    },
    {
     "name": "stderr",
     "output_type": "stream",
     "text": [
      "Epoch 21: 100%|██████████| 240/240 [00:00<00:00, 564.02it/s]\n"
     ]
    },
    {
     "name": "stdout",
     "output_type": "stream",
     "text": [
      "(val) -15.8743 (test) -18.5888 (test1) -4.2489 (test2) -15.4744 (test3) -27.7368 (test4) -9.6504 (test5) -12.0279 (test6) -13.2884 (test7) -21.1028 (test8) -29.7508 (test9) -18.3909\n",
      "\n"
     ]
    },
    {
     "name": "stderr",
     "output_type": "stream",
     "text": [
      "Epoch 22: 100%|██████████| 240/240 [00:00<00:00, 562.26it/s]\n"
     ]
    },
    {
     "name": "stdout",
     "output_type": "stream",
     "text": [
      "(val) -9.2443 (test) -9.4202 (test1) -9.1022 (test2) -3.8484 (test3) -13.5302 (test4) -9.2743 (test5) -9.6261 (test6) -5.2130 (test7) -8.9104 (test8) -10.5570 (test9) -11.0113\n",
      "🌸 New best epoch! 🌸\n",
      "\n"
     ]
    },
    {
     "name": "stderr",
     "output_type": "stream",
     "text": [
      "Epoch 23: 100%|██████████| 240/240 [00:00<00:00, 578.49it/s]\n"
     ]
    },
    {
     "name": "stdout",
     "output_type": "stream",
     "text": [
      "(val) -8.4433 (test) -8.9925 (test1) -11.4822 (test2) -2.8210 (test3) -11.2648 (test4) -8.7737 (test5) -9.3865 (test6) -5.1101 (test7) -8.3626 (test8) -12.6794 (test9) -6.2607\n",
      "🌸 New best epoch! 🌸\n",
      "\n"
     ]
    },
    {
     "name": "stderr",
     "output_type": "stream",
     "text": [
      "Epoch 24: 100%|██████████| 240/240 [00:00<00:00, 540.20it/s]\n"
     ]
    },
    {
     "name": "stdout",
     "output_type": "stream",
     "text": [
      "(val) -10.6256 (test) -10.8802 (test1) -7.8069 (test2) -9.7339 (test3) -18.1745 (test4) -6.6356 (test5) -9.0019 (test6) -3.7727 (test7) -12.9130 (test8) -11.9837 (test9) -11.3903\n",
      "\n"
     ]
    },
    {
     "name": "stderr",
     "output_type": "stream",
     "text": [
      "Epoch 25: 100%|██████████| 240/240 [00:00<00:00, 576.28it/s]\n"
     ]
    },
    {
     "name": "stdout",
     "output_type": "stream",
     "text": [
      "(val) -11.2392 (test) -12.5769 (test1) -4.4777 (test2) -14.5162 (test3) -21.4668 (test4) -7.3062 (test5) -9.6224 (test6) -10.2686 (test7) -12.2152 (test8) -14.8571 (test9) -10.5186\n",
      "\n"
     ]
    },
    {
     "name": "stderr",
     "output_type": "stream",
     "text": [
      "Epoch 26: 100%|██████████| 240/240 [00:00<00:00, 562.54it/s]\n"
     ]
    },
    {
     "name": "stdout",
     "output_type": "stream",
     "text": [
      "(val) -11.9314 (test) -10.5263 (test1) -12.3336 (test2) -7.1338 (test3) -19.1156 (test4) -6.8417 (test5) -9.2385 (test6) -3.9788 (test7) -10.4238 (test8) -9.7701 (test9) -8.7581\n",
      "\n"
     ]
    },
    {
     "name": "stderr",
     "output_type": "stream",
     "text": [
      "Epoch 27: 100%|██████████| 240/240 [00:00<00:00, 578.41it/s]\n"
     ]
    },
    {
     "name": "stdout",
     "output_type": "stream",
     "text": [
      "(val) -9.3973 (test) -9.4756 (test1) -5.3234 (test2) -8.7964 (test3) -14.6303 (test4) -9.1553 (test5) -8.9634 (test6) -8.3300 (test7) -9.4052 (test8) -10.9360 (test9) -6.8351\n",
      "\n"
     ]
    },
    {
     "name": "stderr",
     "output_type": "stream",
     "text": [
      "Epoch 28: 100%|██████████| 240/240 [00:00<00:00, 569.10it/s]\n"
     ]
    },
    {
     "name": "stdout",
     "output_type": "stream",
     "text": [
      "(val) -9.9131 (test) -9.8418 (test1) -7.3170 (test2) -2.7926 (test3) -15.7367 (test4) -8.5086 (test5) -8.3436 (test6) -9.5422 (test7) -11.0498 (test8) -11.5678 (test9) -8.5903\n",
      "\n"
     ]
    },
    {
     "name": "stderr",
     "output_type": "stream",
     "text": [
      "Epoch 29: 100%|██████████| 240/240 [00:00<00:00, 584.99it/s]\n"
     ]
    },
    {
     "name": "stdout",
     "output_type": "stream",
     "text": [
      "(val) -10.3234 (test) -9.9251 (test1) -16.7399 (test2) -7.3113 (test3) -10.8030 (test4) -7.0149 (test5) -8.8360 (test6) -4.9817 (test7) -7.6352 (test8) -8.6237 (test9) -12.3054\n",
      "\n"
     ]
    },
    {
     "name": "stderr",
     "output_type": "stream",
     "text": [
      "Epoch 30: 100%|██████████| 240/240 [00:00<00:00, 590.36it/s]\n"
     ]
    },
    {
     "name": "stdout",
     "output_type": "stream",
     "text": [
      "(val) -10.2282 (test) -10.4721 (test1) -5.6610 (test2) -12.0074 (test3) -17.3982 (test4) -8.0769 (test5) -8.2496 (test6) -8.9970 (test7) -7.1785 (test8) -13.4162 (test9) -7.8923\n",
      "\n"
     ]
    },
    {
     "name": "stderr",
     "output_type": "stream",
     "text": [
      "Epoch 31: 100%|██████████| 240/240 [00:00<00:00, 581.72it/s]\n"
     ]
    },
    {
     "name": "stdout",
     "output_type": "stream",
     "text": [
      "(val) -9.4382 (test) -10.4246 (test1) -14.9946 (test2) -2.8367 (test3) -12.7309 (test4) -7.6925 (test5) -9.3097 (test6) -9.4769 (test7) -10.5385 (test8) -10.1426 (test9) -11.5546\n",
      "\n"
     ]
    },
    {
     "name": "stderr",
     "output_type": "stream",
     "text": [
      "Epoch 32: 100%|██████████| 240/240 [00:00<00:00, 568.74it/s]\n"
     ]
    },
    {
     "name": "stdout",
     "output_type": "stream",
     "text": [
      "(val) -10.4638 (test) -9.3524 (test1) -8.8820 (test2) -6.3230 (test3) -11.8188 (test4) -8.6050 (test5) -8.1576 (test6) -9.7852 (test7) -7.8843 (test8) -12.5232 (test9) -8.5621\n",
      "\n"
     ]
    },
    {
     "name": "stderr",
     "output_type": "stream",
     "text": [
      "Epoch 33: 100%|██████████| 240/240 [00:00<00:00, 591.88it/s]\n"
     ]
    },
    {
     "name": "stdout",
     "output_type": "stream",
     "text": [
      "(val) -8.0634 (test) -9.6688 (test1) -9.2308 (test2) -4.3848 (test3) -15.3796 (test4) -7.4217 (test5) -8.2046 (test6) -6.6459 (test7) -8.4477 (test8) -11.5284 (test9) -11.3828\n",
      "\n"
     ]
    },
    {
     "name": "stderr",
     "output_type": "stream",
     "text": [
      "Epoch 34: 100%|██████████| 240/240 [00:00<00:00, 568.11it/s]\n"
     ]
    },
    {
     "name": "stdout",
     "output_type": "stream",
     "text": [
      "(val) -10.4417 (test) -9.7269 (test1) -6.5770 (test2) -8.4290 (test3) -14.1980 (test4) -7.9971 (test5) -9.5868 (test6) -8.5567 (test7) -10.8653 (test8) -12.1049 (test9) -6.4782\n",
      "\n"
     ]
    },
    {
     "name": "stderr",
     "output_type": "stream",
     "text": [
      "Epoch 35: 100%|██████████| 240/240 [00:00<00:00, 551.82it/s]\n"
     ]
    },
    {
     "name": "stdout",
     "output_type": "stream",
     "text": [
      "(val) -12.1266 (test) -11.0794 (test1) -14.9997 (test2) -8.7057 (test3) -4.0971 (test4) -9.8873 (test5) -11.4370 (test6) -9.0887 (test7) -7.5456 (test8) -8.8329 (test9) -18.4688\n",
      "\n"
     ]
    },
    {
     "name": "stderr",
     "output_type": "stream",
     "text": [
      "Epoch 36: 100%|██████████| 240/240 [00:00<00:00, 548.10it/s]\n"
     ]
    },
    {
     "name": "stdout",
     "output_type": "stream",
     "text": [
      "(val) -9.2205 (test) -9.6150 (test1) -16.0947 (test2) -4.7908 (test3) -8.7467 (test4) -6.9658 (test5) -9.1936 (test6) -8.0694 (test7) -7.9476 (test8) -11.0313 (test9) -9.5148\n",
      "\n"
     ]
    },
    {
     "name": "stderr",
     "output_type": "stream",
     "text": [
      "Epoch 37: 100%|██████████| 240/240 [00:00<00:00, 559.35it/s]\n"
     ]
    },
    {
     "name": "stdout",
     "output_type": "stream",
     "text": [
      "(val) -10.4733 (test) -11.2564 (test1) -3.2200 (test2) -9.7474 (test3) -18.5230 (test4) -9.6889 (test5) -8.4742 (test6) -8.5651 (test7) -9.5648 (test8) -17.3402 (test9) -7.7879\n",
      "\n"
     ]
    },
    {
     "name": "stderr",
     "output_type": "stream",
     "text": [
      "Epoch 38: 100%|██████████| 240/240 [00:00<00:00, 564.50it/s]\n"
     ]
    },
    {
     "name": "stdout",
     "output_type": "stream",
     "text": [
      "(val) -9.9759 (test) -10.0320 (test1) -5.6643 (test2) -10.5454 (test3) -12.7503 (test4) -6.9427 (test5) -7.8472 (test6) -6.2604 (test7) -12.0412 (test8) -14.1157 (test9) -10.3289\n",
      "\n"
     ]
    },
    {
     "name": "stderr",
     "output_type": "stream",
     "text": [
      "Epoch 39: 100%|██████████| 240/240 [00:00<00:00, 547.28it/s]\n"
     ]
    },
    {
     "name": "stdout",
     "output_type": "stream",
     "text": [
      "(val) -10.0425 (test) -11.1438 (test1) -5.1492 (test2) -6.5382 (test3) -20.7694 (test4) -9.5924 (test5) -8.1252 (test6) -4.7865 (test7) -13.7411 (test8) -9.9126 (test9) -12.2067\n",
      "\n"
     ]
    },
    {
     "name": "stderr",
     "output_type": "stream",
     "text": [
      "Epoch 40: 100%|██████████| 240/240 [00:00<00:00, 521.27it/s]\n"
     ]
    },
    {
     "name": "stdout",
     "output_type": "stream",
     "text": [
      "(val) -11.5492 (test) -11.8555 (test1) -4.8717 (test2) -11.5384 (test3) -19.6932 (test4) -9.2847 (test5) -9.1436 (test6) -4.0422 (test7) -9.6881 (test8) -8.7191 (test9) -19.0853\n",
      "\n"
     ]
    },
    {
     "name": "stderr",
     "output_type": "stream",
     "text": [
      "Epoch 41: 100%|██████████| 240/240 [00:00<00:00, 548.32it/s]\n"
     ]
    },
    {
     "name": "stdout",
     "output_type": "stream",
     "text": [
      "(val) -9.2540 (test) -8.9662 (test1) -6.3817 (test2) -2.9922 (test3) -12.7335 (test4) -6.2811 (test5) -8.8599 (test6) -6.5598 (test7) -10.9197 (test8) -9.4515 (test9) -11.9229\n",
      "🌸 New best epoch! 🌸\n",
      "\n"
     ]
    },
    {
     "name": "stderr",
     "output_type": "stream",
     "text": [
      "Epoch 42: 100%|██████████| 240/240 [00:00<00:00, 556.27it/s]\n"
     ]
    },
    {
     "name": "stdout",
     "output_type": "stream",
     "text": [
      "(val) -9.5490 (test) -8.4986 (test1) -9.5498 (test2) -3.0342 (test3) -10.1927 (test4) -6.5762 (test5) -9.0308 (test6) -7.2805 (test7) -8.5896 (test8) -12.1803 (test9) -6.7664\n",
      "🌸 New best epoch! 🌸\n",
      "\n"
     ]
    },
    {
     "name": "stderr",
     "output_type": "stream",
     "text": [
      "Epoch 43: 100%|██████████| 240/240 [00:00<00:00, 564.33it/s]\n"
     ]
    },
    {
     "name": "stdout",
     "output_type": "stream",
     "text": [
      "(val) -10.1144 (test) -10.1539 (test1) -8.5188 (test2) -2.9185 (test3) -15.5215 (test4) -9.0666 (test5) -10.2071 (test6) -10.4704 (test7) -11.0509 (test8) -11.2160 (test9) -7.8720\n",
      "\n"
     ]
    },
    {
     "name": "stderr",
     "output_type": "stream",
     "text": [
      "Epoch 44: 100%|██████████| 240/240 [00:00<00:00, 570.62it/s]\n"
     ]
    },
    {
     "name": "stdout",
     "output_type": "stream",
     "text": [
      "(val) -8.4634 (test) -8.1282 (test1) -6.1841 (test2) -5.1630 (test3) -12.5831 (test4) -6.8649 (test5) -6.9136 (test6) -7.5190 (test7) -7.5655 (test8) -10.4553 (test9) -7.3053\n",
      "🌸 New best epoch! 🌸\n",
      "\n"
     ]
    },
    {
     "name": "stderr",
     "output_type": "stream",
     "text": [
      "Epoch 45: 100%|██████████| 240/240 [00:00<00:00, 511.12it/s]\n"
     ]
    },
    {
     "name": "stdout",
     "output_type": "stream",
     "text": [
      "(val) -8.1649 (test) -8.4537 (test1) -7.9897 (test2) -3.4470 (test3) -12.0198 (test4) -7.9318 (test5) -7.3627 (test6) -5.6076 (test7) -10.6201 (test8) -9.1793 (test9) -8.7965\n",
      "\n"
     ]
    },
    {
     "name": "stderr",
     "output_type": "stream",
     "text": [
      "Epoch 46: 100%|██████████| 240/240 [00:00<00:00, 574.98it/s]\n"
     ]
    },
    {
     "name": "stdout",
     "output_type": "stream",
     "text": [
      "(val) -9.5282 (test) -11.3287 (test1) -17.9136 (test2) -3.3761 (test3) -8.9677 (test4) -6.7569 (test5) -6.8600 (test6) -4.8531 (test7) -14.8677 (test8) -10.5315 (test9) -17.1498\n",
      "\n"
     ]
    },
    {
     "name": "stderr",
     "output_type": "stream",
     "text": [
      "Epoch 47: 100%|██████████| 240/240 [00:00<00:00, 575.86it/s]\n"
     ]
    },
    {
     "name": "stdout",
     "output_type": "stream",
     "text": [
      "(val) -8.9982 (test) -10.3098 (test1) -7.2001 (test2) -13.2779 (test3) -14.0811 (test4) -9.6706 (test5) -7.5999 (test6) -6.3600 (test7) -7.6803 (test8) -14.5712 (test9) -8.1956\n",
      "\n"
     ]
    },
    {
     "name": "stderr",
     "output_type": "stream",
     "text": [
      "Epoch 48: 100%|██████████| 240/240 [00:00<00:00, 585.97it/s]\n"
     ]
    },
    {
     "name": "stdout",
     "output_type": "stream",
     "text": [
      "(val) -9.9470 (test) -10.7830 (test1) -3.9586 (test2) -9.2090 (test3) -16.4142 (test4) -6.6670 (test5) -7.3936 (test6) -4.8209 (test7) -10.2362 (test8) -7.5945 (test9) -19.7924\n",
      "\n"
     ]
    },
    {
     "name": "stderr",
     "output_type": "stream",
     "text": [
      "Epoch 49: 100%|██████████| 240/240 [00:00<00:00, 585.79it/s]\n"
     ]
    },
    {
     "name": "stdout",
     "output_type": "stream",
     "text": [
      "(val) -10.4200 (test) -9.7795 (test1) -7.0846 (test2) -3.1923 (test3) -9.6470 (test4) -7.8884 (test5) -9.8531 (test6) -8.5449 (test7) -13.0946 (test8) -10.0839 (test9) -14.2061\n",
      "\n"
     ]
    },
    {
     "name": "stderr",
     "output_type": "stream",
     "text": [
      "Epoch 50: 100%|██████████| 240/240 [00:00<00:00, 576.60it/s]\n"
     ]
    },
    {
     "name": "stdout",
     "output_type": "stream",
     "text": [
      "(val) -9.8372 (test) -10.3929 (test1) -5.2876 (test2) -3.7236 (test3) -12.1479 (test4) -10.0712 (test5) -7.0721 (test6) -8.9399 (test7) -12.6076 (test8) -17.4337 (test9) -9.4052\n",
      "\n"
     ]
    },
    {
     "name": "stderr",
     "output_type": "stream",
     "text": [
      "Epoch 51: 100%|██████████| 240/240 [00:00<00:00, 550.47it/s]\n"
     ]
    },
    {
     "name": "stdout",
     "output_type": "stream",
     "text": [
      "(val) -8.8941 (test) -8.2818 (test1) -4.5983 (test2) -7.3085 (test3) -14.5074 (test4) -7.0151 (test5) -6.7696 (test6) -6.2534 (test7) -5.6872 (test8) -8.2303 (test9) -9.9016\n",
      "\n"
     ]
    },
    {
     "name": "stderr",
     "output_type": "stream",
     "text": [
      "Epoch 52: 100%|██████████| 240/240 [00:00<00:00, 560.86it/s]\n"
     ]
    },
    {
     "name": "stdout",
     "output_type": "stream",
     "text": [
      "(val) -10.2000 (test) -10.3655 (test1) -9.8730 (test2) -2.6607 (test3) -9.8064 (test4) -6.3042 (test5) -8.4241 (test6) -7.3965 (test7) -16.1342 (test8) -14.8043 (test9) -11.0174\n",
      "\n"
     ]
    },
    {
     "name": "stderr",
     "output_type": "stream",
     "text": [
      "Epoch 53: 100%|██████████| 240/240 [00:00<00:00, 586.46it/s]\n"
     ]
    },
    {
     "name": "stdout",
     "output_type": "stream",
     "text": [
      "(val) -10.9032 (test) -9.4930 (test1) -6.3616 (test2) -4.7490 (test3) -14.6348 (test4) -6.6317 (test5) -8.4726 (test6) -7.2415 (test7) -8.8900 (test8) -9.6125 (test9) -13.9360\n",
      "\n"
     ]
    },
    {
     "name": "stderr",
     "output_type": "stream",
     "text": [
      "Epoch 54: 100%|██████████| 240/240 [00:00<00:00, 562.90it/s]\n"
     ]
    },
    {
     "name": "stdout",
     "output_type": "stream",
     "text": [
      "(val) -10.0069 (test) -8.5955 (test1) -5.1185 (test2) -5.7807 (test3) -13.8341 (test4) -7.7768 (test5) -8.3106 (test6) -5.0973 (test7) -7.1067 (test8) -8.9989 (test9) -11.2665\n",
      "\n"
     ]
    },
    {
     "name": "stderr",
     "output_type": "stream",
     "text": [
      "Epoch 55: 100%|██████████| 240/240 [00:00<00:00, 574.57it/s]\n"
     ]
    },
    {
     "name": "stdout",
     "output_type": "stream",
     "text": [
      "(val) -9.4229 (test) -8.2388 (test1) -7.7231 (test2) -3.6154 (test3) -7.1359 (test4) -6.9876 (test5) -8.1209 (test6) -7.8703 (test7) -9.8410 (test8) -6.6109 (test9) -13.0380\n",
      "\n"
     ]
    },
    {
     "name": "stderr",
     "output_type": "stream",
     "text": [
      "Epoch 56: 100%|██████████| 240/240 [00:00<00:00, 544.98it/s]\n"
     ]
    },
    {
     "name": "stdout",
     "output_type": "stream",
     "text": [
      "(val) -9.9483 (test) -9.3319 (test1) -3.8443 (test2) -5.6962 (test3) -6.2994 (test4) -7.4010 (test5) -6.2984 (test6) -7.3892 (test7) -6.2224 (test8) -10.5930 (test9) -19.9216\n",
      "\n"
     ]
    },
    {
     "name": "stderr",
     "output_type": "stream",
     "text": [
      "Epoch 57: 100%|██████████| 240/240 [00:00<00:00, 581.11it/s]\n"
     ]
    },
    {
     "name": "stdout",
     "output_type": "stream",
     "text": [
      "(val) -9.0448 (test) -9.0686 (test1) -5.6795 (test2) -5.5914 (test3) -12.6688 (test4) -9.1277 (test5) -7.5477 (test6) -6.7224 (test7) -5.8585 (test8) -9.9362 (test9) -14.0574\n",
      "\n"
     ]
    },
    {
     "name": "stderr",
     "output_type": "stream",
     "text": [
      "Epoch 58: 100%|██████████| 240/240 [00:00<00:00, 561.62it/s]\n"
     ]
    },
    {
     "name": "stdout",
     "output_type": "stream",
     "text": [
      "(val) -10.8073 (test) -10.2229 (test1) -15.4505 (test2) -5.4341 (test3) -9.1949 (test4) -7.9106 (test5) -6.2736 (test6) -11.0496 (test7) -11.4581 (test8) -11.9178 (test9) -9.5094\n",
      "\n"
     ]
    },
    {
     "name": "stderr",
     "output_type": "stream",
     "text": [
      "Epoch 59: 100%|██████████| 240/240 [00:00<00:00, 565.52it/s]\n"
     ]
    },
    {
     "name": "stdout",
     "output_type": "stream",
     "text": [
      "(val) -11.8193 (test) -12.2290 (test1) -11.2579 (test2) -3.7411 (test3) -13.1930 (test4) -7.6780 (test5) -6.4701 (test6) -6.0174 (test7) -19.0855 (test8) -14.9976 (test9) -17.4624\n",
      "\n"
     ]
    },
    {
     "name": "stderr",
     "output_type": "stream",
     "text": [
      "Epoch 60: 100%|██████████| 240/240 [00:00<00:00, 551.69it/s]\n"
     ]
    },
    {
     "name": "stdout",
     "output_type": "stream",
     "text": [
      "(val) -9.2337 (test) -8.9910 (test1) -7.6893 (test2) -3.5591 (test3) -11.6530 (test4) -7.2710 (test5) -9.2072 (test6) -8.6750 (test7) -8.6406 (test8) -11.6284 (test9) -9.8580\n",
      "\n"
     ]
    },
    {
     "name": "stderr",
     "output_type": "stream",
     "text": [
      "Epoch 61: 100%|██████████| 240/240 [00:00<00:00, 559.07it/s]\n"
     ]
    },
    {
     "name": "stdout",
     "output_type": "stream",
     "text": [
      "(val) -9.0792 (test) -9.7432 (test1) -8.2288 (test2) -4.9574 (test3) -15.0325 (test4) -7.2103 (test5) -7.1329 (test6) -7.0243 (test7) -11.9818 (test8) -13.0969 (test9) -8.2948\n",
      "\n"
     ]
    },
    {
     "name": "stderr",
     "output_type": "stream",
     "text": [
      "Epoch 62: 100%|██████████| 240/240 [00:00<00:00, 530.94it/s]\n"
     ]
    },
    {
     "name": "stdout",
     "output_type": "stream",
     "text": [
      "(val) -8.2389 (test) -7.1335 (test1) -4.7692 (test2) -3.1413 (test3) -10.5026 (test4) -5.9755 (test5) -7.3674 (test6) -6.0096 (test7) -9.1237 (test8) -7.0473 (test9) -7.4872\n",
      "🌸 New best epoch! 🌸\n",
      "\n"
     ]
    },
    {
     "name": "stderr",
     "output_type": "stream",
     "text": [
      "Epoch 63: 100%|██████████| 240/240 [00:00<00:00, 560.16it/s]\n"
     ]
    },
    {
     "name": "stdout",
     "output_type": "stream",
     "text": [
      "(val) -10.1427 (test) -9.9087 (test1) -7.1277 (test2) -9.8442 (test3) -15.7060 (test4) -8.0890 (test5) -6.2549 (test6) -8.0381 (test7) -10.4387 (test8) -10.7323 (test9) -9.7944\n",
      "\n"
     ]
    },
    {
     "name": "stderr",
     "output_type": "stream",
     "text": [
      "Epoch 64: 100%|██████████| 240/240 [00:00<00:00, 552.36it/s]\n"
     ]
    },
    {
     "name": "stdout",
     "output_type": "stream",
     "text": [
      "(val) -8.4762 (test) -8.6006 (test1) -10.6743 (test2) -2.9068 (test3) -11.0212 (test4) -7.4400 (test5) -5.9294 (test6) -7.3229 (test7) -11.0646 (test8) -10.2630 (test9) -7.0701\n",
      "\n"
     ]
    },
    {
     "name": "stderr",
     "output_type": "stream",
     "text": [
      "Epoch 65: 100%|██████████| 240/240 [00:00<00:00, 548.23it/s]\n"
     ]
    },
    {
     "name": "stdout",
     "output_type": "stream",
     "text": [
      "(val) -9.4535 (test) -9.4044 (test1) -4.9488 (test2) -7.0715 (test3) -14.0930 (test4) -9.6470 (test5) -7.0684 (test6) -10.5951 (test7) -10.8595 (test8) -9.2251 (test9) -8.0346\n",
      "\n"
     ]
    },
    {
     "name": "stderr",
     "output_type": "stream",
     "text": [
      "Epoch 66: 100%|██████████| 240/240 [00:00<00:00, 519.63it/s]\n"
     ]
    },
    {
     "name": "stdout",
     "output_type": "stream",
     "text": [
      "(val) -9.5156 (test) -9.0812 (test1) -4.2278 (test2) -4.5362 (test3) -15.6525 (test4) -8.7051 (test5) -5.4426 (test6) -5.8737 (test7) -8.0555 (test8) -9.1111 (test9) -13.0748\n",
      "\n"
     ]
    },
    {
     "name": "stderr",
     "output_type": "stream",
     "text": [
      "Epoch 67: 100%|██████████| 240/240 [00:00<00:00, 533.19it/s]\n"
     ]
    },
    {
     "name": "stdout",
     "output_type": "stream",
     "text": [
      "(val) -8.0795 (test) -8.5554 (test1) -4.1422 (test2) -7.4130 (test3) -9.4351 (test4) -6.7814 (test5) -5.3230 (test6) -6.2154 (test7) -9.4167 (test8) -14.3819 (test9) -9.4422\n",
      "\n"
     ]
    },
    {
     "name": "stderr",
     "output_type": "stream",
     "text": [
      "Epoch 68: 100%|██████████| 240/240 [00:00<00:00, 572.16it/s]\n"
     ]
    },
    {
     "name": "stdout",
     "output_type": "stream",
     "text": [
      "(val) -8.9819 (test) -9.2966 (test1) -5.0982 (test2) -9.4080 (test3) -15.1020 (test4) -6.4070 (test5) -6.6541 (test6) -8.1503 (test7) -9.7048 (test8) -10.4333 (test9) -8.9710\n",
      "\n"
     ]
    },
    {
     "name": "stderr",
     "output_type": "stream",
     "text": [
      "Epoch 69: 100%|██████████| 240/240 [00:00<00:00, 607.43it/s]\n"
     ]
    },
    {
     "name": "stdout",
     "output_type": "stream",
     "text": [
      "(val) -7.5776 (test) -7.8894 (test1) -5.2498 (test2) -2.2300 (test3) -9.3445 (test4) -6.2466 (test5) -5.9115 (test6) -9.0404 (test7) -11.3321 (test8) -8.6364 (test9) -9.0350\n",
      "\n"
     ]
    },
    {
     "name": "stderr",
     "output_type": "stream",
     "text": [
      "Epoch 70: 100%|██████████| 240/240 [00:00<00:00, 563.11it/s]\n"
     ]
    },
    {
     "name": "stdout",
     "output_type": "stream",
     "text": [
      "(val) -9.1064 (test) -9.4742 (test1) -5.5466 (test2) -7.9554 (test3) -8.8936 (test4) -6.6766 (test5) -5.6573 (test6) -9.0159 (test7) -8.2884 (test8) -15.9168 (test9) -12.4409\n",
      "\n"
     ]
    },
    {
     "name": "stderr",
     "output_type": "stream",
     "text": [
      "Epoch 71: 100%|██████████| 240/240 [00:00<00:00, 570.01it/s]\n"
     ]
    },
    {
     "name": "stdout",
     "output_type": "stream",
     "text": [
      "(val) -9.4022 (test) -9.0998 (test1) -11.7046 (test2) -12.3856 (test3) -13.0235 (test4) -6.7652 (test5) -5.2877 (test6) -7.0000 (test7) -7.2165 (test8) -8.9262 (test9) -5.5463\n",
      "\n"
     ]
    },
    {
     "name": "stderr",
     "output_type": "stream",
     "text": [
      "Epoch 72: 100%|██████████| 240/240 [00:00<00:00, 543.74it/s]\n"
     ]
    },
    {
     "name": "stdout",
     "output_type": "stream",
     "text": [
      "(val) -7.3734 (test) -8.4169 (test1) -5.7953 (test2) -5.0204 (test3) -7.0136 (test4) -8.9064 (test5) -5.1003 (test6) -7.7964 (test7) -10.0345 (test8) -11.9628 (test9) -10.9404\n",
      "\n"
     ]
    },
    {
     "name": "stderr",
     "output_type": "stream",
     "text": [
      "Epoch 73: 100%|██████████| 240/240 [00:00<00:00, 560.03it/s]\n"
     ]
    },
    {
     "name": "stdout",
     "output_type": "stream",
     "text": [
      "(val) -7.7408 (test) -10.2601 (test1) -10.6489 (test2) -4.2811 (test3) -13.6730 (test4) -7.8190 (test5) -5.4598 (test6) -10.1766 (test7) -13.1522 (test8) -14.0202 (test9) -8.0437\n",
      "\n"
     ]
    },
    {
     "name": "stderr",
     "output_type": "stream",
     "text": [
      "Epoch 74: 100%|██████████| 240/240 [00:00<00:00, 575.20it/s]\n"
     ]
    },
    {
     "name": "stdout",
     "output_type": "stream",
     "text": [
      "(val) -8.6873 (test) -9.5508 (test1) -6.6759 (test2) -5.8978 (test3) -12.5425 (test4) -7.2750 (test5) -6.0012 (test6) -10.2869 (test7) -12.2276 (test8) -12.7507 (test9) -8.8002\n",
      "\n"
     ]
    },
    {
     "name": "stderr",
     "output_type": "stream",
     "text": [
      "Epoch 75: 100%|██████████| 240/240 [00:00<00:00, 588.55it/s]\n"
     ]
    },
    {
     "name": "stdout",
     "output_type": "stream",
     "text": [
      "(val) -8.4253 (test) -9.5597 (test1) -7.6024 (test2) -3.7482 (test3) -13.2324 (test4) -7.1679 (test5) -4.9270 (test6) -9.2513 (test7) -11.7167 (test8) -11.5677 (test9) -11.9670\n",
      "\n"
     ]
    },
    {
     "name": "stderr",
     "output_type": "stream",
     "text": [
      "Epoch 76: 100%|██████████| 240/240 [00:00<00:00, 576.37it/s]\n"
     ]
    },
    {
     "name": "stdout",
     "output_type": "stream",
     "text": [
      "(val) -10.2928 (test) -10.4746 (test1) -3.5786 (test2) -11.2477 (test3) -18.8065 (test4) -9.0311 (test5) -8.4889 (test6) -9.4804 (test7) -9.2152 (test8) -7.7502 (test9) -10.2946\n",
      "\n"
     ]
    },
    {
     "name": "stderr",
     "output_type": "stream",
     "text": [
      "Epoch 77: 100%|██████████| 240/240 [00:00<00:00, 577.98it/s]\n"
     ]
    },
    {
     "name": "stdout",
     "output_type": "stream",
     "text": [
      "(val) -9.9154 (test) -11.4670 (test1) -7.1816 (test2) -6.8633 (test3) -14.1209 (test4) -6.9070 (test5) -5.6351 (test6) -7.5545 (test7) -10.9361 (test8) -7.1362 (test9) -24.0477\n",
      "\n"
     ]
    },
    {
     "name": "stderr",
     "output_type": "stream",
     "text": [
      "Epoch 78: 100%|██████████| 240/240 [00:00<00:00, 588.00it/s]\n"
     ]
    },
    {
     "name": "stdout",
     "output_type": "stream",
     "text": [
      "(val) -8.2180 (test) -8.9547 (test1) -3.2986 (test2) -6.3928 (test3) -10.1340 (test4) -8.4929 (test5) -4.0670 (test6) -4.4826 (test7) -9.8446 (test8) -10.2407 (test9) -16.0211\n",
      "\n"
     ]
    },
    {
     "name": "stderr",
     "output_type": "stream",
     "text": [
      "Epoch 79: 100%|██████████| 240/240 [00:00<00:00, 564.68it/s]\n"
     ]
    },
    {
     "name": "stdout",
     "output_type": "stream",
     "text": [
      "(val) -8.6136 (test) -9.7389 (test1) -7.0999 (test2) -6.1980 (test3) -12.4320 (test4) -7.7745 (test5) -4.6270 (test6) -8.0036 (test7) -11.1032 (test8) -11.9283 (test9) -14.0980\n",
      "\n"
     ]
    },
    {
     "name": "stderr",
     "output_type": "stream",
     "text": [
      "Epoch 80: 100%|██████████| 240/240 [00:00<00:00, 560.28it/s]\n"
     ]
    },
    {
     "name": "stdout",
     "output_type": "stream",
     "text": [
      "(val) -9.7315 (test) -10.7543 (test1) -21.7262 (test2) -4.8277 (test3) -6.9511 (test4) -5.6578 (test5) -5.1626 (test6) -3.0487 (test7) -13.2718 (test8) -14.0251 (test9) -7.5125\n",
      "\n"
     ]
    },
    {
     "name": "stderr",
     "output_type": "stream",
     "text": [
      "Epoch 81: 100%|██████████| 240/240 [00:00<00:00, 566.53it/s]\n"
     ]
    },
    {
     "name": "stdout",
     "output_type": "stream",
     "text": [
      "(val) -7.6049 (test) -9.0017 (test1) -5.2973 (test2) -9.4386 (test3) -12.5676 (test4) -5.2805 (test5) -5.4752 (test6) -10.2767 (test7) -10.5667 (test8) -11.5429 (test9) -6.7681\n",
      "\n"
     ]
    },
    {
     "name": "stderr",
     "output_type": "stream",
     "text": [
      "Epoch 82: 100%|██████████| 240/240 [00:00<00:00, 564.69it/s]\n"
     ]
    },
    {
     "name": "stdout",
     "output_type": "stream",
     "text": [
      "(val) -10.5787 (test) -12.5250 (test1) -12.6408 (test2) -16.2829 (test3) -10.9092 (test4) -11.4426 (test5) -4.2486 (test6) -11.7513 (test7) -12.9472 (test8) -18.2093 (test9) -9.0367\n",
      "\n"
     ]
    },
    {
     "name": "stderr",
     "output_type": "stream",
     "text": [
      "Epoch 83: 100%|██████████| 240/240 [00:00<00:00, 526.32it/s]\n"
     ]
    },
    {
     "name": "stdout",
     "output_type": "stream",
     "text": [
      "(val) -8.2717 (test) -10.9816 (test1) -12.5657 (test2) -5.7954 (test3) -14.2017 (test4) -7.2906 (test5) -5.5210 (test6) -8.2554 (test7) -14.5344 (test8) -11.4765 (test9) -14.0512\n",
      "\n"
     ]
    },
    {
     "name": "stderr",
     "output_type": "stream",
     "text": [
      "Epoch 84: 100%|██████████| 240/240 [00:00<00:00, 547.14it/s]\n"
     ]
    },
    {
     "name": "stdout",
     "output_type": "stream",
     "text": [
      "(val) -9.1487 (test) -12.2371 (test1) -10.1071 (test2) -5.1985 (test3) -22.8831 (test4) -7.8484 (test5) -4.8027 (test6) -9.1317 (test7) -13.0856 (test8) -16.9682 (test9) -8.2279\n",
      "\n"
     ]
    },
    {
     "name": "stderr",
     "output_type": "stream",
     "text": [
      "Epoch 85: 100%|██████████| 240/240 [00:00<00:00, 566.06it/s]\n"
     ]
    },
    {
     "name": "stdout",
     "output_type": "stream",
     "text": [
      "(val) -10.5595 (test) -11.2340 (test1) -3.1286 (test2) -13.0105 (test3) -17.4091 (test4) -12.4717 (test5) -8.2805 (test6) -5.6566 (test7) -11.4907 (test8) -7.2108 (test9) -14.6131\n",
      "\n"
     ]
    },
    {
     "name": "stderr",
     "output_type": "stream",
     "text": [
      "Epoch 86: 100%|██████████| 240/240 [00:00<00:00, 578.72it/s]\n"
     ]
    },
    {
     "name": "stdout",
     "output_type": "stream",
     "text": [
      "(val) -8.1774 (test) -9.6855 (test1) -7.1716 (test2) -9.6838 (test3) -14.2601 (test4) -6.9854 (test5) -4.1358 (test6) -4.8722 (test7) -11.9241 (test8) -9.5919 (test9) -13.1107\n",
      "\n"
     ]
    },
    {
     "name": "stderr",
     "output_type": "stream",
     "text": [
      "Epoch 87: 100%|██████████| 240/240 [00:00<00:00, 576.36it/s]\n"
     ]
    },
    {
     "name": "stdout",
     "output_type": "stream",
     "text": [
      "(val) -8.1430 (test) -8.1447 (test1) -6.3572 (test2) -4.9529 (test3) -10.4949 (test4) -6.2483 (test5) -5.9130 (test6) -6.3177 (test7) -12.7180 (test8) -8.8067 (test9) -8.2892\n",
      "\n"
     ]
    },
    {
     "name": "stderr",
     "output_type": "stream",
     "text": [
      "Epoch 88: 100%|██████████| 240/240 [00:00<00:00, 521.30it/s]\n"
     ]
    },
    {
     "name": "stdout",
     "output_type": "stream",
     "text": [
      "(val) -8.2342 (test) -8.8475 (test1) -4.2239 (test2) -9.4039 (test3) -11.0580 (test4) -10.3014 (test5) -4.9650 (test6) -5.5352 (test7) -9.0178 (test8) -12.6531 (test9) -8.5515\n",
      "\n"
     ]
    },
    {
     "name": "stderr",
     "output_type": "stream",
     "text": [
      "Epoch 89: 100%|██████████| 240/240 [00:00<00:00, 564.31it/s]\n"
     ]
    },
    {
     "name": "stdout",
     "output_type": "stream",
     "text": [
      "(val) -7.7851 (test) -10.0575 (test1) -12.5974 (test2) -2.2890 (test3) -7.7001 (test4) -5.2716 (test5) -7.4699 (test6) -7.7359 (test7) -19.4805 (test8) -9.2537 (test9) -8.8656\n",
      "\n"
     ]
    },
    {
     "name": "stderr",
     "output_type": "stream",
     "text": [
      "Epoch 90: 100%|██████████| 240/240 [00:00<00:00, 578.18it/s]\n"
     ]
    },
    {
     "name": "stdout",
     "output_type": "stream",
     "text": [
      "(val) -7.3260 (test) -8.8908 (test1) -7.0434 (test2) -5.1317 (test3) -6.9825 (test4) -6.5266 (test5) -5.4970 (test6) -7.7641 (test7) -18.0735 (test8) -9.3525 (test9) -6.2851\n",
      "\n"
     ]
    },
    {
     "name": "stderr",
     "output_type": "stream",
     "text": [
      "Epoch 91: 100%|██████████| 240/240 [00:00<00:00, 580.27it/s]\n"
     ]
    },
    {
     "name": "stdout",
     "output_type": "stream",
     "text": [
      "(val) -7.7389 (test) -9.1053 (test1) -5.4657 (test2) -7.7664 (test3) -9.7092 (test4) -5.5604 (test5) -6.8628 (test6) -5.2132 (test7) -15.7941 (test8) -7.7325 (test9) -12.1349\n",
      "\n"
     ]
    },
    {
     "name": "stderr",
     "output_type": "stream",
     "text": [
      "Epoch 92: 100%|██████████| 240/240 [00:00<00:00, 581.64it/s]\n"
     ]
    },
    {
     "name": "stdout",
     "output_type": "stream",
     "text": [
      "(val) -7.0610 (test) -8.9167 (test1) -5.3691 (test2) -4.3998 (test3) -9.5626 (test4) -6.2848 (test5) -5.7058 (test6) -4.1007 (test7) -15.9576 (test8) -9.0898 (test9) -12.2389\n",
      "\n"
     ]
    },
    {
     "name": "stderr",
     "output_type": "stream",
     "text": [
      "Epoch 93: 100%|██████████| 240/240 [00:00<00:00, 593.39it/s]\n"
     ]
    },
    {
     "name": "stdout",
     "output_type": "stream",
     "text": [
      "(val) -8.5127 (test) -9.1863 (test1) -3.9515 (test2) -8.5786 (test3) -12.9849 (test4) -7.3969 (test5) -4.4343 (test6) -7.0881 (test7) -11.8923 (test8) -9.2060 (test9) -12.2832\n",
      "\n"
     ]
    },
    {
     "name": "stderr",
     "output_type": "stream",
     "text": [
      "Epoch 94: 100%|██████████| 240/240 [00:00<00:00, 585.34it/s]\n"
     ]
    },
    {
     "name": "stdout",
     "output_type": "stream",
     "text": [
      "(val) -8.7058 (test) -11.5774 (test1) -15.7566 (test2) -12.3028 (test3) -16.0959 (test4) -11.2149 (test5) -5.0879 (test6) -7.6034 (test7) -8.0030 (test8) -14.0809 (test9) -8.7072\n",
      "\n"
     ]
    },
    {
     "name": "stderr",
     "output_type": "stream",
     "text": [
      "Epoch 95: 100%|██████████| 240/240 [00:00<00:00, 573.69it/s]\n"
     ]
    },
    {
     "name": "stdout",
     "output_type": "stream",
     "text": [
      "(val) -7.3423 (test) -8.4026 (test1) -4.3109 (test2) -5.3784 (test3) -14.9355 (test4) -6.1582 (test5) -3.9937 (test6) -3.9672 (test7) -8.6740 (test8) -7.1723 (test9) -12.9833\n",
      "\n"
     ]
    },
    {
     "name": "stderr",
     "output_type": "stream",
     "text": [
      "Epoch 96: 100%|██████████| 240/240 [00:00<00:00, 584.96it/s]\n"
     ]
    },
    {
     "name": "stdout",
     "output_type": "stream",
     "text": [
      "(val) -7.3609 (test) -8.7351 (test1) -4.3646 (test2) -6.9113 (test3) -13.2060 (test4) -9.2828 (test5) -5.0481 (test6) -6.1242 (test7) -7.9106 (test8) -11.7233 (test9) -9.8151\n",
      "\n"
     ]
    },
    {
     "name": "stderr",
     "output_type": "stream",
     "text": [
      "Epoch 97: 100%|██████████| 240/240 [00:00<00:00, 581.13it/s]\n"
     ]
    },
    {
     "name": "stdout",
     "output_type": "stream",
     "text": [
      "(val) -9.0265 (test) -11.5132 (test1) -6.9737 (test2) -7.1319 (test3) -13.0568 (test4) -5.8970 (test5) -5.5603 (test6) -13.2801 (test7) -17.7755 (test8) -16.5181 (test9) -9.5993\n",
      "\n"
     ]
    },
    {
     "name": "stderr",
     "output_type": "stream",
     "text": [
      "Epoch 98: 100%|██████████| 240/240 [00:00<00:00, 577.39it/s]\n"
     ]
    },
    {
     "name": "stdout",
     "output_type": "stream",
     "text": [
      "(val) -7.7921 (test) -7.8943 (test1) -6.9549 (test2) -4.3692 (test3) -8.2023 (test4) -6.0255 (test5) -7.2044 (test6) -7.8852 (test7) -10.2372 (test8) -10.1997 (test9) -8.1800\n",
      "\n"
     ]
    },
    {
     "name": "stderr",
     "output_type": "stream",
     "text": [
      "Epoch 99: 100%|██████████| 240/240 [00:00<00:00, 549.77it/s]\n"
     ]
    },
    {
     "name": "stdout",
     "output_type": "stream",
     "text": [
      "(val) -7.7014 (test) -8.0606 (test1) -9.9148 (test2) -4.3462 (test3) -7.1596 (test4) -6.2578 (test5) -4.2464 (test6) -6.0812 (test7) -13.3244 (test8) -8.2489 (test9) -8.7494\n",
      "\n"
     ]
    },
    {
     "name": "stderr",
     "output_type": "stream",
     "text": [
      "Epoch 100: 100%|██████████| 240/240 [00:00<00:00, 587.72it/s]\n"
     ]
    },
    {
     "name": "stdout",
     "output_type": "stream",
     "text": [
      "(val) -7.9587 (test) -8.4425 (test1) -4.3686 (test2) -9.7159 (test3) -12.3824 (test4) -6.9522 (test5) -3.8624 (test6) -6.0546 (test7) -8.1647 (test8) -12.3681 (test9) -7.4253\n",
      "\n"
     ]
    },
    {
     "name": "stderr",
     "output_type": "stream",
     "text": [
      "Epoch 101: 100%|██████████| 240/240 [00:00<00:00, 578.48it/s]\n"
     ]
    },
    {
     "name": "stdout",
     "output_type": "stream",
     "text": [
      "(val) -7.2699 (test) -9.1489 (test1) -8.4683 (test2) -5.1280 (test3) -16.2573 (test4) -5.7147 (test5) -4.4551 (test6) -6.8917 (test7) -11.5147 (test8) -7.0064 (test9) -10.4560\n",
      "\n"
     ]
    },
    {
     "name": "stderr",
     "output_type": "stream",
     "text": [
      "Epoch 102: 100%|██████████| 240/240 [00:00<00:00, 557.98it/s]\n"
     ]
    },
    {
     "name": "stdout",
     "output_type": "stream",
     "text": [
      "(val) -8.6064 (test) -9.4826 (test1) -4.6042 (test2) -9.4660 (test3) -14.0404 (test4) -6.4623 (test5) -6.2751 (test6) -9.0771 (test7) -8.5227 (test8) -14.0597 (test9) -8.2156\n",
      "\n"
     ]
    },
    {
     "name": "stderr",
     "output_type": "stream",
     "text": [
      "Epoch 103: 100%|██████████| 240/240 [00:00<00:00, 563.97it/s]\n"
     ]
    },
    {
     "name": "stdout",
     "output_type": "stream",
     "text": [
      "(val) -6.7398 (test) -9.9619 (test1) -5.6548 (test2) -8.4945 (test3) -12.3073 (test4) -7.9492 (test5) -4.7689 (test6) -9.3785 (test7) -10.2705 (test8) -15.6114 (test9) -10.6988\n",
      "\n"
     ]
    },
    {
     "name": "stderr",
     "output_type": "stream",
     "text": [
      "Epoch 104: 100%|██████████| 240/240 [00:00<00:00, 528.51it/s]\n"
     ]
    },
    {
     "name": "stdout",
     "output_type": "stream",
     "text": [
      "(val) -6.9993 (test) -8.7164 (test1) -6.6602 (test2) -8.1641 (test3) -10.1316 (test4) -7.2575 (test5) -4.8546 (test6) -6.8779 (test7) -12.9575 (test8) -9.2662 (test9) -9.6340\n",
      "\n"
     ]
    },
    {
     "name": "stderr",
     "output_type": "stream",
     "text": [
      "Epoch 105: 100%|██████████| 240/240 [00:00<00:00, 548.44it/s]\n"
     ]
    },
    {
     "name": "stdout",
     "output_type": "stream",
     "text": [
      "(val) -6.4079 (test) -8.8533 (test1) -10.2486 (test2) -4.5512 (test3) -8.3943 (test4) -5.0939 (test5) -5.4695 (test6) -10.1686 (test7) -4.6555 (test8) -8.2485 (test9) -16.1318\n",
      "\n"
     ]
    },
    {
     "name": "stderr",
     "output_type": "stream",
     "text": [
      "Epoch 106: 100%|██████████| 240/240 [00:00<00:00, 538.96it/s]\n"
     ]
    },
    {
     "name": "stdout",
     "output_type": "stream",
     "text": [
      "(val) -7.1298 (test) -7.8508 (test1) -5.7254 (test2) -4.0970 (test3) -10.2081 (test4) -8.8653 (test5) -4.9432 (test6) -8.5966 (test7) -6.1830 (test8) -11.4953 (test9) -7.3243\n",
      "\n"
     ]
    },
    {
     "name": "stderr",
     "output_type": "stream",
     "text": [
      "Epoch 107: 100%|██████████| 240/240 [00:00<00:00, 561.34it/s]\n"
     ]
    },
    {
     "name": "stdout",
     "output_type": "stream",
     "text": [
      "(val) -7.8626 (test) -6.9562 (test1) -4.2429 (test2) -5.3275 (test3) -7.6222 (test4) -6.1689 (test5) -4.0510 (test6) -5.8901 (test7) -8.8107 (test8) -9.2537 (test9) -8.8654\n",
      "🌸 New best epoch! 🌸\n",
      "\n"
     ]
    },
    {
     "name": "stderr",
     "output_type": "stream",
     "text": [
      "Epoch 108: 100%|██████████| 240/240 [00:00<00:00, 558.83it/s]\n"
     ]
    },
    {
     "name": "stdout",
     "output_type": "stream",
     "text": [
      "(val) -8.1417 (test) -9.6811 (test1) -4.9877 (test2) -9.2276 (test3) -15.9123 (test4) -6.7866 (test5) -4.3316 (test6) -8.2108 (test7) -9.6538 (test8) -13.6690 (test9) -8.2468\n",
      "\n"
     ]
    },
    {
     "name": "stderr",
     "output_type": "stream",
     "text": [
      "Epoch 109: 100%|██████████| 240/240 [00:00<00:00, 528.31it/s]\n"
     ]
    },
    {
     "name": "stdout",
     "output_type": "stream",
     "text": [
      "(val) -6.7134 (test) -8.5050 (test1) -5.7903 (test2) -6.4508 (test3) -8.6547 (test4) -5.4899 (test5) -5.0431 (test6) -6.0857 (test7) -16.5421 (test8) -9.0623 (test9) -7.2526\n",
      "\n"
     ]
    },
    {
     "name": "stderr",
     "output_type": "stream",
     "text": [
      "Epoch 110: 100%|██████████| 240/240 [00:00<00:00, 553.46it/s]\n"
     ]
    },
    {
     "name": "stdout",
     "output_type": "stream",
     "text": [
      "(val) -6.5757 (test) -8.5457 (test1) -5.4424 (test2) -5.2389 (test3) -7.0183 (test4) -6.6065 (test5) -3.9219 (test6) -6.0430 (test7) -15.4955 (test8) -9.2930 (test9) -11.3546\n",
      "\n"
     ]
    },
    {
     "name": "stderr",
     "output_type": "stream",
     "text": [
      "Epoch 111: 100%|██████████| 240/240 [00:00<00:00, 557.81it/s]\n"
     ]
    },
    {
     "name": "stdout",
     "output_type": "stream",
     "text": [
      "(val) -7.8981 (test) -8.4288 (test1) -4.9518 (test2) -9.0435 (test3) -9.0972 (test4) -9.7708 (test5) -3.3141 (test6) -5.4528 (test7) -12.8257 (test8) -8.9937 (test9) -8.2924\n",
      "\n"
     ]
    },
    {
     "name": "stderr",
     "output_type": "stream",
     "text": [
      "Epoch 112: 100%|██████████| 240/240 [00:00<00:00, 577.65it/s]\n"
     ]
    },
    {
     "name": "stdout",
     "output_type": "stream",
     "text": [
      "(val) -7.2880 (test) -9.6432 (test1) -5.0591 (test2) -6.2268 (test3) -12.9322 (test4) -6.5941 (test5) -5.3770 (test6) -9.0053 (test7) -9.3253 (test8) -12.6206 (test9) -14.3380\n",
      "\n"
     ]
    },
    {
     "name": "stderr",
     "output_type": "stream",
     "text": [
      "Epoch 113: 100%|██████████| 240/240 [00:00<00:00, 596.42it/s]\n"
     ]
    },
    {
     "name": "stdout",
     "output_type": "stream",
     "text": [
      "(val) -6.8967 (test) -9.5561 (test1) -9.6385 (test2) -6.9079 (test3) -8.6039 (test4) -5.2406 (test5) -4.8662 (test6) -10.0741 (test7) -12.7918 (test8) -15.3952 (test9) -7.3455\n",
      "\n"
     ]
    },
    {
     "name": "stderr",
     "output_type": "stream",
     "text": [
      "Epoch 114: 100%|██████████| 240/240 [00:00<00:00, 577.05it/s]\n"
     ]
    },
    {
     "name": "stdout",
     "output_type": "stream",
     "text": [
      "(val) -7.5062 (test) -9.2339 (test1) -4.9765 (test2) -7.6811 (test3) -15.9229 (test4) -5.6848 (test5) -4.3088 (test6) -7.7202 (test7) -9.3239 (test8) -9.4198 (test9) -11.9971\n",
      "\n"
     ]
    },
    {
     "name": "stderr",
     "output_type": "stream",
     "text": [
      "Epoch 115: 100%|██████████| 240/240 [00:00<00:00, 584.66it/s]\n"
     ]
    },
    {
     "name": "stdout",
     "output_type": "stream",
     "text": [
      "(val) -7.6172 (test) -10.2714 (test1) -5.8286 (test2) -3.8404 (test3) -11.4831 (test4) -7.8035 (test5) -4.5185 (test6) -13.1141 (test7) -12.7716 (test8) -15.1483 (test9) -11.0927\n",
      "\n"
     ]
    },
    {
     "name": "stderr",
     "output_type": "stream",
     "text": [
      "Epoch 116: 100%|██████████| 240/240 [00:00<00:00, 599.97it/s]\n"
     ]
    },
    {
     "name": "stdout",
     "output_type": "stream",
     "text": [
      "(val) -8.1674 (test) -11.1180 (test1) -5.5508 (test2) -8.7440 (test3) -20.4430 (test4) -10.6107 (test5) -4.7664 (test6) -5.7120 (test7) -9.7499 (test8) -9.2458 (test9) -15.4542\n",
      "\n"
     ]
    },
    {
     "name": "stderr",
     "output_type": "stream",
     "text": [
      "Epoch 117: 100%|██████████| 240/240 [00:00<00:00, 594.21it/s]\n"
     ]
    },
    {
     "name": "stdout",
     "output_type": "stream",
     "text": [
      "(val) -7.7467 (test) -9.3193 (test1) -10.9714 (test2) -3.2985 (test3) -12.8213 (test4) -8.8984 (test5) -4.0296 (test6) -4.6018 (test7) -12.5975 (test8) -10.3802 (test9) -10.1468\n",
      "\n"
     ]
    },
    {
     "name": "stderr",
     "output_type": "stream",
     "text": [
      "Epoch 118: 100%|██████████| 240/240 [00:00<00:00, 592.57it/s]\n"
     ]
    },
    {
     "name": "stdout",
     "output_type": "stream",
     "text": [
      "(val) -7.6790 (test) -11.0574 (test1) -11.2522 (test2) -4.4511 (test3) -14.9778 (test4) -8.7121 (test5) -4.2052 (test6) -8.9819 (test7) -11.6298 (test8) -18.1965 (test9) -9.4346\n",
      "\n"
     ]
    },
    {
     "name": "stderr",
     "output_type": "stream",
     "text": [
      "Epoch 119: 100%|██████████| 240/240 [00:00<00:00, 589.70it/s]\n"
     ]
    },
    {
     "name": "stdout",
     "output_type": "stream",
     "text": [
      "(val) -6.0927 (test) -7.9255 (test1) -3.6991 (test2) -4.3607 (test3) -7.1707 (test4) -7.2378 (test5) -5.6269 (test6) -7.9123 (test7) -11.8767 (test8) -7.9288 (test9) -11.4291\n",
      "\n"
     ]
    },
    {
     "name": "stderr",
     "output_type": "stream",
     "text": [
      "Epoch 120: 100%|██████████| 240/240 [00:00<00:00, 542.67it/s]\n"
     ]
    },
    {
     "name": "stdout",
     "output_type": "stream",
     "text": [
      "(val) -6.3756 (test) -9.4514 (test1) -6.2829 (test2) -4.0434 (test3) -12.8743 (test4) -6.1007 (test5) -5.0207 (test6) -9.1904 (test7) -12.8918 (test8) -14.3078 (test9) -8.0366\n",
      "\n"
     ]
    },
    {
     "name": "stderr",
     "output_type": "stream",
     "text": [
      "Epoch 121: 100%|██████████| 240/240 [00:00<00:00, 566.17it/s]\n"
     ]
    },
    {
     "name": "stdout",
     "output_type": "stream",
     "text": [
      "(val) -7.1217 (test) -9.3881 (test1) -11.4905 (test2) -1.4431 (test3) -8.5389 (test4) -5.8996 (test5) -5.3691 (test6) -6.0284 (test7) -12.3882 (test8) -10.1597 (test9) -15.1507\n",
      "\n"
     ]
    },
    {
     "name": "stderr",
     "output_type": "stream",
     "text": [
      "Epoch 122: 100%|██████████| 240/240 [00:00<00:00, 568.33it/s]\n"
     ]
    },
    {
     "name": "stdout",
     "output_type": "stream",
     "text": [
      "(val) -6.8731 (test) -9.2228 (test1) -12.1213 (test2) -2.3956 (test3) -12.0885 (test4) -5.3143 (test5) -4.8512 (test6) -6.3398 (test7) -11.0797 (test8) -10.4690 (test9) -11.9335\n",
      "\n"
     ]
    },
    {
     "name": "stderr",
     "output_type": "stream",
     "text": [
      "Epoch 123: 100%|██████████| 240/240 [00:00<00:00, 561.51it/s]\n"
     ]
    },
    {
     "name": "stdout",
     "output_type": "stream",
     "text": [
      "(val) -5.9896 (test) -7.9183 (test1) -6.4645 (test2) -4.2930 (test3) -8.9383 (test4) -6.8812 (test5) -3.6319 (test6) -5.1481 (test7) -14.0179 (test8) -8.1514 (test9) -8.6136\n",
      "\n"
     ]
    },
    {
     "name": "stderr",
     "output_type": "stream",
     "text": [
      "Epoch 124: 100%|██████████| 240/240 [00:00<00:00, 551.92it/s]\n"
     ]
    },
    {
     "name": "stdout",
     "output_type": "stream",
     "text": [
      "(val) -7.6626 (test) -8.2790 (test1) -4.9790 (test2) -9.4993 (test3) -10.2632 (test4) -6.9575 (test5) -4.7560 (test6) -8.6174 (test7) -8.6358 (test8) -9.2796 (test9) -9.5153\n",
      "\n"
     ]
    },
    {
     "name": "stderr",
     "output_type": "stream",
     "text": [
      "Epoch 125: 100%|██████████| 240/240 [00:00<00:00, 569.16it/s]\n"
     ]
    },
    {
     "name": "stdout",
     "output_type": "stream",
     "text": [
      "(val) -8.2692 (test) -9.7531 (test1) -6.8140 (test2) -6.3450 (test3) -13.4085 (test4) -8.3011 (test5) -3.7894 (test6) -4.4929 (test7) -14.0613 (test8) -12.6431 (test9) -11.3408\n",
      "\n"
     ]
    },
    {
     "name": "stderr",
     "output_type": "stream",
     "text": [
      "Epoch 126: 100%|██████████| 240/240 [00:00<00:00, 571.01it/s]\n"
     ]
    },
    {
     "name": "stdout",
     "output_type": "stream",
     "text": [
      "(val) -7.2419 (test) -9.2275 (test1) -7.2588 (test2) -7.5159 (test3) -12.1293 (test4) -10.6522 (test5) -5.3788 (test6) -5.3193 (test7) -10.7224 (test8) -13.4850 (test9) -6.5206\n",
      "\n"
     ]
    },
    {
     "name": "stderr",
     "output_type": "stream",
     "text": [
      "Epoch 127: 100%|██████████| 240/240 [00:00<00:00, 545.91it/s]\n"
     ]
    },
    {
     "name": "stdout",
     "output_type": "stream",
     "text": [
      "(val) -8.3623 (test) -6.1919 (test1) -4.8951 (test2) -1.8413 (test3) -3.0430 (test4) -5.6266 (test5) -4.3613 (test6) -6.4330 (test7) -8.5379 (test8) -6.9917 (test9) -9.7263\n",
      "🌸 New best epoch! 🌸\n",
      "\n"
     ]
    },
    {
     "name": "stderr",
     "output_type": "stream",
     "text": [
      "Epoch 128: 100%|██████████| 240/240 [00:00<00:00, 568.36it/s]\n"
     ]
    },
    {
     "name": "stdout",
     "output_type": "stream",
     "text": [
      "(val) -6.4436 (test) -8.7959 (test1) -6.6810 (test2) -5.1186 (test3) -9.5868 (test4) -8.0261 (test5) -5.5683 (test6) -9.7448 (test7) -10.7324 (test8) -13.1661 (test9) -7.3931\n",
      "\n"
     ]
    },
    {
     "name": "stderr",
     "output_type": "stream",
     "text": [
      "Epoch 129: 100%|██████████| 240/240 [00:00<00:00, 550.13it/s]\n"
     ]
    },
    {
     "name": "stdout",
     "output_type": "stream",
     "text": [
      "(val) -8.7709 (test) -9.8943 (test1) -6.7668 (test2) -10.5059 (test3) -13.1808 (test4) -7.5665 (test5) -6.2949 (test6) -8.8634 (test7) -11.2636 (test8) -9.6244 (test9) -12.4993\n",
      "\n"
     ]
    },
    {
     "name": "stderr",
     "output_type": "stream",
     "text": [
      "Epoch 130: 100%|██████████| 240/240 [00:00<00:00, 548.50it/s]\n"
     ]
    },
    {
     "name": "stdout",
     "output_type": "stream",
     "text": [
      "(val) -7.5315 (test) -11.3388 (test1) -7.5636 (test2) -9.7921 (test3) -16.2451 (test4) -10.2938 (test5) -5.9196 (test6) -11.0894 (test7) -15.1863 (test8) -11.0448 (test9) -11.1146\n",
      "\n"
     ]
    },
    {
     "name": "stderr",
     "output_type": "stream",
     "text": [
      "Epoch 131: 100%|██████████| 240/240 [00:00<00:00, 521.43it/s]\n"
     ]
    },
    {
     "name": "stdout",
     "output_type": "stream",
     "text": [
      "(val) -6.9940 (test) -9.3745 (test1) -8.4621 (test2) -8.1292 (test3) -12.4479 (test4) -9.4199 (test5) -4.3532 (test6) -6.4509 (test7) -13.4711 (test8) -10.1714 (test9) -8.0041\n",
      "\n"
     ]
    },
    {
     "name": "stderr",
     "output_type": "stream",
     "text": [
      "Epoch 132: 100%|██████████| 240/240 [00:00<00:00, 569.33it/s]\n"
     ]
    },
    {
     "name": "stdout",
     "output_type": "stream",
     "text": [
      "(val) -7.8496 (test) -10.1191 (test1) -3.8665 (test2) -12.1628 (test3) -16.0708 (test4) -8.6651 (test5) -3.4182 (test6) -9.1653 (test7) -10.2523 (test8) -12.1281 (test9) -8.8000\n",
      "\n"
     ]
    },
    {
     "name": "stderr",
     "output_type": "stream",
     "text": [
      "Epoch 133: 100%|██████████| 240/240 [00:00<00:00, 559.36it/s]\n"
     ]
    },
    {
     "name": "stdout",
     "output_type": "stream",
     "text": [
      "(val) -8.1682 (test) -9.0893 (test1) -5.4462 (test2) -9.6782 (test3) -12.3558 (test4) -6.3921 (test5) -5.6083 (test6) -5.0549 (test7) -9.5028 (test8) -13.0089 (test9) -10.4951\n",
      "\n"
     ]
    },
    {
     "name": "stderr",
     "output_type": "stream",
     "text": [
      "Epoch 134: 100%|██████████| 240/240 [00:00<00:00, 543.39it/s]\n"
     ]
    },
    {
     "name": "stdout",
     "output_type": "stream",
     "text": [
      "(val) -8.3005 (test) -9.7191 (test1) -6.3875 (test2) -2.6926 (test3) -5.3267 (test4) -6.1623 (test5) -9.2635 (test6) -4.3202 (test7) -16.3546 (test8) -7.9149 (test9) -17.3536\n",
      "\n"
     ]
    },
    {
     "name": "stderr",
     "output_type": "stream",
     "text": [
      "Epoch 135: 100%|██████████| 240/240 [00:00<00:00, 580.35it/s]\n"
     ]
    },
    {
     "name": "stdout",
     "output_type": "stream",
     "text": [
      "(val) -6.1262 (test) -8.9424 (test1) -9.8200 (test2) -6.8167 (test3) -10.1124 (test4) -5.8405 (test5) -5.2966 (test6) -8.3516 (test7) -10.6751 (test8) -10.6626 (test9) -10.7228\n",
      "\n"
     ]
    },
    {
     "name": "stderr",
     "output_type": "stream",
     "text": [
      "Epoch 136: 100%|██████████| 240/240 [00:00<00:00, 540.77it/s]\n"
     ]
    },
    {
     "name": "stdout",
     "output_type": "stream",
     "text": [
      "(val) -7.0668 (test) -8.6007 (test1) -6.9885 (test2) -5.3729 (test3) -12.4863 (test4) -6.6973 (test5) -5.3889 (test6) -4.9824 (test7) -11.7998 (test8) -10.4305 (test9) -9.2406\n",
      "\n"
     ]
    },
    {
     "name": "stderr",
     "output_type": "stream",
     "text": [
      "Epoch 137: 100%|██████████| 240/240 [00:00<00:00, 565.31it/s]\n"
     ]
    },
    {
     "name": "stdout",
     "output_type": "stream",
     "text": [
      "(val) -8.0488 (test) -11.6535 (test1) -16.8622 (test2) -4.6311 (test3) -9.8840 (test4) -4.5267 (test5) -6.3134 (test6) -7.7448 (test7) -15.8359 (test8) -9.7311 (test9) -18.7874\n",
      "\n"
     ]
    },
    {
     "name": "stderr",
     "output_type": "stream",
     "text": [
      "Epoch 138: 100%|██████████| 240/240 [00:00<00:00, 569.04it/s]\n"
     ]
    },
    {
     "name": "stdout",
     "output_type": "stream",
     "text": [
      "(val) -8.5199 (test) -11.0679 (test1) -6.8905 (test2) -13.2593 (test3) -16.6466 (test4) -9.9033 (test5) -4.3204 (test6) -7.0862 (test7) -12.8900 (test8) -11.7316 (test9) -11.4607\n",
      "\n"
     ]
    },
    {
     "name": "stderr",
     "output_type": "stream",
     "text": [
      "Epoch 139: 100%|██████████| 240/240 [00:00<00:00, 575.56it/s]\n"
     ]
    },
    {
     "name": "stdout",
     "output_type": "stream",
     "text": [
      "(val) -7.0088 (test) -9.6986 (test1) -5.0195 (test2) -7.3018 (test3) -12.0981 (test4) -7.8483 (test5) -5.6546 (test6) -6.8669 (test7) -14.3865 (test8) -9.0799 (test9) -13.8399\n",
      "\n"
     ]
    },
    {
     "name": "stderr",
     "output_type": "stream",
     "text": [
      "Epoch 140: 100%|██████████| 240/240 [00:00<00:00, 575.87it/s]\n"
     ]
    },
    {
     "name": "stdout",
     "output_type": "stream",
     "text": [
      "(val) -6.3388 (test) -8.6241 (test1) -9.4447 (test2) -3.2389 (test3) -8.9136 (test4) -6.3366 (test5) -5.5529 (test6) -8.5836 (test7) -8.5821 (test8) -11.4669 (test9) -11.8499\n",
      "\n"
     ]
    },
    {
     "name": "stderr",
     "output_type": "stream",
     "text": [
      "Epoch 141: 100%|██████████| 240/240 [00:00<00:00, 577.70it/s]\n"
     ]
    },
    {
     "name": "stdout",
     "output_type": "stream",
     "text": [
      "(val) -7.6070 (test) -8.3326 (test1) -4.0777 (test2) -5.9268 (test3) -10.4838 (test4) -5.5730 (test5) -5.4073 (test6) -5.9614 (test7) -11.3255 (test8) -13.6859 (test9) -7.1989\n",
      "\n"
     ]
    },
    {
     "name": "stderr",
     "output_type": "stream",
     "text": [
      "Epoch 142: 100%|██████████| 240/240 [00:00<00:00, 539.73it/s]\n"
     ]
    },
    {
     "name": "stdout",
     "output_type": "stream",
     "text": [
      "(val) -6.8047 (test) -9.0271 (test1) -6.1225 (test2) -5.8323 (test3) -11.0336 (test4) -8.9278 (test5) -3.8193 (test6) -5.7535 (test7) -13.8986 (test8) -12.8714 (test9) -7.3429\n",
      "\n"
     ]
    },
    {
     "name": "stderr",
     "output_type": "stream",
     "text": [
      "Epoch 143: 100%|██████████| 240/240 [00:00<00:00, 569.31it/s]\n"
     ]
    },
    {
     "name": "stdout",
     "output_type": "stream",
     "text": [
      "(val) -7.2583 (test) -10.6328 (test1) -8.4700 (test2) -5.6607 (test3) -14.9784 (test4) -6.5992 (test5) -6.3295 (test6) -8.1737 (test7) -15.9967 (test8) -8.8829 (test9) -14.2880\n",
      "\n"
     ]
    },
    {
     "name": "stderr",
     "output_type": "stream",
     "text": [
      "Epoch 144: 100%|██████████| 240/240 [00:00<00:00, 593.47it/s]\n"
     ]
    },
    {
     "name": "stdout",
     "output_type": "stream",
     "text": [
      "(val) -6.4511 (test) -9.2650 (test1) -6.0129 (test2) -6.1955 (test3) -11.2124 (test4) -5.4742 (test5) -6.0281 (test6) -7.5113 (test7) -10.5959 (test8) -12.5617 (test9) -13.3979\n",
      "\n"
     ]
    },
    {
     "name": "stderr",
     "output_type": "stream",
     "text": [
      "Epoch 145: 100%|██████████| 240/240 [00:00<00:00, 552.32it/s]\n"
     ]
    },
    {
     "name": "stdout",
     "output_type": "stream",
     "text": [
      "(val) -6.5323 (test) -8.7811 (test1) -4.7347 (test2) -5.5862 (test3) -8.8700 (test4) -6.3902 (test5) -6.3542 (test6) -6.7380 (test7) -13.1388 (test8) -9.4320 (test9) -13.1708\n",
      "\n"
     ]
    },
    {
     "name": "stderr",
     "output_type": "stream",
     "text": [
      "Epoch 146: 100%|██████████| 240/240 [00:00<00:00, 531.14it/s]\n"
     ]
    },
    {
     "name": "stdout",
     "output_type": "stream",
     "text": [
      "(val) -9.0727 (test) -10.1826 (test1) -8.4422 (test2) -7.7717 (test3) -15.8906 (test4) -7.7767 (test5) -4.7399 (test6) -7.7449 (test7) -9.2087 (test8) -13.2742 (test9) -12.0437\n",
      "\n"
     ]
    },
    {
     "name": "stderr",
     "output_type": "stream",
     "text": [
      "Epoch 147: 100%|██████████| 240/240 [00:00<00:00, 547.38it/s]\n"
     ]
    },
    {
     "name": "stdout",
     "output_type": "stream",
     "text": [
      "(val) -7.0008 (test) -11.1654 (test1) -9.4984 (test2) -2.8197 (test3) -18.9944 (test4) -5.8531 (test5) -5.6753 (test6) -8.7307 (test7) -12.3007 (test8) -16.2652 (test9) -10.2212\n",
      "\n"
     ]
    },
    {
     "name": "stderr",
     "output_type": "stream",
     "text": [
      "Epoch 148: 100%|██████████| 240/240 [00:00<00:00, 526.09it/s]\n"
     ]
    },
    {
     "name": "stdout",
     "output_type": "stream",
     "text": [
      "(val) -6.5043 (test) -10.2017 (test1) -11.7719 (test2) -5.0864 (test3) -13.9789 (test4) -6.9821 (test5) -3.7638 (test6) -7.9129 (test7) -12.8892 (test8) -12.6030 (test9) -11.2390\n",
      "\n"
     ]
    },
    {
     "name": "stderr",
     "output_type": "stream",
     "text": [
      "Epoch 149: 100%|██████████| 240/240 [00:00<00:00, 562.05it/s]\n"
     ]
    },
    {
     "name": "stdout",
     "output_type": "stream",
     "text": [
      "(val) -6.5491 (test) -8.8021 (test1) -3.1328 (test2) -7.1362 (test3) -12.1647 (test4) -6.6133 (test5) -5.7533 (test6) -8.0935 (test7) -10.4383 (test8) -7.9699 (test9) -13.1816\n",
      "\n"
     ]
    },
    {
     "name": "stderr",
     "output_type": "stream",
     "text": [
      "Epoch 150: 100%|██████████| 240/240 [00:00<00:00, 577.57it/s]\n"
     ]
    },
    {
     "name": "stdout",
     "output_type": "stream",
     "text": [
      "(val) -6.6219 (test) -9.2648 (test1) -7.8719 (test2) -4.4739 (test3) -10.1568 (test4) -6.9242 (test5) -7.0966 (test6) -6.2618 (test7) -10.6918 (test8) -12.8626 (test9) -13.0425\n",
      "\n"
     ]
    },
    {
     "name": "stderr",
     "output_type": "stream",
     "text": [
      "Epoch 151: 100%|██████████| 240/240 [00:00<00:00, 557.46it/s]\n"
     ]
    },
    {
     "name": "stdout",
     "output_type": "stream",
     "text": [
      "(val) -8.6833 (test) -10.9566 (test1) -9.3430 (test2) -3.0876 (test3) -12.0018 (test4) -7.7435 (test5) -4.9665 (test6) -10.3274 (test7) -14.3503 (test8) -17.3984 (test9) -11.8170\n",
      "\n"
     ]
    },
    {
     "name": "stderr",
     "output_type": "stream",
     "text": [
      "Epoch 152: 100%|██████████| 240/240 [00:00<00:00, 567.18it/s]\n"
     ]
    },
    {
     "name": "stdout",
     "output_type": "stream",
     "text": [
      "(val) -6.8241 (test) -8.9032 (test1) -9.2233 (test2) -4.2799 (test3) -14.5453 (test4) -6.9217 (test5) -3.4762 (test6) -9.3371 (test7) -8.5464 (test8) -8.3435 (test9) -10.4221\n",
      "\n"
     ]
    },
    {
     "name": "stderr",
     "output_type": "stream",
     "text": [
      "Epoch 153: 100%|██████████| 240/240 [00:00<00:00, 516.93it/s]\n"
     ]
    },
    {
     "name": "stdout",
     "output_type": "stream",
     "text": [
      "(val) -6.8859 (test) -8.4671 (test1) -4.3249 (test2) -8.4069 (test3) -11.2714 (test4) -8.4930 (test5) -4.1689 (test6) -5.5899 (test7) -9.6052 (test8) -11.4496 (test9) -9.2029\n",
      "\n"
     ]
    },
    {
     "name": "stderr",
     "output_type": "stream",
     "text": [
      "Epoch 154: 100%|██████████| 240/240 [00:00<00:00, 566.30it/s]\n"
     ]
    },
    {
     "name": "stdout",
     "output_type": "stream",
     "text": [
      "(val) -7.2290 (test) -11.0869 (test1) -11.3465 (test2) -7.1586 (test3) -10.6827 (test4) -10.7730 (test5) -3.8339 (test6) -6.3833 (test7) -12.1268 (test8) -15.5530 (test9) -15.8654\n",
      "\n"
     ]
    },
    {
     "name": "stderr",
     "output_type": "stream",
     "text": [
      "Epoch 155: 100%|██████████| 240/240 [00:00<00:00, 558.19it/s]\n"
     ]
    },
    {
     "name": "stdout",
     "output_type": "stream",
     "text": [
      "(val) -7.2034 (test) -8.4491 (test1) -8.8740 (test2) -2.9613 (test3) -10.5532 (test4) -5.7264 (test5) -5.7818 (test6) -7.5510 (test7) -12.2176 (test8) -11.6067 (test9) -6.0308\n",
      "\n"
     ]
    },
    {
     "name": "stderr",
     "output_type": "stream",
     "text": [
      "Epoch 156: 100%|██████████| 240/240 [00:00<00:00, 562.67it/s]\n"
     ]
    },
    {
     "name": "stdout",
     "output_type": "stream",
     "text": [
      "(val) -6.9524 (test) -8.9530 (test1) -11.1383 (test2) -3.3834 (test3) -7.1133 (test4) -5.9712 (test5) -7.1515 (test6) -8.1892 (test7) -15.5538 (test8) -8.6842 (test9) -8.0060\n",
      "\n"
     ]
    },
    {
     "name": "stderr",
     "output_type": "stream",
     "text": [
      "Epoch 157: 100%|██████████| 240/240 [00:00<00:00, 583.46it/s]\n"
     ]
    },
    {
     "name": "stdout",
     "output_type": "stream",
     "text": [
      "(val) -6.2751 (test) -7.8612 (test1) -9.6405 (test2) -1.8610 (test3) -8.4231 (test4) -6.9971 (test5) -4.7335 (test6) -6.4499 (test7) -9.0283 (test8) -8.3048 (test9) -11.1975\n",
      "\n"
     ]
    },
    {
     "name": "stderr",
     "output_type": "stream",
     "text": [
      "Epoch 158: 100%|██████████| 240/240 [00:00<00:00, 562.82it/s]\n"
     ]
    },
    {
     "name": "stdout",
     "output_type": "stream",
     "text": [
      "(val) -7.7229 (test) -11.0833 (test1) -9.4500 (test2) -6.1199 (test3) -21.5308 (test4) -6.2802 (test5) -6.0620 (test6) -9.1692 (test7) -11.6129 (test8) -12.5876 (test9) -7.8517\n",
      "\n"
     ]
    },
    {
     "name": "stderr",
     "output_type": "stream",
     "text": [
      "Epoch 159: 100%|██████████| 240/240 [00:00<00:00, 543.38it/s]\n"
     ]
    },
    {
     "name": "stdout",
     "output_type": "stream",
     "text": [
      "(val) -6.7257 (test) -9.6314 (test1) -5.8691 (test2) -4.2714 (test3) -13.2299 (test4) -5.8583 (test5) -4.2493 (test6) -3.9368 (test7) -11.2734 (test8) -9.8982 (test9) -17.7259\n",
      "\n"
     ]
    },
    {
     "name": "stderr",
     "output_type": "stream",
     "text": [
      "Epoch 160: 100%|██████████| 240/240 [00:00<00:00, 576.02it/s]\n"
     ]
    },
    {
     "name": "stdout",
     "output_type": "stream",
     "text": [
      "(val) -6.1945 (test) -8.8645 (test1) -6.4744 (test2) -6.7120 (test3) -11.2352 (test4) -6.5731 (test5) -5.6224 (test6) -6.2749 (test7) -9.9612 (test8) -8.3196 (test9) -14.5392\n",
      "\n"
     ]
    },
    {
     "name": "stderr",
     "output_type": "stream",
     "text": [
      "Epoch 161: 100%|██████████| 240/240 [00:00<00:00, 585.85it/s]\n"
     ]
    },
    {
     "name": "stdout",
     "output_type": "stream",
     "text": [
      "(val) -6.3510 (test) -8.9691 (test1) -3.5774 (test2) -6.6229 (test3) -12.5457 (test4) -8.3835 (test5) -4.6354 (test6) -8.0984 (test7) -10.2466 (test8) -11.7507 (test9) -10.4656\n",
      "\n"
     ]
    },
    {
     "name": "stderr",
     "output_type": "stream",
     "text": [
      "Epoch 162: 100%|██████████| 240/240 [00:00<00:00, 577.37it/s]\n"
     ]
    },
    {
     "name": "stdout",
     "output_type": "stream",
     "text": [
      "(val) -6.2300 (test) -9.6129 (test1) -4.4803 (test2) -6.3693 (test3) -16.8339 (test4) -5.0745 (test5) -8.6384 (test6) -7.6390 (test7) -11.8302 (test8) -8.5749 (test9) -10.7441\n",
      "\n"
     ]
    },
    {
     "name": "stderr",
     "output_type": "stream",
     "text": [
      "Epoch 163: 100%|██████████| 240/240 [00:00<00:00, 578.90it/s]\n"
     ]
    },
    {
     "name": "stdout",
     "output_type": "stream",
     "text": [
      "(val) -7.4402 (test) -9.9680 (test1) -3.7608 (test2) -7.7917 (test3) -17.0228 (test4) -7.1036 (test5) -5.3391 (test6) -5.9449 (test7) -11.2551 (test8) -11.5498 (test9) -12.4595\n",
      "\n"
     ]
    },
    {
     "name": "stderr",
     "output_type": "stream",
     "text": [
      "Epoch 164: 100%|██████████| 240/240 [00:00<00:00, 562.74it/s]\n"
     ]
    },
    {
     "name": "stdout",
     "output_type": "stream",
     "text": [
      "(val) -7.7982 (test) -11.7430 (test1) -15.3952 (test2) -4.2135 (test3) -15.3038 (test4) -6.7474 (test5) -6.3207 (test6) -8.7871 (test7) -15.9367 (test8) -13.2730 (test9) -12.6204\n",
      "\n"
     ]
    },
    {
     "name": "stderr",
     "output_type": "stream",
     "text": [
      "Epoch 165: 100%|██████████| 240/240 [00:00<00:00, 581.83it/s]\n"
     ]
    },
    {
     "name": "stdout",
     "output_type": "stream",
     "text": [
      "(val) -7.4553 (test) -8.6683 (test1) -3.0450 (test2) -8.0699 (test3) -12.0091 (test4) -8.0445 (test5) -4.6638 (test6) -9.3182 (test7) -6.2032 (test8) -12.0587 (test9) -10.0226\n",
      "\n"
     ]
    },
    {
     "name": "stderr",
     "output_type": "stream",
     "text": [
      "Epoch 166: 100%|██████████| 240/240 [00:00<00:00, 559.96it/s]\n"
     ]
    },
    {
     "name": "stdout",
     "output_type": "stream",
     "text": [
      "(val) -6.3821 (test) -9.0113 (test1) -7.8926 (test2) -3.1726 (test3) -11.4541 (test4) -6.4044 (test5) -7.6677 (test6) -9.2802 (test7) -10.6607 (test8) -11.5336 (test9) -9.7302\n",
      "\n"
     ]
    },
    {
     "name": "stderr",
     "output_type": "stream",
     "text": [
      "Epoch 167: 100%|██████████| 240/240 [00:00<00:00, 567.47it/s]\n"
     ]
    },
    {
     "name": "stdout",
     "output_type": "stream",
     "text": [
      "(val) -9.1568 (test) -10.1944 (test1) -7.1095 (test2) -8.3351 (test3) -13.5222 (test4) -7.3773 (test5) -8.1310 (test6) -10.2485 (test7) -10.9616 (test8) -14.1543 (test9) -9.2945\n",
      "\n"
     ]
    },
    {
     "name": "stderr",
     "output_type": "stream",
     "text": [
      "Epoch 168: 100%|██████████| 240/240 [00:00<00:00, 552.29it/s]\n"
     ]
    },
    {
     "name": "stdout",
     "output_type": "stream",
     "text": [
      "(val) -12.0613 (test) -14.2168 (test1) -7.8992 (test2) -9.0467 (test3) -21.4534 (test4) -7.2549 (test5) -7.7084 (test6) -13.4964 (test7) -13.0011 (test8) -23.1483 (test9) -14.6797\n",
      "\n"
     ]
    },
    {
     "name": "stderr",
     "output_type": "stream",
     "text": [
      "Epoch 169: 100%|██████████| 240/240 [00:00<00:00, 569.08it/s]\n"
     ]
    },
    {
     "name": "stdout",
     "output_type": "stream",
     "text": [
      "(val) -7.5268 (test) -10.5149 (test1) -7.0554 (test2) -5.3620 (test3) -18.2922 (test4) -6.8233 (test5) -6.4407 (test6) -8.4159 (test7) -11.0421 (test8) -15.0168 (test9) -8.6970\n",
      "\n"
     ]
    },
    {
     "name": "stderr",
     "output_type": "stream",
     "text": [
      "Epoch 170: 100%|██████████| 240/240 [00:00<00:00, 531.16it/s]\n"
     ]
    },
    {
     "name": "stdout",
     "output_type": "stream",
     "text": [
      "(val) -7.1836 (test) -9.5583 (test1) -3.6149 (test2) -5.9573 (test3) -14.6899 (test4) -9.0008 (test5) -3.7850 (test6) -4.8178 (test7) -16.1444 (test8) -8.3673 (test9) -10.4258\n",
      "\n"
     ]
    },
    {
     "name": "stderr",
     "output_type": "stream",
     "text": [
      "Epoch 171: 100%|██████████| 240/240 [00:00<00:00, 551.37it/s]\n"
     ]
    },
    {
     "name": "stdout",
     "output_type": "stream",
     "text": [
      "(val) -7.0301 (test) -8.2443 (test1) -4.1267 (test2) -8.8766 (test3) -11.4133 (test4) -8.1288 (test5) -4.0703 (test6) -5.9699 (test7) -9.6910 (test8) -9.1396 (test9) -9.4814\n",
      "\n"
     ]
    },
    {
     "name": "stderr",
     "output_type": "stream",
     "text": [
      "Epoch 172: 100%|██████████| 240/240 [00:00<00:00, 536.27it/s]\n"
     ]
    },
    {
     "name": "stdout",
     "output_type": "stream",
     "text": [
      "(val) -5.9395 (test) -7.9857 (test1) -5.4363 (test2) -5.4519 (test3) -9.5251 (test4) -6.5207 (test5) -3.7999 (test6) -5.5800 (test7) -10.7812 (test8) -10.5766 (test9) -10.3803\n",
      "\n"
     ]
    },
    {
     "name": "stderr",
     "output_type": "stream",
     "text": [
      "Epoch 173: 100%|██████████| 240/240 [00:00<00:00, 554.08it/s]\n"
     ]
    },
    {
     "name": "stdout",
     "output_type": "stream",
     "text": [
      "(val) -6.5928 (test) -9.1003 (test1) -4.2297 (test2) -6.8485 (test3) -12.3069 (test4) -7.9568 (test5) -4.2687 (test6) -4.7402 (test7) -15.1079 (test8) -9.7947 (test9) -10.0450\n",
      "\n"
     ]
    },
    {
     "name": "stderr",
     "output_type": "stream",
     "text": [
      "Epoch 174: 100%|██████████| 240/240 [00:00<00:00, 548.38it/s]\n"
     ]
    },
    {
     "name": "stdout",
     "output_type": "stream",
     "text": [
      "(val) -7.9114 (test) -10.8661 (test1) -5.4208 (test2) -9.0044 (test3) -14.3420 (test4) -7.0116 (test5) -4.5044 (test6) -6.5316 (test7) -15.3656 (test8) -15.0037 (test9) -13.1596\n",
      "\n"
     ]
    },
    {
     "name": "stderr",
     "output_type": "stream",
     "text": [
      "Epoch 175: 100%|██████████| 240/240 [00:00<00:00, 524.91it/s]\n"
     ]
    },
    {
     "name": "stdout",
     "output_type": "stream",
     "text": [
      "(val) -7.4075 (test) -10.2711 (test1) -4.5450 (test2) -9.1020 (test3) -12.5907 (test4) -8.5161 (test5) -3.8175 (test6) -6.8697 (test7) -15.9986 (test8) -9.3628 (test9) -14.4748\n",
      "\n"
     ]
    },
    {
     "name": "stderr",
     "output_type": "stream",
     "text": [
      "Epoch 176: 100%|██████████| 240/240 [00:00<00:00, 549.96it/s]\n"
     ]
    },
    {
     "name": "stdout",
     "output_type": "stream",
     "text": [
      "(val) -6.9399 (test) -10.1095 (test1) -5.9741 (test2) -7.8475 (test3) -16.7016 (test4) -7.9700 (test5) -4.3625 (test6) -7.9599 (test7) -9.3453 (test8) -13.7309 (test9) -11.0370\n",
      "\n"
     ]
    },
    {
     "name": "stderr",
     "output_type": "stream",
     "text": [
      "Epoch 177: 100%|██████████| 240/240 [00:00<00:00, 508.95it/s]\n"
     ]
    },
    {
     "name": "stdout",
     "output_type": "stream",
     "text": [
      "(val) -8.0663 (test) -10.0898 (test1) -6.4990 (test2) -10.2568 (test3) -14.0185 (test4) -9.4735 (test5) -4.0846 (test6) -6.4506 (test7) -10.9889 (test8) -12.8651 (test9) -11.7461\n",
      "\n"
     ]
    },
    {
     "name": "stderr",
     "output_type": "stream",
     "text": [
      "Epoch 178: 100%|██████████| 240/240 [00:00<00:00, 548.55it/s]\n"
     ]
    },
    {
     "name": "stdout",
     "output_type": "stream",
     "text": [
      "(val) -6.5090 (test) -8.8658 (test1) -5.7474 (test2) -5.8860 (test3) -6.8935 (test4) -6.9347 (test5) -5.1838 (test6) -6.2962 (test7) -10.6184 (test8) -9.7719 (test9) -16.4130\n",
      "\n"
     ]
    },
    {
     "name": "stderr",
     "output_type": "stream",
     "text": [
      "Epoch 179: 100%|██████████| 240/240 [00:00<00:00, 570.64it/s]\n"
     ]
    },
    {
     "name": "stdout",
     "output_type": "stream",
     "text": [
      "(val) -6.9549 (test) -10.8180 (test1) -8.7515 (test2) -6.6793 (test3) -19.6695 (test4) -8.2875 (test5) -3.6964 (test6) -5.3444 (test7) -9.9066 (test8) -15.6398 (test9) -9.5669\n",
      "\n"
     ]
    },
    {
     "name": "stderr",
     "output_type": "stream",
     "text": [
      "Epoch 180: 100%|██████████| 240/240 [00:00<00:00, 591.21it/s]\n"
     ]
    },
    {
     "name": "stdout",
     "output_type": "stream",
     "text": [
      "(val) -6.4558 (test) -8.6733 (test1) -6.9020 (test2) -6.0811 (test3) -12.2263 (test4) -9.0265 (test5) -3.8762 (test6) -5.3366 (test7) -8.7873 (test8) -11.6973 (test9) -10.1938\n",
      "\n"
     ]
    },
    {
     "name": "stderr",
     "output_type": "stream",
     "text": [
      "Epoch 181: 100%|██████████| 240/240 [00:00<00:00, 547.06it/s]\n"
     ]
    },
    {
     "name": "stdout",
     "output_type": "stream",
     "text": [
      "(val) -6.6188 (test) -8.9177 (test1) -7.2461 (test2) -5.2605 (test3) -9.3025 (test4) -5.8546 (test5) -6.3652 (test6) -8.5482 (test7) -10.9756 (test8) -10.6299 (test9) -12.9498\n",
      "\n"
     ]
    },
    {
     "name": "stderr",
     "output_type": "stream",
     "text": [
      "Epoch 182: 100%|██████████| 240/240 [00:00<00:00, 593.86it/s]\n"
     ]
    },
    {
     "name": "stdout",
     "output_type": "stream",
     "text": [
      "(val) -6.7633 (test) -9.4940 (test1) -6.4535 (test2) -6.8078 (test3) -13.5250 (test4) -9.1527 (test5) -4.1071 (test6) -8.1017 (test7) -9.9146 (test8) -10.3277 (test9) -13.0028\n",
      "\n"
     ]
    },
    {
     "name": "stderr",
     "output_type": "stream",
     "text": [
      "Epoch 183: 100%|██████████| 240/240 [00:00<00:00, 572.15it/s]\n"
     ]
    },
    {
     "name": "stdout",
     "output_type": "stream",
     "text": [
      "(val) -7.1505 (test) -9.2852 (test1) -6.2333 (test2) -7.0512 (test3) -11.1835 (test4) -7.1763 (test5) -5.5001 (test6) -10.4107 (test7) -11.3940 (test8) -12.5746 (test9) -9.1767\n",
      "\n"
     ]
    },
    {
     "name": "stderr",
     "output_type": "stream",
     "text": [
      "Epoch 184: 100%|██████████| 240/240 [00:00<00:00, 586.98it/s]\n"
     ]
    },
    {
     "name": "stdout",
     "output_type": "stream",
     "text": [
      "(val) -6.5061 (test) -8.7517 (test1) -4.2883 (test2) -6.0776 (test3) -13.3666 (test4) -7.1657 (test5) -6.2517 (test6) -8.3741 (test7) -11.5573 (test8) -8.0355 (test9) -9.8310\n",
      "\n"
     ]
    },
    {
     "name": "stderr",
     "output_type": "stream",
     "text": [
      "Epoch 185: 100%|██████████| 240/240 [00:00<00:00, 587.21it/s]\n"
     ]
    },
    {
     "name": "stdout",
     "output_type": "stream",
     "text": [
      "(val) -6.1563 (test) -8.7676 (test1) -2.8910 (test2) -7.8183 (test3) -11.2276 (test4) -7.3305 (test5) -4.9024 (test6) -7.4029 (test7) -10.1309 (test8) -11.9694 (test9) -10.8545\n",
      "\n"
     ]
    },
    {
     "name": "stderr",
     "output_type": "stream",
     "text": [
      "Epoch 186: 100%|██████████| 240/240 [00:00<00:00, 541.07it/s]\n"
     ]
    },
    {
     "name": "stdout",
     "output_type": "stream",
     "text": [
      "(val) -6.7047 (test) -10.0301 (test1) -8.3174 (test2) -4.6876 (test3) -12.3172 (test4) -8.0053 (test5) -5.0560 (test6) -10.8046 (test7) -11.8909 (test8) -12.1909 (test9) -12.8901\n",
      "\n"
     ]
    },
    {
     "name": "stderr",
     "output_type": "stream",
     "text": [
      "Epoch 187: 100%|██████████| 240/240 [00:00<00:00, 580.05it/s]\n"
     ]
    },
    {
     "name": "stdout",
     "output_type": "stream",
     "text": [
      "(val) -6.8854 (test) -9.4263 (test1) -11.4443 (test2) -6.1380 (test3) -13.8492 (test4) -6.0971 (test5) -5.7532 (test6) -7.1461 (test7) -8.5473 (test8) -13.7461 (test9) -7.4762\n",
      "\n"
     ]
    },
    {
     "name": "stderr",
     "output_type": "stream",
     "text": [
      "Epoch 188: 100%|██████████| 240/240 [00:00<00:00, 539.76it/s]\n"
     ]
    },
    {
     "name": "stdout",
     "output_type": "stream",
     "text": [
      "(val) -7.6575 (test) -10.3891 (test1) -4.4527 (test2) -9.9474 (test3) -15.4966 (test4) -8.5331 (test5) -5.7593 (test6) -7.6592 (test7) -13.7321 (test8) -13.9526 (test9) -8.0367\n",
      "\n"
     ]
    },
    {
     "name": "stderr",
     "output_type": "stream",
     "text": [
      "Epoch 189: 100%|██████████| 240/240 [00:00<00:00, 549.80it/s]\n"
     ]
    },
    {
     "name": "stdout",
     "output_type": "stream",
     "text": [
      "(val) -6.3687 (test) -8.8779 (test1) -4.4113 (test2) -5.7092 (test3) -9.5500 (test4) -8.5053 (test5) -4.3517 (test6) -6.0423 (test7) -13.2298 (test8) -9.7699 (test9) -12.9550\n",
      "\n"
     ]
    },
    {
     "name": "stderr",
     "output_type": "stream",
     "text": [
      "Epoch 190: 100%|██████████| 240/240 [00:00<00:00, 567.22it/s]\n"
     ]
    },
    {
     "name": "stdout",
     "output_type": "stream",
     "text": [
      "(val) -7.0075 (test) -7.8664 (test1) -5.3104 (test2) -5.2787 (test3) -9.9820 (test4) -7.3523 (test5) -3.7632 (test6) -7.7785 (test7) -8.8363 (test8) -10.9510 (test9) -8.6306\n",
      "\n"
     ]
    },
    {
     "name": "stderr",
     "output_type": "stream",
     "text": [
      "Epoch 191: 100%|██████████| 240/240 [00:00<00:00, 540.13it/s]\n"
     ]
    },
    {
     "name": "stdout",
     "output_type": "stream",
     "text": [
      "(val) -6.7641 (test) -8.8242 (test1) -4.2066 (test2) -6.2848 (test3) -6.4148 (test4) -6.4626 (test5) -7.1604 (test6) -9.8444 (test7) -9.9323 (test8) -9.3973 (test9) -15.0181\n",
      "\n"
     ]
    },
    {
     "name": "stderr",
     "output_type": "stream",
     "text": [
      "Epoch 192: 100%|██████████| 240/240 [00:00<00:00, 562.96it/s]\n"
     ]
    },
    {
     "name": "stdout",
     "output_type": "stream",
     "text": [
      "(val) -7.0753 (test) -9.8781 (test1) -7.8676 (test2) -7.6952 (test3) -13.1643 (test4) -8.8245 (test5) -4.5709 (test6) -5.4653 (test7) -12.7391 (test8) -14.0817 (test9) -9.7240\n",
      "\n"
     ]
    },
    {
     "name": "stderr",
     "output_type": "stream",
     "text": [
      "Epoch 193: 100%|██████████| 240/240 [00:00<00:00, 559.59it/s]\n"
     ]
    },
    {
     "name": "stdout",
     "output_type": "stream",
     "text": [
      "(val) -7.0381 (test) -9.8587 (test1) -7.5253 (test2) -6.7576 (test3) -10.8856 (test4) -8.0934 (test5) -4.4749 (test6) -5.5005 (test7) -15.3326 (test8) -8.3556 (test9) -15.2730\n",
      "\n"
     ]
    },
    {
     "name": "stderr",
     "output_type": "stream",
     "text": [
      "Epoch 194: 100%|██████████| 240/240 [00:00<00:00, 555.77it/s]\n"
     ]
    },
    {
     "name": "stdout",
     "output_type": "stream",
     "text": [
      "(val) -6.7876 (test) -9.8422 (test1) -3.4284 (test2) -7.9988 (test3) -12.5165 (test4) -8.5181 (test5) -3.9203 (test6) -9.6695 (test7) -13.9338 (test8) -9.6862 (test9) -13.0393\n",
      "\n"
     ]
    },
    {
     "name": "stderr",
     "output_type": "stream",
     "text": [
      "Epoch 195: 100%|██████████| 240/240 [00:00<00:00, 546.57it/s]\n"
     ]
    },
    {
     "name": "stdout",
     "output_type": "stream",
     "text": [
      "(val) -6.3231 (test) -8.1370 (test1) -7.7900 (test2) -3.5248 (test3) -9.9387 (test4) -7.1133 (test5) -4.2021 (test6) -6.2798 (test7) -9.6939 (test8) -12.2730 (test9) -8.4690\n",
      "\n"
     ]
    },
    {
     "name": "stderr",
     "output_type": "stream",
     "text": [
      "Epoch 196: 100%|██████████| 240/240 [00:00<00:00, 548.17it/s]\n"
     ]
    },
    {
     "name": "stdout",
     "output_type": "stream",
     "text": [
      "(val) -8.4277 (test) -9.7730 (test1) -3.0092 (test2) -5.4425 (test3) -10.8592 (test4) -7.7075 (test5) -4.2110 (test6) -6.2454 (test7) -10.4560 (test8) -12.8451 (test9) -17.6787\n",
      "\n"
     ]
    },
    {
     "name": "stderr",
     "output_type": "stream",
     "text": [
      "Epoch 197: 100%|██████████| 240/240 [00:00<00:00, 563.25it/s]\n"
     ]
    },
    {
     "name": "stdout",
     "output_type": "stream",
     "text": [
      "(val) -6.4160 (test) -9.0721 (test1) -7.1802 (test2) -8.3787 (test3) -11.7185 (test4) -7.8212 (test5) -3.6621 (test6) -5.4753 (test7) -9.8482 (test8) -10.8267 (test9) -12.7622\n",
      "\n"
     ]
    },
    {
     "name": "stderr",
     "output_type": "stream",
     "text": [
      "Epoch 198: 100%|██████████| 240/240 [00:00<00:00, 542.23it/s]\n"
     ]
    },
    {
     "name": "stdout",
     "output_type": "stream",
     "text": [
      "(val) -7.8034 (test) -11.1020 (test1) -7.1701 (test2) -7.2160 (test3) -18.6722 (test4) -7.5032 (test5) -6.5158 (test6) -7.4791 (test7) -10.6043 (test8) -17.4447 (test9) -9.2569\n",
      "\n"
     ]
    },
    {
     "name": "stderr",
     "output_type": "stream",
     "text": [
      "Epoch 199: 100%|██████████| 240/240 [00:00<00:00, 577.03it/s]\n"
     ]
    },
    {
     "name": "stdout",
     "output_type": "stream",
     "text": [
      "(val) -6.6389 (test) -8.4570 (test1) -3.1253 (test2) -5.3416 (test3) -10.9757 (test4) -6.9766 (test5) -7.7513 (test6) -6.9397 (test7) -11.7407 (test8) -9.3302 (test9) -10.1540\n",
      "\n"
     ]
    },
    {
     "name": "stderr",
     "output_type": "stream",
     "text": [
      "Epoch 200: 100%|██████████| 240/240 [00:00<00:00, 565.31it/s]\n"
     ]
    },
    {
     "name": "stdout",
     "output_type": "stream",
     "text": [
      "(val) -6.5544 (test) -7.6595 (test1) -3.5558 (test2) -7.0329 (test3) -8.2785 (test4) -7.0325 (test5) -5.8043 (test6) -8.2301 (test7) -7.7793 (test8) -10.8136 (test9) -8.3088\n",
      "\n"
     ]
    },
    {
     "name": "stderr",
     "output_type": "stream",
     "text": [
      "Epoch 201: 100%|██████████| 240/240 [00:00<00:00, 594.93it/s]\n"
     ]
    },
    {
     "name": "stdout",
     "output_type": "stream",
     "text": [
      "(val) -6.6485 (test) -9.3598 (test1) -4.3106 (test2) -2.6095 (test3) -13.8135 (test4) -6.6460 (test5) -6.8737 (test6) -6.5546 (test7) -14.5501 (test8) -8.7331 (test9) -12.2432\n",
      "\n"
     ]
    },
    {
     "name": "stderr",
     "output_type": "stream",
     "text": [
      "Epoch 202: 100%|██████████| 240/240 [00:00<00:00, 554.13it/s]\n"
     ]
    },
    {
     "name": "stdout",
     "output_type": "stream",
     "text": [
      "(val) -7.4009 (test) -9.0317 (test1) -5.5711 (test2) -6.8929 (test3) -12.7969 (test4) -6.6499 (test5) -6.0390 (test6) -6.5681 (test7) -11.3766 (test8) -11.5048 (test9) -10.3064\n",
      "\n"
     ]
    },
    {
     "name": "stderr",
     "output_type": "stream",
     "text": [
      "Epoch 203: 100%|██████████| 240/240 [00:00<00:00, 588.39it/s]\n"
     ]
    },
    {
     "name": "stdout",
     "output_type": "stream",
     "text": [
      "(val) -6.1226 (test) -8.8818 (test1) -11.4228 (test2) -4.0486 (test3) -7.4426 (test4) -5.2251 (test5) -6.4739 (test6) -10.3619 (test7) -13.2727 (test8) -9.4732 (test9) -8.0757\n",
      "\n"
     ]
    },
    {
     "name": "stderr",
     "output_type": "stream",
     "text": [
      "Epoch 204: 100%|██████████| 240/240 [00:00<00:00, 573.76it/s]\n"
     ]
    },
    {
     "name": "stdout",
     "output_type": "stream",
     "text": [
      "(val) -5.9372 (test) -8.3597 (test1) -5.3361 (test2) -4.3976 (test3) -7.5906 (test4) -6.6009 (test5) -4.2133 (test6) -6.6233 (test7) -11.5328 (test8) -10.1061 (test9) -13.5354\n",
      "\n"
     ]
    },
    {
     "name": "stderr",
     "output_type": "stream",
     "text": [
      "Epoch 205: 100%|██████████| 240/240 [00:00<00:00, 578.68it/s]\n"
     ]
    },
    {
     "name": "stdout",
     "output_type": "stream",
     "text": [
      "(val) -6.1001 (test) -9.3830 (test1) -6.5099 (test2) -2.4050 (test3) -9.5681 (test4) -5.6484 (test5) -6.2313 (test6) -6.4890 (test7) -17.3055 (test8) -10.1679 (test9) -11.7024\n",
      "\n"
     ]
    },
    {
     "name": "stderr",
     "output_type": "stream",
     "text": [
      "Epoch 206: 100%|██████████| 240/240 [00:00<00:00, 575.09it/s]\n"
     ]
    },
    {
     "name": "stdout",
     "output_type": "stream",
     "text": [
      "(val) -6.0922 (test) -9.2287 (test1) -11.5707 (test2) -2.7643 (test3) -8.8430 (test4) -6.8887 (test5) -6.5886 (test6) -8.9437 (test7) -9.0464 (test8) -13.3995 (test9) -10.7030\n",
      "\n"
     ]
    },
    {
     "name": "stderr",
     "output_type": "stream",
     "text": [
      "Epoch 207: 100%|██████████| 240/240 [00:00<00:00, 527.41it/s]\n"
     ]
    },
    {
     "name": "stdout",
     "output_type": "stream",
     "text": [
      "(val) -6.0810 (test) -10.1602 (test1) -7.9702 (test2) -6.7100 (test3) -13.4797 (test4) -8.1470 (test5) -4.7686 (test6) -8.0688 (test7) -14.3663 (test8) -9.1074 (test9) -13.9734\n",
      "\n"
     ]
    },
    {
     "name": "stderr",
     "output_type": "stream",
     "text": [
      "Epoch 208: 100%|██████████| 240/240 [00:00<00:00, 581.74it/s]\n"
     ]
    },
    {
     "name": "stdout",
     "output_type": "stream",
     "text": [
      "(val) -6.7139 (test) -9.2239 (test1) -2.8217 (test2) -8.8660 (test3) -13.8974 (test4) -7.7325 (test5) -4.7240 (test6) -7.6318 (test7) -9.7134 (test8) -11.6365 (test9) -10.7657\n",
      "\n"
     ]
    },
    {
     "name": "stderr",
     "output_type": "stream",
     "text": [
      "Epoch 209: 100%|██████████| 240/240 [00:00<00:00, 557.99it/s]\n"
     ]
    },
    {
     "name": "stdout",
     "output_type": "stream",
     "text": [
      "(val) -5.9917 (test) -9.0718 (test1) -7.2088 (test2) -5.7951 (test3) -12.0140 (test4) -6.3566 (test5) -5.3267 (test6) -7.2022 (test7) -9.4079 (test8) -8.9967 (test9) -14.8556\n",
      "\n"
     ]
    },
    {
     "name": "stderr",
     "output_type": "stream",
     "text": [
      "Epoch 210: 100%|██████████| 240/240 [00:00<00:00, 559.13it/s]\n"
     ]
    },
    {
     "name": "stdout",
     "output_type": "stream",
     "text": [
      "(val) -6.3187 (test) -8.8605 (test1) -4.5620 (test2) -7.0074 (test3) -13.4697 (test4) -10.3933 (test5) -3.6315 (test6) -7.5861 (test7) -8.6279 (test8) -11.4812 (test9) -8.3791\n",
      "\n"
     ]
    },
    {
     "name": "stderr",
     "output_type": "stream",
     "text": [
      "Epoch 211: 100%|██████████| 240/240 [00:00<00:00, 566.83it/s]\n"
     ]
    },
    {
     "name": "stdout",
     "output_type": "stream",
     "text": [
      "(val) -6.7962 (test) -9.3106 (test1) -5.2937 (test2) -5.5264 (test3) -15.3902 (test4) -7.8006 (test5) -5.0522 (test6) -5.8407 (test7) -10.9418 (test8) -9.4397 (test9) -12.4673\n",
      "\n"
     ]
    },
    {
     "name": "stderr",
     "output_type": "stream",
     "text": [
      "Epoch 212: 100%|██████████| 240/240 [00:00<00:00, 576.10it/s]\n"
     ]
    },
    {
     "name": "stdout",
     "output_type": "stream",
     "text": [
      "(val) -6.0858 (test) -8.7986 (test1) -3.6138 (test2) -7.3066 (test3) -8.5215 (test4) -7.9040 (test5) -5.1567 (test6) -6.5166 (test7) -15.3345 (test8) -8.0641 (test9) -11.2239\n",
      "\n"
     ]
    },
    {
     "name": "stderr",
     "output_type": "stream",
     "text": [
      "Epoch 213: 100%|██████████| 240/240 [00:00<00:00, 531.46it/s]\n"
     ]
    },
    {
     "name": "stdout",
     "output_type": "stream",
     "text": [
      "(val) -6.6289 (test) -9.7148 (test1) -3.5131 (test2) -8.3012 (test3) -14.6287 (test4) -8.9979 (test5) -5.8336 (test6) -7.6625 (test7) -10.3525 (test8) -12.8768 (test9) -10.3654\n",
      "\n"
     ]
    },
    {
     "name": "stderr",
     "output_type": "stream",
     "text": [
      "Epoch 214: 100%|██████████| 240/240 [00:00<00:00, 575.76it/s]\n"
     ]
    },
    {
     "name": "stdout",
     "output_type": "stream",
     "text": [
      "(val) -6.3228 (test) -7.8891 (test1) -3.5169 (test2) -6.0675 (test3) -9.6259 (test4) -8.9471 (test5) -5.1207 (test6) -8.6624 (test7) -9.7134 (test8) -9.8870 (test9) -6.6998\n",
      "\n"
     ]
    },
    {
     "name": "stderr",
     "output_type": "stream",
     "text": [
      "Epoch 215: 100%|██████████| 240/240 [00:00<00:00, 556.58it/s]\n"
     ]
    },
    {
     "name": "stdout",
     "output_type": "stream",
     "text": [
      "(val) -6.7557 (test) -9.5814 (test1) -3.3411 (test2) -7.0024 (test3) -13.5541 (test4) -8.0416 (test5) -6.7754 (test6) -7.8422 (test7) -13.1998 (test8) -12.9316 (test9) -8.2938\n",
      "\n"
     ]
    },
    {
     "name": "stderr",
     "output_type": "stream",
     "text": [
      "Epoch 216: 100%|██████████| 240/240 [00:00<00:00, 578.90it/s]\n"
     ]
    },
    {
     "name": "stdout",
     "output_type": "stream",
     "text": [
      "(val) -7.1039 (test) -9.2376 (test1) -9.2064 (test2) -4.2240 (test3) -13.7344 (test4) -8.0161 (test5) -5.5033 (test6) -5.2785 (test7) -10.4970 (test8) -13.1609 (test9) -8.4241\n",
      "\n"
     ]
    },
    {
     "name": "stderr",
     "output_type": "stream",
     "text": [
      "Epoch 217: 100%|██████████| 240/240 [00:00<00:00, 557.97it/s]\n"
     ]
    },
    {
     "name": "stdout",
     "output_type": "stream",
     "text": [
      "(val) -6.1580 (test) -10.2121 (test1) -8.1711 (test2) -6.6730 (test3) -16.2425 (test4) -5.5083 (test5) -6.1673 (test6) -6.0572 (test7) -12.2523 (test8) -10.7600 (test9) -13.8747\n",
      "\n"
     ]
    },
    {
     "name": "stderr",
     "output_type": "stream",
     "text": [
      "Epoch 218: 100%|██████████| 240/240 [00:00<00:00, 523.26it/s]\n"
     ]
    },
    {
     "name": "stdout",
     "output_type": "stream",
     "text": [
      "(val) -6.9454 (test) -10.3893 (test1) -11.8879 (test2) -1.1949 (test3) -15.4059 (test4) -7.1047 (test5) -4.6779 (test6) -5.7560 (test7) -11.3831 (test8) -9.7387 (test9) -16.1690\n",
      "\n"
     ]
    },
    {
     "name": "stderr",
     "output_type": "stream",
     "text": [
      "Epoch 219: 100%|██████████| 240/240 [00:00<00:00, 565.45it/s]\n"
     ]
    },
    {
     "name": "stdout",
     "output_type": "stream",
     "text": [
      "(val) -6.7015 (test) -9.0819 (test1) -8.6035 (test2) -4.4186 (test3) -13.1456 (test4) -6.7973 (test5) -5.3561 (test6) -5.5110 (test7) -8.6897 (test8) -15.7030 (test9) -6.9727\n",
      "\n"
     ]
    },
    {
     "name": "stderr",
     "output_type": "stream",
     "text": [
      "Epoch 220: 100%|██████████| 240/240 [00:00<00:00, 549.60it/s]\n"
     ]
    },
    {
     "name": "stdout",
     "output_type": "stream",
     "text": [
      "(val) -6.8430 (test) -11.9211 (test1) -10.6324 (test2) -2.9956 (test3) -17.0380 (test4) -7.5685 (test5) -5.2156 (test6) -8.0988 (test7) -14.7742 (test8) -15.4149 (test9) -16.1473\n",
      "\n"
     ]
    },
    {
     "name": "stderr",
     "output_type": "stream",
     "text": [
      "Epoch 221: 100%|██████████| 240/240 [00:00<00:00, 542.44it/s]\n"
     ]
    },
    {
     "name": "stdout",
     "output_type": "stream",
     "text": [
      "(val) -5.9975 (test) -9.9958 (test1) -7.7185 (test2) -7.1139 (test3) -16.9402 (test4) -7.1164 (test5) -5.0212 (test6) -6.0334 (test7) -10.8504 (test8) -10.2362 (test9) -12.9353\n",
      "\n"
     ]
    },
    {
     "name": "stderr",
     "output_type": "stream",
     "text": [
      "Epoch 222: 100%|██████████| 240/240 [00:00<00:00, 578.92it/s]\n"
     ]
    },
    {
     "name": "stdout",
     "output_type": "stream",
     "text": [
      "(val) -5.9995 (test) -9.4226 (test1) -4.4782 (test2) -7.2385 (test3) -10.8276 (test4) -7.5036 (test5) -4.9736 (test6) -5.6095 (test7) -11.4247 (test8) -11.2727 (test9) -15.4684\n",
      "\n"
     ]
    },
    {
     "name": "stderr",
     "output_type": "stream",
     "text": [
      "Epoch 223: 100%|██████████| 240/240 [00:00<00:00, 539.70it/s]\n"
     ]
    },
    {
     "name": "stdout",
     "output_type": "stream",
     "text": [
      "(val) -6.6965 (test) -11.1620 (test1) -6.6880 (test2) -3.4106 (test3) -19.3064 (test4) -8.4935 (test5) -5.8862 (test6) -8.8614 (test7) -15.7761 (test8) -8.9254 (test9) -13.3547\n",
      "\n"
     ]
    },
    {
     "name": "stderr",
     "output_type": "stream",
     "text": [
      "Epoch 224: 100%|██████████| 240/240 [00:00<00:00, 585.77it/s]\n"
     ]
    },
    {
     "name": "stdout",
     "output_type": "stream",
     "text": [
      "(val) -6.3157 (test) -9.7173 (test1) -7.6235 (test2) -2.7914 (test3) -9.5736 (test4) -5.9340 (test5) -5.4865 (test6) -8.1721 (test7) -14.1287 (test8) -13.8389 (test9) -13.0014\n",
      "\n"
     ]
    },
    {
     "name": "stderr",
     "output_type": "stream",
     "text": [
      "Epoch 225: 100%|██████████| 240/240 [00:00<00:00, 575.34it/s]\n"
     ]
    },
    {
     "name": "stdout",
     "output_type": "stream",
     "text": [
      "(val) -6.9771 (test) -9.0265 (test1) -4.5882 (test2) -8.1009 (test3) -9.3576 (test4) -7.5814 (test5) -3.1989 (test6) -6.4979 (test7) -12.5237 (test8) -13.0621 (test9) -11.0301\n",
      "\n"
     ]
    },
    {
     "name": "stderr",
     "output_type": "stream",
     "text": [
      "Epoch 226: 100%|██████████| 240/240 [00:00<00:00, 560.34it/s]\n"
     ]
    },
    {
     "name": "stdout",
     "output_type": "stream",
     "text": [
      "(val) -7.4989 (test) -11.2074 (test1) -8.5212 (test2) -8.0937 (test3) -13.8867 (test4) -7.6655 (test5) -3.8422 (test6) -8.3163 (test7) -13.6944 (test8) -17.1886 (test9) -13.1842\n",
      "\n"
     ]
    },
    {
     "name": "stderr",
     "output_type": "stream",
     "text": [
      "Epoch 227: 100%|██████████| 240/240 [00:00<00:00, 563.09it/s]\n"
     ]
    },
    {
     "name": "stdout",
     "output_type": "stream",
     "text": [
      "(val) -7.1209 (test) -8.3234 (test1) -4.5325 (test2) -3.2387 (test3) -11.8900 (test4) -8.4448 (test5) -4.9375 (test6) -6.8116 (test7) -9.7481 (test8) -11.9129 (test9) -8.4898\n",
      "\n"
     ]
    },
    {
     "name": "stderr",
     "output_type": "stream",
     "text": [
      "Epoch 228: 100%|██████████| 240/240 [00:00<00:00, 576.43it/s]\n"
     ]
    },
    {
     "name": "stdout",
     "output_type": "stream",
     "text": [
      "(val) -6.2647 (test) -10.3383 (test1) -5.7919 (test2) -7.7238 (test3) -15.2997 (test4) -7.7479 (test5) -3.9242 (test6) -6.1720 (test7) -10.9800 (test8) -12.8863 (test9) -15.3133\n",
      "\n"
     ]
    },
    {
     "name": "stderr",
     "output_type": "stream",
     "text": [
      "Epoch 229: 100%|██████████| 240/240 [00:00<00:00, 539.05it/s]\n"
     ]
    },
    {
     "name": "stdout",
     "output_type": "stream",
     "text": [
      "(val) -6.3627 (test) -10.4233 (test1) -11.6901 (test2) -3.8758 (test3) -15.6948 (test4) -5.9248 (test5) -6.1286 (test6) -8.8494 (test7) -12.6119 (test8) -12.0737 (test9) -11.1352\n",
      "\n"
     ]
    },
    {
     "name": "stderr",
     "output_type": "stream",
     "text": [
      "Epoch 230: 100%|██████████| 240/240 [00:00<00:00, 580.08it/s]\n"
     ]
    },
    {
     "name": "stdout",
     "output_type": "stream",
     "text": [
      "(val) -6.7437 (test) -9.1882 (test1) -5.9221 (test2) -3.4640 (test3) -11.6095 (test4) -6.3444 (test5) -4.2247 (test6) -6.6841 (test7) -7.3912 (test8) -12.9586 (test9) -15.8941\n",
      "\n"
     ]
    },
    {
     "name": "stderr",
     "output_type": "stream",
     "text": [
      "Epoch 231: 100%|██████████| 240/240 [00:00<00:00, 573.20it/s]\n"
     ]
    },
    {
     "name": "stdout",
     "output_type": "stream",
     "text": [
      "(val) -6.9315 (test) -12.0202 (test1) -3.1557 (test2) -6.8641 (test3) -27.7713 (test4) -6.4438 (test5) -5.4586 (test6) -6.9596 (test7) -9.6610 (test8) -9.2242 (test9) -13.1859\n",
      "\n"
     ]
    },
    {
     "name": "stderr",
     "output_type": "stream",
     "text": [
      "Epoch 232: 100%|██████████| 240/240 [00:00<00:00, 510.03it/s]\n"
     ]
    },
    {
     "name": "stdout",
     "output_type": "stream",
     "text": [
      "(val) -6.9966 (test) -9.1704 (test1) -3.5568 (test2) -5.6024 (test3) -15.0454 (test4) -7.1495 (test5) -4.7163 (test6) -8.0580 (test7) -10.2523 (test8) -13.1432 (test9) -8.3854\n",
      "\n"
     ]
    },
    {
     "name": "stderr",
     "output_type": "stream",
     "text": [
      "Epoch 233: 100%|██████████| 240/240 [00:00<00:00, 546.76it/s]\n"
     ]
    },
    {
     "name": "stdout",
     "output_type": "stream",
     "text": [
      "(val) -6.1241 (test) -10.2447 (test1) -5.1986 (test2) -4.8013 (test3) -16.1871 (test4) -7.8122 (test5) -7.1568 (test6) -10.6534 (test7) -13.9748 (test8) -9.0741 (test9) -11.3624\n",
      "\n"
     ]
    },
    {
     "name": "stderr",
     "output_type": "stream",
     "text": [
      "Epoch 234: 100%|██████████| 240/240 [00:00<00:00, 526.40it/s]\n"
     ]
    },
    {
     "name": "stdout",
     "output_type": "stream",
     "text": [
      "(val) -6.7445 (test) -11.2618 (test1) -3.1143 (test2) -8.7017 (test3) -19.6228 (test4) -7.5149 (test5) -4.9565 (test6) -9.2224 (test7) -13.0211 (test8) -11.7810 (test9) -14.0194\n",
      "\n"
     ]
    },
    {
     "name": "stderr",
     "output_type": "stream",
     "text": [
      "Epoch 235: 100%|██████████| 240/240 [00:00<00:00, 590.43it/s]\n"
     ]
    },
    {
     "name": "stdout",
     "output_type": "stream",
     "text": [
      "(val) -7.0028 (test) -9.7253 (test1) -3.2543 (test2) -4.8110 (test3) -9.7328 (test4) -7.5154 (test5) -6.5982 (test6) -5.7232 (test7) -17.7202 (test8) -9.3359 (test9) -13.7419\n",
      "\n"
     ]
    },
    {
     "name": "stderr",
     "output_type": "stream",
     "text": [
      "Epoch 236: 100%|██████████| 240/240 [00:00<00:00, 554.55it/s]\n"
     ]
    },
    {
     "name": "stdout",
     "output_type": "stream",
     "text": [
      "(val) -6.9095 (test) -9.8940 (test1) -8.2150 (test2) -4.9957 (test3) -13.4284 (test4) -7.7409 (test5) -6.4021 (test6) -6.5234 (test7) -14.1485 (test8) -13.9398 (test9) -8.3842\n",
      "\n"
     ]
    },
    {
     "name": "stderr",
     "output_type": "stream",
     "text": [
      "Epoch 237: 100%|██████████| 240/240 [00:00<00:00, 562.84it/s]\n"
     ]
    },
    {
     "name": "stdout",
     "output_type": "stream",
     "text": [
      "(val) -6.5723 (test) -10.1352 (test1) -3.5517 (test2) -7.2605 (test3) -14.2925 (test4) -8.6924 (test5) -5.4321 (test6) -8.5284 (test7) -13.2477 (test8) -10.4090 (test9) -13.9015\n",
      "\n"
     ]
    },
    {
     "name": "stderr",
     "output_type": "stream",
     "text": [
      "Epoch 238: 100%|██████████| 240/240 [00:00<00:00, 553.92it/s]\n"
     ]
    },
    {
     "name": "stdout",
     "output_type": "stream",
     "text": [
      "(val) -5.6366 (test) -9.4206 (test1) -3.7507 (test2) -5.1693 (test3) -15.7488 (test4) -7.2788 (test5) -5.3234 (test6) -7.1208 (test7) -12.1850 (test8) -8.8378 (test9) -12.3011\n",
      "\n"
     ]
    },
    {
     "name": "stderr",
     "output_type": "stream",
     "text": [
      "Epoch 239: 100%|██████████| 240/240 [00:00<00:00, 532.74it/s]\n"
     ]
    },
    {
     "name": "stdout",
     "output_type": "stream",
     "text": [
      "(val) -6.2959 (test) -8.7019 (test1) -4.8702 (test2) -4.5222 (test3) -10.9169 (test4) -6.6338 (test5) -5.2315 (test6) -9.3301 (test7) -10.5287 (test8) -13.2156 (test9) -8.6152\n",
      "\n"
     ]
    },
    {
     "name": "stderr",
     "output_type": "stream",
     "text": [
      "Epoch 240: 100%|██████████| 240/240 [00:00<00:00, 552.28it/s]\n"
     ]
    },
    {
     "name": "stdout",
     "output_type": "stream",
     "text": [
      "(val) -6.3029 (test) -9.5177 (test1) -7.0792 (test2) -4.8083 (test3) -13.8202 (test4) -8.8782 (test5) -5.3434 (test6) -6.8978 (test7) -11.1636 (test8) -10.3409 (test9) -12.8271\n",
      "\n"
     ]
    },
    {
     "name": "stderr",
     "output_type": "stream",
     "text": [
      "Epoch 241: 100%|██████████| 240/240 [00:00<00:00, 552.62it/s]\n"
     ]
    },
    {
     "name": "stdout",
     "output_type": "stream",
     "text": [
      "(val) -7.0109 (test) -9.5922 (test1) -5.3761 (test2) -11.1281 (test3) -12.3578 (test4) -5.8260 (test5) -6.0695 (test6) -9.1432 (test7) -10.3020 (test8) -11.5910 (test9) -11.3041\n",
      "\n"
     ]
    },
    {
     "name": "stderr",
     "output_type": "stream",
     "text": [
      "Epoch 242: 100%|██████████| 240/240 [00:00<00:00, 561.60it/s]\n"
     ]
    },
    {
     "name": "stdout",
     "output_type": "stream",
     "text": [
      "(val) -6.7985 (test) -9.0045 (test1) -4.5186 (test2) -8.2864 (test3) -9.1917 (test4) -8.2994 (test5) -6.1189 (test6) -7.6698 (test7) -10.6254 (test8) -12.4712 (test9) -11.0718\n",
      "\n"
     ]
    },
    {
     "name": "stderr",
     "output_type": "stream",
     "text": [
      "Epoch 243: 100%|██████████| 240/240 [00:00<00:00, 571.80it/s]\n"
     ]
    },
    {
     "name": "stdout",
     "output_type": "stream",
     "text": [
      "(val) -6.1374 (test) -9.6573 (test1) -5.7070 (test2) -4.0277 (test3) -13.5888 (test4) -6.9614 (test5) -7.5136 (test6) -8.7978 (test7) -12.2113 (test8) -12.7368 (test9) -10.5951\n",
      "\n"
     ]
    },
    {
     "name": "stderr",
     "output_type": "stream",
     "text": [
      "Epoch 244: 100%|██████████| 240/240 [00:00<00:00, 557.36it/s]\n"
     ]
    },
    {
     "name": "stdout",
     "output_type": "stream",
     "text": [
      "(val) -5.5862 (test) -8.5058 (test1) -7.6775 (test2) -4.7259 (test3) -9.8382 (test4) -7.4155 (test5) -4.5404 (test6) -6.3526 (test7) -10.2532 (test8) -10.0403 (test9) -12.2951\n",
      "\n"
     ]
    },
    {
     "name": "stderr",
     "output_type": "stream",
     "text": [
      "Epoch 245: 100%|██████████| 240/240 [00:00<00:00, 576.36it/s]\n"
     ]
    },
    {
     "name": "stdout",
     "output_type": "stream",
     "text": [
      "(val) -5.8851 (test) -9.3083 (test1) -6.8453 (test2) -6.5967 (test3) -14.1905 (test4) -7.9228 (test5) -5.8603 (test6) -6.9306 (test7) -12.2273 (test8) -10.0745 (test9) -9.5866\n",
      "\n"
     ]
    },
    {
     "name": "stderr",
     "output_type": "stream",
     "text": [
      "Epoch 246: 100%|██████████| 240/240 [00:00<00:00, 565.32it/s]\n"
     ]
    },
    {
     "name": "stdout",
     "output_type": "stream",
     "text": [
      "(val) -7.1960 (test) -10.5472 (test1) -3.0585 (test2) -8.0838 (test3) -16.4378 (test4) -9.2675 (test5) -4.4367 (test6) -6.0492 (test7) -11.4804 (test8) -11.7534 (test9) -15.6265\n",
      "\n"
     ]
    },
    {
     "name": "stderr",
     "output_type": "stream",
     "text": [
      "Epoch 247: 100%|██████████| 240/240 [00:00<00:00, 579.94it/s]\n"
     ]
    },
    {
     "name": "stdout",
     "output_type": "stream",
     "text": [
      "(val) -6.7751 (test) -9.6255 (test1) -5.2415 (test2) -6.5050 (test3) -13.1341 (test4) -7.6918 (test5) -5.3269 (test6) -7.7472 (test7) -9.9869 (test8) -15.5294 (test9) -10.1541\n",
      "\n"
     ]
    },
    {
     "name": "stderr",
     "output_type": "stream",
     "text": [
      "Epoch 248: 100%|██████████| 240/240 [00:00<00:00, 575.98it/s]\n"
     ]
    },
    {
     "name": "stdout",
     "output_type": "stream",
     "text": [
      "(val) -6.1748 (test) -8.9415 (test1) -6.8878 (test2) -6.4152 (test3) -14.6367 (test4) -8.7478 (test5) -4.9756 (test6) -5.3325 (test7) -11.0466 (test8) -9.9963 (test9) -8.0653\n",
      "\n"
     ]
    },
    {
     "name": "stderr",
     "output_type": "stream",
     "text": [
      "Epoch 249: 100%|██████████| 240/240 [00:00<00:00, 557.84it/s]\n"
     ]
    },
    {
     "name": "stdout",
     "output_type": "stream",
     "text": [
      "(val) -6.1675 (test) -9.9641 (test1) -8.5742 (test2) -2.4011 (test3) -10.3674 (test4) -7.2034 (test5) -7.6249 (test6) -5.7634 (test7) -11.8942 (test8) -17.2419 (test9) -11.1708\n",
      "\n"
     ]
    },
    {
     "name": "stderr",
     "output_type": "stream",
     "text": [
      "Epoch 250: 100%|██████████| 240/240 [00:00<00:00, 566.04it/s]\n"
     ]
    },
    {
     "name": "stdout",
     "output_type": "stream",
     "text": [
      "(val) -6.9008 (test) -9.0105 (test1) -3.2116 (test2) -7.2962 (test3) -10.3983 (test4) -8.5730 (test5) -4.1763 (test6) -6.9727 (test7) -12.8574 (test8) -10.6228 (test9) -11.8876\n",
      "\n"
     ]
    },
    {
     "name": "stderr",
     "output_type": "stream",
     "text": [
      "Epoch 251: 100%|██████████| 240/240 [00:00<00:00, 566.23it/s]\n"
     ]
    },
    {
     "name": "stdout",
     "output_type": "stream",
     "text": [
      "(val) -5.6676 (test) -8.3561 (test1) -9.1623 (test2) -4.8652 (test3) -9.1763 (test4) -7.2498 (test5) -4.8973 (test6) -6.7712 (test7) -10.2983 (test8) -10.6312 (test9) -9.7534\n",
      "\n"
     ]
    },
    {
     "name": "stderr",
     "output_type": "stream",
     "text": [
      "Epoch 252: 100%|██████████| 240/240 [00:00<00:00, 578.87it/s]\n"
     ]
    },
    {
     "name": "stdout",
     "output_type": "stream",
     "text": [
      "(val) -6.9964 (test) -13.5644 (test1) -4.1843 (test2) -7.0834 (test3) -27.5870 (test4) -7.8227 (test5) -5.5140 (test6) -7.1228 (test7) -17.0629 (test8) -16.2227 (test9) -11.4261\n",
      "\n"
     ]
    },
    {
     "name": "stderr",
     "output_type": "stream",
     "text": [
      "Epoch 253: 100%|██████████| 240/240 [00:00<00:00, 577.58it/s]\n"
     ]
    },
    {
     "name": "stdout",
     "output_type": "stream",
     "text": [
      "(val) -6.6423 (test) -10.3433 (test1) -12.6333 (test2) -3.6248 (test3) -8.2228 (test4) -6.0710 (test5) -6.0715 (test6) -8.8037 (test7) -12.9578 (test8) -16.7018 (test9) -11.1547\n",
      "\n"
     ]
    },
    {
     "name": "stderr",
     "output_type": "stream",
     "text": [
      "Epoch 254: 100%|██████████| 240/240 [00:00<00:00, 567.39it/s]\n"
     ]
    },
    {
     "name": "stdout",
     "output_type": "stream",
     "text": [
      "(val) -6.2346 (test) -9.2378 (test1) -6.4824 (test2) -5.6473 (test3) -14.2236 (test4) -8.3743 (test5) -4.1151 (test6) -6.2987 (test7) -8.3102 (test8) -13.3264 (test9) -10.8822\n",
      "\n"
     ]
    },
    {
     "name": "stderr",
     "output_type": "stream",
     "text": [
      "Epoch 255: 100%|██████████| 240/240 [00:00<00:00, 546.77it/s]\n"
     ]
    },
    {
     "name": "stdout",
     "output_type": "stream",
     "text": [
      "(val) -6.1562 (test) -9.4692 (test1) -5.7697 (test2) -6.6291 (test3) -8.5608 (test4) -8.3906 (test5) -5.5678 (test6) -6.1532 (test7) -13.6883 (test8) -9.8098 (test9) -15.2840\n",
      "\n"
     ]
    },
    {
     "name": "stderr",
     "output_type": "stream",
     "text": [
      "Epoch 256: 100%|██████████| 240/240 [00:00<00:00, 536.07it/s]\n"
     ]
    },
    {
     "name": "stdout",
     "output_type": "stream",
     "text": [
      "(val) -7.4132 (test) -10.2646 (test1) -3.8332 (test2) -9.4469 (test3) -17.1030 (test4) -8.9257 (test5) -4.1966 (test6) -5.3680 (test7) -9.6537 (test8) -10.7638 (test9) -14.7195\n",
      "\n"
     ]
    },
    {
     "name": "stderr",
     "output_type": "stream",
     "text": [
      "Epoch 257: 100%|██████████| 240/240 [00:00<00:00, 575.24it/s]\n"
     ]
    },
    {
     "name": "stdout",
     "output_type": "stream",
     "text": [
      "(val) -6.5078 (test) -9.9847 (test1) -6.5255 (test2) -4.2134 (test3) -15.0068 (test4) -7.0492 (test5) -6.3283 (test6) -5.8708 (test7) -11.5436 (test8) -13.5999 (test9) -13.0109\n",
      "\n"
     ]
    },
    {
     "name": "stderr",
     "output_type": "stream",
     "text": [
      "Epoch 258: 100%|██████████| 240/240 [00:00<00:00, 556.40it/s]\n"
     ]
    },
    {
     "name": "stdout",
     "output_type": "stream",
     "text": [
      "(val) -6.1493 (test) -9.0489 (test1) -4.4113 (test2) -6.3651 (test3) -10.7505 (test4) -8.5886 (test5) -7.6505 (test6) -6.7884 (test7) -12.9922 (test8) -9.5753 (test9) -11.0694\n",
      "\n"
     ]
    },
    {
     "name": "stderr",
     "output_type": "stream",
     "text": [
      "Epoch 259: 100%|██████████| 240/240 [00:00<00:00, 562.86it/s]\n"
     ]
    },
    {
     "name": "stdout",
     "output_type": "stream",
     "text": [
      "(val) -6.7838 (test) -10.5966 (test1) -7.6990 (test2) -6.7485 (test3) -18.5581 (test4) -6.8030 (test5) -5.5042 (test6) -6.8163 (test7) -9.3455 (test8) -13.5426 (test9) -12.9460\n",
      "\n"
     ]
    },
    {
     "name": "stderr",
     "output_type": "stream",
     "text": [
      "Epoch 260: 100%|██████████| 240/240 [00:00<00:00, 562.55it/s]\n"
     ]
    },
    {
     "name": "stdout",
     "output_type": "stream",
     "text": [
      "(val) -7.2310 (test) -11.1878 (test1) -7.9196 (test2) -4.3922 (test3) -17.4412 (test4) -6.7330 (test5) -5.2402 (test6) -8.7933 (test7) -12.7128 (test8) -16.6547 (test9) -12.2954\n",
      "\n"
     ]
    },
    {
     "name": "stderr",
     "output_type": "stream",
     "text": [
      "Epoch 261: 100%|██████████| 240/240 [00:00<00:00, 556.19it/s]\n"
     ]
    },
    {
     "name": "stdout",
     "output_type": "stream",
     "text": [
      "(val) -7.0288 (test) -10.9802 (test1) -6.2554 (test2) -5.3398 (test3) -13.2912 (test4) -8.7613 (test5) -4.3162 (test6) -6.7583 (test7) -13.6173 (test8) -10.7884 (test9) -19.9473\n",
      "\n"
     ]
    },
    {
     "name": "stderr",
     "output_type": "stream",
     "text": [
      "Epoch 262: 100%|██████████| 240/240 [00:00<00:00, 534.41it/s]\n"
     ]
    },
    {
     "name": "stdout",
     "output_type": "stream",
     "text": [
      "(val) -6.7868 (test) -10.5159 (test1) -6.1377 (test2) -3.0478 (test3) -16.2915 (test4) -7.9349 (test5) -6.3614 (test6) -9.6387 (test7) -8.5909 (test8) -15.7112 (test9) -12.8802\n",
      "\n"
     ]
    },
    {
     "name": "stderr",
     "output_type": "stream",
     "text": [
      "Epoch 263: 100%|██████████| 240/240 [00:00<00:00, 516.81it/s]\n"
     ]
    },
    {
     "name": "stdout",
     "output_type": "stream",
     "text": [
      "(val) -6.3820 (test) -10.3910 (test1) -3.5178 (test2) -5.9801 (test3) -15.5005 (test4) -8.6658 (test5) -4.4243 (test6) -7.6694 (test7) -14.2284 (test8) -9.7874 (test9) -15.2192\n",
      "\n"
     ]
    },
    {
     "name": "stderr",
     "output_type": "stream",
     "text": [
      "Epoch 264: 100%|██████████| 240/240 [00:00<00:00, 537.27it/s]\n"
     ]
    },
    {
     "name": "stdout",
     "output_type": "stream",
     "text": [
      "(val) -6.4374 (test) -10.3861 (test1) -4.7650 (test2) -7.8595 (test3) -17.9710 (test4) -7.2111 (test5) -5.7237 (test6) -7.3885 (test7) -11.5315 (test8) -12.8236 (test9) -11.2532\n",
      "\n"
     ]
    },
    {
     "name": "stderr",
     "output_type": "stream",
     "text": [
      "Epoch 265: 100%|██████████| 240/240 [00:00<00:00, 504.91it/s]\n"
     ]
    },
    {
     "name": "stdout",
     "output_type": "stream",
     "text": [
      "(val) -6.4397 (test) -9.4929 (test1) -6.6311 (test2) -4.1469 (test3) -11.5123 (test4) -6.5602 (test5) -5.2904 (test6) -6.9233 (test7) -11.8543 (test8) -10.9264 (test9) -15.4427\n",
      "\n"
     ]
    },
    {
     "name": "stderr",
     "output_type": "stream",
     "text": [
      "Epoch 266: 100%|██████████| 240/240 [00:00<00:00, 474.00it/s]\n"
     ]
    },
    {
     "name": "stdout",
     "output_type": "stream",
     "text": [
      "(val) -6.2426 (test) -10.2585 (test1) -8.1698 (test2) -4.4131 (test3) -15.6295 (test4) -8.5154 (test5) -4.6477 (test6) -7.8853 (test7) -12.5583 (test8) -10.4809 (test9) -13.8842\n",
      "\n"
     ]
    },
    {
     "name": "stderr",
     "output_type": "stream",
     "text": [
      "Epoch 267: 100%|██████████| 240/240 [00:00<00:00, 436.53it/s]\n"
     ]
    },
    {
     "name": "stdout",
     "output_type": "stream",
     "text": [
      "(val) -7.0767 (test) -10.5242 (test1) -8.7191 (test2) -9.0407 (test3) -14.9839 (test4) -8.1709 (test5) -6.9100 (test6) -8.5454 (test7) -11.6494 (test8) -12.6163 (test9) -11.4949\n",
      "\n"
     ]
    },
    {
     "name": "stderr",
     "output_type": "stream",
     "text": [
      "Epoch 268: 100%|██████████| 240/240 [00:00<00:00, 519.72it/s]\n"
     ]
    },
    {
     "name": "stdout",
     "output_type": "stream",
     "text": [
      "(val) -7.4310 (test) -10.0703 (test1) -4.2150 (test2) -7.1339 (test3) -12.6554 (test4) -8.6759 (test5) -5.3621 (test6) -8.8332 (test7) -12.2916 (test8) -14.2065 (test9) -12.2039\n",
      "\n"
     ]
    },
    {
     "name": "stderr",
     "output_type": "stream",
     "text": [
      "Epoch 269: 100%|██████████| 240/240 [00:00<00:00, 567.85it/s]\n"
     ]
    },
    {
     "name": "stdout",
     "output_type": "stream",
     "text": [
      "(val) -6.3367 (test) -9.6474 (test1) -6.9310 (test2) -5.9802 (test3) -13.7028 (test4) -7.7328 (test5) -5.1414 (test6) -7.5381 (test7) -10.0110 (test8) -12.3689 (test9) -13.0312\n",
      "\n"
     ]
    },
    {
     "name": "stderr",
     "output_type": "stream",
     "text": [
      "Epoch 270: 100%|██████████| 240/240 [00:00<00:00, 545.63it/s]\n"
     ]
    },
    {
     "name": "stdout",
     "output_type": "stream",
     "text": [
      "(val) -8.2735 (test) -10.4563 (test1) -5.9863 (test2) -6.0367 (test3) -14.6509 (test4) -7.2291 (test5) -6.5677 (test6) -6.2192 (test7) -13.5284 (test8) -9.7208 (test9) -16.8964\n",
      "\n"
     ]
    },
    {
     "name": "stderr",
     "output_type": "stream",
     "text": [
      "Epoch 271: 100%|██████████| 240/240 [00:00<00:00, 523.02it/s]\n"
     ]
    },
    {
     "name": "stdout",
     "output_type": "stream",
     "text": [
      "(val) -8.9030 (test) -12.0925 (test1) -4.3409 (test2) -13.0374 (test3) -19.6908 (test4) -7.8416 (test5) -7.9451 (test6) -10.2942 (test7) -11.9522 (test8) -14.8485 (test9) -12.0664\n",
      "\n"
     ]
    },
    {
     "name": "stderr",
     "output_type": "stream",
     "text": [
      "Epoch 272: 100%|██████████| 240/240 [00:00<00:00, 544.23it/s]\n"
     ]
    },
    {
     "name": "stdout",
     "output_type": "stream",
     "text": [
      "(val) -6.6156 (test) -9.9777 (test1) -8.9011 (test2) -5.9468 (test3) -12.7337 (test4) -7.3585 (test5) -5.6902 (test6) -7.1428 (test7) -10.4142 (test8) -9.7254 (test9) -16.6932\n",
      "\n"
     ]
    },
    {
     "name": "stderr",
     "output_type": "stream",
     "text": [
      "Epoch 273: 100%|██████████| 240/240 [00:00<00:00, 565.29it/s]\n"
     ]
    },
    {
     "name": "stdout",
     "output_type": "stream",
     "text": [
      "(val) -6.4171 (test) -10.8346 (test1) -5.8101 (test2) -6.2548 (test3) -19.7384 (test4) -8.1234 (test5) -4.3109 (test6) -8.8185 (test7) -11.3335 (test8) -11.0656 (test9) -13.4457\n",
      "\n"
     ]
    },
    {
     "name": "stderr",
     "output_type": "stream",
     "text": [
      "Epoch 274: 100%|██████████| 240/240 [00:00<00:00, 539.97it/s]\n"
     ]
    },
    {
     "name": "stdout",
     "output_type": "stream",
     "text": [
      "(val) -6.6559 (test) -10.7547 (test1) -9.3470 (test2) -3.6062 (test3) -9.7184 (test4) -7.4074 (test5) -7.8115 (test6) -8.0522 (test7) -11.5505 (test8) -10.9768 (test9) -20.2860\n",
      "\n"
     ]
    },
    {
     "name": "stderr",
     "output_type": "stream",
     "text": [
      "Epoch 275: 100%|██████████| 240/240 [00:00<00:00, 546.68it/s]\n"
     ]
    },
    {
     "name": "stdout",
     "output_type": "stream",
     "text": [
      "(val) -6.1260 (test) -10.7702 (test1) -11.4437 (test2) -3.8452 (test3) -17.2012 (test4) -6.7191 (test5) -5.2210 (test6) -7.1106 (test7) -10.2842 (test8) -13.0496 (test9) -14.2590\n",
      "\n"
     ]
    },
    {
     "name": "stderr",
     "output_type": "stream",
     "text": [
      "Epoch 276: 100%|██████████| 240/240 [00:00<00:00, 554.50it/s]\n"
     ]
    },
    {
     "name": "stdout",
     "output_type": "stream",
     "text": [
      "(val) -6.2049 (test) -9.7067 (test1) -9.3024 (test2) -3.5145 (test3) -14.0023 (test4) -5.8614 (test5) -7.1811 (test6) -7.7883 (test7) -12.0070 (test8) -11.7813 (test9) -11.1118\n",
      "\n"
     ]
    },
    {
     "name": "stderr",
     "output_type": "stream",
     "text": [
      "Epoch 277: 100%|██████████| 240/240 [00:00<00:00, 548.18it/s]\n"
     ]
    },
    {
     "name": "stdout",
     "output_type": "stream",
     "text": [
      "(val) -6.2887 (test) -10.8703 (test1) -7.3210 (test2) -5.4596 (test3) -16.8188 (test4) -7.0166 (test5) -9.2948 (test6) -10.3920 (test7) -12.7333 (test8) -11.4028 (test9) -12.7047\n",
      "\n"
     ]
    },
    {
     "name": "stderr",
     "output_type": "stream",
     "text": [
      "Epoch 278: 100%|██████████| 240/240 [00:00<00:00, 563.89it/s]\n"
     ]
    },
    {
     "name": "stdout",
     "output_type": "stream",
     "text": [
      "(val) -7.5218 (test) -12.1788 (test1) -6.7150 (test2) -5.9028 (test3) -14.2063 (test4) -8.1032 (test5) -6.3789 (test6) -9.6663 (test7) -16.1442 (test8) -22.1553 (test9) -10.0929\n",
      "\n"
     ]
    },
    {
     "name": "stderr",
     "output_type": "stream",
     "text": [
      "Epoch 279: 100%|██████████| 240/240 [00:00<00:00, 515.88it/s]\n"
     ]
    },
    {
     "name": "stdout",
     "output_type": "stream",
     "text": [
      "(val) -6.2928 (test) -9.3740 (test1) -8.3586 (test2) -1.7581 (test3) -11.8088 (test4) -8.3282 (test5) -5.8146 (test6) -6.9964 (test7) -9.3277 (test8) -9.7373 (test9) -15.6365\n",
      "\n"
     ]
    },
    {
     "name": "stderr",
     "output_type": "stream",
     "text": [
      "Epoch 280: 100%|██████████| 240/240 [00:00<00:00, 547.20it/s]\n"
     ]
    },
    {
     "name": "stdout",
     "output_type": "stream",
     "text": [
      "(val) -7.7233 (test) -11.6562 (test1) -3.2833 (test2) -9.6732 (test3) -19.9963 (test4) -7.8949 (test5) -6.1128 (test6) -8.1903 (test7) -12.1029 (test8) -10.8461 (test9) -16.9618\n",
      "\n"
     ]
    },
    {
     "name": "stderr",
     "output_type": "stream",
     "text": [
      "Epoch 281: 100%|██████████| 240/240 [00:00<00:00, 553.06it/s]\n"
     ]
    },
    {
     "name": "stdout",
     "output_type": "stream",
     "text": [
      "(val) -6.7008 (test) -10.1396 (test1) -3.0060 (test2) -7.9193 (test3) -11.9243 (test4) -7.9291 (test5) -6.8212 (test6) -9.2344 (test7) -8.0306 (test8) -15.6308 (test9) -14.4180\n",
      "\n"
     ]
    },
    {
     "name": "stderr",
     "output_type": "stream",
     "text": [
      "Epoch 282: 100%|██████████| 240/240 [00:00<00:00, 559.84it/s]\n"
     ]
    },
    {
     "name": "stdout",
     "output_type": "stream",
     "text": [
      "(val) -6.2561 (test) -9.2851 (test1) -7.3695 (test2) -5.0819 (test3) -12.5901 (test4) -8.4418 (test5) -4.9384 (test6) -7.1512 (test7) -11.2363 (test8) -12.3781 (test9) -10.5361\n",
      "\n"
     ]
    },
    {
     "name": "stderr",
     "output_type": "stream",
     "text": [
      "Epoch 283: 100%|██████████| 240/240 [00:00<00:00, 539.07it/s]\n"
     ]
    },
    {
     "name": "stdout",
     "output_type": "stream",
     "text": [
      "(val) -6.5530 (test) -9.9724 (test1) -10.9581 (test2) -2.9495 (test3) -14.2770 (test4) -8.3111 (test5) -4.9646 (test6) -6.6975 (test7) -11.2060 (test8) -10.5012 (test9) -13.7110\n",
      "\n"
     ]
    },
    {
     "name": "stderr",
     "output_type": "stream",
     "text": [
      "Epoch 284: 100%|██████████| 240/240 [00:00<00:00, 543.80it/s]\n"
     ]
    },
    {
     "name": "stdout",
     "output_type": "stream",
     "text": [
      "(val) -5.9610 (test) -9.9603 (test1) -11.5030 (test2) -1.8133 (test3) -9.7388 (test4) -7.4357 (test5) -6.9928 (test6) -9.6969 (test7) -9.3269 (test8) -16.6120 (test9) -10.0624\n",
      "\n"
     ]
    },
    {
     "name": "stderr",
     "output_type": "stream",
     "text": [
      "Epoch 285: 100%|██████████| 240/240 [00:00<00:00, 561.66it/s]\n"
     ]
    },
    {
     "name": "stdout",
     "output_type": "stream",
     "text": [
      "(val) -5.5806 (test) -9.3451 (test1) -4.8890 (test2) -8.0127 (test3) -11.8580 (test4) -7.6450 (test5) -3.9941 (test6) -8.4190 (test7) -11.4903 (test8) -11.7174 (test9) -11.9440\n",
      "\n"
     ]
    },
    {
     "name": "stderr",
     "output_type": "stream",
     "text": [
      "Epoch 286: 100%|██████████| 240/240 [00:00<00:00, 554.30it/s]\n"
     ]
    },
    {
     "name": "stdout",
     "output_type": "stream",
     "text": [
      "(val) -6.4681 (test) -8.9391 (test1) -4.6257 (test2) -8.4204 (test3) -11.8396 (test4) -8.7550 (test5) -4.3199 (test6) -6.9234 (test7) -9.7530 (test8) -7.7412 (test9) -13.7259\n",
      "\n"
     ]
    },
    {
     "name": "stderr",
     "output_type": "stream",
     "text": [
      "Epoch 287: 100%|██████████| 240/240 [00:00<00:00, 590.25it/s]\n"
     ]
    },
    {
     "name": "stdout",
     "output_type": "stream",
     "text": [
      "(val) -7.2597 (test) -11.8244 (test1) -5.8632 (test2) -7.8888 (test3) -18.6617 (test4) -6.3337 (test5) -5.5561 (test6) -6.5529 (test7) -16.8268 (test8) -11.7348 (test9) -16.6946\n",
      "\n"
     ]
    },
    {
     "name": "stderr",
     "output_type": "stream",
     "text": [
      "Epoch 288: 100%|██████████| 240/240 [00:00<00:00, 559.26it/s]\n"
     ]
    },
    {
     "name": "stdout",
     "output_type": "stream",
     "text": [
      "(val) -5.7208 (test) -10.8837 (test1) -6.4388 (test2) -5.4458 (test3) -18.8730 (test4) -6.7949 (test5) -6.5937 (test6) -8.9962 (test7) -12.3601 (test8) -9.8816 (test9) -14.7580\n",
      "\n"
     ]
    },
    {
     "name": "stderr",
     "output_type": "stream",
     "text": [
      "Epoch 289: 100%|██████████| 240/240 [00:00<00:00, 567.72it/s]\n"
     ]
    },
    {
     "name": "stdout",
     "output_type": "stream",
     "text": [
      "(val) -6.6257 (test) -10.3988 (test1) -5.2506 (test2) -6.5028 (test3) -17.6639 (test4) -7.5997 (test5) -6.3149 (test6) -5.2241 (test7) -10.0354 (test8) -11.3983 (test9) -15.3553\n",
      "\n"
     ]
    },
    {
     "name": "stderr",
     "output_type": "stream",
     "text": [
      "Epoch 290: 100%|██████████| 240/240 [00:00<00:00, 532.83it/s]\n"
     ]
    },
    {
     "name": "stdout",
     "output_type": "stream",
     "text": [
      "(val) -5.9912 (test) -9.3164 (test1) -9.3951 (test2) -0.9059 (test3) -7.4248 (test4) -9.3954 (test5) -4.1420 (test6) -6.5073 (test7) -10.3773 (test8) -11.4785 (test9) -15.8027\n",
      "\n"
     ]
    },
    {
     "name": "stderr",
     "output_type": "stream",
     "text": [
      "Epoch 291: 100%|██████████| 240/240 [00:00<00:00, 570.64it/s]\n"
     ]
    },
    {
     "name": "stdout",
     "output_type": "stream",
     "text": [
      "(val) -7.9803 (test) -11.7094 (test1) -6.2566 (test2) -4.9474 (test3) -17.3857 (test4) -8.7583 (test5) -7.5932 (test6) -10.4283 (test7) -10.9798 (test8) -20.4555 (test9) -9.2737\n",
      "\n"
     ]
    },
    {
     "name": "stderr",
     "output_type": "stream",
     "text": [
      "Epoch 292: 100%|██████████| 240/240 [00:00<00:00, 586.99it/s]\n"
     ]
    },
    {
     "name": "stdout",
     "output_type": "stream",
     "text": [
      "(val) -6.2098 (test) -10.7953 (test1) -7.6287 (test2) -4.7870 (test3) -18.8955 (test4) -7.9606 (test5) -5.4527 (test6) -6.9651 (test7) -9.9796 (test8) -13.8083 (test9) -13.3726\n",
      "\n"
     ]
    },
    {
     "name": "stderr",
     "output_type": "stream",
     "text": [
      "Epoch 293: 100%|██████████| 240/240 [00:00<00:00, 580.85it/s]\n"
     ]
    },
    {
     "name": "stdout",
     "output_type": "stream",
     "text": [
      "(val) -5.8829 (test) -8.9927 (test1) -3.8646 (test2) -5.4665 (test3) -10.1289 (test4) -6.5092 (test5) -5.6693 (test6) -7.8273 (test7) -11.8573 (test8) -13.2878 (test9) -11.2901\n",
      "\n"
     ]
    },
    {
     "name": "stderr",
     "output_type": "stream",
     "text": [
      "Epoch 294: 100%|██████████| 240/240 [00:00<00:00, 569.52it/s]\n"
     ]
    },
    {
     "name": "stdout",
     "output_type": "stream",
     "text": [
      "(val) -7.1856 (test) -11.4080 (test1) -8.2893 (test2) -6.2040 (test3) -17.4859 (test4) -9.7893 (test5) -6.0423 (test6) -7.2980 (test7) -12.6057 (test8) -14.5611 (test9) -14.2058\n",
      "\n"
     ]
    },
    {
     "name": "stderr",
     "output_type": "stream",
     "text": [
      "Epoch 295: 100%|██████████| 240/240 [00:00<00:00, 536.24it/s]\n"
     ]
    },
    {
     "name": "stdout",
     "output_type": "stream",
     "text": [
      "(val) -6.2492 (test) -9.6208 (test1) -6.7638 (test2) -8.9126 (test3) -14.0711 (test4) -8.9515 (test5) -3.8641 (test6) -5.9056 (test7) -11.1013 (test8) -11.7693 (test9) -10.8703\n",
      "\n"
     ]
    },
    {
     "name": "stderr",
     "output_type": "stream",
     "text": [
      "Epoch 296: 100%|██████████| 240/240 [00:00<00:00, 533.05it/s]\n"
     ]
    },
    {
     "name": "stdout",
     "output_type": "stream",
     "text": [
      "(val) -6.2723 (test) -10.1298 (test1) -6.7723 (test2) -5.5278 (test3) -14.8866 (test4) -8.2487 (test5) -4.4916 (test6) -6.9814 (test7) -12.2018 (test8) -9.7891 (test9) -15.6147\n",
      "\n"
     ]
    },
    {
     "name": "stderr",
     "output_type": "stream",
     "text": [
      "Epoch 297: 100%|██████████| 240/240 [00:00<00:00, 498.48it/s]\n"
     ]
    },
    {
     "name": "stdout",
     "output_type": "stream",
     "text": [
      "(val) -5.9941 (test) -9.5781 (test1) -7.1839 (test2) -4.6082 (test3) -12.5634 (test4) -7.6154 (test5) -5.3794 (test6) -8.0616 (test7) -11.1290 (test8) -10.7213 (test9) -14.2918\n",
      "\n"
     ]
    },
    {
     "name": "stderr",
     "output_type": "stream",
     "text": [
      "Epoch 298: 100%|██████████| 240/240 [00:00<00:00, 552.71it/s]\n"
     ]
    },
    {
     "name": "stdout",
     "output_type": "stream",
     "text": [
      "(val) -7.0292 (test) -9.0129 (test1) -4.2882 (test2) -4.7882 (test3) -10.5598 (test4) -8.0755 (test5) -5.6875 (test6) -6.3616 (test7) -12.9633 (test8) -10.1343 (test9) -13.0189\n",
      "\n"
     ]
    },
    {
     "name": "stderr",
     "output_type": "stream",
     "text": [
      "Epoch 299: 100%|██████████| 240/240 [00:00<00:00, 540.82it/s]\n"
     ]
    },
    {
     "name": "stdout",
     "output_type": "stream",
     "text": [
      "(val) -6.2142 (test) -9.4755 (test1) -6.4287 (test2) -2.0757 (test3) -14.6496 (test4) -7.3330 (test5) -5.5330 (test6) -7.1683 (test7) -12.6426 (test8) -11.4357 (test9) -11.0202\n",
      "\n"
     ]
    },
    {
     "name": "stderr",
     "output_type": "stream",
     "text": [
      "Epoch 300: 100%|██████████| 240/240 [00:00<00:00, 535.52it/s]\n"
     ]
    },
    {
     "name": "stdout",
     "output_type": "stream",
     "text": [
      "(val) -6.4014 (test) -11.3931 (test1) -7.7861 (test2) -5.7845 (test3) -19.4944 (test4) -7.8182 (test5) -6.0078 (test6) -10.0223 (test7) -12.9448 (test8) -10.9480 (test9) -14.4577\n",
      "\n"
     ]
    },
    {
     "name": "stderr",
     "output_type": "stream",
     "text": [
      "Epoch 301: 100%|██████████| 240/240 [00:00<00:00, 518.29it/s]\n"
     ]
    },
    {
     "name": "stdout",
     "output_type": "stream",
     "text": [
      "(val) -7.8264 (test) -11.0242 (test1) -4.0133 (test2) -7.7303 (test3) -17.1461 (test4) -11.0099 (test5) -5.0610 (test6) -5.9919 (test7) -15.4314 (test8) -14.6823 (test9) -9.3543\n",
      "\n"
     ]
    },
    {
     "name": "stderr",
     "output_type": "stream",
     "text": [
      "Epoch 302: 100%|██████████| 240/240 [00:00<00:00, 542.62it/s]\n"
     ]
    },
    {
     "name": "stdout",
     "output_type": "stream",
     "text": [
      "(val) -6.3649 (test) -9.5786 (test1) -4.2075 (test2) -6.1462 (test3) -15.5589 (test4) -7.2178 (test5) -8.4396 (test6) -9.9166 (test7) -9.1341 (test8) -11.0971 (test9) -9.9974\n",
      "\n"
     ]
    },
    {
     "name": "stderr",
     "output_type": "stream",
     "text": [
      "Epoch 303: 100%|██████████| 240/240 [00:00<00:00, 537.74it/s]\n"
     ]
    },
    {
     "name": "stdout",
     "output_type": "stream",
     "text": [
      "(val) -5.5163 (test) -10.3231 (test1) -5.5391 (test2) -5.1414 (test3) -16.7148 (test4) -6.7124 (test5) -6.5829 (test6) -7.9056 (test7) -8.5397 (test8) -10.9645 (test9) -16.6902\n",
      "\n"
     ]
    },
    {
     "name": "stderr",
     "output_type": "stream",
     "text": [
      "Epoch 304: 100%|██████████| 240/240 [00:00<00:00, 571.46it/s]\n"
     ]
    },
    {
     "name": "stdout",
     "output_type": "stream",
     "text": [
      "(val) -6.5434 (test) -9.1687 (test1) -4.5014 (test2) -4.1710 (test3) -10.0356 (test4) -7.0835 (test5) -8.6459 (test6) -10.7854 (test7) -11.0478 (test8) -10.5270 (test9) -12.0041\n",
      "\n"
     ]
    },
    {
     "name": "stderr",
     "output_type": "stream",
     "text": [
      "Epoch 305:  26%|██▋       | 63/240 [00:00<00:00, 564.62it/s]\n"
     ]
    },
    {
     "ename": "KeyboardInterrupt",
     "evalue": "",
     "output_type": "error",
     "traceback": [
      "\u001b[1;31m---------------------------------------------------------------------------\u001b[0m",
      "\u001b[1;31mKeyboardInterrupt\u001b[0m                         Traceback (most recent call last)",
      "Cell \u001b[1;32mIn[145], line 37\u001b[0m\n\u001b[0;32m     35\u001b[0m \u001b[38;5;66;03m#trainloss_list.append(loss.cpu())\u001b[39;00m\n\u001b[0;32m     36\u001b[0m \u001b[38;5;28;01mif\u001b[39;00m grad_scaler \u001b[38;5;129;01mis\u001b[39;00m \u001b[38;5;28;01mNone\u001b[39;00m:\n\u001b[1;32m---> 37\u001b[0m     \u001b[43mloss\u001b[49m\u001b[38;5;241;43m.\u001b[39;49m\u001b[43mbackward\u001b[49m\u001b[43m(\u001b[49m\u001b[43m)\u001b[49m\n\u001b[0;32m     38\u001b[0m     optimizer\u001b[38;5;241m.\u001b[39mstep()\n\u001b[0;32m     39\u001b[0m \u001b[38;5;28;01melse\u001b[39;00m:\n",
      "File \u001b[1;32md:\\Software\\Anaconda\\install\\envs\\pytorch\\lib\\site-packages\\torch\\_tensor.py:581\u001b[0m, in \u001b[0;36mTensor.backward\u001b[1;34m(self, gradient, retain_graph, create_graph, inputs)\u001b[0m\n\u001b[0;32m    571\u001b[0m \u001b[38;5;28;01mif\u001b[39;00m has_torch_function_unary(\u001b[38;5;28mself\u001b[39m):\n\u001b[0;32m    572\u001b[0m     \u001b[38;5;28;01mreturn\u001b[39;00m handle_torch_function(\n\u001b[0;32m    573\u001b[0m         Tensor\u001b[38;5;241m.\u001b[39mbackward,\n\u001b[0;32m    574\u001b[0m         (\u001b[38;5;28mself\u001b[39m,),\n\u001b[1;32m   (...)\u001b[0m\n\u001b[0;32m    579\u001b[0m         inputs\u001b[38;5;241m=\u001b[39minputs,\n\u001b[0;32m    580\u001b[0m     )\n\u001b[1;32m--> 581\u001b[0m \u001b[43mtorch\u001b[49m\u001b[38;5;241;43m.\u001b[39;49m\u001b[43mautograd\u001b[49m\u001b[38;5;241;43m.\u001b[39;49m\u001b[43mbackward\u001b[49m\u001b[43m(\u001b[49m\n\u001b[0;32m    582\u001b[0m \u001b[43m    \u001b[49m\u001b[38;5;28;43mself\u001b[39;49m\u001b[43m,\u001b[49m\u001b[43m \u001b[49m\u001b[43mgradient\u001b[49m\u001b[43m,\u001b[49m\u001b[43m \u001b[49m\u001b[43mretain_graph\u001b[49m\u001b[43m,\u001b[49m\u001b[43m \u001b[49m\u001b[43mcreate_graph\u001b[49m\u001b[43m,\u001b[49m\u001b[43m \u001b[49m\u001b[43minputs\u001b[49m\u001b[38;5;241;43m=\u001b[39;49m\u001b[43minputs\u001b[49m\n\u001b[0;32m    583\u001b[0m \u001b[43m\u001b[49m\u001b[43m)\u001b[49m\n",
      "File \u001b[1;32md:\\Software\\Anaconda\\install\\envs\\pytorch\\lib\\site-packages\\torch\\autograd\\__init__.py:347\u001b[0m, in \u001b[0;36mbackward\u001b[1;34m(tensors, grad_tensors, retain_graph, create_graph, grad_variables, inputs)\u001b[0m\n\u001b[0;32m    342\u001b[0m     retain_graph \u001b[38;5;241m=\u001b[39m create_graph\n\u001b[0;32m    344\u001b[0m \u001b[38;5;66;03m# The reason we repeat the same comment below is that\u001b[39;00m\n\u001b[0;32m    345\u001b[0m \u001b[38;5;66;03m# some Python versions print out the first line of a multi-line function\u001b[39;00m\n\u001b[0;32m    346\u001b[0m \u001b[38;5;66;03m# calls in the traceback and some print out the last line\u001b[39;00m\n\u001b[1;32m--> 347\u001b[0m \u001b[43m_engine_run_backward\u001b[49m\u001b[43m(\u001b[49m\n\u001b[0;32m    348\u001b[0m \u001b[43m    \u001b[49m\u001b[43mtensors\u001b[49m\u001b[43m,\u001b[49m\n\u001b[0;32m    349\u001b[0m \u001b[43m    \u001b[49m\u001b[43mgrad_tensors_\u001b[49m\u001b[43m,\u001b[49m\n\u001b[0;32m    350\u001b[0m \u001b[43m    \u001b[49m\u001b[43mretain_graph\u001b[49m\u001b[43m,\u001b[49m\n\u001b[0;32m    351\u001b[0m \u001b[43m    \u001b[49m\u001b[43mcreate_graph\u001b[49m\u001b[43m,\u001b[49m\n\u001b[0;32m    352\u001b[0m \u001b[43m    \u001b[49m\u001b[43minputs\u001b[49m\u001b[43m,\u001b[49m\n\u001b[0;32m    353\u001b[0m \u001b[43m    \u001b[49m\u001b[43mallow_unreachable\u001b[49m\u001b[38;5;241;43m=\u001b[39;49m\u001b[38;5;28;43;01mTrue\u001b[39;49;00m\u001b[43m,\u001b[49m\n\u001b[0;32m    354\u001b[0m \u001b[43m    \u001b[49m\u001b[43maccumulate_grad\u001b[49m\u001b[38;5;241;43m=\u001b[39;49m\u001b[38;5;28;43;01mTrue\u001b[39;49;00m\u001b[43m,\u001b[49m\n\u001b[0;32m    355\u001b[0m \u001b[43m\u001b[49m\u001b[43m)\u001b[49m\n",
      "File \u001b[1;32md:\\Software\\Anaconda\\install\\envs\\pytorch\\lib\\site-packages\\torch\\autograd\\graph.py:825\u001b[0m, in \u001b[0;36m_engine_run_backward\u001b[1;34m(t_outputs, *args, **kwargs)\u001b[0m\n\u001b[0;32m    823\u001b[0m     unregister_hooks \u001b[38;5;241m=\u001b[39m _register_logging_hooks_on_whole_graph(t_outputs)\n\u001b[0;32m    824\u001b[0m \u001b[38;5;28;01mtry\u001b[39;00m:\n\u001b[1;32m--> 825\u001b[0m     \u001b[38;5;28;01mreturn\u001b[39;00m Variable\u001b[38;5;241m.\u001b[39m_execution_engine\u001b[38;5;241m.\u001b[39mrun_backward(  \u001b[38;5;66;03m# Calls into the C++ engine to run the backward pass\u001b[39;00m\n\u001b[0;32m    826\u001b[0m         t_outputs, \u001b[38;5;241m*\u001b[39margs, \u001b[38;5;241m*\u001b[39m\u001b[38;5;241m*\u001b[39mkwargs\n\u001b[0;32m    827\u001b[0m     )  \u001b[38;5;66;03m# Calls into the C++ engine to run the backward pass\u001b[39;00m\n\u001b[0;32m    828\u001b[0m \u001b[38;5;28;01mfinally\u001b[39;00m:\n\u001b[0;32m    829\u001b[0m     \u001b[38;5;28;01mif\u001b[39;00m attach_logging_hooks:\n",
      "\u001b[1;31mKeyboardInterrupt\u001b[0m: "
     ]
    }
   ],
   "source": [
    "# For demonstration purposes (fast training and bad performance),\n",
    "# one can set smaller values:\n",
    "# n_epochs = 20\n",
    "# patience = 2\n",
    "n_epochs = 400 #1_000_000_000\n",
    "patience = 400  # 16\n",
    "\n",
    "train_size = len(train_idx)\n",
    "print(\"train_size: \", train_size)\n",
    "batch_size = 2  # 256\n",
    "epoch_size = math.ceil(train_size / batch_size)\n",
    "\n",
    "\n",
    "# Early stopping: the training stops when\n",
    "# there are more than `patience` consequtive bad updates.\n",
    "# patience = 16\n",
    "remaining_patience = patience\n",
    "\n",
    "print('-' * 88 + '\\n')\n",
    "for epoch in range(n_epochs):\n",
    "    batches = (\n",
    "        torch.randperm(train_size, device=device).split(batch_size)\n",
    "        if model.share_training_batches\n",
    "        else [\n",
    "            x.transpose(0, 1).flatten()\n",
    "            for x in torch.rand((model.k, train_size), device=device)\n",
    "            .argsort(dim=1)\n",
    "            .split(batch_size, dim=1)\n",
    "        ]\n",
    "    )\n",
    "    for batch_idx in tqdm(batches, desc=f'Epoch {epoch}'):\n",
    "        model.train()\n",
    "        optimizer.zero_grad()\n",
    "        loss = loss_fn(apply_model('train', batch_idx), Y_train[batch_idx])\n",
    "        #trainloss_list.append(loss.cpu())\n",
    "        if grad_scaler is None:\n",
    "            loss.backward()\n",
    "            optimizer.step()\n",
    "        else:\n",
    "            grad_scaler.scale(loss).backward()  # type: ignore\n",
    "            grad_scaler.step(optimizer)\n",
    "            grad_scaler.update()\n",
    "\n",
    "    val_score = evaluate('val'); valloss_list.append(val_score)  \n",
    "    test_score = evaluate('test'); testloss_list.append(test_score)\n",
    "    test1_score = evaluate(\"test1\"); testloss1_list.append(test1_score)\n",
    "    test2_score = evaluate(\"test2\"); testloss2_list.append(test2_score)\n",
    "    test3_score = evaluate(\"test3\"); testloss3_list.append(test3_score)\n",
    "    test4_score = evaluate(\"test4\"); testloss4_list.append(test4_score)\n",
    "    test5_score = evaluate(\"test5\"); testloss5_list.append(test5_score)\n",
    "    test6_score = evaluate(\"test6\"); testloss6_list.append(test6_score)\n",
    "    test7_score = evaluate(\"test7\"); testloss7_list.append(test7_score)\n",
    "    test8_score = evaluate(\"test8\"); testloss8_list.append(test8_score)\n",
    "    test9_score = evaluate(\"test9\"); testloss9_list.append(test9_score)\n",
    "    print(f'(val) {val_score:.4f} (test) {test_score:.4f} (test1) {test1_score:.4f} (test2) {test2_score:.4f} (test3) {test3_score:.4f} (test4) {test4_score:.4f} (test5) {test5_score:.4f} (test6) {test6_score:.4f} (test7) {test7_score:.4f} (test8) {test8_score:.4f} (test9) {test9_score:.4f}')\n",
    "\n",
    "    if (test_score > best['test']):  #((val_score > best['val']) and (test_score > best['test'])):\n",
    "        print('🌸 New best epoch! 🌸')\n",
    "        best = {'val': val_score, 'test': test_score, 'epoch': epoch}\n",
    "        remaining_patience = patience\n",
    "\n",
    "        \n",
    "        save_dir = r'D:\\Data\\NHRI\\NHDF\\best model'\n",
    "        last_save_path = os.path.join(save_dir, f'epoch.{epoch:04d}-val_loss.{val_score:.4f}-test_loss.{test_score:.4f}.pth')    \n",
    "        torch.save(model, last_save_path) \n",
    "    else:\n",
    "        remaining_patience -= 1\n",
    "\n",
    "    if remaining_patience < 0:\n",
    "        break\n",
    "\n",
    "    print()\n",
    "\n",
    "print('\\n\\nResult:')\n",
    "print(best)\n",
    "\n",
    "\n",
    "\n",
    "\n",
    "# save train process  \n",
    "t = time.localtime()\n",
    "t.tm_hour, t.tm_min, t.tm_sec    \n",
    "outtime = str(datetime.today().date()) + ' ' + str(t.tm_hour) + 'H' + str(t.tm_min) + 'M' \n",
    "csv_path = r'D:\\Data\\NHRI\\NHDF\\train_process\\TabM_train_process ' + outtime + '.csv'\n",
    "loss_hist = np.column_stack((valloss_list, testloss_list, testloss1_list, testloss2_list, testloss3_list, testloss4_list, testloss5_list, testloss6_list, testloss7_list, testloss8_list, testloss9_list))\n",
    "np.savetxt(csv_path, loss_hist, delimiter=\",\", header=\"val_loss,test_loss,1st_loss,2nd_loss,3rd_loss,4th_loss,5th_loss,6th_loss,7th_loss,8th_loss,9th_loss\", encoding='utf-8-sig', comments='')\n",
    "\n",
    "\n"
   ]
  },
  {
   "cell_type": "code",
   "execution_count": null,
   "metadata": {},
   "outputs": [],
   "source": []
  },
  {
   "cell_type": "code",
   "execution_count": null,
   "metadata": {},
   "outputs": [],
   "source": []
  },
  {
   "cell_type": "markdown",
   "metadata": {},
   "source": [
    "## use best model to predict and show Metric\n"
   ]
  },
  {
   "cell_type": "code",
   "execution_count": 146,
   "metadata": {},
   "outputs": [
    {
     "name": "stdout",
     "output_type": "stream",
     "text": [
      "Model(\n",
      "  (backbone): MLP(\n",
      "    (blocks): ModuleList(\n",
      "      (0): Sequential(\n",
      "        (0): Linear(in_features=10, out_features=512, bias=True)\n",
      "        (1): ReLU()\n",
      "        (2): Dropout(p=0.2, inplace=False)\n",
      "      )\n",
      "      (1-2): 2 x Sequential(\n",
      "        (0): Linear(in_features=512, out_features=512, bias=True)\n",
      "        (1): ReLU()\n",
      "        (2): Dropout(p=0.2, inplace=False)\n",
      "      )\n",
      "    )\n",
      "  )\n",
      "  (minimal_ensemble_adapter): ScaleEnsemble()\n",
      "  (output): NLinear()\n",
      ")\n",
      "----------------------------------------------------------------\n",
      "        Layer (type)               Output Shape         Param #\n",
      "================================================================\n",
      "     ScaleEnsemble-1               [-1, 64, 10]             640\n",
      "            Linear-2              [-1, 64, 512]           5,632\n",
      "              ReLU-3              [-1, 64, 512]               0\n",
      "           Dropout-4              [-1, 64, 512]               0\n",
      "            Linear-5              [-1, 64, 512]         262,656\n",
      "              ReLU-6              [-1, 64, 512]               0\n",
      "           Dropout-7              [-1, 64, 512]               0\n",
      "            Linear-8              [-1, 64, 512]         262,656\n",
      "              ReLU-9              [-1, 64, 512]               0\n",
      "          Dropout-10              [-1, 64, 512]               0\n",
      "              MLP-11              [-1, 64, 512]               0\n",
      "          NLinear-12                [-1, 64, 1]          32,832\n",
      "================================================================\n",
      "Total params: 564,416\n",
      "Trainable params: 564,416\n",
      "Non-trainable params: 0\n",
      "----------------------------------------------------------------\n",
      "Input size (MB): 0.00\n",
      "Forward/backward pass size (MB): 2.51\n",
      "Params size (MB): 2.15\n",
      "Estimated Total Size (MB): 4.66\n",
      "----------------------------------------------------------------\n"
     ]
    },
    {
     "name": "stderr",
     "output_type": "stream",
     "text": [
      "C:\\Users\\Administrator\\AppData\\Local\\Temp\\ipykernel_13732\\3439836195.py:1: FutureWarning: You are using `torch.load` with `weights_only=False` (the current default value), which uses the default pickle module implicitly. It is possible to construct malicious pickle data which will execute arbitrary code during unpickling (See https://github.com/pytorch/pytorch/blob/main/SECURITY.md#untrusted-models for more details). In a future release, the default value for `weights_only` will be flipped to `True`. This limits the functions that could be executed during unpickling. Arbitrary objects will no longer be allowed to be loaded via this mode unless they are explicitly allowlisted by the user via `torch.serialization.add_safe_globals`. We recommend you start setting `weights_only=True` for any use case where you don't have full control of the loaded file. Please open an issue on GitHub for any issues related to this experimental feature.\n",
      "  loaded_model = torch.load(r'D:\\Data\\NHRI\\小论文4\\2、模型\\1、TabM-按工况划分测试集\\epoch.0127-val_loss.-8.3623-test_loss.-6.1919.pth')\n"
     ]
    }
   ],
   "source": [
    "loaded_model = torch.load(r'D:\\Data\\NHRI\\NHDF\\best model\\epoch.0127-val_loss.-8.3623-test_loss.-6.1919.pth')\n",
    "print(loaded_model)\n",
    "from torchsummary import summary\n",
    "summary(loaded_model, input_size= (1, 10))"
   ]
  },
  {
   "cell_type": "code",
   "execution_count": 147,
   "metadata": {},
   "outputs": [],
   "source": [
    "# modify to best model\n",
    "def lz_apply_model(part: str, idx: Tensor) -> Tensor:\n",
    "    return (\n",
    "        loaded_model(\n",
    "            data[part]['x_cont'][idx],\n",
    "            None,\n",
    "        )\n",
    "        .squeeze(-1)  # Remove the last dimension for regression tasks.\n",
    "        .float()\n",
    "    )"
   ]
  },
  {
   "cell_type": "code",
   "execution_count": 148,
   "metadata": {},
   "outputs": [],
   "source": [
    "def safe_mape(y_true, y_pred, epsilon=1e-8, threshold=0.01):\n",
    "    \n",
    "    \n",
    "    y_true = torch.tensor(y_true)\n",
    "    y_pred = torch.tensor(y_pred)\n",
    "    \n",
    "    \n",
    "    y_pred = y_pred.to(y_true.device)\n",
    "    \n",
    "   \n",
    "    mask = torch.abs(y_true) > threshold\n",
    "    \n",
    "  \n",
    "    if mask.sum() == 0:\n",
    "        return torch.tensor(float('nan'), device=y_true.device)\n",
    "    \n",
    "    \n",
    "    ape = torch.abs((y_true[mask] - y_pred[mask]) / (y_true[mask] + epsilon))\n",
    "    \n",
    "    return torch.mean(ape) * 100"
   ]
  },
  {
   "cell_type": "code",
   "execution_count": 149,
   "metadata": {},
   "outputs": [],
   "source": [
    "from sklearn.metrics import mean_squared_error, r2_score, mean_absolute_error\n",
    "def lz_evaluate(part: str):\n",
    "    model.eval()\n",
    "\n",
    "    # When using torch.compile, you may need to reduce the evaluation batch size.\n",
    "    eval_batch_size = 2 #8096\n",
    "    y_pred: np.ndarray = (\n",
    "        torch.cat(\n",
    "            [\n",
    "                lz_apply_model(part, idx)\n",
    "                for idx in torch.arange(len(data[part]['y']), device=device).split(\n",
    "                    eval_batch_size\n",
    "                )\n",
    "            ]\n",
    "        )\n",
    "        .cpu()\n",
    "        .detach()\n",
    "        .numpy()\n",
    "    )\n",
    "     Transform the predictions back to the original label space.\n",
    "    assert regression_label_stats is not None\n",
    "    y_pred = y_pred * regression_label_stats.std + regression_label_stats.mean\n",
    "    y_pred = y_pred.mean(1)\n",
    "    #print(\"预测结果：\") #****************************************************************\n",
    "    for item in y_pred:\n",
    "        print(item)    #****************************************************************\n",
    "    y_true = data[part]['y'].cpu().numpy()\n",
    "    loss_RMSE = (\n",
    "        (sklearn.metrics.mean_squared_error(y_true, y_pred) ** 0.5)\n",
    "    )\n",
    "    loss_MSE = (\n",
    "        sklearn.metrics.mean_squared_error(y_true, y_pred)\n",
    "    )\n",
    "    loss_r2 = r2_score(y_true, y_pred)\n",
    "    loss_MAPE = safe_mape(y_true, y_pred).item()\n",
    "    loss_MAE = mean_absolute_error(y_true, y_pred)\n",
    "    print(\"\")\n",
    "    print(\"Mean Absolute Error (MAE):\", loss_MAE)\n",
    "    print(\"Mean Squared Error (MSE):\", loss_MSE)\n",
    "    print(\"Root Mean Squared Error (RMSE):\", loss_RMSE)\n",
    "    print(\"Mean Absolute Percentage Error (MAPE):\", loss_MAPE, \"%\")\n",
    "    print(\"R² Score:\", loss_r2)\n",
    "    \n",
    "    #return float(score)  # The higher -- the better."
   ]
  },
  {
   "cell_type": "code",
   "execution_count": 150,
   "metadata": {},
   "outputs": [
    {
     "name": "stdout",
     "output_type": "stream",
     "text": [
      "预测结果：\n",
      "85.64632\n",
      "98.03724\n",
      "110.00989\n",
      "119.89528\n",
      "132.15063\n",
      "144.01724\n",
      "144.57852\n",
      "160.52216\n",
      "184.52487\n",
      "198.20572\n",
      "222.32791\n",
      "244.89728\n",
      "173.29529\n",
      "199.37897\n",
      "230.10779\n",
      "249.91597\n",
      "282.89395\n",
      "306.48206\n",
      "178.7734\n",
      "206.68222\n",
      "238.97043\n",
      "258.3214\n",
      "293.5077\n",
      "316.2798\n",
      "175.21439\n",
      "199.41849\n",
      "229.28777\n",
      "249.54831\n",
      "283.3249\n",
      "308.90744\n",
      "165.58221\n",
      "181.8068\n",
      "207.54994\n",
      "225.7768\n",
      "259.18155\n",
      "285.70172\n",
      "137.26419\n",
      "154.16646\n",
      "171.76605\n",
      "183.3872\n",
      "205.60667\n",
      "224.83235\n",
      "96.836205\n",
      "104.65546\n",
      "118.51181\n",
      "127.91703\n",
      "143.49481\n",
      "153.11557\n",
      "39.3036\n",
      "50.039722\n",
      "54.82646\n",
      "62.39764\n",
      "69.78088\n",
      "76.09553\n",
      "66.098526\n",
      "87.99702\n",
      "100.17361\n",
      "111.26866\n",
      "125.7166\n",
      "137.78238\n",
      "85.753586\n",
      "128.92426\n",
      "147.17435\n",
      "161.64774\n",
      "185.42929\n",
      "205.65482\n",
      "96.735756\n",
      "143.65591\n",
      "167.47473\n",
      "181.457\n",
      "209.3357\n",
      "225.18852\n",
      "92.792404\n",
      "136.96869\n",
      "158.08551\n",
      "173.1279\n",
      "188.76077\n",
      "218.9763\n",
      "84.629395\n",
      "120.7236\n",
      "135.9196\n",
      "153.1753\n",
      "165.98907\n",
      "197.07191\n",
      "67.388336\n",
      "90.75149\n",
      "104.32053\n",
      "115.76603\n",
      "127.79939\n",
      "143.20554\n",
      "36.171635\n",
      "51.160408\n",
      "58.18911\n",
      "66.066956\n",
      "72.4072\n",
      "82.81189\n",
      "11.729156\n",
      "16.95976\n",
      "23.205475\n",
      "25.866152\n",
      "28.243626\n",
      "34.229965\n",
      "24.006752\n",
      "29.713825\n",
      "41.246597\n",
      "46.472816\n",
      "50.067\n",
      "59.64815\n",
      "36.013977\n",
      "49.73238\n",
      "67.91478\n",
      "72.29111\n",
      "80.47078\n",
      "89.33728\n",
      "37.760456\n",
      "48.418285\n",
      "71.42195\n",
      "76.923416\n",
      "88.590355\n",
      "97.82295\n",
      "34.82947\n",
      "45.727272\n",
      "62.95657\n",
      "68.39012\n",
      "77.131996\n",
      "88.12428\n",
      "30.431858\n",
      "37.91333\n",
      "52.48774\n",
      "58.503128\n",
      "65.33286\n",
      "72.58571\n",
      "22.10718\n",
      "30.001741\n",
      "39.036537\n",
      "40.980396\n",
      "47.2498\n",
      "52.13993\n",
      "0.62665355\n",
      "7.665471\n",
      "12.432842\n",
      "12.785098\n",
      "15.783865\n",
      "19.842253\n",
      "6.1138673\n",
      "9.313358\n",
      "10.503658\n",
      "12.165526\n",
      "12.291404\n",
      "12.454708\n",
      "16.822493\n",
      "16.675262\n",
      "19.726639\n",
      "22.496078\n",
      "25.937124\n",
      "26.368221\n",
      "28.229849\n",
      "30.978788\n",
      "29.655811\n",
      "38.972694\n",
      "46.079884\n",
      "51.30666\n",
      "51.756973\n",
      "55.508495\n",
      "56.28647\n",
      "25.84924\n",
      "31.841393\n",
      "36.97036\n",
      "41.647987\n",
      "42.21362\n",
      "46.438873\n",
      "48.61178\n",
      "24.287601\n",
      "33.10839\n",
      "35.96723\n",
      "40.59792\n",
      "40.723766\n",
      "42.334747\n",
      "45.541374\n",
      "19.87143\n",
      "26.200193\n",
      "31.36419\n",
      "37.453247\n",
      "37.646736\n",
      "39.530533\n",
      "41.53228\n",
      "10.247129\n",
      "13.937672\n",
      "16.568089\n",
      "20.449076\n",
      "21.05833\n",
      "21.774513\n",
      "24.175146\n",
      "-6.8020363\n",
      "-2.543743\n",
      "-2.5939069\n",
      "-1.598521\n",
      "-1.9410756\n",
      "-1.1212947\n",
      "3.0902743\n",
      "107.87982\n",
      "134.63199\n",
      "148.05426\n",
      "177.34506\n",
      "189.48137\n",
      "215.69312\n",
      "232.74219\n",
      "120.75096\n",
      "152.87332\n",
      "167.35738\n",
      "198.61833\n",
      "214.67947\n",
      "243.73917\n",
      "267.01923\n",
      "121.02761\n",
      "146.90044\n",
      "167.3942\n",
      "199.38339\n",
      "218.30775\n",
      "236.24484\n",
      "271.26685\n",
      "118.6758\n",
      "146.9816\n",
      "163.6326\n",
      "196.4672\n",
      "214.29395\n",
      "247.42245\n",
      "269.3292\n",
      "125.77208\n",
      "161.47964\n",
      "179.3317\n",
      "213.66644\n",
      "232.50165\n",
      "260.94373\n",
      "282.8106\n",
      "115.35419\n",
      "148.05014\n",
      "166.90518\n",
      "200.30276\n",
      "217.07747\n",
      "233.27814\n",
      "267.60065\n",
      "100.18103\n",
      "132.31256\n",
      "140.68384\n",
      "166.75526\n",
      "183.52737\n",
      "207.96083\n",
      "229.69705\n",
      "90.25545\n",
      "110.68668\n",
      "124.2726\n",
      "152.8948\n",
      "164.8734\n",
      "180.68097\n",
      "205.87155\n",
      "103.01178\n",
      "138.73695\n",
      "164.67548\n",
      "182.71495\n",
      "204.66031\n",
      "225.2189\n",
      "116.24989\n",
      "161.17291\n",
      "187.78635\n",
      "213.6024\n",
      "238.38782\n",
      "266.0322\n",
      "115.20921\n",
      "164.93979\n",
      "198.97687\n",
      "219.9277\n",
      "247.0442\n",
      "273.32822\n",
      "110.95409\n",
      "158.85175\n",
      "185.39438\n",
      "208.96953\n",
      "244.72473\n",
      "270.09622\n",
      "126.03533\n",
      "185.31825\n",
      "222.6654\n",
      "245.21846\n",
      "269.2613\n",
      "296.686\n",
      "112.218636\n",
      "159.76868\n",
      "191.23712\n",
      "214.01259\n",
      "244.34555\n",
      "266.88028\n",
      "98.43333\n",
      "132.1278\n",
      "157.0225\n",
      "175.21841\n",
      "189.67278\n",
      "219.88219\n",
      "90.89976\n",
      "122.47589\n",
      "145.32469\n",
      "163.30685\n",
      "186.2199\n",
      "203.3782\n",
      "101.96126\n",
      "122.910675\n",
      "162.17941\n",
      "181.57474\n",
      "197.07617\n",
      "227.09073\n",
      "115.28093\n",
      "144.70319\n",
      "187.42496\n",
      "212.13828\n",
      "230.24237\n",
      "268.828\n",
      "115.79197\n",
      "145.50946\n",
      "196.91379\n",
      "221.48352\n",
      "247.11694\n",
      "275.1606\n",
      "107.323425\n",
      "129.83951\n",
      "185.3754\n",
      "202.46243\n",
      "230.26793\n",
      "257.698\n",
      "125.40372\n",
      "160.96515\n",
      "225.62128\n",
      "248.40945\n",
      "276.10162\n",
      "300.13654\n",
      "113.81946\n",
      "146.24593\n",
      "199.40501\n",
      "223.49744\n",
      "242.61215\n",
      "274.19214\n",
      "100.11259\n",
      "125.87194\n",
      "158.01477\n",
      "178.20935\n",
      "195.2144\n",
      "223.64432\n",
      "91.47937\n",
      "114.5505\n",
      "152.53131\n",
      "164.30542\n",
      "186.99762\n",
      "205.98079\n",
      "101.95701\n",
      "124.59752\n",
      "142.61386\n",
      "184.83691\n",
      "210.98901\n",
      "232.65218\n",
      "117.984985\n",
      "145.03899\n",
      "164.827\n",
      "211.82639\n",
      "242.89235\n",
      "272.84982\n",
      "123.82547\n",
      "152.78975\n",
      "176.54602\n",
      "229.50137\n",
      "261.2177\n",
      "292.844\n",
      "121.58867\n",
      "159.70232\n",
      "171.92024\n",
      "222.36829\n",
      "257.77777\n",
      "295.50644\n",
      "125.359955\n",
      "156.05583\n",
      "178.67143\n",
      "231.9005\n",
      "261.53757\n",
      "298.19122\n",
      "116.81928\n",
      "148.5552\n",
      "167.39911\n",
      "217.4844\n",
      "247.60583\n",
      "279.22742\n",
      "103.98877\n",
      "131.17813\n",
      "145.23212\n",
      "184.80145\n",
      "211.32336\n",
      "237.69537\n",
      "91.998535\n",
      "114.96208\n",
      "129.44293\n",
      "165.79016\n",
      "189.61908\n",
      "211.47435\n",
      "122.043335\n",
      "152.31496\n",
      "177.07274\n",
      "206.06253\n",
      "243.54984\n",
      "251.15988\n",
      "138.11795\n",
      "172.82782\n",
      "193.0148\n",
      "219.9006\n",
      "269.32745\n",
      "288.85638\n",
      "140.83124\n",
      "175.87158\n",
      "196.40686\n",
      "225.61392\n",
      "281.19745\n",
      "309.9344\n",
      "141.036\n",
      "180.39288\n",
      "201.46428\n",
      "228.45607\n",
      "281.6712\n",
      "320.67944\n",
      "137.35147\n",
      "170.30661\n",
      "194.49217\n",
      "223.65251\n",
      "279.52838\n",
      "307.72614\n",
      "127.4951\n",
      "158.14365\n",
      "177.76172\n",
      "206.85687\n",
      "253.42577\n",
      "285.0386\n",
      "109.36635\n",
      "135.91919\n",
      "155.60313\n",
      "182.50383\n",
      "226.90906\n",
      "243.05539\n",
      "84.436874\n",
      "106.43674\n",
      "121.21153\n",
      "145.28809\n",
      "178.41266\n",
      "195.30699\n",
      "103.1375\n",
      "116.0833\n",
      "138.86398\n",
      "163.54459\n",
      "178.34541\n",
      "214.25168\n",
      "135.89862\n",
      "161.11597\n",
      "193.5721\n",
      "215.16199\n",
      "247.38217\n",
      "300.99503\n",
      "150.51169\n",
      "182.50995\n",
      "220.44637\n",
      "243.59415\n",
      "279.0036\n",
      "337.0467\n",
      "154.69847\n",
      "186.55672\n",
      "224.19202\n",
      "248.53397\n",
      "283.53275\n",
      "343.73727\n",
      "144.36362\n",
      "171.16412\n",
      "208.52148\n",
      "233.82584\n",
      "265.0249\n",
      "327.62637\n",
      "128.99281\n",
      "155.8358\n",
      "181.43112\n",
      "208.61674\n",
      "235.06445\n",
      "298.76282\n",
      "102.98574\n",
      "121.59799\n",
      "144.853\n",
      "168.42854\n",
      "191.92834\n",
      "237.48315\n",
      "78.74705\n",
      "90.27896\n",
      "108.44597\n",
      "130.70079\n",
      "146.05463\n",
      "174.67813\n",
      "77.70732\n",
      "89.74836\n",
      "98.25473\n",
      "115.216934\n",
      "119.82309\n",
      "128.98148\n",
      "139.90724\n",
      "87.980804\n",
      "108.69153\n",
      "125.35837\n",
      "147.00739\n",
      "163.3425\n",
      "180.42438\n",
      "198.2666\n",
      "89.76323\n",
      "116.103226\n",
      "131.6076\n",
      "156.14288\n",
      "172.90074\n",
      "194.18039\n",
      "207.66508\n",
      "81.97986\n",
      "111.63245\n",
      "121.56273\n",
      "144.80905\n",
      "160.75647\n",
      "186.24924\n",
      "200.42502\n",
      "95.51309\n",
      "125.05741\n",
      "144.08536\n",
      "168.09229\n",
      "186.01097\n",
      "210.79404\n",
      "228.03876\n",
      "85.938194\n",
      "110.88176\n",
      "125.93103\n",
      "150.34819\n",
      "162.99689\n",
      "183.02954\n",
      "207.84149\n",
      "67.3496\n",
      "80.77101\n",
      "92.87\n",
      "119.04029\n",
      "124.404144\n",
      "129.87674\n",
      "149.66634\n",
      "61.741676\n",
      "75.547874\n",
      "82.22261\n",
      "101.08507\n",
      "106.75082\n",
      "116.96883\n",
      "133.0574\n",
      "71.56352\n",
      "88.45825\n",
      "98.33445\n",
      "117.0989\n",
      "122.789024\n",
      "137.91283\n",
      "80.24634\n",
      "98.7613\n",
      "110.8321\n",
      "131.72005\n",
      "139.66086\n",
      "158.69281\n",
      "84.20578\n",
      "107.14021\n",
      "119.75844\n",
      "142.16515\n",
      "152.09525\n",
      "174.76323\n",
      "83.26651\n",
      "104.2325\n",
      "120.48569\n",
      "140.05368\n",
      "149.72833\n",
      "175.42334\n",
      "85.55035\n",
      "109.07113\n",
      "125.00557\n",
      "145.74583\n",
      "156.28409\n",
      "181.28734\n",
      "80.78214\n",
      "101.88991\n",
      "115.01227\n",
      "136.42288\n",
      "142.43156\n",
      "161.30801\n",
      "68.717514\n",
      "90.40596\n",
      "99.986084\n",
      "122.332565\n",
      "124.89368\n",
      "134.15198\n",
      "55.85273\n",
      "72.88667\n",
      "78.45694\n",
      "96.08191\n",
      "99.864975\n",
      "109.172134\n",
      "\n",
      "Mean Absolute Error (MAE): 5.252601146697998\n",
      "Mean Squared Error (MSE): 47.9892463684082\n",
      "Root Mean Squared Error (RMSE): 6.9274271102919736\n",
      "Mean Absolute Percentage Error (MAPE): 7.808163166046143 %\n",
      "R² Score: 0.9911804795265198\n"
     ]
    }
   ],
   "source": [
    "# NOTE Train set\n",
    "#print(\"X_train.shape: \", X_train.shape)\n",
    "#print(\"y_train.shape: \", y_train.shape)\n",
    "test_score = lz_evaluate('train_NoShuffle')"
   ]
  },
  {
   "cell_type": "code",
   "execution_count": 152,
   "metadata": {},
   "outputs": [
    {
     "name": "stdout",
     "output_type": "stream",
     "text": [
      "预测结果：\n",
      "61.13736\n",
      "102.63955\n",
      "129.52959\n",
      "142.34534\n",
      "140.9011\n",
      "129.05096\n",
      "102.89408\n",
      "63.666485\n",
      "44.95141\n",
      "79.298706\n",
      "109.06973\n",
      "126.956024\n",
      "125.09858\n",
      "111.05064\n",
      "87.17853\n",
      "49.307335\n",
      "26.738136\n",
      "43.161\n",
      "62.921867\n",
      "69.93313\n",
      "64.01273\n",
      "53.93451\n",
      "40.342712\n",
      "23.156456\n",
      "125.7244\n",
      "141.34152\n",
      "148.82257\n",
      "139.75272\n",
      "160.68315\n",
      "149.71007\n",
      "122.52712\n",
      "112.70517\n",
      "136.83783\n",
      "154.30446\n",
      "165.70546\n",
      "151.57639\n",
      "182.245\n",
      "169.04694\n",
      "134.08334\n",
      "124.037025\n",
      "169.11841\n",
      "185.12332\n",
      "205.08711\n",
      "193.61093\n",
      "207.33636\n",
      "196.75003\n",
      "170.62215\n",
      "155.63135\n",
      "208.2771\n",
      "240.34721\n",
      "258.65283\n",
      "268.0894\n",
      "260.00183\n",
      "239.1582\n",
      "201.55968\n",
      "158.1178\n",
      "189.82066\n",
      "264.79248\n",
      "289.9077\n",
      "305.05005\n",
      "289.24023\n",
      "268.08463\n",
      "210.83902\n",
      "163.52206\n",
      "142.984\n",
      "181.32599\n",
      "202.99886\n",
      "199.8607\n",
      "210.82718\n",
      "198.46277\n",
      "152.8688\n",
      "128.80356\n",
      "\n",
      "Mean Absolute Error (MAE): 4.889408588409424\n",
      "Mean Squared Error (MSE): 38.35129928588867\n",
      "Root Mean Squared Error (RMSE): 6.192842585266371\n",
      "Mean Absolute Percentage Error (MAPE): 3.4640841484069824 %\n",
      "R² Score: 0.9913492202758789\n"
     ]
    }
   ],
   "source": [
    "# NOTE all test set\n",
    "test_score = lz_evaluate('test')"
   ]
  },
  {
   "cell_type": "code",
   "execution_count": 153,
   "metadata": {},
   "outputs": [
    {
     "name": "stdout",
     "output_type": "stream",
     "text": [
      "预测结果：\n",
      "61.13736\n",
      "102.63955\n",
      "129.52959\n",
      "142.34534\n",
      "140.9011\n",
      "129.05096\n",
      "102.89408\n",
      "63.666485\n",
      "\n",
      "Mean Absolute Error (MAE): 4.5898118019104\n",
      "Mean Squared Error (MSE): 23.654468536376953\n",
      "Root Mean Squared Error (RMSE): 4.863585975016475\n",
      "Mean Absolute Percentage Error (MAPE): 4.472901821136475 %\n",
      "R² Score: 0.9683841466903687\n"
     ]
    }
   ],
   "source": [
    "# NOTE 1st test set\n",
    "test1_score = lz_evaluate(\"test1\");"
   ]
  },
  {
   "cell_type": "code",
   "execution_count": 154,
   "metadata": {},
   "outputs": [
    {
     "name": "stdout",
     "output_type": "stream",
     "text": [
      "预测结果：\n",
      "44.95141\n",
      "79.298706\n",
      "109.06973\n",
      "126.956024\n",
      "125.09858\n",
      "111.05064\n",
      "87.17853\n",
      "49.307335\n",
      "\n",
      "Mean Absolute Error (MAE): 1.3829421997070312\n",
      "Mean Squared Error (MSE): 3.349565029144287\n",
      "Root Mean Squared Error (RMSE): 1.830181692932231\n",
      "Mean Absolute Percentage Error (MAPE): 1.5848506689071655 %\n",
      "R² Score: 0.9961138963699341\n"
     ]
    }
   ],
   "source": [
    "# NOTE 2nd test set\n",
    "test2_score = lz_evaluate(\"test2\");"
   ]
  },
  {
   "cell_type": "code",
   "execution_count": 155,
   "metadata": {},
   "outputs": [
    {
     "name": "stdout",
     "output_type": "stream",
     "text": [
      "预测结果：\n",
      "26.738136\n",
      "43.161\n",
      "62.921867\n",
      "69.93313\n",
      "64.01273\n",
      "53.93451\n",
      "40.342712\n",
      "23.156456\n",
      "\n",
      "Mean Absolute Error (MAE): 2.7796711921691895\n",
      "Mean Squared Error (MSE): 9.629571914672852\n",
      "Root Mean Squared Error (RMSE): 3.103155154785666\n",
      "Mean Absolute Percentage Error (MAPE): 5.770124435424805 %\n",
      "R² Score: 0.9678148627281189\n"
     ]
    }
   ],
   "source": [
    "# NOTE 3rd test set\n",
    "test3_score = lz_evaluate(\"test3\");"
   ]
  },
  {
   "cell_type": "code",
   "execution_count": 156,
   "metadata": {},
   "outputs": [
    {
     "name": "stdout",
     "output_type": "stream",
     "text": [
      "预测结果：\n",
      "125.7244\n",
      "141.34152\n",
      "148.82257\n",
      "139.75272\n",
      "160.68315\n",
      "149.71007\n",
      "122.52712\n",
      "112.70517\n",
      "\n",
      "Mean Absolute Error (MAE): 4.527172088623047\n",
      "Mean Squared Error (MSE): 31.417938232421875\n",
      "Root Mean Squared Error (RMSE): 5.605170669339326\n",
      "Mean Absolute Percentage Error (MAPE): 3.577054023742676 %\n",
      "R² Score: 0.9028952717781067\n"
     ]
    }
   ],
   "source": [
    "# NOTE 4th test set\n",
    "test4_score = lz_evaluate(\"test4\")"
   ]
  },
  {
   "cell_type": "code",
   "execution_count": 157,
   "metadata": {},
   "outputs": [
    {
     "name": "stdout",
     "output_type": "stream",
     "text": [
      "预测结果：\n",
      "136.83783\n",
      "154.30446\n",
      "165.70546\n",
      "151.57639\n",
      "182.245\n",
      "169.04694\n",
      "134.08334\n",
      "124.037025\n",
      "\n",
      "Mean Absolute Error (MAE): 2.907179832458496\n",
      "Mean Squared Error (MSE): 19.053531646728516\n",
      "Root Mean Squared Error (RMSE): 4.365035125486222\n",
      "Mean Absolute Percentage Error (MAPE): 1.8730480670928955 %\n",
      "R² Score: 0.9438543915748596\n"
     ]
    }
   ],
   "source": [
    "# NOTE 5th test set\n",
    "test5_score = lz_evaluate(\"test5\")"
   ]
  },
  {
   "cell_type": "code",
   "execution_count": 158,
   "metadata": {},
   "outputs": [
    {
     "name": "stdout",
     "output_type": "stream",
     "text": [
      "预测结果：\n",
      "169.11841\n",
      "185.12332\n",
      "205.08711\n",
      "193.61093\n",
      "207.33636\n",
      "196.75003\n",
      "170.62215\n",
      "155.63135\n",
      "\n",
      "Mean Absolute Error (MAE): 5.560386657714844\n",
      "Mean Squared Error (MSE): 41.17732620239258\n",
      "Root Mean Squared Error (RMSE): 6.416956147769173\n",
      "Mean Absolute Percentage Error (MAPE): 2.933687925338745 %\n",
      "R² Score: 0.8876039981842041\n"
     ]
    }
   ],
   "source": [
    "# NOTE  6th test set\n",
    "test6_score = lz_evaluate(\"test6\")"
   ]
  },
  {
   "cell_type": "code",
   "execution_count": 159,
   "metadata": {},
   "outputs": [
    {
     "name": "stdout",
     "output_type": "stream",
     "text": [
      "预测结果：\n",
      "208.2771\n",
      "240.34721\n",
      "258.65283\n",
      "268.0894\n",
      "260.00183\n",
      "239.1582\n",
      "201.55968\n",
      "158.1178\n",
      "\n",
      "Mean Absolute Error (MAE): 7.494426727294922\n",
      "Mean Squared Error (MSE): 73.00941467285156\n",
      "Root Mean Squared Error (RMSE): 8.544554679610375\n",
      "Mean Absolute Percentage Error (MAPE): 3.2136826515197754 %\n",
      "R² Score: 0.9271987676620483\n"
     ]
    }
   ],
   "source": [
    "# NOTE  7th test set\n",
    "test7_score = lz_evaluate(\"test7\")"
   ]
  },
  {
   "cell_type": "code",
   "execution_count": 160,
   "metadata": {},
   "outputs": [
    {
     "name": "stdout",
     "output_type": "stream",
     "text": [
      "预测结果：\n",
      "189.82066\n",
      "264.79248\n",
      "289.9077\n",
      "305.05005\n",
      "289.24023\n",
      "268.08463\n",
      "210.83902\n",
      "163.52206\n",
      "\n",
      "Mean Absolute Error (MAE): 5.397302627563477\n",
      "Mean Squared Error (MSE): 48.87992477416992\n",
      "Root Mean Squared Error (RMSE): 6.991417937312139\n",
      "Mean Absolute Percentage Error (MAPE): 2.319110631942749 %\n",
      "R² Score: 0.9824187755584717\n"
     ]
    }
   ],
   "source": [
    "# NOTE  8th test set\n",
    "test8_score = lz_evaluate(\"test8\")"
   ]
  },
  {
   "cell_type": "code",
   "execution_count": 161,
   "metadata": {},
   "outputs": [
    {
     "name": "stdout",
     "output_type": "stream",
     "text": [
      "预测结果：\n",
      "142.984\n",
      "181.32599\n",
      "202.99886\n",
      "199.8607\n",
      "210.82718\n",
      "198.46277\n",
      "152.8688\n",
      "128.80356\n",
      "\n",
      "Mean Absolute Error (MAE): 9.365781784057617\n",
      "Mean Squared Error (MSE): 94.98994445800781\n",
      "Root Mean Squared Error (RMSE): 9.746278492738027\n",
      "Mean Absolute Percentage Error (MAPE): 5.4322991371154785 %\n",
      "R² Score: 0.8367069959640503\n"
     ]
    }
   ],
   "source": [
    "# NOTE  9th test set\n",
    "test9_score = lz_evaluate(\"test9\")"
   ]
  }
 ],
 "metadata": {
  "kernelspec": {
   "display_name": "pytorch",
   "language": "python",
   "name": "python3"
  },
  "language_info": {
   "codemirror_mode": {
    "name": "ipython",
    "version": 3
   },
   "file_extension": ".py",
   "mimetype": "text/x-python",
   "name": "python",
   "nbconvert_exporter": "python",
   "pygments_lexer": "ipython3",
   "version": "3.10.16"
  }
 },
 "nbformat": 4,
 "nbformat_minor": 2
}
